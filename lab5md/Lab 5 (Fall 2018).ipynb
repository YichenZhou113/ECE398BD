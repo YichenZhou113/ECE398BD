{
 "cells": [
  {
   "cell_type": "markdown",
   "metadata": {},
   "source": [
    "This lab consists of two parts, one on background subtraction in videos, and the other on neural networks for MNIST digit classification."
   ]
  },
  {
   "cell_type": "markdown",
   "metadata": {},
   "source": [
    "Necessary packages\n",
    "- opencv\n",
    "- tensorflow\n",
    "- numpy\n",
    "- matplotlib\n",
    "- IPython\n",
    "\n",
    "You will need to install `tensorflow` for this lab. Tensorflow 1.11.0 was used to develop this lab. You can use previous version, but might need to change some code. You can do this in a way similar to how you installed `opencv` in the last lab: for example, using `conda install tensorflow`.\n",
    "\n",
    "There are **6** exercises in this lab. Make sure to attempt all of them."
   ]
  },
  {
   "cell_type": "code",
   "execution_count": 1,
   "metadata": {},
   "outputs": [
    {
     "name": "stderr",
     "output_type": "stream",
     "text": [
      "/home/zyc/anaconda3/lib/python3.6/site-packages/h5py/__init__.py:36: FutureWarning: Conversion of the second argument of issubdtype from `float` to `np.floating` is deprecated. In future, it will be treated as `np.float64 == np.dtype(float).type`.\n",
      "  from ._conv import register_converters as _register_converters\n"
     ]
    },
    {
     "name": "stdout",
     "output_type": "stream",
     "text": [
      "\n",
      "General configuration for OpenCV 3.4.2 =====================================\n",
      "  Version control:               unknown\n",
      "\n",
      "  Extra modules:\n",
      "    Location (extra):            /tmp/build/80754af9/opencv-suite_1535558553474/work/opencv_contrib-3.4.2/modules\n",
      "    Version control (extra):     unknown\n",
      "\n",
      "  Platform:\n",
      "    Timestamp:                   2018-08-29T16:28:43Z\n",
      "    Host:                        Linux 4.4.0-62-generic x86_64\n",
      "    CMake:                       3.12.0\n",
      "    CMake generator:             Unix Makefiles\n",
      "    CMake build tool:            /usr/bin/gmake\n",
      "    Configuration:               Release\n",
      "\n",
      "  CPU/HW features:\n",
      "    Baseline:                    SSE SSE2 SSE3\n",
      "      requested:                 SSE3\n",
      "    Dispatched code generation:  SSE4_1 SSE4_2 FP16 AVX AVX2 AVX512_SKX\n",
      "      requested:                 SSE4_1 SSE4_2 AVX FP16 AVX2 AVX512_SKX\n",
      "      SSE4_1 (3 files):          + SSSE3 SSE4_1\n",
      "      SSE4_2 (1 files):          + SSSE3 SSE4_1 POPCNT SSE4_2\n",
      "      FP16 (1 files):            + SSSE3 SSE4_1 POPCNT SSE4_2 FP16 AVX\n",
      "      AVX (5 files):             + SSSE3 SSE4_1 POPCNT SSE4_2 AVX\n",
      "      AVX2 (9 files):            + SSSE3 SSE4_1 POPCNT SSE4_2 FP16 FMA3 AVX AVX2\n",
      "      AVX512_SKX (1 files):      + SSSE3 SSE4_1 POPCNT SSE4_2 FP16 FMA3 AVX AVX2 AVX_512F AVX512_SKX\n",
      "\n",
      "  C/C++:\n",
      "    Built as dynamic libs?:      YES\n",
      "    C++11:                       YES\n",
      "    C++ Compiler:                /tmp/build/80754af9/opencv-suite_1535558553474/_build_env/bin/x86_64-conda_cos6-linux-gnu-c++  (ver 7.3.0)\n",
      "    C++ flags (Release):         -fvisibility-inlines-hidden -std=c++11 -fmessage-length=0 -march=nocona -mtune=haswell -ftree-vectorize -fPIC -fstack-protector-strong -fno-plt -O2 -pipe -I/home/zyc/anaconda3/include -fdebug-prefix-map=${SRC_DIR}=/usr/local/src/conda/${PKG_NAME}-${PKG_VERSION} -fdebug-prefix-map=${PREFIX}=/usr/local/src/conda-prefix   -fsigned-char -W -Wall -Werror=return-type -Werror=non-virtual-dtor -Werror=address -Werror=sequence-point -Wformat -Werror=format-security -Wmissing-declarations -Wundef -Winit-self -Wpointer-arith -Wshadow -Wsign-promo -Wuninitialized -Winit-self -Wno-narrowing -Wno-delete-non-virtual-dtor -Wno-comment -Wimplicit-fallthrough=3 -fdiagnostics-show-option -Wno-long-long -pthread -fomit-frame-pointer -ffunction-sections -fdata-sections  -msse -msse2 -msse3 -fopenmp -O3 -DNDEBUG  -DNDEBUG\n",
      "    C++ flags (Debug):           -fvisibility-inlines-hidden -std=c++11 -fmessage-length=0 -march=nocona -mtune=haswell -ftree-vectorize -fPIC -fstack-protector-strong -fno-plt -O2 -pipe -I/home/zyc/anaconda3/include -fdebug-prefix-map=${SRC_DIR}=/usr/local/src/conda/${PKG_NAME}-${PKG_VERSION} -fdebug-prefix-map=${PREFIX}=/usr/local/src/conda-prefix   -fsigned-char -W -Wall -Werror=return-type -Werror=non-virtual-dtor -Werror=address -Werror=sequence-point -Wformat -Werror=format-security -Wmissing-declarations -Wundef -Winit-self -Wpointer-arith -Wshadow -Wsign-promo -Wuninitialized -Winit-self -Wno-narrowing -Wno-delete-non-virtual-dtor -Wno-comment -Wimplicit-fallthrough=3 -fdiagnostics-show-option -Wno-long-long -pthread -fomit-frame-pointer -ffunction-sections -fdata-sections  -msse -msse2 -msse3 -fopenmp -g  -DDEBUG -D_DEBUG\n",
      "    C Compiler:                  /tmp/build/80754af9/opencv-suite_1535558553474/_build_env/bin/x86_64-conda_cos6-linux-gnu-cc\n",
      "    C flags (Release):           -march=nocona -mtune=haswell -ftree-vectorize -fPIC -fstack-protector-strong -fno-plt -O2 -pipe -I/home/zyc/anaconda3/include -fdebug-prefix-map=${SRC_DIR}=/usr/local/src/conda/${PKG_NAME}-${PKG_VERSION} -fdebug-prefix-map=${PREFIX}=/usr/local/src/conda-prefix   -fsigned-char -W -Wall -Werror=return-type -Werror=non-virtual-dtor -Werror=address -Werror=sequence-point -Wformat -Werror=format-security -Wmissing-declarations -Wmissing-prototypes -Wstrict-prototypes -Wundef -Winit-self -Wpointer-arith -Wshadow -Wuninitialized -Winit-self -Wno-narrowing -Wno-comment -Wimplicit-fallthrough=3 -fdiagnostics-show-option -Wno-long-long -pthread -fomit-frame-pointer -ffunction-sections -fdata-sections  -msse -msse2 -msse3 -fopenmp -O3 -DNDEBUG  -DNDEBUG\n",
      "    C flags (Debug):             -march=nocona -mtune=haswell -ftree-vectorize -fPIC -fstack-protector-strong -fno-plt -O2 -pipe -I/home/zyc/anaconda3/include -fdebug-prefix-map=${SRC_DIR}=/usr/local/src/conda/${PKG_NAME}-${PKG_VERSION} -fdebug-prefix-map=${PREFIX}=/usr/local/src/conda-prefix   -fsigned-char -W -Wall -Werror=return-type -Werror=non-virtual-dtor -Werror=address -Werror=sequence-point -Wformat -Werror=format-security -Wmissing-declarations -Wmissing-prototypes -Wstrict-prototypes -Wundef -Winit-self -Wpointer-arith -Wshadow -Wuninitialized -Winit-self -Wno-narrowing -Wno-comment -Wimplicit-fallthrough=3 -fdiagnostics-show-option -Wno-long-long -pthread -fomit-frame-pointer -ffunction-sections -fdata-sections  -msse -msse2 -msse3 -fopenmp -g  -DDEBUG -D_DEBUG\n",
      "    Linker flags (Release):      -Wl,-O2 -Wl,--sort-common -Wl,--as-needed -Wl,-z,relro -Wl,-z,now -Wl,--disable-new-dtags -Wl,-rpath,/home/zyc/anaconda3/lib -L/home/zyc/anaconda3/lib -Wl,-rpath-link,/home/zyc/anaconda3/lib   \n",
      "    Linker flags (Debug):        -Wl,-O2 -Wl,--sort-common -Wl,--as-needed -Wl,-z,relro -Wl,-z,now -Wl,--disable-new-dtags -Wl,-rpath,/home/zyc/anaconda3/lib -L/home/zyc/anaconda3/lib -Wl,-rpath-link,/home/zyc/anaconda3/lib   \n",
      "    ccache:                      NO\n",
      "    Precompiled headers:         YES\n",
      "    Extra dependencies:          dl m pthread rt\n",
      "    3rdparty dependencies:\n",
      "\n",
      "  OpenCV modules:\n",
      "    To be built:                 aruco bgsegm bioinspired calib3d ccalib core datasets dnn dnn_objdetect dpm face features2d flann freetype fuzzy hdf hfs highgui img_hash imgcodecs imgproc java_bindings_generator line_descriptor ml objdetect optflow phase_unwrapping photo plot python2 python3 python_bindings_generator reg rgbd saliency shape stereo stitching structured_light superres surface_matching text tracking video videoio videostab xfeatures2d ximgproc xobjdetect xphoto\n",
      "    Disabled:                    js world\n",
      "    Disabled by dependency:      -\n",
      "    Unavailable:                 cnn_3dobj cudaarithm cudabgsegm cudacodec cudafeatures2d cudafilters cudaimgproc cudalegacy cudaobjdetect cudaoptflow cudastereo cudawarping cudev cvv java matlab ovis sfm ts viz\n",
      "    Applications:                apps\n",
      "    Documentation:               NO\n",
      "    Non-free algorithms:         NO\n",
      "\n",
      "  GUI: \n",
      "\n",
      "  Media I/O: \n",
      "    ZLib:                        /home/zyc/anaconda3/lib/libz.so (ver 1.2.11)\n",
      "    JPEG:                        /home/zyc/anaconda3/lib/libjpeg.so (ver 90)\n",
      "    WEBP:                        build (ver encoder: 0x020e)\n",
      "    PNG:                         /home/zyc/anaconda3/lib/libpng.so (ver 1.6.34)\n",
      "    TIFF:                        /home/zyc/anaconda3/lib/libtiff.so (ver 42 / 4.0.9)\n",
      "    JPEG 2000:                   /home/zyc/anaconda3/lib/libjasper.so (ver 2.0.14)\n",
      "    OpenEXR:                     build (ver 1.7.1)\n",
      "    HDR:                         YES\n",
      "    SUNRASTER:                   YES\n",
      "    PXM:                         YES\n",
      "\n",
      "  Video I/O:\n",
      "    DC1394:                      NO\n",
      "    FFMPEG:                      YES\n",
      "      avcodec:                   YES (ver 58.18.100)\n",
      "      avformat:                  YES (ver 58.12.100)\n",
      "      avutil:                    YES (ver 56.14.100)\n",
      "      swscale:                   YES (ver 5.1.100)\n",
      "      avresample:                YES (ver 4.0.0)\n",
      "    GStreamer:                   NO\n",
      "    libv4l/libv4l2:              NO\n",
      "    v4l/v4l2:                    linux/videodev.h linux/videodev2.h\n",
      "    gPhoto2:                     NO\n",
      "\n",
      "  Parallel framework:            OpenMP\n",
      "\n",
      "  Trace:                         YES (with Intel ITT)\n",
      "\n",
      "  Other third-party libraries:\n",
      "    Intel IPP:                   2017.0.3 [2017.0.3]\n",
      "           at:                   /tmp/build/80754af9/opencv-suite_1535558553474/work/build/3rdparty/ippicv/ippicv_lnx\n",
      "    Intel IPP IW:                sources (2017.0.3)\n",
      "              at:                /tmp/build/80754af9/opencv-suite_1535558553474/work/build/3rdparty/ippicv/ippiw_lnx\n",
      "    Lapack:                      NO\n",
      "    Eigen:                       YES (ver 3.3.3)\n",
      "    Custom HAL:                  NO\n",
      "    Protobuf:                    /home/zyc/anaconda3/lib/libprotobuf.a (3.5.1)\n",
      "\n",
      "  Python 2:\n",
      "    Interpreter:                 /tmp/build/80754af9/opencv-suite_1535558553474/work/py2/bin/python (ver 2.7.15)\n",
      "    Libraries:                   /tmp/build/80754af9/opencv-suite_1535558553474/work/py2/lib/libpython2.7m.so (ver 2.7.15)\n",
      "    numpy:                       /tmp/build/80754af9/opencv-suite_1535558553474/work/py2/lib/python2.7/site-packages/numpy/core/include (ver 1.11.3)\n",
      "    packages path:               /tmp/build/80754af9/opencv-suite_1535558553474/work/py2/lib/python2.7/site-packages\n",
      "\n",
      "  Python 3:\n",
      "    Interpreter:                 /tmp/build/80754af9/opencv-suite_1535558553474/work/py3/bin/python (ver 3.7)\n",
      "    Libraries:                   /tmp/build/80754af9/opencv-suite_1535558553474/work/py3/lib/libpython3.7m.so (ver 3.7.0)\n",
      "    numpy:                       /tmp/build/80754af9/opencv-suite_1535558553474/work/py3/lib/python3.7/site-packages/numpy/core/include (ver 1.11.3)\n",
      "    packages path:               /tmp/build/80754af9/opencv-suite_1535558553474/work/py3/lib/python3.7/site-packages\n",
      "\n",
      "  Python (for build):            /tmp/build/80754af9/opencv-suite_1535558553474/work/py2/bin/python\n",
      "\n",
      "  Java:                          \n",
      "    ant:                         NO\n",
      "    JNI:                         NO\n",
      "    Java wrappers:               NO\n",
      "    Java tests:                  NO\n",
      "\n",
      "  Install to:                    /home/zyc/anaconda3\n",
      "-----------------------------------------------------------------\n",
      "\n",
      "\n"
     ]
    }
   ],
   "source": [
    "import numpy as np\n",
    "import cv2\n",
    "from matplotlib import pyplot as plt\n",
    "import time\n",
    "import tensorflow as tf\n",
    "#print(cv2.getBuildInformation())"
   ]
  },
  {
   "cell_type": "markdown",
   "metadata": {},
   "source": [
    "#  <span style=\"color:blue\"> Part 1: Background Subtraction in Videos </span> "
   ]
  },
  {
   "cell_type": "markdown",
   "metadata": {},
   "source": [
    "Refer to [lecture notes](https://courses.engr.illinois.edu/ece398bd/fa2018/secure/lec8_Audio-Visual-Analytics.pdf) for the simple background modelling using a single Gaussian. You will develop relevant code here."
   ]
  },
  {
   "cell_type": "markdown",
   "metadata": {},
   "source": [
    "####  <span style=\"color:blue\"> Exercise 0: Load the videos </span> \n",
    "\n",
    "Here's an example of how to load the video, display it, and then save it."
   ]
  },
  {
   "cell_type": "code",
   "execution_count": 2,
   "metadata": {},
   "outputs": [
    {
     "name": "stdout",
     "output_type": "stream",
     "text": [
      "7 311\n"
     ]
    },
    {
     "data": {
      "image/png": "[encoded data removed]",
      "text/plain": [
       "<Figure size 432x288 with 1 Axes>"
      ]
     },
     "metadata": {},
     "output_type": "display_data"
    },
    {
     "ename": "error",
     "evalue": "OpenCV(3.4.2) /tmp/build/80754af9/opencv-suite_1535558553474/work/modules/highgui/src/window.cpp:632: error: (-2:Unspecified error) The function is not implemented. Rebuild the library with Windows, GTK+ 2.x or Carbon support. If you are on Ubuntu or Debian, install libgtk2.0-dev and pkg-config, then re-run cmake or configure script in function 'cvShowImage'\n",
     "output_type": "error",
     "traceback": [
      "\u001b[0;31m---------------------------------------------------------------------------\u001b[0m",
      "\u001b[0;31merror\u001b[0m                                     Traceback (most recent call last)",
      "\u001b[0;32m<ipython-input-2-020469e6c282>\u001b[0m in \u001b[0;36m<module>\u001b[0;34m()\u001b[0m\n\u001b[1;32m     31\u001b[0m     \u001b[0mframe_t\u001b[0m \u001b[0;34m=\u001b[0m \u001b[0mcv2\u001b[0m\u001b[0;34m.\u001b[0m\u001b[0mcvtColor\u001b[0m\u001b[0;34m(\u001b[0m\u001b[0mframe_t\u001b[0m\u001b[0;34m,\u001b[0m \u001b[0mcv2\u001b[0m\u001b[0;34m.\u001b[0m\u001b[0mCOLOR_BGR2GRAY\u001b[0m\u001b[0;34m)\u001b[0m\u001b[0;34m\u001b[0m\u001b[0m\n\u001b[1;32m     32\u001b[0m \u001b[0;34m\u001b[0m\u001b[0m\n\u001b[0;32m---> 33\u001b[0;31m     \u001b[0mcv2\u001b[0m\u001b[0;34m.\u001b[0m\u001b[0mimshow\u001b[0m\u001b[0;34m(\u001b[0m\u001b[0;34m'Frame'\u001b[0m\u001b[0;34m,\u001b[0m \u001b[0mframe_t\u001b[0m\u001b[0;34m)\u001b[0m\u001b[0;34m\u001b[0m\u001b[0m\n\u001b[0m\u001b[1;32m     34\u001b[0m     \u001b[0mwriter\u001b[0m\u001b[0;34m.\u001b[0m\u001b[0mwrite\u001b[0m\u001b[0;34m(\u001b[0m\u001b[0mframe_t\u001b[0m\u001b[0;34m)\u001b[0m\u001b[0;34m\u001b[0m\u001b[0m\n\u001b[1;32m     35\u001b[0m     \u001b[0mkey\u001b[0m \u001b[0;34m=\u001b[0m \u001b[0mcv2\u001b[0m\u001b[0;34m.\u001b[0m\u001b[0mwaitKey\u001b[0m\u001b[0;34m(\u001b[0m\u001b[0;36m30\u001b[0m\u001b[0;34m)\u001b[0m\u001b[0;34m\u001b[0m\u001b[0m\n",
      "\u001b[0;31merror\u001b[0m: OpenCV(3.4.2) /tmp/build/80754af9/opencv-suite_1535558553474/work/modules/highgui/src/window.cpp:632: error: (-2:Unspecified error) The function is not implemented. Rebuild the library with Windows, GTK+ 2.x or Carbon support. If you are on Ubuntu or Debian, install libgtk2.0-dev and pkg-config, then re-run cmake or configure script in function 'cvShowImage'\n"
     ]
    }
   ],
   "source": [
    "# read the video\n",
    "cap = cv2.VideoCapture(\"data/highway_trimmed.mp4\")\n",
    "\n",
    "# obtain the properties of the video\n",
    "fps = cap.get(cv2.CAP_PROP_FPS)\n",
    "property_id = int(cv2.CAP_PROP_FRAME_COUNT) \n",
    "video_length = int(cv2.VideoCapture.get(cap, property_id))\n",
    "print(property_id, video_length)\n",
    "\n",
    "# read the first frame\n",
    "_, first_frame = cap.read()\n",
    "first_gray = cv2.cvtColor(first_frame, cv2.COLOR_BGR2GRAY)\n",
    "height, width = np.array(first_gray).shape\n",
    "\n",
    "# display the first frame\n",
    "plt.figure()\n",
    "plt.imshow(np.array(first_gray), cmap='gray')\n",
    "plt.show()\n",
    "\n",
    "# create a writer to save videos\n",
    "fourcc = cv2.VideoWriter_fourcc(*'MP4V')\n",
    "writer = cv2.VideoWriter('video_original.mp4',\n",
    "                         fourcc,\n",
    "                         fps,\n",
    "                         (width, height), \n",
    "                         False)\n",
    "\n",
    "# go through the entire video and display + write the frames\n",
    "for itr in range(video_length-1):\n",
    "    _, frame_t = cap.read()\n",
    "    frame_t = cv2.cvtColor(frame_t, cv2.COLOR_BGR2GRAY)\n",
    "    \n",
    "    cv2.imshow('Frame', frame_t)\n",
    "    writer.write(frame_t)\n",
    "    key = cv2.waitKey(30)\n",
    "    if key == 27:\n",
    "        break\n",
    "\n",
    "print('all frames covered')\n",
    "\n",
    "# release the reader, writer and opencv displays\n",
    "cap.release()\n",
    "writer.release()\n",
    "cv2.destroyAllWindows()"
   ]
  },
  {
   "cell_type": "markdown",
   "metadata": {},
   "source": [
    "###  <span style=\"color:blue\"> Exercise 1: Estimate background and subtract background</span> \n",
    "\n",
    "As the first step, \n",
    "- Estimate the mean frame `mu` by going through the entire video.\n",
    "- Go through the entire video again, and subtract the estimated background to get the foreground. \n",
    "- Save this video as `video_exercise1_parking.mp4` or `video_exercise1_highway.mp4`"
   ]
  },
  {
   "cell_type": "markdown",
   "metadata": {},
   "source": [
    "####  <span style=\"color:blue\"> Exercise 1(a): Estimate Background using Mean of Frames </span>  \n",
    "- Load the related video and extract its properties\n",
    "- Load the first frame for obtaining height and width\n",
    "- Estimate the mean frame `mu` by going through the entire video\n",
    "    - First, set `mu` to be the first frame\n",
    "    - Update using using `mu = (1-alpha)*mu + alpha*frame`\n",
    "    - You can set `alpha=0.1` for starting, and then play around with this parameter.\n",
    "- Display the estimated mean frame `mu` in an inline pyplot\n",
    "- We will use this mean image `mu` in the next step\n",
    "- You do not need to save any video in this part"
   ]
  },
  {
   "cell_type": "code",
   "execution_count": null,
   "metadata": {},
   "outputs": [],
   "source": [
    "%%time \n",
    "\n",
    "# read the video\n",
    "\n",
    "# obtain the properties of the video\n",
    "\n",
    "# read the first frame\n",
    "\n",
    "# set mu and alpha\n",
    "\n",
    "# display the first frame\n",
    "\n",
    "# go through the entire video and display+write the frames\n",
    "\n",
    "\n",
    "print('all frames covered')\n",
    "\n",
    "cap.release()\n",
    "cv2.destroyAllWindows()\n",
    "\n",
    "# imshow the mean mu as a figure\n"
   ]
  },
  {
   "cell_type": "markdown",
   "metadata": {},
   "source": [
    "####  <span style=\"color:blue\"> Exercise 1(b): Subtract background for all frames </span>  \n",
    "- Load the video again and extract its properties\n",
    "- Load the first frame for obtaining height and width\n",
    "- Use the estimated mean `mu` to remove the estimated background (Hint: use the function `cv2.absdiff()`. \n",
    "You may need to use the code \n",
    "\n",
    "`mu = cv2.convertScaleAbs(mu_t)`\n",
    "\n",
    "to ensure a right format in `cv2.absdiff()`)\n",
    "- You can further threshold the estimated background to remove noise using a threshold `thresh` as below:\n",
    "\n",
    "` _, difference = cv2.threshold(difference, thresh, 255, cv2.THRESH_BINARY)`\n",
    "   \n",
    "- Save the resulting video using the video writer to `video_exercise1_highway.mp4`"
   ]
  },
  {
   "cell_type": "code",
   "execution_count": null,
   "metadata": {},
   "outputs": [],
   "source": [
    "%%time \n",
    "\n",
    "# read the video\n",
    "\n",
    "# obtain the properties of the video\n",
    "\n",
    "# read the first frame\n",
    "\n",
    "# create a writer to save videos\n",
    "\n",
    "# set alpha and thresh\n",
    "\n",
    "# display the first frame\n",
    "\n",
    "# go through the entire video and display+write the frames\n",
    "\n",
    "print('all frames covered')\n",
    "\n",
    "cap.release()\n",
    "writer.release()\n",
    "cv2.destroyAllWindows()"
   ]
  },
  {
   "cell_type": "code",
   "execution_count": null,
   "metadata": {},
   "outputs": [],
   "source": [
    "cv2.destroyAllWindows()"
   ]
  },
  {
   "cell_type": "markdown",
   "metadata": {},
   "source": [
    "###  <span style=\"color:blue\"> Exercise 2: Estimate frame mean and variance; subtract background on-the-fly </span> \n",
    "\n",
    "In this exercise, you will determine the mean and variance of the image frames on-the-fly. That is, you will determine the mean and variance as the frames change, and use this immediately for background subtraction. \n",
    "\n",
    "##### First 100 frames\n",
    "- To ensure that you have a good estimate of the mean and variance, you should use the first 100 frames for determining an initial estimate of the mean `mu` and variance `sigma`.\n",
    "\n",
    "##### Beyond 100 frames\n",
    "- Whenever a given pixel is more than `k=0.5` standard deviations away from the mean, i.e. when `frame > mu + k*sigma` or `frame < mu - k*sigma` you will consider this as the foreground. The remaining pixels will be the background.\n",
    "- Update the background `mu` using the `alpha` as done above\n",
    "- You will need to derive the update rule for `sigma` with respect to `alpha`. Include the update rule in the space below. Also specify clearly how you implement the update rule (i.e. what variables you use, and how). Note: the variance `sigma**2` is different from the standard deviation `sigma`. Tip: `sigma_N**2 ~ 1/N(sum_i [frame - mu]**2)` \n",
    "- Define `foreground_frame` which has non-zero values at pixels which are the foreground. That is, a pixel `[i,j]` will have the value such that `foreground_frame[i, j] = frame[i, j]` if the pixel `[i,j]` falls in the range `frame[i,j] > mu[i,j] + k*sigma[i,j]` or `frame[i,j] < mu - k*sigma[i,j]`\n",
    "- You can use `cv2.threshold(foreground_frame, 0, 255, cv2.THRESH_BINARY)` to generate the binary foreground images\n",
    "- You can process all pixels at once. You don't need `for` loops for this.\n",
    "- Finally, show the final `mu` and `sigma` as grayscale images.\n",
    "- Output the foreground video comprising of `foreground_frame`s for all frames to the file `video_exercise2_highway.mp4`"
   ]
  },
  {
   "cell_type": "markdown",
   "metadata": {},
   "source": [
    "<span style=\"color:blue\"> Exercise 2(a): Update rule for sigma in terms of alpha: </span> "
   ]
  },
  {
   "cell_type": "markdown",
   "metadata": {},
   "source": [
    "Your answer:"
   ]
  },
  {
   "cell_type": "markdown",
   "metadata": {},
   "source": [
    "<span style=\"color:blue\"> Exercise 2(b): Perform the background subtraction in real-time/on-the-fly </span> "
   ]
  },
  {
   "cell_type": "code",
   "execution_count": null,
   "metadata": {
    "scrolled": false
   },
   "outputs": [],
   "source": [
    "%%time \n",
    "\n",
    "num_frames = 100\n",
    "\n",
    "# read the video\n",
    "\n",
    "# obtain the properties of the video\n",
    "\n",
    "# read the first frame\n",
    "\n",
    "# define mu and sigma. set mu to be the first frame, and sigma \n",
    "# as a zeros array of the same size as the first frame\n",
    "    \n",
    "# create a writer to save videos\n",
    "\n",
    "# set the alpha and k parameters\n",
    "\n",
    "# go through the entire video and display+write the frames\n",
    "for idx in range(num_frames):\n",
    "\n",
    "plt.figure()\n",
    "plt.imshow(mu_t, cmap='gray')\n",
    "plt.figure()\n",
    "plt.imshow(sigma_t, cmap='gray')\n",
    "plt.show()\n",
    "\n",
    "for idx in range(num_frames, video_length-1):\n",
    "\n",
    "    \n",
    "\n",
    "print('all frames covered')\n",
    "\n",
    "cap.release()\n",
    "writer2.release()\n",
    "cv2.destroyAllWindows()\n",
    "\n",
    "# imshow the final mu and sigma\n"
   ]
  },
  {
   "cell_type": "markdown",
   "metadata": {},
   "source": [
    "###  <span style=\"color:blue\"> Exercise 3: Using mixture of gaussians for background subtraction </span> \n",
    "\n",
    "- In this exercise, repeat the background subtraction using the function  `cv2.createBackgroundSubtractorMOG2()` of opencv to subtract the background. \n",
    "- Play around with the parameters `history`, `threshold` and `detectShadows`\n",
    "- After reading a frame, the subtractor can be called by simply using `subtractor.apply(frame)` which outputs the foreground image\n",
    "- Output the foreground video comprising of the foreground frames to the file `video_exercise3_highway.mp4`"
   ]
  },
  {
   "cell_type": "code",
   "execution_count": null,
   "metadata": {},
   "outputs": [],
   "source": [
    "# read the video\n",
    "\n",
    "# obtain the properties of the video\n",
    "\n",
    "# read the first frame\n",
    "\n",
    "# create a writer to save videos\n",
    "\n",
    "# define the MOG subtractor\n",
    "\n",
    "# go through the entire video and display+write the frames\n",
    "\n",
    " \n",
    "writer.release()\n",
    "cap.release()\n",
    "cv2.destroyAllWindows()"
   ]
  },
  {
   "cell_type": "markdown",
   "metadata": {},
   "source": [
    "###  <span style=\"color:blue\"> Exercise 4: Another Video + Comparisons </span> \n",
    "\n",
    "####  <span style=\"color:blue\"> Exercise 4(a): Repeat the above three exercises for `parking_trimmed.mp4` </span> \n",
    "\n",
    "- Save the videos correspondingly to `video_exercise1_parking.mp4`, `video_exercise3_parking.mp4` and `video_exercise3_parking.mp4`"
   ]
  },
  {
   "cell_type": "markdown",
   "metadata": {},
   "source": [
    "####  <span style=\"color:blue\"> Exercise 4(b): Comparing the subtractors </span> \n",
    "\n",
    "Answer the following questions using `Subtractor1`, `Subtractor 2` or `Subtractor 3` corresponding to the subtractors in the three previous exercises above:\n",
    "1. Which subtractor works best for the `highway_trimmed.mp4` video? **Why?**\n",
    "2. Which subtractor works best for the `parking_trimmed.mp4` video? **Why?**\n",
    "3. Which subtractor(s) evolve to consider the newly parked car in `parking_trimmed.mp4` as part of the background? **Why?**\n",
    "4. Note that the video `parking_trimmed.mp4` is a collection of snapshots and therefore not continuous. Which subtractor(s) perform well in this setting? That is, which subtractor(s) don't get affected by the low frame rate? **Why?**\n"
   ]
  },
  {
   "cell_type": "markdown",
   "metadata": {},
   "source": [
    "Your answer here\n",
    "1. \n",
    "2. \n",
    "3. \n",
    "4. "
   ]
  },
  {
   "cell_type": "markdown",
   "metadata": {},
   "source": [
    "#  <span style=\"color:blue\"> Part 2: Introduction to Neural Networks </span> \n"
   ]
  },
  {
   "cell_type": "markdown",
   "metadata": {},
   "source": [
    "## Some tutorials\n",
    "\n",
    "There are plenty of online tutorials for tensorflow and deep learning. Feel free to explore and understand the working of tensorflow through external sources, including:\n",
    "- http://cs231n.github.io/convolutional-networks/\n",
    "- https://www.deeplearningbook.org/\n",
    "- https://ujjwalkarn.me/2016/08/11/intuitive-explanation-convnets/\n",
    "- https://brohrer.github.io/how_convolutional_neural_networks_work.html\n",
    "- https://www.linkedin.com/pulse/derivation-convolutional-neural-network-from-fully-connected-gad/\n",
    "- https://medium.com/technologymadeeasy/the-best-explanation-of-convolutional-neural-networks-on-the-internet-fbb8b1ad5df8\n",
    "\n",
    "This presents a playground for you to explore:\n",
    "- https://playground.tensorflow.org/\n",
    "\n",
    "Guides to tensorflow:\n",
    "- https://www.infoworld.com/article/3278008/tensorflow/what-is-tensorflow-the-machine-learning-library-explained.html \n",
    "- https://www.oreilly.com/learning/hello-tensorflow\n",
    "- https://www.tensorflow.org/tutorials/"
   ]
  },
  {
   "cell_type": "markdown",
   "metadata": {},
   "source": [
    "###  <span style=\"color:blue\"> Exercise 5: This exercise introduces working with fully connected neural networks with `tensorflow` </span>\n",
    "\n",
    "- Ensure you have tensorflow correctly installed\n",
    "- Tensorflow runs networks by generating computation graphs, and updating the weights of the different connections in the graph during training\n",
    "- We will classify the MNIST dataset using a neural network of fully connected layers. Recall that a fully connected layer has a weight and bias term associated with every node of the previous layer to every node of the current layer. \n",
    "- Go through the code below. You will be asked to train the network for different settings and complete the `results` table and answer questions regarding the tensorflow implementation\n"
   ]
  },
  {
   "cell_type": "code",
   "execution_count": null,
   "metadata": {},
   "outputs": [],
   "source": [
    "# Load the MNIST data\n",
    "# It's okay if this cell gives warnings.\n",
    "\n",
    "from tensorflow.examples.tutorials.mnist import input_data\n",
    "mnist = input_data.read_data_sets(\"/tmp/data/\")"
   ]
  },
  {
   "cell_type": "code",
   "execution_count": null,
   "metadata": {},
   "outputs": [],
   "source": [
    "# reset the computation graph of tensorflow\n",
    "def reset_graph(seed=42):\n",
    "    tf.reset_default_graph()\n",
    "    tf.set_random_seed(seed)\n",
    "    np.random.seed(seed)\n",
    "\n",
    "# code to shuffle a batch during training\n",
    "def shuffle_batch(X, y, batch_size):\n",
    "    rnd_idx = np.random.permutation(len(X))\n",
    "    n_batches = len(X) // batch_size\n",
    "    for batch_idx in np.array_split(rnd_idx, n_batches):\n",
    "        X_batch, y_batch = X[batch_idx], y[batch_idx]\n",
    "        yield X_batch, y_batch"
   ]
  },
  {
   "cell_type": "code",
   "execution_count": null,
   "metadata": {},
   "outputs": [],
   "source": [
    "# load the data\n",
    "X_train, y_train, X_test, y_test = mnist.train.images, mnist.train.labels, mnist.test.images, mnist.test.labels\n",
    "\n",
    "# flatten images to feed to a fully connected network\n",
    "X_train = X_train.astype(np.float32).reshape(-1, 28*28) \n",
    "X_test = X_test.astype(np.float32).reshape(-1, 28*28)\n",
    "y_train = y_train.astype(np.int32)\n",
    "y_test = y_test.astype(np.int32)\n",
    "\n",
    "# split training into training and validation \n",
    "X_valid, X_train = X_train[:5000], X_train[5000:]\n",
    "y_valid, y_train = y_train[:5000], y_train[5000:]"
   ]
  },
  {
   "cell_type": "code",
   "execution_count": null,
   "metadata": {},
   "outputs": [],
   "source": [
    "# number of inputs of the network\n",
    "n_inputs = 28*28  # MNIST\n",
    "\n",
    "# number of nodes in the 1st hidden layer\n",
    "n_hidden1 = 300\n",
    "\n",
    "# number of nodes in the 2nd hidden layer\n",
    "n_hidden2 = 100\n",
    "\n",
    "# number of nodes at output: number of classes of MNIST\n",
    "n_outputs = 10"
   ]
  },
  {
   "cell_type": "code",
   "execution_count": null,
   "metadata": {},
   "outputs": [],
   "source": [
    "reset_graph()\n",
    "\n",
    "# create a placeholder to feed input images and labels for training\n",
    "# these are fed to during training and testing time\n",
    "\n",
    "X = tf.placeholder(tf.float32, shape=(None, n_inputs), name=\"X\")\n",
    "y = tf.placeholder(tf.int32, shape=(None), name=\"y\")"
   ]
  },
  {
   "cell_type": "code",
   "execution_count": null,
   "metadata": {},
   "outputs": [],
   "source": [
    "# define the network \n",
    "\n",
    "# first layer takes as input X and maps to n_hidden1 number of nodes\n",
    "# the RELU activation is used\n",
    "hidden1 = tf.layers.dense(X, n_hidden1, name=\"hidden1\",\n",
    "                          activation=tf.nn.relu)\n",
    "\n",
    "# second layer takes as input the output of n_hidden1 nodes \n",
    "# and maps to n_hidden2 number of nodes\n",
    "# the RELU activation is used\n",
    "hidden2 = tf.layers.dense(hidden1, n_hidden2, name=\"hidden2\",\n",
    "                          activation=tf.nn.relu)\n",
    "\n",
    "# final layer takes as input the output of n_hidden2 nodes \n",
    "# and maps to n_outputs number of nodes\n",
    "# output is scaled using softmax to get probabilities y_proba\n",
    "logits = tf.layers.dense(hidden2, n_outputs, name=\"outputs\")\n",
    "y_proba = tf.nn.softmax(logits)"
   ]
  },
  {
   "cell_type": "code",
   "execution_count": null,
   "metadata": {},
   "outputs": [],
   "source": [
    "# define the loss function to use\n",
    "xentropy = tf.nn.sparse_softmax_cross_entropy_with_logits(labels=y, logits=logits)\n",
    "loss = tf.reduce_mean(xentropy, name=\"loss\")"
   ]
  },
  {
   "cell_type": "code",
   "execution_count": null,
   "metadata": {},
   "outputs": [],
   "source": [
    "# define the optimizer and learning rate to use for the training\n",
    "\n",
    "learning_rate = 0.01\n",
    "optimizer = tf.train.AdamOptimizer(learning_rate=learning_rate)\n",
    "training_op = optimizer.minimize(loss)"
   ]
  },
  {
   "cell_type": "code",
   "execution_count": null,
   "metadata": {},
   "outputs": [],
   "source": [
    "# for evaluation\n",
    "correct = tf.nn.in_top_k(logits, y, 1)\n",
    "accuracy = tf.reduce_mean(tf.cast(correct, tf.float32))"
   ]
  },
  {
   "cell_type": "code",
   "execution_count": null,
   "metadata": {},
   "outputs": [],
   "source": [
    "# initialize all variables randomly \n",
    "init = tf.global_variables_initializer()"
   ]
  },
  {
   "cell_type": "markdown",
   "metadata": {},
   "source": [
    "### Running the code block below takes about 1 minute for me. It can take you longer depending on the computational power of your computer."
   ]
  },
  {
   "cell_type": "code",
   "execution_count": null,
   "metadata": {},
   "outputs": [],
   "source": [
    "%%time \n",
    "\n",
    "# number of epochs is the number of times all the images in \n",
    "# the dataset are accessed/used\n",
    "n_epochs = 20\n",
    "\n",
    "# batch size is the number of images used for \n",
    "# one step of the training\n",
    "batch_size = 50\n",
    "\n",
    "# the actual training\n",
    "with tf.Session() as sess:\n",
    "    init.run()\n",
    "    for epoch in range(n_epochs):\n",
    "        for X_batch, y_batch in shuffle_batch(X_train, y_train, batch_size):\n",
    "            sess.run(training_op, feed_dict={X: X_batch, y: y_batch})\n",
    "        if (epoch)%5 == 0:\n",
    "            acc_batch = accuracy.eval(feed_dict={X: X_batch, y: y_batch})\n",
    "            acc_valid = accuracy.eval(feed_dict={X: X_valid, y: y_valid})\n",
    "            print(epoch, \"Batch accuracy:\", acc_batch, \"Validation accuracy:\", acc_valid)\n",
    "\n",
    "# the final performance can be judged quantitatively by looking at the validation accuracy\n",
    "print(epoch, \"Batch accuracy:\", acc_batch, \"Validation accuracy:\", acc_valid)"
   ]
  },
  {
   "cell_type": "markdown",
   "metadata": {},
   "source": [
    "Your UIN: "
   ]
  },
  {
   "cell_type": "markdown",
   "metadata": {},
   "source": [
    "####  <span style=\"color:blue\"> Exercise 5(a): \n",
    "    \n",
    "    - Re-run the training and report running time, number of parameters and validation accuracy for the following settings. \n",
    "    - Fill in the values in the table below. \n",
    "    - Use a learning rate as determined by your UIN. \n",
    "    - An example for number of paramaters is shown. Complete the calculation, and enter the final number. \n",
    "    - Feel free to change the batch_size and number_epochs to get a better trained network.\n",
    "    \n",
    "    `learning_rate` = 0.0001*(last_2_digits_of_UIN)\n",
    "   \n",
    "   For example, if my UIN ends in 98, I will run with the learning rate 0.0098"
   ]
  },
  {
   "cell_type": "markdown",
   "metadata": {},
   "source": [
    "| Hidden Layer 1 | Hidden Layer 2 | Learning Rate | Number of parameters |  Validation accuracy | Time to run (seconds) |\n",
    "|--------|-----|---|---|----|---|\n",
    "| 300 nodes  | 100 nodes |- |  `28*28*300 + 300*100 + 100*10` | - ||\n",
    "| 200 nodes   | 100 nodes | - | - |  - | -  ||"
   ]
  },
  {
   "cell_type": "markdown",
   "metadata": {},
   "source": [
    "####  <span style=\"color:blue\"> Exercise 5(b):\n",
    "    \n",
    "    - Re-run the training, and report running time, number of parameters and validation accuracy for the following settings.\n",
    "    - Fill in the values in the table below. \n",
    "    - Use the learning rate above multiplied by a factor of 10.\n",
    "    - An example for number of paramaters is shown. \n",
    "    - Complete the calculation, and enter the final number. \n",
    "    - Feel free to change the batch_size and number_epochs to get a better trained network.\n",
    "    \n",
    "    `learning_rate` = 0.001*(last_2_digits_of_UIN)\n",
    "   \n",
    "   For example, if my UIN ends in 98, I will run with the learning rate 0.098"
   ]
  },
  {
   "cell_type": "markdown",
   "metadata": {},
   "source": [
    "| Hidden Layer 1 | Hidden Layer 2 | Learning Rate| Number of parameters  | Validation accuracy | Time to run (seconds) |\n",
    "|--------|-----|---|----|---|---|\n",
    "| 300 nodes   | 100 nodes | - | `28*28*300 + 300*100 + 100*10` |  - | - ||\n",
    "| 200 nodes    | 100 nodes | - |- |  - | -  ||\n",
    "| 100 nodes    | 50 nodes | - | - | - | -  ||\n",
    "| 100 nodes    | 0 (layer removed) | - | - |  - | -  ||"
   ]
  },
  {
   "cell_type": "markdown",
   "metadata": {},
   "source": [
    "####  <span style=\"color:blue\"> Exercise 5(c): Answer the following questions about the tensorflow code above:\n",
    "    \n",
    "    1. How many connections/parameters (excluding bias) are there in the first setting of 300 nodes in hidden layer 1 + 100 nodes in hidden layer 2, between these two hidden layers?\n",
    "    2. What is an epoch?\n",
    "    3. What is the optimizer being used?\n",
    "    4. What is the loss being used?\n",
    "    5. What is the activation function being used?\n",
    "    6. What does a `dense` layer mean?"
   ]
  },
  {
   "cell_type": "markdown",
   "metadata": {},
   "source": [
    "Your answers here:\n",
    "1. \n",
    "2. \n",
    "3. \n",
    "4. \n",
    "5. \n",
    "6. "
   ]
  },
  {
   "cell_type": "markdown",
   "metadata": {},
   "source": [
    "###  <span style=\"color:blue\"> Exercise 6: This exercise introduces working with convolutional neural networks with `tensorflow` </span>\n",
    "    \n",
    "- We will classify the MNIST dataset using a neural network of fully connected layers. Recall that a convolutional layer has filters which operate on the image. \n",
    "- Go through the code below. You will be asked to train the network for different settings and complete the results table and answer questions regarding the tensorflow implementation"
   ]
  },
  {
   "cell_type": "code",
   "execution_count": null,
   "metadata": {},
   "outputs": [],
   "source": [
    "# load the data\n",
    "X_train, y_train, X_test, y_test = mnist.train.images, mnist.train.labels, mnist.test.images, mnist.test.labels\n",
    "\n",
    "# flatten images to feed to a fully connected network\n",
    "X_train = X_train.astype(np.float32).reshape(-1, 28, 28, 1) \n",
    "X_test = X_test.astype(np.float32).reshape(-1, 28, 28, 1)\n",
    "y_train = y_train.astype(np.int32)\n",
    "y_test = y_test.astype(np.int32)\n",
    "\n",
    "# split training into training and validation \n",
    "X_valid, X_train = X_train[:5000], X_train[5000:]\n",
    "y_valid, y_train = y_train[:5000], y_train[5000:]"
   ]
  },
  {
   "cell_type": "code",
   "execution_count": null,
   "metadata": {},
   "outputs": [],
   "source": [
    "# number of inputs of the network\n",
    "n_inputs = 28, 28  # MNIST\n",
    "\n",
    "# number of filters and filter size to be used for the first convolution layer\n",
    "n_filters1 = 32\n",
    "k_size1 = 16\n",
    "\n",
    "# number of filters and filter size to be used for the second convolution layer\n",
    "n_filters2 = 16\n",
    "k_size2 = 8\n",
    "\n",
    "# number of nodes at output: number of classes of MNIST\n",
    "n_outputs = 10"
   ]
  },
  {
   "cell_type": "code",
   "execution_count": null,
   "metadata": {},
   "outputs": [],
   "source": [
    "reset_graph()\n",
    "\n",
    "# create a placehold to feed input images and labels for training\n",
    "# these are fed to during training and testing time\n",
    "\n",
    "X = tf.placeholder(tf.float32, shape=(None, 28, 28, 1), name=\"X\")\n",
    "y = tf.placeholder(tf.int32, shape=(None), name=\"y\")\n",
    "\n",
    "# define the network \n",
    "\n",
    "# first layer takes as input X and maps to n_hidden1 number of nodes\n",
    "hidden1 = tf.layers.conv2d(X, n_filters1, k_size1, activation=tf.nn.relu)\n",
    "hidden2 = tf.layers.conv2d(hidden1, n_filters2, k_size2, activation=tf.nn.relu)\n",
    "\n",
    "# flatten the final maps\n",
    "fc1 = tf.contrib.layers.flatten(hidden1)\n",
    "\n",
    "# map to n_outputs number of nodes\n",
    "# output is scaled using softmax to get probabilities y_proba\n",
    "logits = tf.layers.dense(fc1, n_outputs, name=\"outputs\")\n",
    "y_proba = tf.nn.softmax(logits)\n",
    "\n",
    "# define the loss function to use\n",
    "xentropy = tf.nn.sparse_softmax_cross_entropy_with_logits(labels=y, logits=logits)\n",
    "loss = tf.reduce_mean(xentropy, name=\"loss\")"
   ]
  },
  {
   "cell_type": "code",
   "execution_count": null,
   "metadata": {},
   "outputs": [],
   "source": [
    "# define the optimizer and learning rate to use for the training\n",
    "\n",
    "learning_rate = 0.01\n",
    "optimizer = tf.train.AdamOptimizer(learning_rate=learning_rate)\n",
    "training_op = optimizer.minimize(loss)"
   ]
  },
  {
   "cell_type": "code",
   "execution_count": null,
   "metadata": {},
   "outputs": [],
   "source": [
    "# for evaluation\n",
    "correct = tf.nn.in_top_k(logits, y, 1)\n",
    "accuracy = tf.reduce_mean(tf.cast(correct, tf.float32))"
   ]
  },
  {
   "cell_type": "markdown",
   "metadata": {},
   "source": [
    "### Running the code block below takes about 3 minutes for me. It can take you longer depending on the computational power of your computer."
   ]
  },
  {
   "cell_type": "code",
   "execution_count": null,
   "metadata": {},
   "outputs": [],
   "source": [
    "%%time \n",
    "\n",
    "# initialize all variables randomly \n",
    "init = tf.global_variables_initializer()\n",
    "\n",
    "# number of epochs is the number of times all the images in \n",
    "# the dataset are accessed/used\n",
    "n_epochs = 5\n",
    "\n",
    "# batch size is the number of images used for \n",
    "# one step of the training\n",
    "batch_size = 10\n",
    "\n",
    "# the actual training\n",
    "with tf.Session() as sess:\n",
    "    init.run()\n",
    "    for epoch in range(n_epochs):\n",
    "        for X_batch, y_batch in shuffle_batch(X_train, y_train, batch_size):\n",
    "            sess.run(training_op, feed_dict={X: X_batch, y: y_batch})\n",
    "        acc_batch = accuracy.eval(feed_dict={X: X_batch, y: y_batch})\n",
    "        acc_valid = accuracy.eval(feed_dict={X: X_valid, y: y_valid})\n",
    "        print(epoch, \"Batch accuracy:\", acc_batch, \"Validation accuracy:\", acc_valid)\n",
    "\n",
    "# the final performance can be judged quantitatively by looking at the validation accuracy\n",
    "print(epoch, \"Batch accuracy:\", acc_batch, \"Validation accuracy:\", acc_valid)"
   ]
  },
  {
   "cell_type": "markdown",
   "metadata": {},
   "source": [
    "Your UIN: "
   ]
  },
  {
   "cell_type": "markdown",
   "metadata": {},
   "source": [
    "####  <span style=\"color:blue\"> Exercise 6(a): \n",
    "    \n",
    "    \n",
    "    - Re-run the training, number of parameters, and report running time and validation accuracy for the following settings.\n",
    "    - Fill in the values in the table below. \n",
    "    - An example for number of paramaters is shown. Complete the calculation, and enter the final number. \n",
    "    - You can use the same kernel/filter size for both convolutional layers. \n",
    "    - Feel free to change the batch_size and number_epochs to get a better trained network.\n",
    "    - Use the learning rate above multiplied by a factor of 10. For example, if my UIN ends in 98, I will run with the learning rate 0.098\n",
    "        \n",
    "    `learning_rate` = 0.001*(last_2_digits_of_UIN)\n",
    "  "
   ]
  },
  {
   "cell_type": "markdown",
   "metadata": {},
   "source": [
    "| Hidden Layer 1 | Hidden Layer 2 | Learning Rate | Number of Filter Parameters | Validation accuracy | Time to run (seconds) |\n",
    "|--------|-----|---|---|----|---|\n",
    "| 32 filters   | 16 filters  | - | = `32*16 + 16*8`   - | - ||\n",
    "| 32 filters   | 8 filters | - |  - | -  ||\n",
    "| 16 filters   | 8 filters | - |  - | -  ||\n",
    "| 8 filters    | 4 filters | - |  - | -  ||"
   ]
  },
  {
   "cell_type": "markdown",
   "metadata": {},
   "source": [
    "####  <span style=\"color:blue\"> Exercise 6(b): Answer the following questions comparing the fully connected network with the convolutional network:\n",
    "    \n",
    "    1. What is the main advantage of using a convolutional network?\n",
    "    2. Which network do you think performs better? Why?"
   ]
  },
  {
   "cell_type": "markdown",
   "metadata": {},
   "source": [
    "If you are interested, you can write code to use the trained networks and run test images through them. "
   ]
  },
  {
   "cell_type": "markdown",
   "metadata": {},
   "source": [
    "This concludes all labs for this section of the course. Hope you learnt useful ideas and concepts. Don't forget to fill out the feedback survey which will be posted soon!"
   ]
  },
  {
   "cell_type": "code",
   "execution_count": null,
   "metadata": {},
   "outputs": [],
   "source": []
  }
 ],
 "metadata": {
  "kernelspec": {
   "display_name": "Python 3",
   "language": "python",
   "name": "python3"
  },
  "language_info": {
   "codemirror_mode": {
    "name": "ipython",
    "version": 3
   },
   "file_extension": ".py",
   "mimetype": "text/x-python",
   "name": "python",
   "nbconvert_exporter": "python",
   "pygments_lexer": "ipython3",
   "version": "3.6.5"
  }
 },
 "nbformat": 4,
 "nbformat_minor": 2
}
