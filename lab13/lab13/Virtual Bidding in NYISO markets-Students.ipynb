{
 "cells": [
  {
   "cell_type": "markdown",
   "metadata": {},
   "source": [
    "# Virtual bidding in NYISO's markets\n",
    "\n",
    "\n",
    "In this lab, we will implement a simple virtual trading strategy in New York\n",
    "ISO's electricity markets. The goal is to maximize profits. We shall train our\n",
    "model on price data from one year, and implement the strategy on the data from\n",
    "the next year. How much can you earn with a certain daily budget? Say \\$250K?\n",
    "\n",
    "We will present a trading strategy. You are welcome to try other strategies and compare the gains over multiple runs.\n",
    "\n",
    "Let's start with customary imports."
   ]
  },
  {
   "cell_type": "code",
   "execution_count": 1,
   "metadata": {},
   "outputs": [],
   "source": [
    "import pandas as pd\n",
    "import numpy as np\n",
    "import matplotlib.pyplot as plt\n",
    "from numpy.random import choice\n",
    "from sklearn.preprocessing import StandardScaler\n",
    "import seaborn as sns\n",
    "import pickle\n",
    "\n",
    "from sklearn.svm import SVC\n",
    "from sklearn.linear_model import LogisticRegression\n",
    "from sklearn.neural_network import MLPClassifier"
   ]
  },
  {
   "cell_type": "markdown",
   "metadata": {},
   "source": [
    "## Load the day-ahead and real-time prices from 11 zones in New York.\n",
    "\n",
    "The day-ahead prices are defined every hour. The real-time market runs every 5 minutes. For each zone, an average of\n",
    "these prices over an hour is published.\n",
    "\n",
    "Store the list of zones in the variable 'listOfZones'. Also, store the number of options\n",
    "as the number of zones times the 24 hours available for trading. Finally create another\n",
    "list containing the option names (zone + hour)."
   ]
  },
  {
   "cell_type": "code",
   "execution_count": 2,
   "metadata": {},
   "outputs": [],
   "source": [
    "listOfZones = ['CAPITL', 'CENTRL', 'DUNWOD', 'GENESE', 'HUD VL', 'LONGIL', 'MHK VL',\n",
    "               'MILLWD', 'N.Y.C.', 'NORTH', 'WEST']\n",
    "\n",
    "nOptions = len(listOfZones) * 24\n",
    "optionNames = [zone + \"_Hour_\" + str(t) for zone in listOfZones for t in range(24)]\n"
   ]
  },
  {
   "cell_type": "markdown",
   "metadata": {},
   "source": [
    "## Parse the files with DA and RT prices along with DA load forecast.\n",
    "\n",
    "Define a function that parses three files containing DA and RT prices, along with DA load predictions from a year from all different zones in the list defined before. This function will be used for to both load the data for training the classifiers and testing them. This function has 3 outputs: they are DA prices, difference between DA and RT prices, and finally DA load predictions. The outputs are pandas data frames whose columns are the options, and rows are the days in the year."
   ]
  },
  {
   "cell_type": "code",
   "execution_count": 3,
   "metadata": {},
   "outputs": [],
   "source": [
    "def loadNYISOData(year):\n",
    "\n",
    "    # Open the relevant files for DA prices, RT prices, DA load.\n",
    "\n",
    "    dfPriceDA = pd.read_csv(\"DAM_NYISO_Zonal_LBMP_\" + str(year) + \".csv\")\n",
    "    dfPriceRT = pd.read_csv(\"RTM_NYISO_Zonal_LBMP_\" + str(year) + \".csv\")\n",
    "    dfLoadDA = pd.read_csv(\"DAM_NYISO_LoadForecast_\" + str(year) + \".csv\")\n",
    "\n",
    "    # Collect the DA and RT prices from each zone from each hour and create a pandas list.\n",
    "    # The data should have prices and loads from all days of a year, where each day\n",
    "    # contributes 24 rows, corresponding to each hour.\n",
    "\n",
    "    priceDA = pd.DataFrame({zone: (dfPriceDA.loc[dfPriceDA['Zone Name'] == zone,\n",
    "                                                 'DAM Zonal LBMP']).values\n",
    "                             for zone in listOfZones})\n",
    "    priceRT = pd.DataFrame({zone: (dfPriceRT.loc[dfPriceRT['Zone Name'] == zone,\n",
    "                                                 'TWI Zonal LBMP']).values\n",
    "                             for zone in listOfZones})\n",
    "    loadDA = pd.DataFrame({zone: (dfLoadDA.loc[dfLoadDA['Zone Name'] == zone,\n",
    "                                               'DAM Forecast Load']).values\n",
    "                            for zone in listOfZones})\n",
    "\n",
    "    numberOfDays = int(len(priceDA.index)/24)\n",
    "\n",
    "    # Compute the price differences between DA and RT prices for all options on\n",
    "    # all days of the year. Store it as a pandas data frame where the 24 rows for\n",
    "    # each day is flattened into one row. This operation essentially allows us to\n",
    "    # independently think of each zone in each hour as a separate option. Also,\n",
    "    # reshape the prices for the DA market in the same manner.\n",
    "\n",
    "    priceDART = pd.DataFrame([priceRT.sub(priceDA).loc[day * 24:\n",
    "                                                              (day + 1) * 24 - 1,\n",
    "                              listOfZones].values.flatten()\n",
    "                              for day in range(numberOfDays)],\n",
    "                             columns=optionNames)\n",
    "\n",
    "    priceDA = pd.DataFrame([priceDA.loc[day * 24: (day + 1) * 24 - 1,\n",
    "                            listOfZones].values.flatten()\n",
    "                            for day in range(numberOfDays)],\n",
    "                           columns=optionNames)\n",
    "\n",
    "    return priceDA, priceDART, loadDA\n"
   ]
  },
  {
   "cell_type": "markdown",
   "metadata": {},
   "source": [
    "## Create a function that creates the inputs for training a classifier\n",
    "\n",
    "Create a function that takes the price and load data and creates two arrays\n",
    "'X' and 'Y'. Essentially, the rows of 'X' contains all information relevant to\n",
    " predicting the sign of the price difference on the various options on the next day.\n",
    " It takes as an input, three pandas frames corresponding to the DA prices, price\n",
    " differences, and the DA load predictions, and produces three outputs:\n",
    " the arrays 'X', 'Y', and the range of days from the year that were used to\n",
    " create the data 'X' and 'Y'. This function will be used to both train and\n",
    " test classifiers."
   ]
  },
  {
   "cell_type": "code",
   "execution_count": 4,
   "metadata": {},
   "outputs": [],
   "source": [
    "def createClassifierIO(priceDA, priceDART, loadDA):\n",
    "\n",
    "    # Define how many past days of prices to use for classification.\n",
    "\n",
    "    pastPrices = range(1, 3)\n",
    "\n",
    "    # Define how many past days of load predictions to use for classification.\n",
    "\n",
    "    pastLoad = range(1, 3)\n",
    "\n",
    "    # Define a date range within the year to create the arrays 'X' and 'Y' in a way\n",
    "    # that past price and load data for the first day is within the date range in the\n",
    "    # pandas frames passed as inputs.\n",
    "\n",
    "    rangeOfDays = range(3, len(priceDA.index))\n",
    "\n",
    "    # 'X' will contain three sets of variables:\n",
    "    #   1. the DA prices from past days in the list 'pastDays',\n",
    "    #   2. the differences between DA and RT prices from the same past days,\n",
    "    #   3. the load predictions from past days in the list 'pastLoad'\n",
    "\n",
    "    X = [np.concatenate((\n",
    "        priceDA.loc[[(day - h) for h in pastPrices]].values.flatten(),\n",
    "        priceDART.loc[[(day - h) for h in pastPrices]].values.flatten(),\n",
    "        loadDA.loc[[(day - h) for h in pastLoad]].values.flatten()\n",
    "    )) for day in rangeOfDays]\n",
    "\n",
    "    # Scale the array 'X' to make its data zero mean and unit variance.\n",
    "    X = StandardScaler().fit_transform(X)\n",
    "\n",
    "    # 'Y' will contain zeros and ones, where a one indicates that the price in DA is\n",
    "    # higher than in RT for a particular option. Recall that an option corresponds to\n",
    "    # a zone at a particular hour of the day.\n",
    "\n",
    "    Y = np.array([(priceDART.loc[day].values > 0).astype(int)\n",
    "                  for day in rangeOfDays])\n",
    "\n",
    "    # Return the arrays 'X' and 'Y', and finally the range of days from the year that\n",
    "    # will be utilized for training or testing the classifier.\n",
    "    return X, Y, rangeOfDays"
   ]
  },
  {
   "cell_type": "markdown",
   "metadata": {},
   "source": [
    "## Design the training module.\n",
    " The training module utilizes a year's worth of data to determine the following for\n",
    " each option, i.e., for each zone for each hour of the day:\n",
    "   1. Classifiers that predict the sign of the difference between DA and RT prices.\n",
    "   2. Statistics of the mean of the price difference.\n",
    "   3. A quantile of the day-ahead prices that we will use as our bid for each option.\n",
    " You will either train the classifiers here or load them from the folder './Classifiers'.\n",
    " Storing the classifiers from time to time allows you to only vary the bidding strategy\n",
    " and observe the annual reward rather than having to train the classifiers every time.\n",
    " \n",
    "### Define and train the classifiers or load pre-trained classifiers."
   ]
  },
  {
   "cell_type": "code",
   "execution_count": 52,
   "metadata": {
    "scrolled": false
   },
   "outputs": [
    {
     "name": "stdout",
     "output_type": "stream",
     "text": [
      "Starting training module...\n",
      "\n",
      "Loaded hourly prices from 2015 for 365 days.\n",
      "Classifier trained for option CAPITL_Hour_0\n",
      "Classifier trained for option CAPITL_Hour_1\n",
      "Classifier trained for option CAPITL_Hour_2\n",
      "Classifier trained for option CAPITL_Hour_3\n",
      "Classifier trained for option CAPITL_Hour_4\n",
      "Classifier trained for option CAPITL_Hour_5\n",
      "Classifier trained for option CAPITL_Hour_6\n",
      "Classifier trained for option CAPITL_Hour_7\n"
     ]
    },
    {
     "name": "stderr",
     "output_type": "stream",
     "text": [
      "/home/zyc/.local/lib/python3.6/site-packages/sklearn/neural_network/multilayer_perceptron.py:562: ConvergenceWarning: Stochastic Optimizer: Maximum iterations (200) reached and the optimization hasn't converged yet.\n",
      "  % self.max_iter, ConvergenceWarning)\n"
     ]
    },
    {
     "name": "stdout",
     "output_type": "stream",
     "text": [
      "Classifier trained for option CAPITL_Hour_8\n",
      "Classifier trained for option CAPITL_Hour_9\n",
      "Classifier trained for option CAPITL_Hour_10\n"
     ]
    },
    {
     "name": "stderr",
     "output_type": "stream",
     "text": [
      "/home/zyc/.local/lib/python3.6/site-packages/sklearn/neural_network/multilayer_perceptron.py:562: ConvergenceWarning: Stochastic Optimizer: Maximum iterations (200) reached and the optimization hasn't converged yet.\n",
      "  % self.max_iter, ConvergenceWarning)\n"
     ]
    },
    {
     "name": "stdout",
     "output_type": "stream",
     "text": [
      "Classifier trained for option CAPITL_Hour_11\n",
      "Classifier trained for option CAPITL_Hour_12\n"
     ]
    },
    {
     "name": "stderr",
     "output_type": "stream",
     "text": [
      "/home/zyc/.local/lib/python3.6/site-packages/sklearn/neural_network/multilayer_perceptron.py:562: ConvergenceWarning: Stochastic Optimizer: Maximum iterations (200) reached and the optimization hasn't converged yet.\n",
      "  % self.max_iter, ConvergenceWarning)\n"
     ]
    },
    {
     "name": "stdout",
     "output_type": "stream",
     "text": [
      "Classifier trained for option CAPITL_Hour_13\n",
      "Classifier trained for option CAPITL_Hour_14\n",
      "Classifier trained for option CAPITL_Hour_15\n",
      "Classifier trained for option CAPITL_Hour_16\n",
      "Classifier trained for option CAPITL_Hour_17\n",
      "Classifier trained for option CAPITL_Hour_18\n"
     ]
    },
    {
     "name": "stderr",
     "output_type": "stream",
     "text": [
      "/home/zyc/.local/lib/python3.6/site-packages/sklearn/neural_network/multilayer_perceptron.py:562: ConvergenceWarning: Stochastic Optimizer: Maximum iterations (200) reached and the optimization hasn't converged yet.\n",
      "  % self.max_iter, ConvergenceWarning)\n"
     ]
    },
    {
     "name": "stdout",
     "output_type": "stream",
     "text": [
      "Classifier trained for option CAPITL_Hour_19\n",
      "Classifier trained for option CAPITL_Hour_20\n",
      "Classifier trained for option CAPITL_Hour_21\n",
      "Classifier trained for option CAPITL_Hour_22\n",
      "Classifier trained for option CAPITL_Hour_23\n"
     ]
    },
    {
     "name": "stderr",
     "output_type": "stream",
     "text": [
      "/home/zyc/.local/lib/python3.6/site-packages/sklearn/neural_network/multilayer_perceptron.py:562: ConvergenceWarning: Stochastic Optimizer: Maximum iterations (200) reached and the optimization hasn't converged yet.\n",
      "  % self.max_iter, ConvergenceWarning)\n"
     ]
    },
    {
     "name": "stdout",
     "output_type": "stream",
     "text": [
      "Classifier trained for option CENTRL_Hour_0\n",
      "Classifier trained for option CENTRL_Hour_1\n",
      "Classifier trained for option CENTRL_Hour_2\n",
      "Classifier trained for option CENTRL_Hour_3\n"
     ]
    },
    {
     "name": "stderr",
     "output_type": "stream",
     "text": [
      "/home/zyc/.local/lib/python3.6/site-packages/sklearn/neural_network/multilayer_perceptron.py:562: ConvergenceWarning: Stochastic Optimizer: Maximum iterations (200) reached and the optimization hasn't converged yet.\n",
      "  % self.max_iter, ConvergenceWarning)\n"
     ]
    },
    {
     "name": "stdout",
     "output_type": "stream",
     "text": [
      "Classifier trained for option CENTRL_Hour_4\n",
      "Classifier trained for option CENTRL_Hour_5\n",
      "Classifier trained for option CENTRL_Hour_6\n",
      "Classifier trained for option CENTRL_Hour_7\n"
     ]
    },
    {
     "name": "stderr",
     "output_type": "stream",
     "text": [
      "/home/zyc/.local/lib/python3.6/site-packages/sklearn/neural_network/multilayer_perceptron.py:562: ConvergenceWarning: Stochastic Optimizer: Maximum iterations (200) reached and the optimization hasn't converged yet.\n",
      "  % self.max_iter, ConvergenceWarning)\n"
     ]
    },
    {
     "name": "stdout",
     "output_type": "stream",
     "text": [
      "Classifier trained for option CENTRL_Hour_8\n",
      "Classifier trained for option CENTRL_Hour_9\n",
      "Classifier trained for option CENTRL_Hour_10\n"
     ]
    },
    {
     "name": "stderr",
     "output_type": "stream",
     "text": [
      "/home/zyc/.local/lib/python3.6/site-packages/sklearn/neural_network/multilayer_perceptron.py:562: ConvergenceWarning: Stochastic Optimizer: Maximum iterations (200) reached and the optimization hasn't converged yet.\n",
      "  % self.max_iter, ConvergenceWarning)\n"
     ]
    },
    {
     "name": "stdout",
     "output_type": "stream",
     "text": [
      "Classifier trained for option CENTRL_Hour_11\n",
      "Classifier trained for option CENTRL_Hour_12\n",
      "Classifier trained for option CENTRL_Hour_13\n",
      "Classifier trained for option CENTRL_Hour_14\n",
      "Classifier trained for option CENTRL_Hour_15\n"
     ]
    },
    {
     "name": "stderr",
     "output_type": "stream",
     "text": [
      "/home/zyc/.local/lib/python3.6/site-packages/sklearn/neural_network/multilayer_perceptron.py:562: ConvergenceWarning: Stochastic Optimizer: Maximum iterations (200) reached and the optimization hasn't converged yet.\n",
      "  % self.max_iter, ConvergenceWarning)\n"
     ]
    },
    {
     "name": "stdout",
     "output_type": "stream",
     "text": [
      "Classifier trained for option CENTRL_Hour_16\n"
     ]
    },
    {
     "name": "stderr",
     "output_type": "stream",
     "text": [
      "/home/zyc/.local/lib/python3.6/site-packages/sklearn/neural_network/multilayer_perceptron.py:562: ConvergenceWarning: Stochastic Optimizer: Maximum iterations (200) reached and the optimization hasn't converged yet.\n",
      "  % self.max_iter, ConvergenceWarning)\n"
     ]
    },
    {
     "name": "stdout",
     "output_type": "stream",
     "text": [
      "Classifier trained for option CENTRL_Hour_17\n"
     ]
    },
    {
     "name": "stderr",
     "output_type": "stream",
     "text": [
      "/home/zyc/.local/lib/python3.6/site-packages/sklearn/neural_network/multilayer_perceptron.py:562: ConvergenceWarning: Stochastic Optimizer: Maximum iterations (200) reached and the optimization hasn't converged yet.\n",
      "  % self.max_iter, ConvergenceWarning)\n"
     ]
    },
    {
     "name": "stdout",
     "output_type": "stream",
     "text": [
      "Classifier trained for option CENTRL_Hour_18\n"
     ]
    },
    {
     "name": "stderr",
     "output_type": "stream",
     "text": [
      "/home/zyc/.local/lib/python3.6/site-packages/sklearn/neural_network/multilayer_perceptron.py:562: ConvergenceWarning: Stochastic Optimizer: Maximum iterations (200) reached and the optimization hasn't converged yet.\n",
      "  % self.max_iter, ConvergenceWarning)\n"
     ]
    },
    {
     "name": "stdout",
     "output_type": "stream",
     "text": [
      "Classifier trained for option CENTRL_Hour_19\n",
      "Classifier trained for option CENTRL_Hour_20\n",
      "Classifier trained for option CENTRL_Hour_21\n",
      "Classifier trained for option CENTRL_Hour_22\n"
     ]
    },
    {
     "name": "stderr",
     "output_type": "stream",
     "text": [
      "/home/zyc/.local/lib/python3.6/site-packages/sklearn/neural_network/multilayer_perceptron.py:562: ConvergenceWarning: Stochastic Optimizer: Maximum iterations (200) reached and the optimization hasn't converged yet.\n",
      "  % self.max_iter, ConvergenceWarning)\n"
     ]
    },
    {
     "name": "stdout",
     "output_type": "stream",
     "text": [
      "Classifier trained for option CENTRL_Hour_23\n",
      "Classifier trained for option DUNWOD_Hour_0\n",
      "Classifier trained for option DUNWOD_Hour_1\n",
      "Classifier trained for option DUNWOD_Hour_2\n",
      "Classifier trained for option DUNWOD_Hour_3\n",
      "Classifier trained for option DUNWOD_Hour_4\n",
      "Classifier trained for option DUNWOD_Hour_5\n",
      "Classifier trained for option DUNWOD_Hour_6\n",
      "Classifier trained for option DUNWOD_Hour_7\n",
      "Classifier trained for option DUNWOD_Hour_8\n",
      "Classifier trained for option DUNWOD_Hour_9\n",
      "Classifier trained for option DUNWOD_Hour_10\n"
     ]
    },
    {
     "name": "stderr",
     "output_type": "stream",
     "text": [
      "/home/zyc/.local/lib/python3.6/site-packages/sklearn/neural_network/multilayer_perceptron.py:562: ConvergenceWarning: Stochastic Optimizer: Maximum iterations (200) reached and the optimization hasn't converged yet.\n",
      "  % self.max_iter, ConvergenceWarning)\n"
     ]
    },
    {
     "name": "stdout",
     "output_type": "stream",
     "text": [
      "Classifier trained for option DUNWOD_Hour_11\n",
      "Classifier trained for option DUNWOD_Hour_12\n"
     ]
    },
    {
     "name": "stderr",
     "output_type": "stream",
     "text": [
      "/home/zyc/.local/lib/python3.6/site-packages/sklearn/neural_network/multilayer_perceptron.py:562: ConvergenceWarning: Stochastic Optimizer: Maximum iterations (200) reached and the optimization hasn't converged yet.\n",
      "  % self.max_iter, ConvergenceWarning)\n"
     ]
    },
    {
     "name": "stdout",
     "output_type": "stream",
     "text": [
      "Classifier trained for option DUNWOD_Hour_13\n"
     ]
    },
    {
     "name": "stderr",
     "output_type": "stream",
     "text": [
      "/home/zyc/.local/lib/python3.6/site-packages/sklearn/neural_network/multilayer_perceptron.py:562: ConvergenceWarning: Stochastic Optimizer: Maximum iterations (200) reached and the optimization hasn't converged yet.\n",
      "  % self.max_iter, ConvergenceWarning)\n"
     ]
    },
    {
     "name": "stdout",
     "output_type": "stream",
     "text": [
      "Classifier trained for option DUNWOD_Hour_14\n",
      "Classifier trained for option DUNWOD_Hour_15\n"
     ]
    },
    {
     "name": "stderr",
     "output_type": "stream",
     "text": [
      "/home/zyc/.local/lib/python3.6/site-packages/sklearn/neural_network/multilayer_perceptron.py:562: ConvergenceWarning: Stochastic Optimizer: Maximum iterations (200) reached and the optimization hasn't converged yet.\n",
      "  % self.max_iter, ConvergenceWarning)\n"
     ]
    },
    {
     "name": "stdout",
     "output_type": "stream",
     "text": [
      "Classifier trained for option DUNWOD_Hour_16\n",
      "Classifier trained for option DUNWOD_Hour_17\n",
      "Classifier trained for option DUNWOD_Hour_18\n"
     ]
    },
    {
     "name": "stderr",
     "output_type": "stream",
     "text": [
      "/home/zyc/.local/lib/python3.6/site-packages/sklearn/neural_network/multilayer_perceptron.py:562: ConvergenceWarning: Stochastic Optimizer: Maximum iterations (200) reached and the optimization hasn't converged yet.\n",
      "  % self.max_iter, ConvergenceWarning)\n"
     ]
    },
    {
     "name": "stdout",
     "output_type": "stream",
     "text": [
      "Classifier trained for option DUNWOD_Hour_19\n",
      "Classifier trained for option DUNWOD_Hour_20\n",
      "Classifier trained for option DUNWOD_Hour_21\n",
      "Classifier trained for option DUNWOD_Hour_22\n",
      "Classifier trained for option DUNWOD_Hour_23\n"
     ]
    },
    {
     "name": "stderr",
     "output_type": "stream",
     "text": [
      "/home/zyc/.local/lib/python3.6/site-packages/sklearn/neural_network/multilayer_perceptron.py:562: ConvergenceWarning: Stochastic Optimizer: Maximum iterations (200) reached and the optimization hasn't converged yet.\n",
      "  % self.max_iter, ConvergenceWarning)\n"
     ]
    },
    {
     "name": "stdout",
     "output_type": "stream",
     "text": [
      "Classifier trained for option GENESE_Hour_0\n",
      "Classifier trained for option GENESE_Hour_1\n"
     ]
    },
    {
     "name": "stderr",
     "output_type": "stream",
     "text": [
      "/home/zyc/.local/lib/python3.6/site-packages/sklearn/neural_network/multilayer_perceptron.py:562: ConvergenceWarning: Stochastic Optimizer: Maximum iterations (200) reached and the optimization hasn't converged yet.\n",
      "  % self.max_iter, ConvergenceWarning)\n"
     ]
    },
    {
     "name": "stdout",
     "output_type": "stream",
     "text": [
      "Classifier trained for option GENESE_Hour_2\n"
     ]
    },
    {
     "name": "stderr",
     "output_type": "stream",
     "text": [
      "/home/zyc/.local/lib/python3.6/site-packages/sklearn/neural_network/multilayer_perceptron.py:562: ConvergenceWarning: Stochastic Optimizer: Maximum iterations (200) reached and the optimization hasn't converged yet.\n",
      "  % self.max_iter, ConvergenceWarning)\n"
     ]
    },
    {
     "name": "stdout",
     "output_type": "stream",
     "text": [
      "Classifier trained for option GENESE_Hour_3\n",
      "Classifier trained for option GENESE_Hour_4\n",
      "Classifier trained for option GENESE_Hour_5\n",
      "Classifier trained for option GENESE_Hour_6\n",
      "Classifier trained for option GENESE_Hour_7\n",
      "Classifier trained for option GENESE_Hour_8\n",
      "Classifier trained for option GENESE_Hour_9\n",
      "Classifier trained for option GENESE_Hour_10\n",
      "Classifier trained for option GENESE_Hour_11\n"
     ]
    },
    {
     "name": "stderr",
     "output_type": "stream",
     "text": [
      "/home/zyc/.local/lib/python3.6/site-packages/sklearn/neural_network/multilayer_perceptron.py:562: ConvergenceWarning: Stochastic Optimizer: Maximum iterations (200) reached and the optimization hasn't converged yet.\n",
      "  % self.max_iter, ConvergenceWarning)\n"
     ]
    },
    {
     "name": "stdout",
     "output_type": "stream",
     "text": [
      "Classifier trained for option GENESE_Hour_12\n",
      "Classifier trained for option GENESE_Hour_13\n",
      "Classifier trained for option GENESE_Hour_14\n",
      "Classifier trained for option GENESE_Hour_15\n"
     ]
    },
    {
     "name": "stderr",
     "output_type": "stream",
     "text": [
      "/home/zyc/.local/lib/python3.6/site-packages/sklearn/neural_network/multilayer_perceptron.py:562: ConvergenceWarning: Stochastic Optimizer: Maximum iterations (200) reached and the optimization hasn't converged yet.\n",
      "  % self.max_iter, ConvergenceWarning)\n"
     ]
    },
    {
     "name": "stdout",
     "output_type": "stream",
     "text": [
      "Classifier trained for option GENESE_Hour_16\n",
      "Classifier trained for option GENESE_Hour_17\n",
      "Classifier trained for option GENESE_Hour_18\n",
      "Classifier trained for option GENESE_Hour_19\n",
      "Classifier trained for option GENESE_Hour_20\n",
      "Classifier trained for option GENESE_Hour_21\n"
     ]
    },
    {
     "name": "stderr",
     "output_type": "stream",
     "text": [
      "/home/zyc/.local/lib/python3.6/site-packages/sklearn/neural_network/multilayer_perceptron.py:562: ConvergenceWarning: Stochastic Optimizer: Maximum iterations (200) reached and the optimization hasn't converged yet.\n",
      "  % self.max_iter, ConvergenceWarning)\n"
     ]
    },
    {
     "name": "stdout",
     "output_type": "stream",
     "text": [
      "Classifier trained for option GENESE_Hour_22\n",
      "Classifier trained for option GENESE_Hour_23\n",
      "Classifier trained for option HUD VL_Hour_0\n",
      "Classifier trained for option HUD VL_Hour_1\n",
      "Classifier trained for option HUD VL_Hour_2\n",
      "Classifier trained for option HUD VL_Hour_3\n",
      "Classifier trained for option HUD VL_Hour_4\n"
     ]
    },
    {
     "name": "stderr",
     "output_type": "stream",
     "text": [
      "/home/zyc/.local/lib/python3.6/site-packages/sklearn/neural_network/multilayer_perceptron.py:562: ConvergenceWarning: Stochastic Optimizer: Maximum iterations (200) reached and the optimization hasn't converged yet.\n",
      "  % self.max_iter, ConvergenceWarning)\n"
     ]
    },
    {
     "name": "stdout",
     "output_type": "stream",
     "text": [
      "Classifier trained for option HUD VL_Hour_5\n",
      "Classifier trained for option HUD VL_Hour_6\n",
      "Classifier trained for option HUD VL_Hour_7\n",
      "Classifier trained for option HUD VL_Hour_8\n",
      "Classifier trained for option HUD VL_Hour_9\n",
      "Classifier trained for option HUD VL_Hour_10\n",
      "Classifier trained for option HUD VL_Hour_11\n",
      "Classifier trained for option HUD VL_Hour_12\n",
      "Classifier trained for option HUD VL_Hour_13\n"
     ]
    },
    {
     "name": "stderr",
     "output_type": "stream",
     "text": [
      "/home/zyc/.local/lib/python3.6/site-packages/sklearn/neural_network/multilayer_perceptron.py:562: ConvergenceWarning: Stochastic Optimizer: Maximum iterations (200) reached and the optimization hasn't converged yet.\n",
      "  % self.max_iter, ConvergenceWarning)\n"
     ]
    },
    {
     "name": "stdout",
     "output_type": "stream",
     "text": [
      "Classifier trained for option HUD VL_Hour_14\n",
      "Classifier trained for option HUD VL_Hour_15\n"
     ]
    },
    {
     "name": "stderr",
     "output_type": "stream",
     "text": [
      "/home/zyc/.local/lib/python3.6/site-packages/sklearn/neural_network/multilayer_perceptron.py:562: ConvergenceWarning: Stochastic Optimizer: Maximum iterations (200) reached and the optimization hasn't converged yet.\n",
      "  % self.max_iter, ConvergenceWarning)\n"
     ]
    },
    {
     "name": "stdout",
     "output_type": "stream",
     "text": [
      "Classifier trained for option HUD VL_Hour_16\n",
      "Classifier trained for option HUD VL_Hour_17\n",
      "Classifier trained for option HUD VL_Hour_18\n",
      "Classifier trained for option HUD VL_Hour_19\n"
     ]
    },
    {
     "name": "stderr",
     "output_type": "stream",
     "text": [
      "/home/zyc/.local/lib/python3.6/site-packages/sklearn/neural_network/multilayer_perceptron.py:562: ConvergenceWarning: Stochastic Optimizer: Maximum iterations (200) reached and the optimization hasn't converged yet.\n",
      "  % self.max_iter, ConvergenceWarning)\n"
     ]
    },
    {
     "name": "stdout",
     "output_type": "stream",
     "text": [
      "Classifier trained for option HUD VL_Hour_20\n"
     ]
    },
    {
     "name": "stderr",
     "output_type": "stream",
     "text": [
      "/home/zyc/.local/lib/python3.6/site-packages/sklearn/neural_network/multilayer_perceptron.py:562: ConvergenceWarning: Stochastic Optimizer: Maximum iterations (200) reached and the optimization hasn't converged yet.\n",
      "  % self.max_iter, ConvergenceWarning)\n"
     ]
    },
    {
     "name": "stdout",
     "output_type": "stream",
     "text": [
      "Classifier trained for option HUD VL_Hour_21\n"
     ]
    },
    {
     "name": "stderr",
     "output_type": "stream",
     "text": [
      "/home/zyc/.local/lib/python3.6/site-packages/sklearn/neural_network/multilayer_perceptron.py:562: ConvergenceWarning: Stochastic Optimizer: Maximum iterations (200) reached and the optimization hasn't converged yet.\n",
      "  % self.max_iter, ConvergenceWarning)\n"
     ]
    },
    {
     "name": "stdout",
     "output_type": "stream",
     "text": [
      "Classifier trained for option HUD VL_Hour_22\n"
     ]
    },
    {
     "name": "stderr",
     "output_type": "stream",
     "text": [
      "/home/zyc/.local/lib/python3.6/site-packages/sklearn/neural_network/multilayer_perceptron.py:562: ConvergenceWarning: Stochastic Optimizer: Maximum iterations (200) reached and the optimization hasn't converged yet.\n",
      "  % self.max_iter, ConvergenceWarning)\n"
     ]
    },
    {
     "name": "stdout",
     "output_type": "stream",
     "text": [
      "Classifier trained for option HUD VL_Hour_23\n",
      "Classifier trained for option LONGIL_Hour_0\n",
      "Classifier trained for option LONGIL_Hour_1\n",
      "Classifier trained for option LONGIL_Hour_2\n",
      "Classifier trained for option LONGIL_Hour_3\n",
      "Classifier trained for option LONGIL_Hour_4\n",
      "Classifier trained for option LONGIL_Hour_5\n",
      "Classifier trained for option LONGIL_Hour_6\n"
     ]
    },
    {
     "name": "stderr",
     "output_type": "stream",
     "text": [
      "/home/zyc/.local/lib/python3.6/site-packages/sklearn/neural_network/multilayer_perceptron.py:562: ConvergenceWarning: Stochastic Optimizer: Maximum iterations (200) reached and the optimization hasn't converged yet.\n",
      "  % self.max_iter, ConvergenceWarning)\n"
     ]
    },
    {
     "name": "stdout",
     "output_type": "stream",
     "text": [
      "Classifier trained for option LONGIL_Hour_7\n",
      "Classifier trained for option LONGIL_Hour_8\n"
     ]
    },
    {
     "name": "stderr",
     "output_type": "stream",
     "text": [
      "/home/zyc/.local/lib/python3.6/site-packages/sklearn/neural_network/multilayer_perceptron.py:562: ConvergenceWarning: Stochastic Optimizer: Maximum iterations (200) reached and the optimization hasn't converged yet.\n",
      "  % self.max_iter, ConvergenceWarning)\n"
     ]
    },
    {
     "name": "stdout",
     "output_type": "stream",
     "text": [
      "Classifier trained for option LONGIL_Hour_9\n",
      "Classifier trained for option LONGIL_Hour_10\n",
      "Classifier trained for option LONGIL_Hour_11\n",
      "Classifier trained for option LONGIL_Hour_12\n",
      "Classifier trained for option LONGIL_Hour_13\n",
      "Classifier trained for option LONGIL_Hour_14\n"
     ]
    },
    {
     "name": "stderr",
     "output_type": "stream",
     "text": [
      "/home/zyc/.local/lib/python3.6/site-packages/sklearn/neural_network/multilayer_perceptron.py:562: ConvergenceWarning: Stochastic Optimizer: Maximum iterations (200) reached and the optimization hasn't converged yet.\n",
      "  % self.max_iter, ConvergenceWarning)\n"
     ]
    },
    {
     "name": "stdout",
     "output_type": "stream",
     "text": [
      "Classifier trained for option LONGIL_Hour_15\n"
     ]
    },
    {
     "name": "stderr",
     "output_type": "stream",
     "text": [
      "/home/zyc/.local/lib/python3.6/site-packages/sklearn/neural_network/multilayer_perceptron.py:562: ConvergenceWarning: Stochastic Optimizer: Maximum iterations (200) reached and the optimization hasn't converged yet.\n",
      "  % self.max_iter, ConvergenceWarning)\n"
     ]
    },
    {
     "name": "stdout",
     "output_type": "stream",
     "text": [
      "Classifier trained for option LONGIL_Hour_16\n",
      "Classifier trained for option LONGIL_Hour_17\n"
     ]
    },
    {
     "name": "stderr",
     "output_type": "stream",
     "text": [
      "/home/zyc/.local/lib/python3.6/site-packages/sklearn/neural_network/multilayer_perceptron.py:562: ConvergenceWarning: Stochastic Optimizer: Maximum iterations (200) reached and the optimization hasn't converged yet.\n",
      "  % self.max_iter, ConvergenceWarning)\n"
     ]
    },
    {
     "name": "stdout",
     "output_type": "stream",
     "text": [
      "Classifier trained for option LONGIL_Hour_18\n",
      "Classifier trained for option LONGIL_Hour_19\n",
      "Classifier trained for option LONGIL_Hour_20\n",
      "Classifier trained for option LONGIL_Hour_21\n",
      "Classifier trained for option LONGIL_Hour_22\n",
      "Classifier trained for option LONGIL_Hour_23\n",
      "Classifier trained for option MHK VL_Hour_0\n",
      "Classifier trained for option MHK VL_Hour_1\n",
      "Classifier trained for option MHK VL_Hour_2\n",
      "Classifier trained for option MHK VL_Hour_3\n",
      "Classifier trained for option MHK VL_Hour_4\n",
      "Classifier trained for option MHK VL_Hour_5\n",
      "Classifier trained for option MHK VL_Hour_6\n"
     ]
    },
    {
     "name": "stderr",
     "output_type": "stream",
     "text": [
      "/home/zyc/.local/lib/python3.6/site-packages/sklearn/neural_network/multilayer_perceptron.py:562: ConvergenceWarning: Stochastic Optimizer: Maximum iterations (200) reached and the optimization hasn't converged yet.\n",
      "  % self.max_iter, ConvergenceWarning)\n"
     ]
    },
    {
     "name": "stdout",
     "output_type": "stream",
     "text": [
      "Classifier trained for option MHK VL_Hour_7\n",
      "Classifier trained for option MHK VL_Hour_8\n",
      "Classifier trained for option MHK VL_Hour_9\n",
      "Classifier trained for option MHK VL_Hour_10\n",
      "Classifier trained for option MHK VL_Hour_11\n"
     ]
    },
    {
     "name": "stderr",
     "output_type": "stream",
     "text": [
      "/home/zyc/.local/lib/python3.6/site-packages/sklearn/neural_network/multilayer_perceptron.py:562: ConvergenceWarning: Stochastic Optimizer: Maximum iterations (200) reached and the optimization hasn't converged yet.\n",
      "  % self.max_iter, ConvergenceWarning)\n"
     ]
    },
    {
     "name": "stdout",
     "output_type": "stream",
     "text": [
      "Classifier trained for option MHK VL_Hour_12\n",
      "Classifier trained for option MHK VL_Hour_13\n",
      "Classifier trained for option MHK VL_Hour_14\n",
      "Classifier trained for option MHK VL_Hour_15\n"
     ]
    },
    {
     "name": "stderr",
     "output_type": "stream",
     "text": [
      "/home/zyc/.local/lib/python3.6/site-packages/sklearn/neural_network/multilayer_perceptron.py:562: ConvergenceWarning: Stochastic Optimizer: Maximum iterations (200) reached and the optimization hasn't converged yet.\n",
      "  % self.max_iter, ConvergenceWarning)\n"
     ]
    },
    {
     "name": "stdout",
     "output_type": "stream",
     "text": [
      "Classifier trained for option MHK VL_Hour_16\n",
      "Classifier trained for option MHK VL_Hour_17\n",
      "Classifier trained for option MHK VL_Hour_18\n"
     ]
    },
    {
     "name": "stderr",
     "output_type": "stream",
     "text": [
      "/home/zyc/.local/lib/python3.6/site-packages/sklearn/neural_network/multilayer_perceptron.py:562: ConvergenceWarning: Stochastic Optimizer: Maximum iterations (200) reached and the optimization hasn't converged yet.\n",
      "  % self.max_iter, ConvergenceWarning)\n"
     ]
    },
    {
     "name": "stdout",
     "output_type": "stream",
     "text": [
      "Classifier trained for option MHK VL_Hour_19\n",
      "Classifier trained for option MHK VL_Hour_20\n",
      "Classifier trained for option MHK VL_Hour_21\n",
      "Classifier trained for option MHK VL_Hour_22\n",
      "Classifier trained for option MHK VL_Hour_23\n",
      "Classifier trained for option MILLWD_Hour_0\n"
     ]
    },
    {
     "name": "stderr",
     "output_type": "stream",
     "text": [
      "/home/zyc/.local/lib/python3.6/site-packages/sklearn/neural_network/multilayer_perceptron.py:562: ConvergenceWarning: Stochastic Optimizer: Maximum iterations (200) reached and the optimization hasn't converged yet.\n",
      "  % self.max_iter, ConvergenceWarning)\n"
     ]
    },
    {
     "name": "stdout",
     "output_type": "stream",
     "text": [
      "Classifier trained for option MILLWD_Hour_1\n",
      "Classifier trained for option MILLWD_Hour_2\n"
     ]
    },
    {
     "name": "stderr",
     "output_type": "stream",
     "text": [
      "/home/zyc/.local/lib/python3.6/site-packages/sklearn/neural_network/multilayer_perceptron.py:562: ConvergenceWarning: Stochastic Optimizer: Maximum iterations (200) reached and the optimization hasn't converged yet.\n",
      "  % self.max_iter, ConvergenceWarning)\n"
     ]
    },
    {
     "name": "stdout",
     "output_type": "stream",
     "text": [
      "Classifier trained for option MILLWD_Hour_3\n",
      "Classifier trained for option MILLWD_Hour_4\n",
      "Classifier trained for option MILLWD_Hour_5\n"
     ]
    },
    {
     "name": "stderr",
     "output_type": "stream",
     "text": [
      "/home/zyc/.local/lib/python3.6/site-packages/sklearn/neural_network/multilayer_perceptron.py:562: ConvergenceWarning: Stochastic Optimizer: Maximum iterations (200) reached and the optimization hasn't converged yet.\n",
      "  % self.max_iter, ConvergenceWarning)\n"
     ]
    },
    {
     "name": "stdout",
     "output_type": "stream",
     "text": [
      "Classifier trained for option MILLWD_Hour_6\n",
      "Classifier trained for option MILLWD_Hour_7\n",
      "Classifier trained for option MILLWD_Hour_8\n",
      "Classifier trained for option MILLWD_Hour_9\n"
     ]
    },
    {
     "name": "stderr",
     "output_type": "stream",
     "text": [
      "/home/zyc/.local/lib/python3.6/site-packages/sklearn/neural_network/multilayer_perceptron.py:562: ConvergenceWarning: Stochastic Optimizer: Maximum iterations (200) reached and the optimization hasn't converged yet.\n",
      "  % self.max_iter, ConvergenceWarning)\n"
     ]
    },
    {
     "name": "stdout",
     "output_type": "stream",
     "text": [
      "Classifier trained for option MILLWD_Hour_10\n"
     ]
    },
    {
     "name": "stderr",
     "output_type": "stream",
     "text": [
      "/home/zyc/.local/lib/python3.6/site-packages/sklearn/neural_network/multilayer_perceptron.py:562: ConvergenceWarning: Stochastic Optimizer: Maximum iterations (200) reached and the optimization hasn't converged yet.\n",
      "  % self.max_iter, ConvergenceWarning)\n"
     ]
    },
    {
     "name": "stdout",
     "output_type": "stream",
     "text": [
      "Classifier trained for option MILLWD_Hour_11\n",
      "Classifier trained for option MILLWD_Hour_12\n",
      "Classifier trained for option MILLWD_Hour_13\n",
      "Classifier trained for option MILLWD_Hour_14\n"
     ]
    },
    {
     "name": "stderr",
     "output_type": "stream",
     "text": [
      "/home/zyc/.local/lib/python3.6/site-packages/sklearn/neural_network/multilayer_perceptron.py:562: ConvergenceWarning: Stochastic Optimizer: Maximum iterations (200) reached and the optimization hasn't converged yet.\n",
      "  % self.max_iter, ConvergenceWarning)\n"
     ]
    },
    {
     "name": "stdout",
     "output_type": "stream",
     "text": [
      "Classifier trained for option MILLWD_Hour_15\n"
     ]
    },
    {
     "name": "stderr",
     "output_type": "stream",
     "text": [
      "/home/zyc/.local/lib/python3.6/site-packages/sklearn/neural_network/multilayer_perceptron.py:562: ConvergenceWarning: Stochastic Optimizer: Maximum iterations (200) reached and the optimization hasn't converged yet.\n",
      "  % self.max_iter, ConvergenceWarning)\n"
     ]
    },
    {
     "name": "stdout",
     "output_type": "stream",
     "text": [
      "Classifier trained for option MILLWD_Hour_16\n",
      "Classifier trained for option MILLWD_Hour_17\n"
     ]
    },
    {
     "name": "stderr",
     "output_type": "stream",
     "text": [
      "/home/zyc/.local/lib/python3.6/site-packages/sklearn/neural_network/multilayer_perceptron.py:562: ConvergenceWarning: Stochastic Optimizer: Maximum iterations (200) reached and the optimization hasn't converged yet.\n",
      "  % self.max_iter, ConvergenceWarning)\n"
     ]
    },
    {
     "name": "stdout",
     "output_type": "stream",
     "text": [
      "Classifier trained for option MILLWD_Hour_18\n",
      "Classifier trained for option MILLWD_Hour_19\n"
     ]
    },
    {
     "name": "stderr",
     "output_type": "stream",
     "text": [
      "/home/zyc/.local/lib/python3.6/site-packages/sklearn/neural_network/multilayer_perceptron.py:562: ConvergenceWarning: Stochastic Optimizer: Maximum iterations (200) reached and the optimization hasn't converged yet.\n",
      "  % self.max_iter, ConvergenceWarning)\n"
     ]
    },
    {
     "name": "stdout",
     "output_type": "stream",
     "text": [
      "Classifier trained for option MILLWD_Hour_20\n",
      "Classifier trained for option MILLWD_Hour_21\n",
      "Classifier trained for option MILLWD_Hour_22\n",
      "Classifier trained for option MILLWD_Hour_23\n",
      "Classifier trained for option N.Y.C._Hour_0\n"
     ]
    },
    {
     "name": "stderr",
     "output_type": "stream",
     "text": [
      "/home/zyc/.local/lib/python3.6/site-packages/sklearn/neural_network/multilayer_perceptron.py:562: ConvergenceWarning: Stochastic Optimizer: Maximum iterations (200) reached and the optimization hasn't converged yet.\n",
      "  % self.max_iter, ConvergenceWarning)\n"
     ]
    },
    {
     "name": "stdout",
     "output_type": "stream",
     "text": [
      "Classifier trained for option N.Y.C._Hour_1\n",
      "Classifier trained for option N.Y.C._Hour_2\n",
      "Classifier trained for option N.Y.C._Hour_3\n",
      "Classifier trained for option N.Y.C._Hour_4\n",
      "Classifier trained for option N.Y.C._Hour_5\n"
     ]
    },
    {
     "name": "stderr",
     "output_type": "stream",
     "text": [
      "/home/zyc/.local/lib/python3.6/site-packages/sklearn/neural_network/multilayer_perceptron.py:562: ConvergenceWarning: Stochastic Optimizer: Maximum iterations (200) reached and the optimization hasn't converged yet.\n",
      "  % self.max_iter, ConvergenceWarning)\n"
     ]
    },
    {
     "name": "stdout",
     "output_type": "stream",
     "text": [
      "Classifier trained for option N.Y.C._Hour_6\n"
     ]
    },
    {
     "name": "stderr",
     "output_type": "stream",
     "text": [
      "/home/zyc/.local/lib/python3.6/site-packages/sklearn/neural_network/multilayer_perceptron.py:562: ConvergenceWarning: Stochastic Optimizer: Maximum iterations (200) reached and the optimization hasn't converged yet.\n",
      "  % self.max_iter, ConvergenceWarning)\n"
     ]
    },
    {
     "name": "stdout",
     "output_type": "stream",
     "text": [
      "Classifier trained for option N.Y.C._Hour_7\n"
     ]
    },
    {
     "name": "stderr",
     "output_type": "stream",
     "text": [
      "/home/zyc/.local/lib/python3.6/site-packages/sklearn/neural_network/multilayer_perceptron.py:562: ConvergenceWarning: Stochastic Optimizer: Maximum iterations (200) reached and the optimization hasn't converged yet.\n",
      "  % self.max_iter, ConvergenceWarning)\n"
     ]
    },
    {
     "name": "stdout",
     "output_type": "stream",
     "text": [
      "Classifier trained for option N.Y.C._Hour_8\n",
      "Classifier trained for option N.Y.C._Hour_9\n",
      "Classifier trained for option N.Y.C._Hour_10\n",
      "Classifier trained for option N.Y.C._Hour_11\n",
      "Classifier trained for option N.Y.C._Hour_12\n",
      "Classifier trained for option N.Y.C._Hour_13\n",
      "Classifier trained for option N.Y.C._Hour_14\n",
      "Classifier trained for option N.Y.C._Hour_15\n"
     ]
    },
    {
     "name": "stderr",
     "output_type": "stream",
     "text": [
      "/home/zyc/.local/lib/python3.6/site-packages/sklearn/neural_network/multilayer_perceptron.py:562: ConvergenceWarning: Stochastic Optimizer: Maximum iterations (200) reached and the optimization hasn't converged yet.\n",
      "  % self.max_iter, ConvergenceWarning)\n"
     ]
    },
    {
     "name": "stdout",
     "output_type": "stream",
     "text": [
      "Classifier trained for option N.Y.C._Hour_16\n",
      "Classifier trained for option N.Y.C._Hour_17\n",
      "Classifier trained for option N.Y.C._Hour_18\n"
     ]
    },
    {
     "name": "stderr",
     "output_type": "stream",
     "text": [
      "/home/zyc/.local/lib/python3.6/site-packages/sklearn/neural_network/multilayer_perceptron.py:562: ConvergenceWarning: Stochastic Optimizer: Maximum iterations (200) reached and the optimization hasn't converged yet.\n",
      "  % self.max_iter, ConvergenceWarning)\n"
     ]
    },
    {
     "name": "stdout",
     "output_type": "stream",
     "text": [
      "Classifier trained for option N.Y.C._Hour_19\n",
      "Classifier trained for option N.Y.C._Hour_20\n",
      "Classifier trained for option N.Y.C._Hour_21\n",
      "Classifier trained for option N.Y.C._Hour_22\n",
      "Classifier trained for option N.Y.C._Hour_23\n",
      "Classifier trained for option NORTH_Hour_0\n",
      "Classifier trained for option NORTH_Hour_1\n",
      "Classifier trained for option NORTH_Hour_2\n",
      "Classifier trained for option NORTH_Hour_3\n",
      "Classifier trained for option NORTH_Hour_4\n"
     ]
    },
    {
     "name": "stderr",
     "output_type": "stream",
     "text": [
      "/home/zyc/.local/lib/python3.6/site-packages/sklearn/neural_network/multilayer_perceptron.py:562: ConvergenceWarning: Stochastic Optimizer: Maximum iterations (200) reached and the optimization hasn't converged yet.\n",
      "  % self.max_iter, ConvergenceWarning)\n"
     ]
    },
    {
     "name": "stdout",
     "output_type": "stream",
     "text": [
      "Classifier trained for option NORTH_Hour_5\n",
      "Classifier trained for option NORTH_Hour_6\n",
      "Classifier trained for option NORTH_Hour_7\n",
      "Classifier trained for option NORTH_Hour_8\n",
      "Classifier trained for option NORTH_Hour_9\n",
      "Classifier trained for option NORTH_Hour_10\n",
      "Classifier trained for option NORTH_Hour_11\n",
      "Classifier trained for option NORTH_Hour_12\n"
     ]
    },
    {
     "name": "stderr",
     "output_type": "stream",
     "text": [
      "/home/zyc/.local/lib/python3.6/site-packages/sklearn/neural_network/multilayer_perceptron.py:562: ConvergenceWarning: Stochastic Optimizer: Maximum iterations (200) reached and the optimization hasn't converged yet.\n",
      "  % self.max_iter, ConvergenceWarning)\n"
     ]
    },
    {
     "name": "stdout",
     "output_type": "stream",
     "text": [
      "Classifier trained for option NORTH_Hour_13\n"
     ]
    },
    {
     "name": "stderr",
     "output_type": "stream",
     "text": [
      "/home/zyc/.local/lib/python3.6/site-packages/sklearn/neural_network/multilayer_perceptron.py:562: ConvergenceWarning: Stochastic Optimizer: Maximum iterations (200) reached and the optimization hasn't converged yet.\n",
      "  % self.max_iter, ConvergenceWarning)\n"
     ]
    },
    {
     "name": "stdout",
     "output_type": "stream",
     "text": [
      "Classifier trained for option NORTH_Hour_14\n",
      "Classifier trained for option NORTH_Hour_15\n",
      "Classifier trained for option NORTH_Hour_16\n"
     ]
    },
    {
     "name": "stderr",
     "output_type": "stream",
     "text": [
      "/home/zyc/.local/lib/python3.6/site-packages/sklearn/neural_network/multilayer_perceptron.py:562: ConvergenceWarning: Stochastic Optimizer: Maximum iterations (200) reached and the optimization hasn't converged yet.\n",
      "  % self.max_iter, ConvergenceWarning)\n"
     ]
    },
    {
     "name": "stdout",
     "output_type": "stream",
     "text": [
      "Classifier trained for option NORTH_Hour_17\n",
      "Classifier trained for option NORTH_Hour_18\n",
      "Classifier trained for option NORTH_Hour_19\n",
      "Classifier trained for option NORTH_Hour_20\n"
     ]
    },
    {
     "name": "stderr",
     "output_type": "stream",
     "text": [
      "/home/zyc/.local/lib/python3.6/site-packages/sklearn/neural_network/multilayer_perceptron.py:562: ConvergenceWarning: Stochastic Optimizer: Maximum iterations (200) reached and the optimization hasn't converged yet.\n",
      "  % self.max_iter, ConvergenceWarning)\n"
     ]
    },
    {
     "name": "stdout",
     "output_type": "stream",
     "text": [
      "Classifier trained for option NORTH_Hour_21\n",
      "Classifier trained for option NORTH_Hour_22\n",
      "Classifier trained for option NORTH_Hour_23\n",
      "Classifier trained for option WEST_Hour_0\n",
      "Classifier trained for option WEST_Hour_1\n",
      "Classifier trained for option WEST_Hour_2\n",
      "Classifier trained for option WEST_Hour_3\n"
     ]
    },
    {
     "name": "stderr",
     "output_type": "stream",
     "text": [
      "/home/zyc/.local/lib/python3.6/site-packages/sklearn/neural_network/multilayer_perceptron.py:562: ConvergenceWarning: Stochastic Optimizer: Maximum iterations (200) reached and the optimization hasn't converged yet.\n",
      "  % self.max_iter, ConvergenceWarning)\n"
     ]
    },
    {
     "name": "stdout",
     "output_type": "stream",
     "text": [
      "Classifier trained for option WEST_Hour_4\n",
      "Classifier trained for option WEST_Hour_5\n",
      "Classifier trained for option WEST_Hour_6\n"
     ]
    },
    {
     "name": "stderr",
     "output_type": "stream",
     "text": [
      "/home/zyc/.local/lib/python3.6/site-packages/sklearn/neural_network/multilayer_perceptron.py:562: ConvergenceWarning: Stochastic Optimizer: Maximum iterations (200) reached and the optimization hasn't converged yet.\n",
      "  % self.max_iter, ConvergenceWarning)\n"
     ]
    },
    {
     "name": "stdout",
     "output_type": "stream",
     "text": [
      "Classifier trained for option WEST_Hour_7\n",
      "Classifier trained for option WEST_Hour_8\n",
      "Classifier trained for option WEST_Hour_9\n",
      "Classifier trained for option WEST_Hour_10\n",
      "Classifier trained for option WEST_Hour_11\n",
      "Classifier trained for option WEST_Hour_12\n",
      "Classifier trained for option WEST_Hour_13\n",
      "Classifier trained for option WEST_Hour_14\n",
      "Classifier trained for option WEST_Hour_15\n",
      "Classifier trained for option WEST_Hour_16\n",
      "Classifier trained for option WEST_Hour_17\n",
      "Classifier trained for option WEST_Hour_18\n",
      "Classifier trained for option WEST_Hour_19\n"
     ]
    },
    {
     "name": "stderr",
     "output_type": "stream",
     "text": [
      "/home/zyc/.local/lib/python3.6/site-packages/sklearn/neural_network/multilayer_perceptron.py:562: ConvergenceWarning: Stochastic Optimizer: Maximum iterations (200) reached and the optimization hasn't converged yet.\n",
      "  % self.max_iter, ConvergenceWarning)\n"
     ]
    },
    {
     "name": "stdout",
     "output_type": "stream",
     "text": [
      "Classifier trained for option WEST_Hour_20\n",
      "Classifier trained for option WEST_Hour_21\n"
     ]
    },
    {
     "name": "stderr",
     "output_type": "stream",
     "text": [
      "/home/zyc/.local/lib/python3.6/site-packages/sklearn/neural_network/multilayer_perceptron.py:562: ConvergenceWarning: Stochastic Optimizer: Maximum iterations (200) reached and the optimization hasn't converged yet.\n",
      "  % self.max_iter, ConvergenceWarning)\n"
     ]
    },
    {
     "name": "stdout",
     "output_type": "stream",
     "text": [
      "Classifier trained for option WEST_Hour_22\n",
      "Classifier trained for option WEST_Hour_23\n",
      "\n",
      "Overall training accuracy = 99.97 percent.\n"
     ]
    }
   ],
   "source": [
    "classifiers = []\n",
    "\n",
    "# We have two options here. Use previous training experience, or learn anew.\n",
    "useSavedClassifiers = False\n",
    "\n",
    "if not useSavedClassifiers:\n",
    "\n",
    "    print(\"Starting training module...\\n\")\n",
    "    trainPriceDA, trainPriceDART, trainLoadDA = loadNYISOData(2015)\n",
    "\n",
    "    numberOfDays =  int(len(trainPriceDA.index))\n",
    "    print(\"Loaded hourly prices from 2015 for %d days.\" % numberOfDays)\n",
    "\n",
    "    # We will implement a trading strategy, where we bid a particular quantile of the past\n",
    "    # DA prices for an option. If you do not know what a quantile means, refer to the Wikipedia\n",
    "    # article on it. Essentially, a 95% quantile of the DA prices equals that value for which\n",
    "    # 95% of the DA prices are below it. Store all quantiles starting from 50% in steps of\n",
    "    # 5% in a dictionary. Store them in a pickle file.\n",
    "\n",
    "    quantilesToStore = [0.70, 0.75, 0.80, 0.85, 0.90, 0.95]\n",
    "    offerPrices = trainPriceDA.quantile(q=quantilesToStore).transpose().to_dict()\n",
    "    pickle.dump(offerPrices, open(\"./Training/OfferPrices\", 'wb'))\n",
    "\n",
    "    # Calculate the average price spread for each option over the entire year. This will guide\n",
    "    # us in choosing our portfolio. Store it as a dictionary. Our bid will choose those\n",
    "    # options that our classifier indicates that they will be profitable and historically they\n",
    "    # have higher average price differences, indicating that they have higher rate of return.\n",
    "    # Store them using pickle.\n",
    "\n",
    "    averagePriceSpread = trainPriceDART.mean(axis=0).transpose().to_dict()\n",
    "    pickle.dump(averagePriceSpread, open(\"./Training/AveragePriceSpread\", 'wb'))\n",
    "\n",
    "    # Create the training dataset using the function 'createClassifierIO' on the prices and\n",
    "    # loads, and store them in 'trainX', and 'trainY'.\n",
    "\n",
    "    trainX, trainY, _ = createClassifierIO(trainPriceDA, trainPriceDART, trainLoadDA)\n",
    "\n",
    "    # Define a collection of classifiers, one for each option. You can try different options, such\n",
    "    # as that based on an SVM, logistic regression, multilayer perceptron based, etc. We will\n",
    "    # measure training accuracy to indicate how well the classifier works on the training dataset.\n",
    "    # However, good training accuracy does not always indicate good test performance.\n",
    "    # Avoid over-fitting.\n",
    "\n",
    "\n",
    "    classifiers = [MLPClassifier(hidden_layer_sizes=(20, 10), max_iter=200)\n",
    "                   for _ in range(nOptions)]\n",
    "\n",
    "    trainingAccuracy = 0\n",
    "\n",
    "    for ii in range(nOptions):\n",
    "        classifiers[ii].fit(trainX, trainY[:, ii])\n",
    "        print(\"Classifier trained for option \" + optionNames[ii])\n",
    "        trainingAccuracy += classifiers[ii].score(trainX, trainY[:, ii])\n",
    "\n",
    "        # Store the classifier.\n",
    "        pickle.dump(classifiers[ii], open(\"./Training/Classifier_\" + optionNames[ii], 'wb'))\n",
    "\n",
    "    print(\"\\nOverall training accuracy = %1.2f percent.\" % (100 * trainingAccuracy/nOptions))\n",
    "\n",
    "    del numberOfDays, trainPriceDA, trainLoadDA, trainPriceDART, trainX, trainY\n",
    "else:\n",
    "\n",
    "    # Load the classifiers, the offer prices at various quantiles, and the average price spreads.\n",
    "\n",
    "    print(\"Loading previously trained variables...\\n\")\n",
    "    classifiers = [pickle.load(open(\"./Training/Classifier_\" + optionNames[ii], 'rb'))\n",
    "                   for ii in range(nOptions)]\n",
    "    offerPrices = pickle.load(open(\"./Training/OfferPrices\", 'rb'))\n",
    "    averagePriceSpread = pickle.load(open(\"./Training/AveragePriceSpread\", 'rb'))\n",
    "\n",
    "    print(\"All training variables were loaded successfully...\\n\")"
   ]
  },
  {
   "cell_type": "markdown",
   "metadata": {},
   "source": [
    "### Test the classifier's accuracy on test data."
   ]
  },
  {
   "cell_type": "code",
   "execution_count": 53,
   "metadata": {},
   "outputs": [
    {
     "name": "stdout",
     "output_type": "stream",
     "text": [
      "Starting the testing module...\n",
      "\n",
      "Test Accuracy Stats: Min = 50.96%, Avg = 58.78%, Max = 68.60%\n"
     ]
    }
   ],
   "source": [
    "# First, load the test data from NYISO for the year 2016. Again, utilize our function\n",
    "# named 'loadNYISOData'.\n",
    "\n",
    "print(\"Starting the testing module...\\n\")\n",
    "testPriceDA, testPriceDART, testLoadDA = loadNYISOData(2016)\n",
    "\n",
    "# Create the data for the classifier using the function 'createClassifierIO'.\n",
    "testX, testY, rangeOfDays = createClassifierIO(testPriceDA, testPriceDART, testLoadDA)\n",
    "\n",
    "# The next step is not useful for implementing the trading strategy, but quickly check how accurate\n",
    "# your trained classifiers are for the test data. Training accuracy is not always indicative of\n",
    "# test accuracy.\n",
    "\n",
    "testingAccuracy = [classifiers[ii].score(testX, testY[:, ii]) for ii in range(nOptions)]\n",
    "print(\"Test Accuracy Stats: Min = %.2f%%, Avg = %.2f%%, Max = %.2f%%\" %\n",
    "      (100 * np.min(testingAccuracy),\n",
    "       100 * np.mean(testingAccuracy),\n",
    "       100 * np.max(testingAccuracy)))\n",
    "\n",
    "# Utilize the classifiers to predict the sign of DA - RT prices for each day in 'rangeOfDays' for\n",
    "# the test data. Store the result in a pandas data frame with columns as the option names and the\n",
    "# day in year as index.\n",
    "predictedY = pd.DataFrame(np.column_stack([classifiers[ii].predict(testX) for ii in range(nOptions)]),\n",
    "                          columns=optionNames, index=rangeOfDays)"
   ]
  },
  {
   "cell_type": "markdown",
   "metadata": {},
   "source": [
    "## Design and implement the trading strategy. \n",
    "\n",
    "We define a fairly simple trading strategy. Define a total budget that you are willing to spend in the DA market. Recall that we only invest in\n",
    "options where we buy at the DA market and sell at the RT market. When your bid for one unit of an option\n",
    "clears in the DA market, you have to pay the DA price for that option. There are two possibilities:\n",
    "  1. Your bid clears: Therefore, your offer price was higher than the DA price.\n",
    "  2. Your bid does not clear: Then, the DA price was higher than your bid.\n",
    "In both these cases, the maximum you have to pay is your bid. Therefore, we will enforce that your bids\n",
    "across all options in a day does not exceed your total budget.\n",
    "Keep track of how rewards grow (or fall) through the year\n",
    "as you utilize your strategy. Also, keep track of how much rewards you get from each option. We shall\n",
    "visualize these results after implementing the trading strategy over the NYISO data for 2016.\n",
    "\n",
    "Choose the bid prices as a suitable quantile of the historical DA prices. The higher the quantile, the\n",
    "better your chances are that your bid will be cleared. However, a higher quantile also indicates that\n",
    "you are budgeting more money for each option, and hence, you will buy fewer options."
   ]
  },
  {
   "cell_type": "code",
   "execution_count": 54,
   "metadata": {
    "scrolled": false
   },
   "outputs": [
    {
     "name": "stdout",
     "output_type": "stream",
     "text": [
      "Day 3: Reward (in $) = -97,766\n",
      "Day 4: Reward (in $) = 1,633,811\n",
      "Day 5: Reward (in $) = 4,521\n",
      "Day 6: Reward (in $) = -12,896\n",
      "Day 7: Reward (in $) = -8,060\n",
      "Day 8: Reward (in $) = -27,858\n",
      "Day 9: Reward (in $) = -43,020\n",
      "Day 10: Reward (in $) = -121,229\n",
      "Day 11: Reward (in $) = -65,900\n",
      "Day 12: Reward (in $) = -49,435\n",
      "Day 13: Reward (in $) = -27,736\n",
      "Day 14: Reward (in $) = -34,028\n",
      "Day 15: Reward (in $) = -2,301\n",
      "Day 16: Reward (in $) = 17,476\n",
      "Day 17: Reward (in $) = -62,497\n",
      "Day 18: Reward (in $) = -21,963\n",
      "Day 19: Reward (in $) = 19,802\n",
      "Day 20: Reward (in $) = 9,824\n",
      "Day 21: Reward (in $) = -17,886\n",
      "Day 22: Reward (in $) = 84,803\n",
      "Day 23: Reward (in $) = 31,777\n",
      "Day 24: Reward (in $) = -84,727\n",
      "Day 25: Reward (in $) = -89,364\n",
      "Day 26: Reward (in $) = -28,911\n",
      "Day 27: Reward (in $) = -12,508\n",
      "Day 28: Reward (in $) = -20,970\n",
      "Day 29: Reward (in $) = -27,361\n",
      "Day 30: Reward (in $) = -49,683\n",
      "Day 31: Reward (in $) = -34,134\n",
      "Day 32: Reward (in $) = -4,295\n",
      "Day 33: Reward (in $) = -365,409\n",
      "Day 34: Reward (in $) = 5,930\n",
      "Day 35: Reward (in $) = 63,852\n",
      "Day 36: Reward (in $) = -36,232\n",
      "Day 37: Reward (in $) = -41,238\n",
      "Day 38: Reward (in $) = 31,688\n",
      "Day 39: Reward (in $) = 22,137\n",
      "Day 40: Reward (in $) = -36,239\n",
      "Day 41: Reward (in $) = -44,780\n",
      "Day 42: Reward (in $) = -9,222\n",
      "Day 43: Reward (in $) = -36,542\n",
      "Day 44: Reward (in $) = -32,600\n",
      "Day 45: Reward (in $) = 26,171\n",
      "Day 46: Reward (in $) = 95,242\n",
      "Day 47: Reward (in $) = 26,179\n",
      "Day 48: Reward (in $) = -72,136\n",
      "Day 49: Reward (in $) = -59,712\n",
      "Day 50: Reward (in $) = -47,004\n",
      "Day 51: Reward (in $) = 7,962\n",
      "Day 52: Reward (in $) = -25,701\n",
      "Day 53: Reward (in $) = -13,789\n",
      "Day 54: Reward (in $) = 4,213\n",
      "Day 55: Reward (in $) = -2,664\n",
      "Day 56: Reward (in $) = -37,465\n",
      "Day 57: Reward (in $) = -28,079\n",
      "Day 58: Reward (in $) = -18,703\n",
      "Day 59: Reward (in $) = -13,056\n",
      "Day 60: Reward (in $) = -54,575\n",
      "Day 61: Reward (in $) = -36,661\n",
      "Day 62: Reward (in $) = -1,781\n",
      "Day 63: Reward (in $) = -29,044\n",
      "Day 64: Reward (in $) = -41,151\n",
      "Day 65: Reward (in $) = 167,246\n",
      "Day 66: Reward (in $) = 83,151\n",
      "Day 67: Reward (in $) = -95,580\n",
      "Day 68: Reward (in $) = -89,039\n",
      "Day 69: Reward (in $) = -36,733\n",
      "Day 70: Reward (in $) = 127,297\n",
      "Day 71: Reward (in $) = -4,023\n",
      "Day 72: Reward (in $) = -10,975\n",
      "Day 73: Reward (in $) = -78,297\n",
      "Day 74: Reward (in $) = 751,539\n",
      "Day 75: Reward (in $) = -34,874\n",
      "Day 76: Reward (in $) = -106,520\n",
      "Day 77: Reward (in $) = -65,745\n",
      "Day 78: Reward (in $) = -29,056\n",
      "Day 79: Reward (in $) = -37,663\n",
      "Day 80: Reward (in $) = -43,789\n",
      "Day 81: Reward (in $) = 26,187\n",
      "Day 82: Reward (in $) = 20,602\n",
      "Day 83: Reward (in $) = -17,123\n",
      "Day 84: Reward (in $) = -11,115\n",
      "Day 85: Reward (in $) = 68,299\n",
      "Day 86: Reward (in $) = -25,994\n",
      "Day 87: Reward (in $) = 2,945,327\n",
      "Day 88: Reward (in $) = 1,072,363\n",
      "Day 89: Reward (in $) = -50,482\n",
      "Day 90: Reward (in $) = -15,786\n",
      "Day 91: Reward (in $) = -10,890\n",
      "Day 92: Reward (in $) = -19,712\n",
      "Day 93: Reward (in $) = -40,874\n",
      "Day 94: Reward (in $) = 23,194\n",
      "Day 95: Reward (in $) = -11,593\n",
      "Day 96: Reward (in $) = 103,346\n",
      "Day 97: Reward (in $) = -23,177\n",
      "Day 98: Reward (in $) = 2,744\n",
      "Day 99: Reward (in $) = -12,525\n",
      "Day 100: Reward (in $) = -7,474\n",
      "Day 101: Reward (in $) = -13,722\n",
      "Day 102: Reward (in $) = 12,321\n",
      "Day 103: Reward (in $) = -10,033\n",
      "Day 104: Reward (in $) = -21,826\n",
      "Day 105: Reward (in $) = -16,108\n",
      "Day 106: Reward (in $) = 13,839\n",
      "Day 107: Reward (in $) = -19,643\n",
      "Day 108: Reward (in $) = 36,117\n",
      "Day 109: Reward (in $) = -3,897\n",
      "Day 110: Reward (in $) = -45,282\n",
      "Day 111: Reward (in $) = -22,649\n",
      "Day 112: Reward (in $) = 134,168\n",
      "Day 113: Reward (in $) = -44,329\n",
      "Day 114: Reward (in $) = -53,569\n",
      "Day 115: Reward (in $) = -58,569\n",
      "Day 116: Reward (in $) = -4,025\n",
      "Day 117: Reward (in $) = -26,032\n",
      "Day 118: Reward (in $) = -15,019\n",
      "Day 119: Reward (in $) = -4,536\n",
      "Day 120: Reward (in $) = 233\n",
      "Day 121: Reward (in $) = 25,552\n",
      "Day 122: Reward (in $) = -30,665\n",
      "Day 123: Reward (in $) = -9,447\n",
      "Day 124: Reward (in $) = -42,728\n",
      "Day 125: Reward (in $) = -6,920\n",
      "Day 126: Reward (in $) = -400\n",
      "Day 127: Reward (in $) = -20,227\n",
      "Day 128: Reward (in $) = -3,764\n",
      "Day 129: Reward (in $) = -264,253\n",
      "Day 130: Reward (in $) = -45,120\n",
      "Day 131: Reward (in $) = 27,842\n",
      "Day 132: Reward (in $) = 185,411\n",
      "Day 133: Reward (in $) = 35,740\n",
      "Day 134: Reward (in $) = -49,109\n",
      "Day 135: Reward (in $) = -11,288\n",
      "Day 136: Reward (in $) = -33,977\n",
      "Day 137: Reward (in $) = -47,925\n",
      "Day 138: Reward (in $) = -87,502\n",
      "Day 139: Reward (in $) = 2,524\n",
      "Day 140: Reward (in $) = -55,653\n",
      "Day 141: Reward (in $) = -10,524\n",
      "Day 142: Reward (in $) = 26,385\n",
      "Day 143: Reward (in $) = 4,355\n",
      "Day 144: Reward (in $) = -23,350\n",
      "Day 145: Reward (in $) = -51,710\n",
      "Day 146: Reward (in $) = -26,069\n",
      "Day 147: Reward (in $) = -69,684\n",
      "Day 148: Reward (in $) = 389,644\n",
      "Day 149: Reward (in $) = 52,674\n",
      "Day 150: Reward (in $) = 51,513\n",
      "Day 151: Reward (in $) = 539,272\n",
      "Day 152: Reward (in $) = 511,061\n",
      "Day 153: Reward (in $) = 40,627\n",
      "Day 154: Reward (in $) = 24,582\n",
      "Day 155: Reward (in $) = -41,097\n",
      "Day 156: Reward (in $) = -41,981\n",
      "Day 157: Reward (in $) = -154,562\n",
      "Day 158: Reward (in $) = -20,991\n",
      "Day 159: Reward (in $) = -58,220\n",
      "Day 160: Reward (in $) = -113,270\n",
      "Day 161: Reward (in $) = 3,356\n",
      "Day 162: Reward (in $) = 976,162\n",
      "Day 163: Reward (in $) = -12,913\n",
      "Day 164: Reward (in $) = -83,482\n",
      "Day 165: Reward (in $) = 260,494\n",
      "Day 166: Reward (in $) = -26,720\n",
      "Day 167: Reward (in $) = 27,142\n",
      "Day 168: Reward (in $) = -1,968\n",
      "Day 169: Reward (in $) = 14,536\n",
      "Day 170: Reward (in $) = -73,595\n",
      "Day 171: Reward (in $) = -7,748\n",
      "Day 172: Reward (in $) = -6,201\n",
      "Day 173: Reward (in $) = -11,794\n",
      "Day 174: Reward (in $) = 7,757\n",
      "Day 175: Reward (in $) = 21,020\n",
      "Day 176: Reward (in $) = -15,271\n",
      "Day 177: Reward (in $) = -29,592\n",
      "Day 178: Reward (in $) = -34,360\n",
      "Day 179: Reward (in $) = -14,720\n",
      "Day 180: Reward (in $) = -2,291\n",
      "Day 181: Reward (in $) = -15,035\n",
      "Day 182: Reward (in $) = 526\n",
      "Day 183: Reward (in $) = -81,863\n",
      "Day 184: Reward (in $) = -79,608\n",
      "Day 185: Reward (in $) = -42,562\n",
      "Day 186: Reward (in $) = 104,888\n",
      "Day 187: Reward (in $) = 14,973\n",
      "Day 188: Reward (in $) = 4,715\n",
      "Day 189: Reward (in $) = -1,472\n",
      "Day 190: Reward (in $) = -99,711\n",
      "Day 191: Reward (in $) = -22,137\n",
      "Day 192: Reward (in $) = -25,423\n",
      "Day 193: Reward (in $) = -56,947\n",
      "Day 194: Reward (in $) = -187\n",
      "Day 195: Reward (in $) = 2,673\n",
      "Day 196: Reward (in $) = -1,672\n",
      "Day 197: Reward (in $) = 37,239\n",
      "Day 198: Reward (in $) = -1,583\n",
      "Day 199: Reward (in $) = -661\n",
      "Day 200: Reward (in $) = 145\n",
      "Day 201: Reward (in $) = -9,868\n",
      "Day 202: Reward (in $) = 2,116\n",
      "Day 203: Reward (in $) = 3,284\n",
      "Day 204: Reward (in $) = 3,842\n",
      "Day 205: Reward (in $) = -45,499\n",
      "Day 206: Reward (in $) = -1,304\n",
      "Day 207: Reward (in $) = -35,963\n",
      "Day 208: Reward (in $) = 2,215\n",
      "Day 209: Reward (in $) = 8,308\n",
      "Day 210: Reward (in $) = 100,268\n",
      "Day 211: Reward (in $) = 37,153\n",
      "Day 212: Reward (in $) = 10,985\n",
      "Day 213: Reward (in $) = -1,985\n",
      "Day 214: Reward (in $) = -57,815\n",
      "Day 215: Reward (in $) = -63,240\n",
      "Day 216: Reward (in $) = 6,899\n",
      "Day 217: Reward (in $) = 4,311\n",
      "Day 218: Reward (in $) = 37,988\n",
      "Day 219: Reward (in $) = -24,035\n",
      "Day 220: Reward (in $) = -2,228\n",
      "Day 221: Reward (in $) = -915\n",
      "Day 222: Reward (in $) = 6,891\n",
      "Day 223: Reward (in $) = 2,989\n",
      "Day 224: Reward (in $) = 138\n",
      "Day 225: Reward (in $) = 4,168\n",
      "Day 226: Reward (in $) = -22,561\n",
      "Day 227: Reward (in $) = -546\n",
      "Day 228: Reward (in $) = 2,419\n",
      "Day 229: Reward (in $) = -1,192\n",
      "Day 230: Reward (in $) = -2,528\n",
      "Day 231: Reward (in $) = 2,423\n",
      "Day 232: Reward (in $) = -55,871\n",
      "Day 233: Reward (in $) = -88,619\n",
      "Day 234: Reward (in $) = -97,423\n",
      "Day 235: Reward (in $) = -129,505\n",
      "Day 236: Reward (in $) = -22,970\n",
      "Day 237: Reward (in $) = 56,344\n",
      "Day 238: Reward (in $) = -2,675\n",
      "Day 239: Reward (in $) = -46,663\n",
      "Day 240: Reward (in $) = -6,943\n",
      "Day 241: Reward (in $) = -702\n",
      "Day 242: Reward (in $) = -2,245\n",
      "Day 243: Reward (in $) = -6,430\n",
      "Day 244: Reward (in $) = -989\n",
      "Day 245: Reward (in $) = -77,598\n",
      "Day 246: Reward (in $) = -48,922\n",
      "Day 247: Reward (in $) = -14,681\n",
      "Day 248: Reward (in $) = -22,637\n",
      "Day 249: Reward (in $) = -43,197\n",
      "Day 250: Reward (in $) = -482\n",
      "Day 251: Reward (in $) = 5,687\n",
      "Day 252: Reward (in $) = 5,711\n",
      "Day 253: Reward (in $) = 53,154\n",
      "Day 254: Reward (in $) = -10,823\n",
      "Day 255: Reward (in $) = -63,005\n",
      "Day 256: Reward (in $) = -2,802\n",
      "Day 257: Reward (in $) = -8,632\n",
      "Day 258: Reward (in $) = -20,437\n"
     ]
    },
    {
     "name": "stdout",
     "output_type": "stream",
     "text": [
      "Day 259: Reward (in $) = -40,703\n",
      "Day 260: Reward (in $) = -22,603\n",
      "Day 261: Reward (in $) = 20,208\n",
      "Day 262: Reward (in $) = 3,847\n",
      "Day 263: Reward (in $) = -67,816\n",
      "Day 264: Reward (in $) = -47,125\n",
      "Day 265: Reward (in $) = -4,107\n",
      "Day 266: Reward (in $) = -81,571\n",
      "Day 267: Reward (in $) = -8,980\n",
      "Day 268: Reward (in $) = -20,992\n",
      "Day 269: Reward (in $) = -85,086\n",
      "Day 270: Reward (in $) = -72,232\n",
      "Day 271: Reward (in $) = -11,356\n",
      "Day 272: Reward (in $) = -17,202\n",
      "Day 273: Reward (in $) = -31,774\n",
      "Day 274: Reward (in $) = 11,765\n",
      "Day 275: Reward (in $) = 33,712\n",
      "Day 276: Reward (in $) = 57,658\n",
      "Day 277: Reward (in $) = 138,782\n",
      "Day 278: Reward (in $) = 140,171\n",
      "Day 279: Reward (in $) = -11,559\n",
      "Day 280: Reward (in $) = 15,066\n",
      "Day 281: Reward (in $) = -12,469\n",
      "Day 282: Reward (in $) = 6,682\n",
      "Day 283: Reward (in $) = -2,620\n",
      "Day 284: Reward (in $) = 22,230\n",
      "Day 285: Reward (in $) = -60,815\n",
      "Day 286: Reward (in $) = -55,573\n",
      "Day 287: Reward (in $) = -66,094\n",
      "Day 288: Reward (in $) = 12,196\n",
      "Day 289: Reward (in $) = 23,395\n",
      "Day 290: Reward (in $) = 7,171\n",
      "Day 291: Reward (in $) = -13,516\n",
      "Day 292: Reward (in $) = -4,750\n",
      "Day 293: Reward (in $) = -19,361\n",
      "Day 294: Reward (in $) = -31,378\n",
      "Day 295: Reward (in $) = -14,334\n",
      "Day 296: Reward (in $) = -25,636\n",
      "Day 297: Reward (in $) = -38,822\n",
      "Day 298: Reward (in $) = -10,993\n",
      "Day 299: Reward (in $) = -56,024\n",
      "Day 300: Reward (in $) = -28,918\n",
      "Day 301: Reward (in $) = -7,684\n",
      "Day 302: Reward (in $) = -19,145\n",
      "Day 303: Reward (in $) = 234\n",
      "Day 304: Reward (in $) = -51,931\n",
      "Day 305: Reward (in $) = -11,117\n",
      "Day 306: Reward (in $) = -13,611\n",
      "Day 307: Reward (in $) = -3,056\n",
      "Day 308: Reward (in $) = -43,596\n",
      "Day 309: Reward (in $) = 10,274\n",
      "Day 310: Reward (in $) = 1,544\n",
      "Day 311: Reward (in $) = -29,757\n",
      "Day 312: Reward (in $) = 71,854\n",
      "Day 313: Reward (in $) = -6,316\n",
      "Day 314: Reward (in $) = -27,240\n",
      "Day 315: Reward (in $) = -46,845\n",
      "Day 316: Reward (in $) = -5,942\n",
      "Day 317: Reward (in $) = -30,786\n",
      "Day 318: Reward (in $) = 16,640\n",
      "Day 319: Reward (in $) = 2,527\n",
      "Day 320: Reward (in $) = 18,129\n",
      "Day 321: Reward (in $) = 14,468\n",
      "Day 322: Reward (in $) = 2,622\n",
      "Day 323: Reward (in $) = 7,867\n",
      "Day 324: Reward (in $) = 11,431\n",
      "Day 325: Reward (in $) = -32,244\n",
      "Day 326: Reward (in $) = -6,298\n",
      "Day 327: Reward (in $) = -1,637\n",
      "Day 328: Reward (in $) = 132,780\n",
      "Day 329: Reward (in $) = 37,021\n",
      "Day 330: Reward (in $) = 22,346\n",
      "Day 331: Reward (in $) = -3,659\n",
      "Day 332: Reward (in $) = -48,710\n",
      "Day 333: Reward (in $) = -67,180\n",
      "Day 334: Reward (in $) = -13,816\n",
      "Day 335: Reward (in $) = -28,527\n",
      "Day 336: Reward (in $) = -24,229\n",
      "Day 337: Reward (in $) = 10,322\n",
      "Day 338: Reward (in $) = -9,832\n",
      "Day 339: Reward (in $) = -18,643\n",
      "Day 340: Reward (in $) = -40,943\n",
      "Day 341: Reward (in $) = -37,449\n",
      "Day 342: Reward (in $) = -107,182\n",
      "Day 343: Reward (in $) = -8,916\n",
      "Day 344: Reward (in $) = 30,676\n",
      "Day 345: Reward (in $) = 90,698\n",
      "Day 346: Reward (in $) = -22,415\n",
      "Day 347: Reward (in $) = 3,410\n",
      "Day 348: Reward (in $) = -55,965\n",
      "Day 349: Reward (in $) = 62,256\n",
      "Day 350: Reward (in $) = -7,131\n",
      "Day 351: Reward (in $) = 167,381\n",
      "Day 352: Reward (in $) = 17,717\n",
      "Day 353: Reward (in $) = -2,379\n",
      "Day 354: Reward (in $) = -28,769\n",
      "Day 355: Reward (in $) = -72,241\n",
      "Day 356: Reward (in $) = -20,333\n",
      "Day 357: Reward (in $) = -55,369\n",
      "Day 358: Reward (in $) = -37,002\n",
      "Day 359: Reward (in $) = -8,117\n",
      "Day 360: Reward (in $) = -13,473\n",
      "Day 361: Reward (in $) = -82,198\n",
      "Day 362: Reward (in $) = 7,619\n",
      "Day 363: Reward (in $) = 259,799\n",
      "Day 364: Reward (in $) = 11,800\n",
      "Day 365: Reward (in $) = -15,848\n",
      "Total money earned over the year (in $) = 4,415,349\n"
     ]
    }
   ],
   "source": [
    "dailyBudget = 250000\n",
    "quantileOffer =0.8\n",
    "\n",
    "# Keep track of your rewards in each day, a cumulative reward over the year, and a total reward over the\n",
    "# year. Also, keep track of the total reward from each option. Store them as dictionaries that are\n",
    "# indexed by day of the year.\n",
    "reward = {}\n",
    "cumulativeReward = {}\n",
    "totalReward = 0\n",
    "optionReturn = dict((option, 0) for option in optionNames)\n",
    "\n",
    "# Implement the trading strategy on each day!\n",
    "\n",
    "for day in rangeOfDays:\n",
    "\n",
    "    reward[day] = 0\n",
    "\n",
    "    # Find the options that your classifier says that should be profitable. Store the profitable option\n",
    "    # names in chosenOptions.\n",
    "    chosenOptionNumbers = np.ravel(list(np.nonzero(predictedY.loc[day].values)))\n",
    "    if np.size(chosenOptionNumbers) == 0:\n",
    "        continue\n",
    "    chosenOptions = [optionNames[i] for i in chosenOptionNumbers]\n",
    "\n",
    "    # Design the portfolio based on average price spreads. Our strategy is that as long as you have not\n",
    "    # exceeded your daily budget, pick an option from the list of 'chosenOptions' probabilistically, where\n",
    "    # the probability of choosing it is proportional to exponential(historical rewards of that option). That\n",
    "    # is, a historically profitable option is chosen more often than one that is not. Keep sampling and\n",
    "    # decreasing your budget with each bid.\n",
    "\n",
    "    # Start with an empty portfolio.\n",
    "\n",
    "    portfolio = dict((option, 0) for option in chosenOptions)\n",
    "\n",
    "    # Calculate the probabilities of choosing each option among the list 'chosenOptions'. Recall that\n",
    "    # 'chosenOptions' contains the options that your classifier indicates as being profitable.\n",
    "    priceSpreads = [1.0 * averagePriceSpread[option] for option in chosenOptions]\n",
    "    probabilityOptions = [np.exp(p) for p in priceSpreads]\n",
    "    probabilityOptions /= np.sum(probabilityOptions)\n",
    "\n",
    "    # Start with your daily budget.\n",
    "    budget = dailyBudget\n",
    "\n",
    "    # Sampling among the profitable options and bid based on them.\n",
    "    while budget > np.median([offerPrices[quantileOffer][option] for option in chosenOptions]):\n",
    "\n",
    "        optionToBuy = choice(chosenOptions, p=probabilityOptions)\n",
    "\n",
    "        if budget >= offerPrices[quantileOffer][optionToBuy]:\n",
    "            portfolio[optionToBuy] += 1\n",
    "            budget -= offerPrices[quantileOffer][optionToBuy]\n",
    "\n",
    "    # Compute the reward from the day. Go through each of the options you have decided to buy.\n",
    "    # If the DA price is lower than the bid price, then your bid is cleared. For each option you\n",
    "    # have bought, you get a reward equal to the DA - RT price.\n",
    "\n",
    "    for option in chosenOptions:\n",
    "        if testPriceDA.at[day, option] < offerPrices[quantileOffer][option]:\n",
    "            rewardOptionDay = testPriceDART.at[day, option] * portfolio[option]\n",
    "            optionReturn[option] += rewardOptionDay\n",
    "            reward[day] += rewardOptionDay\n",
    "\n",
    "    totalReward += reward[day]\n",
    "\n",
    "    # Calculate the cumulative reward in millions of dollars.\n",
    "    cumulativeReward[day] = totalReward/1000000\n",
    "\n",
    "    print(\"Day \" + str(day) + \": Reward (in $) = \" + \"{0:,.0f}\".format(reward[day]))\n",
    "\n",
    "print(\"Total money earned over the year (in $) = \" + \"{0:,.0f}\".format(totalReward))"
   ]
  },
  {
   "cell_type": "markdown",
   "metadata": {},
   "source": [
    "### Task1:  Visualize the rewards (25 points)\n",
    "\n",
    "We would like to plot the cumulative reward over the year 2016. By cumulative reward on a particular date, we mean the total reward from the start of the year till that date.\n",
    "\n",
    "Also, plot a heat map of the returns from each option. \n",
    "\n",
    "#### Fill in the missing lines below."
   ]
  },
  {
   "cell_type": "code",
   "execution_count": 64,
   "metadata": {},
   "outputs": [
    {
     "name": "stderr",
     "output_type": "stream",
     "text": [
      "/home/zyc/.local/lib/python3.6/site-packages/matplotlib/figure.py:2359: UserWarning: This figure includes Axes that are not compatible with tight_layout, so results might be incorrect.\n",
      "  warnings.warn(\"This figure includes Axes that are not compatible \"\n"
     ]
    },
    {
     "data": {
      "image/png": "[encoded data removed]",
      "text/plain": [
       "<Figure size 432x288 with 3 Axes>"
      ]
     },
     "metadata": {},
     "output_type": "display_data"
    }
   ],
   "source": [
    "# Plot the cumulative reward over the year 2016. Also, plot a heat map of the returns from\n",
    "# each option.\n",
    "\n",
    "fig, axs = plt.subplots(2, 1, tight_layout=True)\n",
    "axs = axs.ravel()\n",
    "\n",
    "\n",
    "## Enter code here where you plot in axs[0].\n",
    "lists = sorted(cumulativeReward.items())\n",
    "x, y = zip(*lists)\n",
    "y = tuple(i * 1000000 for i in y)\n",
    "\n",
    "axs[0].plot(x, y)\n",
    "\n",
    "\n",
    "axs[1] = sns.heatmap(np.reshape(list(optionReturn.values()), (len(listOfZones), 24)),\n",
    "                     linewidth=0.5,\n",
    "                     cmap=\"YlGnBu\")\n",
    "axs[1].set_yticklabels(listOfZones, rotation=0)\n",
    "axs[1].set_xticklabels(range(24), rotation=90)\n",
    "axs[1].set_title('Returns on different options')\n",
    "plt.show()\n"
   ]
  },
  {
   "cell_type": "markdown",
   "metadata": {},
   "source": [
    "### Task 2: Choosing a classifier (25 points)\n",
    "\n",
    "We used a multilayer perceptron classifier. Your task is to try out SVM and logistic regression classifiers, and explore which one leads to more profits. Use the relevant functions from 'sklearn'.\n",
    "\n",
    "#### (comments here, add a new code cell below)"
   ]
  },
  {
   "cell_type": "code",
   "execution_count": 21,
   "metadata": {},
   "outputs": [
    {
     "name": "stdout",
     "output_type": "stream",
     "text": [
      "Starting training module...\n",
      "\n",
      "Loaded hourly prices from 2015 for 365 days.\n",
      "Classifier trained for option CAPITL_Hour_0\n",
      "Classifier trained for option CAPITL_Hour_1\n",
      "Classifier trained for option CAPITL_Hour_2\n",
      "Classifier trained for option CAPITL_Hour_3\n",
      "Classifier trained for option CAPITL_Hour_4\n",
      "Classifier trained for option CAPITL_Hour_5\n",
      "Classifier trained for option CAPITL_Hour_6\n",
      "Classifier trained for option CAPITL_Hour_7\n",
      "Classifier trained for option CAPITL_Hour_8\n",
      "Classifier trained for option CAPITL_Hour_9\n",
      "Classifier trained for option CAPITL_Hour_10\n",
      "Classifier trained for option CAPITL_Hour_11\n",
      "Classifier trained for option CAPITL_Hour_12\n",
      "Classifier trained for option CAPITL_Hour_13\n",
      "Classifier trained for option CAPITL_Hour_14\n",
      "Classifier trained for option CAPITL_Hour_15\n",
      "Classifier trained for option CAPITL_Hour_16\n",
      "Classifier trained for option CAPITL_Hour_17\n",
      "Classifier trained for option CAPITL_Hour_18\n",
      "Classifier trained for option CAPITL_Hour_19\n",
      "Classifier trained for option CAPITL_Hour_20\n",
      "Classifier trained for option CAPITL_Hour_21\n",
      "Classifier trained for option CAPITL_Hour_22\n",
      "Classifier trained for option CAPITL_Hour_23\n",
      "Classifier trained for option CENTRL_Hour_0\n",
      "Classifier trained for option CENTRL_Hour_1\n",
      "Classifier trained for option CENTRL_Hour_2\n",
      "Classifier trained for option CENTRL_Hour_3\n",
      "Classifier trained for option CENTRL_Hour_4\n",
      "Classifier trained for option CENTRL_Hour_5\n",
      "Classifier trained for option CENTRL_Hour_6\n",
      "Classifier trained for option CENTRL_Hour_7\n",
      "Classifier trained for option CENTRL_Hour_8\n",
      "Classifier trained for option CENTRL_Hour_9\n",
      "Classifier trained for option CENTRL_Hour_10\n",
      "Classifier trained for option CENTRL_Hour_11\n",
      "Classifier trained for option CENTRL_Hour_12\n",
      "Classifier trained for option CENTRL_Hour_13\n",
      "Classifier trained for option CENTRL_Hour_14\n",
      "Classifier trained for option CENTRL_Hour_15\n",
      "Classifier trained for option CENTRL_Hour_16\n",
      "Classifier trained for option CENTRL_Hour_17\n",
      "Classifier trained for option CENTRL_Hour_18\n",
      "Classifier trained for option CENTRL_Hour_19\n",
      "Classifier trained for option CENTRL_Hour_20\n",
      "Classifier trained for option CENTRL_Hour_21\n",
      "Classifier trained for option CENTRL_Hour_22\n",
      "Classifier trained for option CENTRL_Hour_23\n",
      "Classifier trained for option DUNWOD_Hour_0\n",
      "Classifier trained for option DUNWOD_Hour_1\n",
      "Classifier trained for option DUNWOD_Hour_2\n",
      "Classifier trained for option DUNWOD_Hour_3\n",
      "Classifier trained for option DUNWOD_Hour_4\n",
      "Classifier trained for option DUNWOD_Hour_5\n",
      "Classifier trained for option DUNWOD_Hour_6\n",
      "Classifier trained for option DUNWOD_Hour_7\n",
      "Classifier trained for option DUNWOD_Hour_8\n",
      "Classifier trained for option DUNWOD_Hour_9\n",
      "Classifier trained for option DUNWOD_Hour_10\n",
      "Classifier trained for option DUNWOD_Hour_11\n",
      "Classifier trained for option DUNWOD_Hour_12\n",
      "Classifier trained for option DUNWOD_Hour_13\n",
      "Classifier trained for option DUNWOD_Hour_14\n",
      "Classifier trained for option DUNWOD_Hour_15\n",
      "Classifier trained for option DUNWOD_Hour_16\n",
      "Classifier trained for option DUNWOD_Hour_17\n",
      "Classifier trained for option DUNWOD_Hour_18\n",
      "Classifier trained for option DUNWOD_Hour_19\n",
      "Classifier trained for option DUNWOD_Hour_20\n",
      "Classifier trained for option DUNWOD_Hour_21\n",
      "Classifier trained for option DUNWOD_Hour_22\n",
      "Classifier trained for option DUNWOD_Hour_23\n",
      "Classifier trained for option GENESE_Hour_0\n",
      "Classifier trained for option GENESE_Hour_1\n",
      "Classifier trained for option GENESE_Hour_2\n",
      "Classifier trained for option GENESE_Hour_3\n",
      "Classifier trained for option GENESE_Hour_4\n",
      "Classifier trained for option GENESE_Hour_5\n",
      "Classifier trained for option GENESE_Hour_6\n",
      "Classifier trained for option GENESE_Hour_7\n",
      "Classifier trained for option GENESE_Hour_8\n",
      "Classifier trained for option GENESE_Hour_9\n",
      "Classifier trained for option GENESE_Hour_10\n",
      "Classifier trained for option GENESE_Hour_11\n",
      "Classifier trained for option GENESE_Hour_12\n",
      "Classifier trained for option GENESE_Hour_13\n",
      "Classifier trained for option GENESE_Hour_14\n",
      "Classifier trained for option GENESE_Hour_15\n",
      "Classifier trained for option GENESE_Hour_16\n",
      "Classifier trained for option GENESE_Hour_17\n",
      "Classifier trained for option GENESE_Hour_18\n",
      "Classifier trained for option GENESE_Hour_19\n",
      "Classifier trained for option GENESE_Hour_20\n",
      "Classifier trained for option GENESE_Hour_21\n",
      "Classifier trained for option GENESE_Hour_22\n",
      "Classifier trained for option GENESE_Hour_23\n",
      "Classifier trained for option HUD VL_Hour_0\n",
      "Classifier trained for option HUD VL_Hour_1\n",
      "Classifier trained for option HUD VL_Hour_2\n",
      "Classifier trained for option HUD VL_Hour_3\n",
      "Classifier trained for option HUD VL_Hour_4\n",
      "Classifier trained for option HUD VL_Hour_5\n",
      "Classifier trained for option HUD VL_Hour_6\n",
      "Classifier trained for option HUD VL_Hour_7\n",
      "Classifier trained for option HUD VL_Hour_8\n",
      "Classifier trained for option HUD VL_Hour_9\n",
      "Classifier trained for option HUD VL_Hour_10\n",
      "Classifier trained for option HUD VL_Hour_11\n",
      "Classifier trained for option HUD VL_Hour_12\n",
      "Classifier trained for option HUD VL_Hour_13\n",
      "Classifier trained for option HUD VL_Hour_14\n",
      "Classifier trained for option HUD VL_Hour_15\n",
      "Classifier trained for option HUD VL_Hour_16\n",
      "Classifier trained for option HUD VL_Hour_17\n",
      "Classifier trained for option HUD VL_Hour_18\n",
      "Classifier trained for option HUD VL_Hour_19\n",
      "Classifier trained for option HUD VL_Hour_20\n",
      "Classifier trained for option HUD VL_Hour_21\n",
      "Classifier trained for option HUD VL_Hour_22\n",
      "Classifier trained for option HUD VL_Hour_23\n",
      "Classifier trained for option LONGIL_Hour_0\n",
      "Classifier trained for option LONGIL_Hour_1\n",
      "Classifier trained for option LONGIL_Hour_2\n",
      "Classifier trained for option LONGIL_Hour_3\n",
      "Classifier trained for option LONGIL_Hour_4\n",
      "Classifier trained for option LONGIL_Hour_5\n",
      "Classifier trained for option LONGIL_Hour_6\n",
      "Classifier trained for option LONGIL_Hour_7\n",
      "Classifier trained for option LONGIL_Hour_8\n",
      "Classifier trained for option LONGIL_Hour_9\n",
      "Classifier trained for option LONGIL_Hour_10\n",
      "Classifier trained for option LONGIL_Hour_11\n",
      "Classifier trained for option LONGIL_Hour_12\n",
      "Classifier trained for option LONGIL_Hour_13\n",
      "Classifier trained for option LONGIL_Hour_14\n",
      "Classifier trained for option LONGIL_Hour_15\n",
      "Classifier trained for option LONGIL_Hour_16\n",
      "Classifier trained for option LONGIL_Hour_17\n",
      "Classifier trained for option LONGIL_Hour_18\n",
      "Classifier trained for option LONGIL_Hour_19\n",
      "Classifier trained for option LONGIL_Hour_20\n",
      "Classifier trained for option LONGIL_Hour_21\n",
      "Classifier trained for option LONGIL_Hour_22\n",
      "Classifier trained for option LONGIL_Hour_23\n",
      "Classifier trained for option MHK VL_Hour_0\n",
      "Classifier trained for option MHK VL_Hour_1\n",
      "Classifier trained for option MHK VL_Hour_2\n",
      "Classifier trained for option MHK VL_Hour_3\n",
      "Classifier trained for option MHK VL_Hour_4\n",
      "Classifier trained for option MHK VL_Hour_5\n",
      "Classifier trained for option MHK VL_Hour_6\n",
      "Classifier trained for option MHK VL_Hour_7\n",
      "Classifier trained for option MHK VL_Hour_8\n",
      "Classifier trained for option MHK VL_Hour_9\n",
      "Classifier trained for option MHK VL_Hour_10\n",
      "Classifier trained for option MHK VL_Hour_11\n",
      "Classifier trained for option MHK VL_Hour_12\n",
      "Classifier trained for option MHK VL_Hour_13\n",
      "Classifier trained for option MHK VL_Hour_14\n",
      "Classifier trained for option MHK VL_Hour_15\n",
      "Classifier trained for option MHK VL_Hour_16\n",
      "Classifier trained for option MHK VL_Hour_17\n",
      "Classifier trained for option MHK VL_Hour_18\n",
      "Classifier trained for option MHK VL_Hour_19\n",
      "Classifier trained for option MHK VL_Hour_20\n",
      "Classifier trained for option MHK VL_Hour_21\n",
      "Classifier trained for option MHK VL_Hour_22\n",
      "Classifier trained for option MHK VL_Hour_23\n",
      "Classifier trained for option MILLWD_Hour_0\n",
      "Classifier trained for option MILLWD_Hour_1\n",
      "Classifier trained for option MILLWD_Hour_2\n",
      "Classifier trained for option MILLWD_Hour_3\n",
      "Classifier trained for option MILLWD_Hour_4\n",
      "Classifier trained for option MILLWD_Hour_5\n",
      "Classifier trained for option MILLWD_Hour_6\n",
      "Classifier trained for option MILLWD_Hour_7\n",
      "Classifier trained for option MILLWD_Hour_8\n",
      "Classifier trained for option MILLWD_Hour_9\n",
      "Classifier trained for option MILLWD_Hour_10\n",
      "Classifier trained for option MILLWD_Hour_11\n",
      "Classifier trained for option MILLWD_Hour_12\n",
      "Classifier trained for option MILLWD_Hour_13\n",
      "Classifier trained for option MILLWD_Hour_14\n"
     ]
    },
    {
     "name": "stdout",
     "output_type": "stream",
     "text": [
      "Classifier trained for option MILLWD_Hour_15\n",
      "Classifier trained for option MILLWD_Hour_16\n",
      "Classifier trained for option MILLWD_Hour_17\n",
      "Classifier trained for option MILLWD_Hour_18\n",
      "Classifier trained for option MILLWD_Hour_19\n",
      "Classifier trained for option MILLWD_Hour_20\n",
      "Classifier trained for option MILLWD_Hour_21\n",
      "Classifier trained for option MILLWD_Hour_22\n",
      "Classifier trained for option MILLWD_Hour_23\n",
      "Classifier trained for option N.Y.C._Hour_0\n",
      "Classifier trained for option N.Y.C._Hour_1\n",
      "Classifier trained for option N.Y.C._Hour_2\n",
      "Classifier trained for option N.Y.C._Hour_3\n",
      "Classifier trained for option N.Y.C._Hour_4\n",
      "Classifier trained for option N.Y.C._Hour_5\n",
      "Classifier trained for option N.Y.C._Hour_6\n",
      "Classifier trained for option N.Y.C._Hour_7\n",
      "Classifier trained for option N.Y.C._Hour_8\n",
      "Classifier trained for option N.Y.C._Hour_9\n",
      "Classifier trained for option N.Y.C._Hour_10\n",
      "Classifier trained for option N.Y.C._Hour_11\n",
      "Classifier trained for option N.Y.C._Hour_12\n",
      "Classifier trained for option N.Y.C._Hour_13\n",
      "Classifier trained for option N.Y.C._Hour_14\n",
      "Classifier trained for option N.Y.C._Hour_15\n",
      "Classifier trained for option N.Y.C._Hour_16\n",
      "Classifier trained for option N.Y.C._Hour_17\n",
      "Classifier trained for option N.Y.C._Hour_18\n",
      "Classifier trained for option N.Y.C._Hour_19\n",
      "Classifier trained for option N.Y.C._Hour_20\n",
      "Classifier trained for option N.Y.C._Hour_21\n",
      "Classifier trained for option N.Y.C._Hour_22\n",
      "Classifier trained for option N.Y.C._Hour_23\n",
      "Classifier trained for option NORTH_Hour_0\n",
      "Classifier trained for option NORTH_Hour_1\n",
      "Classifier trained for option NORTH_Hour_2\n",
      "Classifier trained for option NORTH_Hour_3\n",
      "Classifier trained for option NORTH_Hour_4\n",
      "Classifier trained for option NORTH_Hour_5\n",
      "Classifier trained for option NORTH_Hour_6\n",
      "Classifier trained for option NORTH_Hour_7\n",
      "Classifier trained for option NORTH_Hour_8\n",
      "Classifier trained for option NORTH_Hour_9\n",
      "Classifier trained for option NORTH_Hour_10\n",
      "Classifier trained for option NORTH_Hour_11\n",
      "Classifier trained for option NORTH_Hour_12\n",
      "Classifier trained for option NORTH_Hour_13\n",
      "Classifier trained for option NORTH_Hour_14\n",
      "Classifier trained for option NORTH_Hour_15\n",
      "Classifier trained for option NORTH_Hour_16\n",
      "Classifier trained for option NORTH_Hour_17\n",
      "Classifier trained for option NORTH_Hour_18\n",
      "Classifier trained for option NORTH_Hour_19\n",
      "Classifier trained for option NORTH_Hour_20\n",
      "Classifier trained for option NORTH_Hour_21\n",
      "Classifier trained for option NORTH_Hour_22\n",
      "Classifier trained for option NORTH_Hour_23\n",
      "Classifier trained for option WEST_Hour_0\n",
      "Classifier trained for option WEST_Hour_1\n",
      "Classifier trained for option WEST_Hour_2\n",
      "Classifier trained for option WEST_Hour_3\n",
      "Classifier trained for option WEST_Hour_4\n",
      "Classifier trained for option WEST_Hour_5\n",
      "Classifier trained for option WEST_Hour_6\n",
      "Classifier trained for option WEST_Hour_7\n",
      "Classifier trained for option WEST_Hour_8\n",
      "Classifier trained for option WEST_Hour_9\n",
      "Classifier trained for option WEST_Hour_10\n",
      "Classifier trained for option WEST_Hour_11\n",
      "Classifier trained for option WEST_Hour_12\n",
      "Classifier trained for option WEST_Hour_13\n",
      "Classifier trained for option WEST_Hour_14\n",
      "Classifier trained for option WEST_Hour_15\n",
      "Classifier trained for option WEST_Hour_16\n",
      "Classifier trained for option WEST_Hour_17\n",
      "Classifier trained for option WEST_Hour_18\n",
      "Classifier trained for option WEST_Hour_19\n",
      "Classifier trained for option WEST_Hour_20\n",
      "Classifier trained for option WEST_Hour_21\n",
      "Classifier trained for option WEST_Hour_22\n",
      "Classifier trained for option WEST_Hour_23\n",
      "\n",
      "Overall training accuracy = 78.32 percent.\n"
     ]
    }
   ],
   "source": [
    "#SVM\n",
    "classifiers = []\n",
    "\n",
    "# We have two options here. Use previous training experience, or learn anew.\n",
    "useSavedClassifiers = False\n",
    "\n",
    "if not useSavedClassifiers:\n",
    "\n",
    "    print(\"Starting training module...\\n\")\n",
    "    trainPriceDA, trainPriceDART, trainLoadDA = loadNYISOData(2015)\n",
    "\n",
    "    numberOfDays =  int(len(trainPriceDA.index))\n",
    "    print(\"Loaded hourly prices from 2015 for %d days.\" % numberOfDays)\n",
    "\n",
    "    # We will implement a trading strategy, where we bid a particular quantile of the past\n",
    "    # DA prices for an option. If you do not know what a quantile means, refer to the Wikipedia\n",
    "    # article on it. Essentially, a 95% quantile of the DA prices equals that value for which\n",
    "    # 95% of the DA prices are below it. Store all quantiles starting from 50% in steps of\n",
    "    # 5% in a dictionary. Store them in a pickle file.\n",
    "\n",
    "    quantilesToStore = [0.70, 0.75, 0.80, 0.85, 0.90, 0.95]\n",
    "    offerPrices = trainPriceDA.quantile(q=quantilesToStore).transpose().to_dict()\n",
    "    pickle.dump(offerPrices, open(\"./Training/OfferPrices\", 'wb'))\n",
    "\n",
    "    # Calculate the average price spread for each option over the entire year. This will guide\n",
    "    # us in choosing our portfolio. Store it as a dictionary. Our bid will choose those\n",
    "    # options that our classifier indicates that they will be profitable and historically they\n",
    "    # have higher average price differences, indicating that they have higher rate of return.\n",
    "    # Store them using pickle.\n",
    "\n",
    "    averagePriceSpread = trainPriceDART.mean(axis=0).transpose().to_dict()\n",
    "    pickle.dump(averagePriceSpread, open(\"./Training/AveragePriceSpread\", 'wb'))\n",
    "\n",
    "    # Create the training dataset using the function 'createClassifierIO' on the prices and\n",
    "    # loads, and store them in 'trainX', and 'trainY'.\n",
    "\n",
    "    trainX, trainY, _ = createClassifierIO(trainPriceDA, trainPriceDART, trainLoadDA)\n",
    "\n",
    "    # Define a collection of classifiers, one for each option. You can try different options, such\n",
    "    # as that based on an SVM, logistic regression, multilayer perceptron based, etc. We will\n",
    "    # measure training accuracy to indicate how well the classifier works on the training dataset.\n",
    "    # However, good training accuracy does not always indicate good test performance.\n",
    "    # Avoid over-fitting.\n",
    "\n",
    "\n",
    "    classifiers = [SVC()\n",
    "                   for _ in range(nOptions)]\n",
    "\n",
    "    trainingAccuracy = 0\n",
    "\n",
    "    for ii in range(nOptions):\n",
    "        classifiers[ii].fit(trainX, trainY[:, ii])\n",
    "        print(\"Classifier trained for option \" + optionNames[ii])\n",
    "        trainingAccuracy += classifiers[ii].score(trainX, trainY[:, ii])\n",
    "\n",
    "        # Store the classifier.\n",
    "        pickle.dump(classifiers[ii], open(\"./Training/Classifier_\" + optionNames[ii], 'wb'))\n",
    "\n",
    "    print(\"\\nOverall training accuracy = %1.2f percent.\" % (100 * trainingAccuracy/nOptions))\n",
    "\n",
    "    del numberOfDays, trainPriceDA, trainLoadDA, trainPriceDART, trainX, trainY\n",
    "else:\n",
    "\n",
    "    # Load the classifiers, the offer prices at various quantiles, and the average price spreads.\n",
    "\n",
    "    print(\"Loading previously trained variables...\\n\")\n",
    "    classifiers = [pickle.load(open(\"./Training/Classifier_\" + optionNames[ii], 'rb'))\n",
    "                   for ii in range(nOptions)]\n",
    "    offerPrices = pickle.load(open(\"./Training/OfferPrices\", 'rb'))\n",
    "    averagePriceSpread = pickle.load(open(\"./Training/AveragePriceSpread\", 'rb'))\n",
    "\n",
    "    print(\"All training variables were loaded successfully...\\n\")"
   ]
  },
  {
   "cell_type": "code",
   "execution_count": 22,
   "metadata": {},
   "outputs": [
    {
     "name": "stdout",
     "output_type": "stream",
     "text": [
      "Starting the testing module...\n",
      "\n",
      "Test Accuracy Stats: Min = 49.86%, Avg = 65.57%, Max = 76.31%\n"
     ]
    }
   ],
   "source": [
    "# First, load the test data from NYISO for the year 2016. Again, utilize our function\n",
    "# named 'loadNYISOData'.\n",
    "\n",
    "print(\"Starting the testing module...\\n\")\n",
    "testPriceDA, testPriceDART, testLoadDA = loadNYISOData(2016)\n",
    "\n",
    "# Create the data for the classifier using the function 'createClassifierIO'.\n",
    "testX, testY, rangeOfDays = createClassifierIO(testPriceDA, testPriceDART, testLoadDA)\n",
    "\n",
    "# The next step is not useful for implementing the trading strategy, but quickly check how accurate\n",
    "# your trained classifiers are for the test data. Training accuracy is not always indicative of\n",
    "# test accuracy.\n",
    "\n",
    "testingAccuracy = [classifiers[ii].score(testX, testY[:, ii]) for ii in range(nOptions)]\n",
    "print(\"Test Accuracy Stats: Min = %.2f%%, Avg = %.2f%%, Max = %.2f%%\" %\n",
    "      (100 * np.min(testingAccuracy),\n",
    "       100 * np.mean(testingAccuracy),\n",
    "       100 * np.max(testingAccuracy)))\n",
    "\n",
    "# Utilize the classifiers to predict the sign of DA - RT prices for each day in 'rangeOfDays' for\n",
    "# the test data. Store the result in a pandas data frame with columns as the option names and the\n",
    "# day in year as index.\n",
    "predictedY = pd.DataFrame(np.column_stack([classifiers[ii].predict(testX) for ii in range(nOptions)]),\n",
    "                          columns=optionNames, index=rangeOfDays)"
   ]
  },
  {
   "cell_type": "code",
   "execution_count": 23,
   "metadata": {},
   "outputs": [
    {
     "name": "stdout",
     "output_type": "stream",
     "text": [
      "Day 3: Reward (in $) = -72,677\n",
      "Day 4: Reward (in $) = 0\n",
      "Day 7: Reward (in $) = -842\n",
      "Day 8: Reward (in $) = -42,992\n",
      "Day 9: Reward (in $) = -60,552\n",
      "Day 10: Reward (in $) = -11,043\n",
      "Day 11: Reward (in $) = -45,635\n",
      "Day 12: Reward (in $) = -76,576\n",
      "Day 13: Reward (in $) = 25,661\n",
      "Day 14: Reward (in $) = 39,208\n",
      "Day 15: Reward (in $) = 47,225\n",
      "Day 16: Reward (in $) = 59,774\n",
      "Day 17: Reward (in $) = -29,252\n",
      "Day 18: Reward (in $) = -23,146\n",
      "Day 19: Reward (in $) = 13,308\n",
      "Day 20: Reward (in $) = 14,448\n",
      "Day 21: Reward (in $) = 65,820\n",
      "Day 22: Reward (in $) = 160,662\n",
      "Day 23: Reward (in $) = 26,939\n",
      "Day 24: Reward (in $) = -77,098\n",
      "Day 25: Reward (in $) = -142,626\n",
      "Day 26: Reward (in $) = -31,731\n",
      "Day 27: Reward (in $) = -4,015\n",
      "Day 28: Reward (in $) = 43,823\n",
      "Day 29: Reward (in $) = -16,464\n",
      "Day 30: Reward (in $) = -315,138\n",
      "Day 31: Reward (in $) = -41,627\n",
      "Day 32: Reward (in $) = -15,453\n",
      "Day 33: Reward (in $) = -32,950\n",
      "Day 34: Reward (in $) = 45,109\n",
      "Day 35: Reward (in $) = 8,664\n",
      "Day 36: Reward (in $) = -44,212\n",
      "Day 37: Reward (in $) = -88,485\n",
      "Day 38: Reward (in $) = 117,633\n",
      "Day 39: Reward (in $) = -10,840\n",
      "Day 40: Reward (in $) = 396\n",
      "Day 41: Reward (in $) = 181,477\n",
      "Day 42: Reward (in $) = -3,556\n",
      "Day 43: Reward (in $) = -40,876\n",
      "Day 44: Reward (in $) = -2,911\n",
      "Day 46: Reward (in $) = 1,678\n",
      "Day 48: Reward (in $) = -30,744\n",
      "Day 49: Reward (in $) = -137,795\n",
      "Day 50: Reward (in $) = -76,161\n",
      "Day 51: Reward (in $) = 89,589\n",
      "Day 52: Reward (in $) = -49,819\n",
      "Day 53: Reward (in $) = 27,585\n",
      "Day 54: Reward (in $) = 27,791\n",
      "Day 55: Reward (in $) = 43,919\n",
      "Day 56: Reward (in $) = -19,609\n",
      "Day 57: Reward (in $) = -19,971\n",
      "Day 58: Reward (in $) = -494\n",
      "Day 59: Reward (in $) = -41,955\n",
      "Day 60: Reward (in $) = -45,105\n",
      "Day 61: Reward (in $) = 33,802\n",
      "Day 62: Reward (in $) = 3,359\n",
      "Day 63: Reward (in $) = -45,685\n",
      "Day 64: Reward (in $) = 152,037\n",
      "Day 65: Reward (in $) = -15,861\n",
      "Day 66: Reward (in $) = 15,888\n",
      "Day 67: Reward (in $) = -11,654\n",
      "Day 68: Reward (in $) = -19,318\n",
      "Day 69: Reward (in $) = -58,390\n",
      "Day 70: Reward (in $) = 37,043\n",
      "Day 71: Reward (in $) = 2,559\n",
      "Day 72: Reward (in $) = 154,230\n",
      "Day 73: Reward (in $) = -53\n",
      "Day 74: Reward (in $) = -137,923\n",
      "Day 77: Reward (in $) = 12,337\n",
      "Day 78: Reward (in $) = -26,697\n",
      "Day 81: Reward (in $) = 20,123\n",
      "Day 82: Reward (in $) = -5,532\n",
      "Day 83: Reward (in $) = 11,261\n",
      "Day 84: Reward (in $) = 14,350\n",
      "Day 85: Reward (in $) = -3,566\n",
      "Day 86: Reward (in $) = -9,598\n",
      "Day 87: Reward (in $) = 24,129\n",
      "Day 88: Reward (in $) = 133,416\n",
      "Day 89: Reward (in $) = -161,411\n",
      "Day 91: Reward (in $) = -53,434\n",
      "Day 92: Reward (in $) = -47,891\n",
      "Day 93: Reward (in $) = 20,589\n",
      "Day 94: Reward (in $) = 44,294\n",
      "Day 95: Reward (in $) = -42,614\n",
      "Day 97: Reward (in $) = 7,270\n",
      "Day 98: Reward (in $) = 29,468\n",
      "Day 99: Reward (in $) = 34,706\n",
      "Day 100: Reward (in $) = -2,803\n",
      "Day 101: Reward (in $) = 20,531\n",
      "Day 102: Reward (in $) = -65,291\n",
      "Day 103: Reward (in $) = 16,636\n",
      "Day 104: Reward (in $) = -5,029\n",
      "Day 105: Reward (in $) = -7,498\n",
      "Day 106: Reward (in $) = 33,085\n",
      "Day 107: Reward (in $) = 8,383\n",
      "Day 108: Reward (in $) = -8,712\n",
      "Day 109: Reward (in $) = -22,594\n",
      "Day 110: Reward (in $) = -18,355\n",
      "Day 111: Reward (in $) = -9,363\n",
      "Day 112: Reward (in $) = 4,494\n",
      "Day 113: Reward (in $) = 9,253\n",
      "Day 114: Reward (in $) = -24,130\n",
      "Day 115: Reward (in $) = -119,442\n",
      "Day 116: Reward (in $) = 88,179\n",
      "Day 117: Reward (in $) = 631\n",
      "Day 118: Reward (in $) = -7,833\n",
      "Day 119: Reward (in $) = 1,106\n",
      "Day 120: Reward (in $) = -5,287\n",
      "Day 121: Reward (in $) = 17,518\n",
      "Day 122: Reward (in $) = 11,759\n",
      "Day 123: Reward (in $) = 2,818\n",
      "Day 124: Reward (in $) = 14,035\n",
      "Day 125: Reward (in $) = 23,412\n",
      "Day 126: Reward (in $) = 327\n",
      "Day 127: Reward (in $) = -53,573\n",
      "Day 128: Reward (in $) = -154,404\n",
      "Day 129: Reward (in $) = 35,766\n",
      "Day 130: Reward (in $) = 25,747\n",
      "Day 131: Reward (in $) = 19,874\n",
      "Day 132: Reward (in $) = -93,548\n",
      "Day 134: Reward (in $) = -49,985\n",
      "Day 135: Reward (in $) = -13,922\n",
      "Day 136: Reward (in $) = 27,281\n",
      "Day 137: Reward (in $) = -26,696\n",
      "Day 138: Reward (in $) = 22,806\n",
      "Day 139: Reward (in $) = 40,264\n",
      "Day 140: Reward (in $) = -55,153\n",
      "Day 141: Reward (in $) = -31,001\n",
      "Day 142: Reward (in $) = 23,536\n",
      "Day 143: Reward (in $) = -12,929\n",
      "Day 144: Reward (in $) = 31,921\n",
      "Day 145: Reward (in $) = -49,489\n",
      "Day 146: Reward (in $) = 408\n",
      "Day 147: Reward (in $) = 20,815\n",
      "Day 148: Reward (in $) = 52,915\n",
      "Day 149: Reward (in $) = 25,899\n",
      "Day 150: Reward (in $) = 61,154\n",
      "Day 151: Reward (in $) = 88,567\n",
      "Day 152: Reward (in $) = 49,984\n",
      "Day 153: Reward (in $) = 87,446\n",
      "Day 154: Reward (in $) = 47,934\n",
      "Day 155: Reward (in $) = 32,641\n",
      "Day 156: Reward (in $) = -55,657\n",
      "Day 157: Reward (in $) = -98,975\n",
      "Day 158: Reward (in $) = -88,986\n",
      "Day 159: Reward (in $) = -16,196\n",
      "Day 160: Reward (in $) = 18,801\n",
      "Day 161: Reward (in $) = 25,777\n",
      "Day 162: Reward (in $) = 65,719\n",
      "Day 163: Reward (in $) = 23,417\n",
      "Day 164: Reward (in $) = 12,134\n",
      "Day 165: Reward (in $) = 55,356\n",
      "Day 166: Reward (in $) = 45,216\n",
      "Day 167: Reward (in $) = 49,617\n",
      "Day 168: Reward (in $) = 5,930\n",
      "Day 169: Reward (in $) = 31,442\n",
      "Day 170: Reward (in $) = -9,223\n",
      "Day 171: Reward (in $) = -41,227\n",
      "Day 172: Reward (in $) = 3,270\n",
      "Day 173: Reward (in $) = 28,485\n",
      "Day 174: Reward (in $) = 31,979\n",
      "Day 175: Reward (in $) = 63,708\n",
      "Day 176: Reward (in $) = 24,780\n",
      "Day 177: Reward (in $) = -38,918\n",
      "Day 178: Reward (in $) = -1,876\n",
      "Day 179: Reward (in $) = -6,570\n",
      "Day 180: Reward (in $) = 2,380\n",
      "Day 181: Reward (in $) = -9,895\n",
      "Day 182: Reward (in $) = 6,572\n",
      "Day 183: Reward (in $) = -44,188\n",
      "Day 184: Reward (in $) = -300\n",
      "Day 185: Reward (in $) = 10,786\n",
      "Day 186: Reward (in $) = 5,060\n",
      "Day 187: Reward (in $) = 47,259\n",
      "Day 188: Reward (in $) = 4,001\n",
      "Day 190: Reward (in $) = -140,015\n",
      "Day 192: Reward (in $) = -8,048\n",
      "Day 193: Reward (in $) = -41,094\n",
      "Day 194: Reward (in $) = 11,930\n",
      "Day 195: Reward (in $) = 20,950\n",
      "Day 196: Reward (in $) = -2,149\n",
      "Day 197: Reward (in $) = 5,471\n",
      "Day 198: Reward (in $) = -14,052\n",
      "Day 199: Reward (in $) = -3,620\n",
      "Day 200: Reward (in $) = 22,691\n",
      "Day 201: Reward (in $) = -11,629\n",
      "Day 202: Reward (in $) = 459\n",
      "Day 203: Reward (in $) = 6,550\n",
      "Day 204: Reward (in $) = 24,494\n",
      "Day 205: Reward (in $) = 0\n",
      "Day 206: Reward (in $) = -26,070\n",
      "Day 208: Reward (in $) = -6,105\n",
      "Day 209: Reward (in $) = 6,162\n",
      "Day 210: Reward (in $) = 129,106\n",
      "Day 211: Reward (in $) = 41,619\n",
      "Day 212: Reward (in $) = 66,620\n",
      "Day 213: Reward (in $) = 36,136\n",
      "Day 214: Reward (in $) = -5,028\n",
      "Day 215: Reward (in $) = -29,876\n",
      "Day 216: Reward (in $) = 4,734\n",
      "Day 217: Reward (in $) = 24,079\n",
      "Day 218: Reward (in $) = 13,959\n",
      "Day 219: Reward (in $) = 11,764\n",
      "Day 220: Reward (in $) = -9,330\n",
      "Day 221: Reward (in $) = -9,748\n",
      "Day 222: Reward (in $) = 80,940\n",
      "Day 223: Reward (in $) = 10,017\n",
      "Day 228: Reward (in $) = 27,751\n",
      "Day 229: Reward (in $) = -6,210\n",
      "Day 230: Reward (in $) = -38,630\n",
      "Day 231: Reward (in $) = 40\n",
      "Day 232: Reward (in $) = 9,565\n",
      "Day 233: Reward (in $) = -51,914\n",
      "Day 234: Reward (in $) = -7,743\n",
      "Day 235: Reward (in $) = -67,184\n",
      "Day 236: Reward (in $) = -10,276\n",
      "Day 237: Reward (in $) = 26,610\n",
      "Day 238: Reward (in $) = -3,956\n",
      "Day 239: Reward (in $) = -57,964\n",
      "Day 240: Reward (in $) = 3,131\n",
      "Day 241: Reward (in $) = -5,692\n",
      "Day 242: Reward (in $) = 592\n",
      "Day 243: Reward (in $) = 6,555\n",
      "Day 244: Reward (in $) = 29,759\n",
      "Day 245: Reward (in $) = -42,061\n",
      "Day 246: Reward (in $) = -3,976\n",
      "Day 247: Reward (in $) = 15,603\n",
      "Day 248: Reward (in $) = -536\n",
      "Day 249: Reward (in $) = -15,755\n",
      "Day 250: Reward (in $) = 5,798\n",
      "Day 251: Reward (in $) = 17,542\n",
      "Day 252: Reward (in $) = 6,597\n",
      "Day 253: Reward (in $) = 90,614\n",
      "Day 254: Reward (in $) = -21,074\n",
      "Day 255: Reward (in $) = -25,581\n",
      "Day 256: Reward (in $) = -14,722\n",
      "Day 257: Reward (in $) = -4,818\n",
      "Day 258: Reward (in $) = 6,333\n",
      "Day 259: Reward (in $) = -27,132\n",
      "Day 260: Reward (in $) = 6,124\n",
      "Day 261: Reward (in $) = -5,157\n",
      "Day 262: Reward (in $) = 19,663\n",
      "Day 263: Reward (in $) = -20,208\n",
      "Day 264: Reward (in $) = 84\n",
      "Day 265: Reward (in $) = -8,307\n",
      "Day 266: Reward (in $) = -113,308\n",
      "Day 267: Reward (in $) = -13,418\n",
      "Day 268: Reward (in $) = -42,341\n",
      "Day 269: Reward (in $) = -35,162\n",
      "Day 270: Reward (in $) = -17,595\n",
      "Day 271: Reward (in $) = -62,464\n",
      "Day 272: Reward (in $) = -10,240\n",
      "Day 273: Reward (in $) = -10,092\n",
      "Day 274: Reward (in $) = 16,349\n",
      "Day 275: Reward (in $) = 57,714\n",
      "Day 276: Reward (in $) = 20,573\n",
      "Day 277: Reward (in $) = 56,474\n",
      "Day 278: Reward (in $) = 11,321\n"
     ]
    },
    {
     "name": "stdout",
     "output_type": "stream",
     "text": [
      "Day 279: Reward (in $) = 32,971\n",
      "Day 280: Reward (in $) = 20,584\n",
      "Day 281: Reward (in $) = -1,526\n",
      "Day 282: Reward (in $) = -15,979\n",
      "Day 283: Reward (in $) = -3,943\n",
      "Day 284: Reward (in $) = 37,749\n",
      "Day 285: Reward (in $) = 22,456\n",
      "Day 286: Reward (in $) = 34,142\n",
      "Day 287: Reward (in $) = 10,603\n",
      "Day 288: Reward (in $) = 27,954\n",
      "Day 289: Reward (in $) = 46,812\n",
      "Day 290: Reward (in $) = 64,008\n",
      "Day 291: Reward (in $) = -34,541\n",
      "Day 292: Reward (in $) = 7,411\n",
      "Day 293: Reward (in $) = 57,111\n",
      "Day 294: Reward (in $) = 32,186\n",
      "Day 295: Reward (in $) = -5,186\n",
      "Day 296: Reward (in $) = 3,510\n",
      "Day 297: Reward (in $) = -63,433\n",
      "Day 298: Reward (in $) = 669\n",
      "Day 299: Reward (in $) = 3,210\n",
      "Day 300: Reward (in $) = 31,660\n",
      "Day 301: Reward (in $) = 41,892\n",
      "Day 302: Reward (in $) = 8,667\n",
      "Day 303: Reward (in $) = -16,866\n",
      "Day 304: Reward (in $) = 18,273\n",
      "Day 305: Reward (in $) = -3,802\n",
      "Day 306: Reward (in $) = -3,789\n",
      "Day 307: Reward (in $) = 21,622\n",
      "Day 308: Reward (in $) = -60,391\n",
      "Day 309: Reward (in $) = 36,670\n",
      "Day 310: Reward (in $) = -34,404\n",
      "Day 312: Reward (in $) = 92,689\n",
      "Day 313: Reward (in $) = 9,520\n",
      "Day 314: Reward (in $) = -39,936\n",
      "Day 315: Reward (in $) = -18,056\n",
      "Day 316: Reward (in $) = 12,613\n",
      "Day 317: Reward (in $) = -26,168\n",
      "Day 318: Reward (in $) = 8,706\n",
      "Day 319: Reward (in $) = 27,506\n",
      "Day 320: Reward (in $) = 40,786\n",
      "Day 321: Reward (in $) = 37,326\n",
      "Day 322: Reward (in $) = 29,551\n",
      "Day 323: Reward (in $) = 26,556\n",
      "Day 324: Reward (in $) = 23,540\n",
      "Day 325: Reward (in $) = -24,663\n",
      "Day 326: Reward (in $) = 13,355\n",
      "Day 327: Reward (in $) = 10,155\n",
      "Day 328: Reward (in $) = 40,959\n",
      "Day 329: Reward (in $) = 91,949\n",
      "Day 330: Reward (in $) = 36,527\n",
      "Day 331: Reward (in $) = 58,671\n",
      "Day 332: Reward (in $) = -19,631\n",
      "Day 333: Reward (in $) = -37,558\n",
      "Day 334: Reward (in $) = 5,877\n",
      "Day 335: Reward (in $) = 26,848\n",
      "Day 336: Reward (in $) = -26,071\n",
      "Day 337: Reward (in $) = 1,567\n",
      "Day 338: Reward (in $) = 386\n",
      "Day 339: Reward (in $) = 0\n",
      "Day 340: Reward (in $) = 0\n",
      "Day 341: Reward (in $) = 28,257\n",
      "Day 342: Reward (in $) = 68,774\n",
      "Day 343: Reward (in $) = -9,888\n",
      "Day 344: Reward (in $) = 336,998\n",
      "Day 345: Reward (in $) = 33,182\n",
      "Day 346: Reward (in $) = -76,094\n",
      "Day 347: Reward (in $) = 39,594\n",
      "Day 348: Reward (in $) = -56,703\n",
      "Day 349: Reward (in $) = 90,667\n",
      "Day 350: Reward (in $) = 0\n",
      "Day 351: Reward (in $) = 310,198\n",
      "Day 353: Reward (in $) = -1,822\n",
      "Day 356: Reward (in $) = -20,152\n",
      "Day 357: Reward (in $) = -61,826\n",
      "Day 358: Reward (in $) = -74,436\n",
      "Day 359: Reward (in $) = -18,963\n",
      "Day 360: Reward (in $) = -43,306\n",
      "Day 361: Reward (in $) = 33,561\n",
      "Day 362: Reward (in $) = 80,076\n",
      "Day 363: Reward (in $) = 80,713\n",
      "Day 364: Reward (in $) = 4,074\n",
      "Day 365: Reward (in $) = -27,792\n",
      "Total money earned over the year (in $) = 1,095,969\n"
     ]
    }
   ],
   "source": [
    "dailyBudget = 250000\n",
    "quantileOffer =0.8\n",
    "\n",
    "# Keep track of your rewards in each day, a cumulative reward over the year, and a total reward over the\n",
    "# year. Also, keep track of the total reward from each option. Store them as dictionaries that are\n",
    "# indexed by day of the year.\n",
    "reward = {}\n",
    "cumulativeReward = {}\n",
    "totalReward = 0\n",
    "optionReturn = dict((option, 0) for option in optionNames)\n",
    "\n",
    "# Implement the trading strategy on each day!\n",
    "\n",
    "for day in rangeOfDays:\n",
    "\n",
    "    reward[day] = 0\n",
    "\n",
    "    # Find the options that your classifier says that should be profitable. Store the profitable option\n",
    "    # names in chosenOptions.\n",
    "    chosenOptionNumbers = np.ravel(list(np.nonzero(predictedY.loc[day].values)))\n",
    "    if np.size(chosenOptionNumbers) == 0:\n",
    "        continue\n",
    "    chosenOptions = [optionNames[i] for i in chosenOptionNumbers]\n",
    "\n",
    "    # Design the portfolio based on average price spreads. Our strategy is that as long as you have not\n",
    "    # exceeded your daily budget, pick an option from the list of 'chosenOptions' probabilistically, where\n",
    "    # the probability of choosing it is proportional to exponential(historical rewards of that option). That\n",
    "    # is, a historically profitable option is chosen more often than one that is not. Keep sampling and\n",
    "    # decreasing your budget with each bid.\n",
    "\n",
    "    # Start with an empty portfolio.\n",
    "\n",
    "    portfolio = dict((option, 0) for option in chosenOptions)\n",
    "\n",
    "    # Calculate the probabilities of choosing each option among the list 'chosenOptions'. Recall that\n",
    "    # 'chosenOptions' contains the options that your classifier indicates as being profitable.\n",
    "    priceSpreads = [1.0 * averagePriceSpread[option] for option in chosenOptions]\n",
    "    probabilityOptions = [np.exp(p) for p in priceSpreads]\n",
    "    probabilityOptions /= np.sum(probabilityOptions)\n",
    "\n",
    "    # Start with your daily budget.\n",
    "    budget = dailyBudget\n",
    "\n",
    "    # Sampling among the profitable options and bid based on them.\n",
    "    while budget > np.median([offerPrices[quantileOffer][option] for option in chosenOptions]):\n",
    "\n",
    "        optionToBuy = choice(chosenOptions, p=probabilityOptions)\n",
    "\n",
    "        if budget >= offerPrices[quantileOffer][optionToBuy]:\n",
    "            portfolio[optionToBuy] += 1\n",
    "            budget -= offerPrices[quantileOffer][optionToBuy]\n",
    "\n",
    "    # Compute the reward from the day. Go through each of the options you have decided to buy.\n",
    "    # If the DA price is lower than the bid price, then your bid is cleared. For each option you\n",
    "    # have bought, you get a reward equal to the DA - RT price.\n",
    "\n",
    "    for option in chosenOptions:\n",
    "        if testPriceDA.at[day, option] < offerPrices[quantileOffer][option]:\n",
    "            rewardOptionDay = testPriceDART.at[day, option] * portfolio[option]\n",
    "            optionReturn[option] += rewardOptionDay\n",
    "            reward[day] += rewardOptionDay\n",
    "\n",
    "    totalReward += reward[day]\n",
    "\n",
    "    # Calculate the cumulative reward in millions of dollars.\n",
    "    cumulativeReward[day] = totalReward/1000000\n",
    "\n",
    "    print(\"Day \" + str(day) + \": Reward (in $) = \" + \"{0:,.0f}\".format(reward[day]))\n",
    "\n",
    "print(\"Total money earned over the year (in $) = \" + \"{0:,.0f}\".format(totalReward))"
   ]
  },
  {
   "cell_type": "code",
   "execution_count": 24,
   "metadata": {},
   "outputs": [
    {
     "name": "stderr",
     "output_type": "stream",
     "text": [
      "/home/zyc/.local/lib/python3.6/site-packages/matplotlib/figure.py:2359: UserWarning: This figure includes Axes that are not compatible with tight_layout, so results might be incorrect.\n",
      "  warnings.warn(\"This figure includes Axes that are not compatible \"\n"
     ]
    },
    {
     "data": {
      "image/png": "[encoded data removed]",
      "text/plain": [
       "<Figure size 432x288 with 2 Axes>"
      ]
     },
     "metadata": {},
     "output_type": "display_data"
    },
    {
     "data": {
      "image/png": "[encoded data removed]",
      "text/plain": [
       "<Figure size 432x288 with 2 Axes>"
      ]
     },
     "metadata": {},
     "output_type": "display_data"
    }
   ],
   "source": [
    "# Plot the cumulative reward over the year 2016. Also, plot a heat map of the returns from\n",
    "# each option.\n",
    "\n",
    "fig, axs = plt.subplots(2, 1, tight_layout=True)\n",
    "axs = axs.ravel()\n",
    "\n",
    "\n",
    "## Enter code here where you plot in axs[0].\n",
    "lists = sorted(cumulativeReward.items())\n",
    "x, y = zip(*lists)\n",
    "axs[0] = plt.plot(x, y)\n",
    "plt.show()\n",
    "\n",
    "\n",
    "axs[1] = sns.heatmap(np.reshape(list(optionReturn.values()), (len(listOfZones), 24)),\n",
    "                     linewidth=0.5,\n",
    "                     cmap=\"YlGnBu\")\n",
    "axs[1].set_yticklabels(listOfZones, rotation=0)\n",
    "axs[1].set_xticklabels(range(24), rotation=90)\n",
    "axs[1].set_title('Returns on different options')\n",
    "plt.show()\n"
   ]
  },
  {
   "cell_type": "code",
   "execution_count": 26,
   "metadata": {},
   "outputs": [
    {
     "name": "stdout",
     "output_type": "stream",
     "text": [
      "Starting training module...\n",
      "\n",
      "Loaded hourly prices from 2015 for 365 days.\n"
     ]
    },
    {
     "name": "stderr",
     "output_type": "stream",
     "text": [
      "/home/zyc/.local/lib/python3.6/site-packages/sklearn/linear_model/logistic.py:433: FutureWarning: Default solver will be changed to 'lbfgs' in 0.22. Specify a solver to silence this warning.\n",
      "  FutureWarning)\n"
     ]
    },
    {
     "name": "stdout",
     "output_type": "stream",
     "text": [
      "Classifier trained for option CAPITL_Hour_0\n"
     ]
    },
    {
     "name": "stderr",
     "output_type": "stream",
     "text": [
      "/home/zyc/.local/lib/python3.6/site-packages/sklearn/linear_model/logistic.py:433: FutureWarning: Default solver will be changed to 'lbfgs' in 0.22. Specify a solver to silence this warning.\n",
      "  FutureWarning)\n"
     ]
    },
    {
     "name": "stdout",
     "output_type": "stream",
     "text": [
      "Classifier trained for option CAPITL_Hour_1\n"
     ]
    },
    {
     "name": "stderr",
     "output_type": "stream",
     "text": [
      "/home/zyc/.local/lib/python3.6/site-packages/sklearn/linear_model/logistic.py:433: FutureWarning: Default solver will be changed to 'lbfgs' in 0.22. Specify a solver to silence this warning.\n",
      "  FutureWarning)\n"
     ]
    },
    {
     "name": "stdout",
     "output_type": "stream",
     "text": [
      "Classifier trained for option CAPITL_Hour_2\n"
     ]
    },
    {
     "name": "stderr",
     "output_type": "stream",
     "text": [
      "/home/zyc/.local/lib/python3.6/site-packages/sklearn/linear_model/logistic.py:433: FutureWarning: Default solver will be changed to 'lbfgs' in 0.22. Specify a solver to silence this warning.\n",
      "  FutureWarning)\n"
     ]
    },
    {
     "name": "stdout",
     "output_type": "stream",
     "text": [
      "Classifier trained for option CAPITL_Hour_3\n"
     ]
    },
    {
     "name": "stderr",
     "output_type": "stream",
     "text": [
      "/home/zyc/.local/lib/python3.6/site-packages/sklearn/linear_model/logistic.py:433: FutureWarning: Default solver will be changed to 'lbfgs' in 0.22. Specify a solver to silence this warning.\n",
      "  FutureWarning)\n"
     ]
    },
    {
     "name": "stdout",
     "output_type": "stream",
     "text": [
      "Classifier trained for option CAPITL_Hour_4\n"
     ]
    },
    {
     "name": "stderr",
     "output_type": "stream",
     "text": [
      "/home/zyc/.local/lib/python3.6/site-packages/sklearn/linear_model/logistic.py:433: FutureWarning: Default solver will be changed to 'lbfgs' in 0.22. Specify a solver to silence this warning.\n",
      "  FutureWarning)\n"
     ]
    },
    {
     "name": "stdout",
     "output_type": "stream",
     "text": [
      "Classifier trained for option CAPITL_Hour_5\n"
     ]
    },
    {
     "name": "stderr",
     "output_type": "stream",
     "text": [
      "/home/zyc/.local/lib/python3.6/site-packages/sklearn/linear_model/logistic.py:433: FutureWarning: Default solver will be changed to 'lbfgs' in 0.22. Specify a solver to silence this warning.\n",
      "  FutureWarning)\n"
     ]
    },
    {
     "name": "stdout",
     "output_type": "stream",
     "text": [
      "Classifier trained for option CAPITL_Hour_6\n"
     ]
    },
    {
     "name": "stderr",
     "output_type": "stream",
     "text": [
      "/home/zyc/.local/lib/python3.6/site-packages/sklearn/linear_model/logistic.py:433: FutureWarning: Default solver will be changed to 'lbfgs' in 0.22. Specify a solver to silence this warning.\n",
      "  FutureWarning)\n"
     ]
    },
    {
     "name": "stdout",
     "output_type": "stream",
     "text": [
      "Classifier trained for option CAPITL_Hour_7\n"
     ]
    },
    {
     "name": "stderr",
     "output_type": "stream",
     "text": [
      "/home/zyc/.local/lib/python3.6/site-packages/sklearn/linear_model/logistic.py:433: FutureWarning: Default solver will be changed to 'lbfgs' in 0.22. Specify a solver to silence this warning.\n",
      "  FutureWarning)\n"
     ]
    },
    {
     "name": "stdout",
     "output_type": "stream",
     "text": [
      "Classifier trained for option CAPITL_Hour_8\n"
     ]
    },
    {
     "name": "stderr",
     "output_type": "stream",
     "text": [
      "/home/zyc/.local/lib/python3.6/site-packages/sklearn/linear_model/logistic.py:433: FutureWarning: Default solver will be changed to 'lbfgs' in 0.22. Specify a solver to silence this warning.\n",
      "  FutureWarning)\n"
     ]
    },
    {
     "name": "stdout",
     "output_type": "stream",
     "text": [
      "Classifier trained for option CAPITL_Hour_9\n"
     ]
    },
    {
     "name": "stderr",
     "output_type": "stream",
     "text": [
      "/home/zyc/.local/lib/python3.6/site-packages/sklearn/linear_model/logistic.py:433: FutureWarning: Default solver will be changed to 'lbfgs' in 0.22. Specify a solver to silence this warning.\n",
      "  FutureWarning)\n"
     ]
    },
    {
     "name": "stdout",
     "output_type": "stream",
     "text": [
      "Classifier trained for option CAPITL_Hour_10\n"
     ]
    },
    {
     "name": "stderr",
     "output_type": "stream",
     "text": [
      "/home/zyc/.local/lib/python3.6/site-packages/sklearn/linear_model/logistic.py:433: FutureWarning: Default solver will be changed to 'lbfgs' in 0.22. Specify a solver to silence this warning.\n",
      "  FutureWarning)\n"
     ]
    },
    {
     "name": "stdout",
     "output_type": "stream",
     "text": [
      "Classifier trained for option CAPITL_Hour_11\n"
     ]
    },
    {
     "name": "stderr",
     "output_type": "stream",
     "text": [
      "/home/zyc/.local/lib/python3.6/site-packages/sklearn/linear_model/logistic.py:433: FutureWarning: Default solver will be changed to 'lbfgs' in 0.22. Specify a solver to silence this warning.\n",
      "  FutureWarning)\n"
     ]
    },
    {
     "name": "stdout",
     "output_type": "stream",
     "text": [
      "Classifier trained for option CAPITL_Hour_12\n"
     ]
    },
    {
     "name": "stderr",
     "output_type": "stream",
     "text": [
      "/home/zyc/.local/lib/python3.6/site-packages/sklearn/linear_model/logistic.py:433: FutureWarning: Default solver will be changed to 'lbfgs' in 0.22. Specify a solver to silence this warning.\n",
      "  FutureWarning)\n"
     ]
    },
    {
     "name": "stdout",
     "output_type": "stream",
     "text": [
      "Classifier trained for option CAPITL_Hour_13\n"
     ]
    },
    {
     "name": "stderr",
     "output_type": "stream",
     "text": [
      "/home/zyc/.local/lib/python3.6/site-packages/sklearn/linear_model/logistic.py:433: FutureWarning: Default solver will be changed to 'lbfgs' in 0.22. Specify a solver to silence this warning.\n",
      "  FutureWarning)\n"
     ]
    },
    {
     "name": "stdout",
     "output_type": "stream",
     "text": [
      "Classifier trained for option CAPITL_Hour_14\n"
     ]
    },
    {
     "name": "stderr",
     "output_type": "stream",
     "text": [
      "/home/zyc/.local/lib/python3.6/site-packages/sklearn/linear_model/logistic.py:433: FutureWarning: Default solver will be changed to 'lbfgs' in 0.22. Specify a solver to silence this warning.\n",
      "  FutureWarning)\n"
     ]
    },
    {
     "name": "stdout",
     "output_type": "stream",
     "text": [
      "Classifier trained for option CAPITL_Hour_15\n"
     ]
    },
    {
     "name": "stderr",
     "output_type": "stream",
     "text": [
      "/home/zyc/.local/lib/python3.6/site-packages/sklearn/linear_model/logistic.py:433: FutureWarning: Default solver will be changed to 'lbfgs' in 0.22. Specify a solver to silence this warning.\n",
      "  FutureWarning)\n"
     ]
    },
    {
     "name": "stdout",
     "output_type": "stream",
     "text": [
      "Classifier trained for option CAPITL_Hour_16\n",
      "Classifier trained for option CAPITL_Hour_17\n"
     ]
    },
    {
     "name": "stderr",
     "output_type": "stream",
     "text": [
      "/home/zyc/.local/lib/python3.6/site-packages/sklearn/linear_model/logistic.py:433: FutureWarning: Default solver will be changed to 'lbfgs' in 0.22. Specify a solver to silence this warning.\n",
      "  FutureWarning)\n",
      "/home/zyc/.local/lib/python3.6/site-packages/sklearn/linear_model/logistic.py:433: FutureWarning: Default solver will be changed to 'lbfgs' in 0.22. Specify a solver to silence this warning.\n",
      "  FutureWarning)\n"
     ]
    },
    {
     "name": "stdout",
     "output_type": "stream",
     "text": [
      "Classifier trained for option CAPITL_Hour_18\n"
     ]
    },
    {
     "name": "stderr",
     "output_type": "stream",
     "text": [
      "/home/zyc/.local/lib/python3.6/site-packages/sklearn/linear_model/logistic.py:433: FutureWarning: Default solver will be changed to 'lbfgs' in 0.22. Specify a solver to silence this warning.\n",
      "  FutureWarning)\n"
     ]
    },
    {
     "name": "stdout",
     "output_type": "stream",
     "text": [
      "Classifier trained for option CAPITL_Hour_19\n"
     ]
    },
    {
     "name": "stderr",
     "output_type": "stream",
     "text": [
      "/home/zyc/.local/lib/python3.6/site-packages/sklearn/linear_model/logistic.py:433: FutureWarning: Default solver will be changed to 'lbfgs' in 0.22. Specify a solver to silence this warning.\n",
      "  FutureWarning)\n"
     ]
    },
    {
     "name": "stdout",
     "output_type": "stream",
     "text": [
      "Classifier trained for option CAPITL_Hour_20\n",
      "Classifier trained for option CAPITL_Hour_21\n"
     ]
    },
    {
     "name": "stderr",
     "output_type": "stream",
     "text": [
      "/home/zyc/.local/lib/python3.6/site-packages/sklearn/linear_model/logistic.py:433: FutureWarning: Default solver will be changed to 'lbfgs' in 0.22. Specify a solver to silence this warning.\n",
      "  FutureWarning)\n",
      "/home/zyc/.local/lib/python3.6/site-packages/sklearn/linear_model/logistic.py:433: FutureWarning: Default solver will be changed to 'lbfgs' in 0.22. Specify a solver to silence this warning.\n",
      "  FutureWarning)\n"
     ]
    },
    {
     "name": "stdout",
     "output_type": "stream",
     "text": [
      "Classifier trained for option CAPITL_Hour_22\n"
     ]
    },
    {
     "name": "stderr",
     "output_type": "stream",
     "text": [
      "/home/zyc/.local/lib/python3.6/site-packages/sklearn/linear_model/logistic.py:433: FutureWarning: Default solver will be changed to 'lbfgs' in 0.22. Specify a solver to silence this warning.\n",
      "  FutureWarning)\n"
     ]
    },
    {
     "name": "stdout",
     "output_type": "stream",
     "text": [
      "Classifier trained for option CAPITL_Hour_23\n"
     ]
    },
    {
     "name": "stderr",
     "output_type": "stream",
     "text": [
      "/home/zyc/.local/lib/python3.6/site-packages/sklearn/linear_model/logistic.py:433: FutureWarning: Default solver will be changed to 'lbfgs' in 0.22. Specify a solver to silence this warning.\n",
      "  FutureWarning)\n"
     ]
    },
    {
     "name": "stdout",
     "output_type": "stream",
     "text": [
      "Classifier trained for option CENTRL_Hour_0\n"
     ]
    },
    {
     "name": "stderr",
     "output_type": "stream",
     "text": [
      "/home/zyc/.local/lib/python3.6/site-packages/sklearn/linear_model/logistic.py:433: FutureWarning: Default solver will be changed to 'lbfgs' in 0.22. Specify a solver to silence this warning.\n",
      "  FutureWarning)\n"
     ]
    },
    {
     "name": "stdout",
     "output_type": "stream",
     "text": [
      "Classifier trained for option CENTRL_Hour_1\n"
     ]
    },
    {
     "name": "stderr",
     "output_type": "stream",
     "text": [
      "/home/zyc/.local/lib/python3.6/site-packages/sklearn/linear_model/logistic.py:433: FutureWarning: Default solver will be changed to 'lbfgs' in 0.22. Specify a solver to silence this warning.\n",
      "  FutureWarning)\n"
     ]
    },
    {
     "name": "stdout",
     "output_type": "stream",
     "text": [
      "Classifier trained for option CENTRL_Hour_2\n"
     ]
    },
    {
     "name": "stderr",
     "output_type": "stream",
     "text": [
      "/home/zyc/.local/lib/python3.6/site-packages/sklearn/linear_model/logistic.py:433: FutureWarning: Default solver will be changed to 'lbfgs' in 0.22. Specify a solver to silence this warning.\n",
      "  FutureWarning)\n"
     ]
    },
    {
     "name": "stdout",
     "output_type": "stream",
     "text": [
      "Classifier trained for option CENTRL_Hour_3\n"
     ]
    },
    {
     "name": "stderr",
     "output_type": "stream",
     "text": [
      "/home/zyc/.local/lib/python3.6/site-packages/sklearn/linear_model/logistic.py:433: FutureWarning: Default solver will be changed to 'lbfgs' in 0.22. Specify a solver to silence this warning.\n",
      "  FutureWarning)\n"
     ]
    },
    {
     "name": "stdout",
     "output_type": "stream",
     "text": [
      "Classifier trained for option CENTRL_Hour_4\n"
     ]
    },
    {
     "name": "stderr",
     "output_type": "stream",
     "text": [
      "/home/zyc/.local/lib/python3.6/site-packages/sklearn/linear_model/logistic.py:433: FutureWarning: Default solver will be changed to 'lbfgs' in 0.22. Specify a solver to silence this warning.\n",
      "  FutureWarning)\n"
     ]
    },
    {
     "name": "stdout",
     "output_type": "stream",
     "text": [
      "Classifier trained for option CENTRL_Hour_5\n"
     ]
    },
    {
     "name": "stderr",
     "output_type": "stream",
     "text": [
      "/home/zyc/.local/lib/python3.6/site-packages/sklearn/linear_model/logistic.py:433: FutureWarning: Default solver will be changed to 'lbfgs' in 0.22. Specify a solver to silence this warning.\n",
      "  FutureWarning)\n"
     ]
    },
    {
     "name": "stdout",
     "output_type": "stream",
     "text": [
      "Classifier trained for option CENTRL_Hour_6\n"
     ]
    },
    {
     "name": "stderr",
     "output_type": "stream",
     "text": [
      "/home/zyc/.local/lib/python3.6/site-packages/sklearn/linear_model/logistic.py:433: FutureWarning: Default solver will be changed to 'lbfgs' in 0.22. Specify a solver to silence this warning.\n",
      "  FutureWarning)\n"
     ]
    },
    {
     "name": "stdout",
     "output_type": "stream",
     "text": [
      "Classifier trained for option CENTRL_Hour_7\n"
     ]
    },
    {
     "name": "stderr",
     "output_type": "stream",
     "text": [
      "/home/zyc/.local/lib/python3.6/site-packages/sklearn/linear_model/logistic.py:433: FutureWarning: Default solver will be changed to 'lbfgs' in 0.22. Specify a solver to silence this warning.\n",
      "  FutureWarning)\n"
     ]
    },
    {
     "name": "stdout",
     "output_type": "stream",
     "text": [
      "Classifier trained for option CENTRL_Hour_8\n"
     ]
    },
    {
     "name": "stderr",
     "output_type": "stream",
     "text": [
      "/home/zyc/.local/lib/python3.6/site-packages/sklearn/linear_model/logistic.py:433: FutureWarning: Default solver will be changed to 'lbfgs' in 0.22. Specify a solver to silence this warning.\n",
      "  FutureWarning)\n"
     ]
    },
    {
     "name": "stdout",
     "output_type": "stream",
     "text": [
      "Classifier trained for option CENTRL_Hour_9\n"
     ]
    },
    {
     "name": "stderr",
     "output_type": "stream",
     "text": [
      "/home/zyc/.local/lib/python3.6/site-packages/sklearn/linear_model/logistic.py:433: FutureWarning: Default solver will be changed to 'lbfgs' in 0.22. Specify a solver to silence this warning.\n",
      "  FutureWarning)\n"
     ]
    },
    {
     "name": "stdout",
     "output_type": "stream",
     "text": [
      "Classifier trained for option CENTRL_Hour_10\n"
     ]
    },
    {
     "name": "stderr",
     "output_type": "stream",
     "text": [
      "/home/zyc/.local/lib/python3.6/site-packages/sklearn/linear_model/logistic.py:433: FutureWarning: Default solver will be changed to 'lbfgs' in 0.22. Specify a solver to silence this warning.\n",
      "  FutureWarning)\n"
     ]
    },
    {
     "name": "stdout",
     "output_type": "stream",
     "text": [
      "Classifier trained for option CENTRL_Hour_11\n"
     ]
    },
    {
     "name": "stderr",
     "output_type": "stream",
     "text": [
      "/home/zyc/.local/lib/python3.6/site-packages/sklearn/linear_model/logistic.py:433: FutureWarning: Default solver will be changed to 'lbfgs' in 0.22. Specify a solver to silence this warning.\n",
      "  FutureWarning)\n"
     ]
    },
    {
     "name": "stdout",
     "output_type": "stream",
     "text": [
      "Classifier trained for option CENTRL_Hour_12\n"
     ]
    },
    {
     "name": "stderr",
     "output_type": "stream",
     "text": [
      "/home/zyc/.local/lib/python3.6/site-packages/sklearn/linear_model/logistic.py:433: FutureWarning: Default solver will be changed to 'lbfgs' in 0.22. Specify a solver to silence this warning.\n",
      "  FutureWarning)\n"
     ]
    },
    {
     "name": "stdout",
     "output_type": "stream",
     "text": [
      "Classifier trained for option CENTRL_Hour_13\n"
     ]
    },
    {
     "name": "stderr",
     "output_type": "stream",
     "text": [
      "/home/zyc/.local/lib/python3.6/site-packages/sklearn/linear_model/logistic.py:433: FutureWarning: Default solver will be changed to 'lbfgs' in 0.22. Specify a solver to silence this warning.\n",
      "  FutureWarning)\n"
     ]
    },
    {
     "name": "stdout",
     "output_type": "stream",
     "text": [
      "Classifier trained for option CENTRL_Hour_14\n"
     ]
    },
    {
     "name": "stderr",
     "output_type": "stream",
     "text": [
      "/home/zyc/.local/lib/python3.6/site-packages/sklearn/linear_model/logistic.py:433: FutureWarning: Default solver will be changed to 'lbfgs' in 0.22. Specify a solver to silence this warning.\n",
      "  FutureWarning)\n"
     ]
    },
    {
     "name": "stdout",
     "output_type": "stream",
     "text": [
      "Classifier trained for option CENTRL_Hour_15\n"
     ]
    },
    {
     "name": "stderr",
     "output_type": "stream",
     "text": [
      "/home/zyc/.local/lib/python3.6/site-packages/sklearn/linear_model/logistic.py:433: FutureWarning: Default solver will be changed to 'lbfgs' in 0.22. Specify a solver to silence this warning.\n",
      "  FutureWarning)\n"
     ]
    },
    {
     "name": "stdout",
     "output_type": "stream",
     "text": [
      "Classifier trained for option CENTRL_Hour_16\n"
     ]
    },
    {
     "name": "stderr",
     "output_type": "stream",
     "text": [
      "/home/zyc/.local/lib/python3.6/site-packages/sklearn/linear_model/logistic.py:433: FutureWarning: Default solver will be changed to 'lbfgs' in 0.22. Specify a solver to silence this warning.\n",
      "  FutureWarning)\n"
     ]
    },
    {
     "name": "stdout",
     "output_type": "stream",
     "text": [
      "Classifier trained for option CENTRL_Hour_17\n"
     ]
    },
    {
     "name": "stderr",
     "output_type": "stream",
     "text": [
      "/home/zyc/.local/lib/python3.6/site-packages/sklearn/linear_model/logistic.py:433: FutureWarning: Default solver will be changed to 'lbfgs' in 0.22. Specify a solver to silence this warning.\n",
      "  FutureWarning)\n"
     ]
    },
    {
     "name": "stdout",
     "output_type": "stream",
     "text": [
      "Classifier trained for option CENTRL_Hour_18\n"
     ]
    },
    {
     "name": "stderr",
     "output_type": "stream",
     "text": [
      "/home/zyc/.local/lib/python3.6/site-packages/sklearn/linear_model/logistic.py:433: FutureWarning: Default solver will be changed to 'lbfgs' in 0.22. Specify a solver to silence this warning.\n",
      "  FutureWarning)\n"
     ]
    },
    {
     "name": "stdout",
     "output_type": "stream",
     "text": [
      "Classifier trained for option CENTRL_Hour_19\n"
     ]
    },
    {
     "name": "stderr",
     "output_type": "stream",
     "text": [
      "/home/zyc/.local/lib/python3.6/site-packages/sklearn/linear_model/logistic.py:433: FutureWarning: Default solver will be changed to 'lbfgs' in 0.22. Specify a solver to silence this warning.\n",
      "  FutureWarning)\n"
     ]
    },
    {
     "name": "stdout",
     "output_type": "stream",
     "text": [
      "Classifier trained for option CENTRL_Hour_20\n"
     ]
    },
    {
     "name": "stderr",
     "output_type": "stream",
     "text": [
      "/home/zyc/.local/lib/python3.6/site-packages/sklearn/linear_model/logistic.py:433: FutureWarning: Default solver will be changed to 'lbfgs' in 0.22. Specify a solver to silence this warning.\n",
      "  FutureWarning)\n"
     ]
    },
    {
     "name": "stdout",
     "output_type": "stream",
     "text": [
      "Classifier trained for option CENTRL_Hour_21\n"
     ]
    },
    {
     "name": "stderr",
     "output_type": "stream",
     "text": [
      "/home/zyc/.local/lib/python3.6/site-packages/sklearn/linear_model/logistic.py:433: FutureWarning: Default solver will be changed to 'lbfgs' in 0.22. Specify a solver to silence this warning.\n",
      "  FutureWarning)\n"
     ]
    },
    {
     "name": "stdout",
     "output_type": "stream",
     "text": [
      "Classifier trained for option CENTRL_Hour_22\n"
     ]
    },
    {
     "name": "stderr",
     "output_type": "stream",
     "text": [
      "/home/zyc/.local/lib/python3.6/site-packages/sklearn/linear_model/logistic.py:433: FutureWarning: Default solver will be changed to 'lbfgs' in 0.22. Specify a solver to silence this warning.\n",
      "  FutureWarning)\n"
     ]
    },
    {
     "name": "stdout",
     "output_type": "stream",
     "text": [
      "Classifier trained for option CENTRL_Hour_23\n"
     ]
    },
    {
     "name": "stderr",
     "output_type": "stream",
     "text": [
      "/home/zyc/.local/lib/python3.6/site-packages/sklearn/linear_model/logistic.py:433: FutureWarning: Default solver will be changed to 'lbfgs' in 0.22. Specify a solver to silence this warning.\n",
      "  FutureWarning)\n"
     ]
    },
    {
     "name": "stdout",
     "output_type": "stream",
     "text": [
      "Classifier trained for option DUNWOD_Hour_0\n"
     ]
    },
    {
     "name": "stderr",
     "output_type": "stream",
     "text": [
      "/home/zyc/.local/lib/python3.6/site-packages/sklearn/linear_model/logistic.py:433: FutureWarning: Default solver will be changed to 'lbfgs' in 0.22. Specify a solver to silence this warning.\n",
      "  FutureWarning)\n"
     ]
    },
    {
     "name": "stdout",
     "output_type": "stream",
     "text": [
      "Classifier trained for option DUNWOD_Hour_1\n"
     ]
    },
    {
     "name": "stderr",
     "output_type": "stream",
     "text": [
      "/home/zyc/.local/lib/python3.6/site-packages/sklearn/linear_model/logistic.py:433: FutureWarning: Default solver will be changed to 'lbfgs' in 0.22. Specify a solver to silence this warning.\n",
      "  FutureWarning)\n"
     ]
    },
    {
     "name": "stdout",
     "output_type": "stream",
     "text": [
      "Classifier trained for option DUNWOD_Hour_2\n"
     ]
    },
    {
     "name": "stderr",
     "output_type": "stream",
     "text": [
      "/home/zyc/.local/lib/python3.6/site-packages/sklearn/linear_model/logistic.py:433: FutureWarning: Default solver will be changed to 'lbfgs' in 0.22. Specify a solver to silence this warning.\n",
      "  FutureWarning)\n"
     ]
    },
    {
     "name": "stdout",
     "output_type": "stream",
     "text": [
      "Classifier trained for option DUNWOD_Hour_3\n"
     ]
    },
    {
     "name": "stderr",
     "output_type": "stream",
     "text": [
      "/home/zyc/.local/lib/python3.6/site-packages/sklearn/linear_model/logistic.py:433: FutureWarning: Default solver will be changed to 'lbfgs' in 0.22. Specify a solver to silence this warning.\n",
      "  FutureWarning)\n"
     ]
    },
    {
     "name": "stdout",
     "output_type": "stream",
     "text": [
      "Classifier trained for option DUNWOD_Hour_4\n"
     ]
    },
    {
     "name": "stderr",
     "output_type": "stream",
     "text": [
      "/home/zyc/.local/lib/python3.6/site-packages/sklearn/linear_model/logistic.py:433: FutureWarning: Default solver will be changed to 'lbfgs' in 0.22. Specify a solver to silence this warning.\n",
      "  FutureWarning)\n"
     ]
    },
    {
     "name": "stdout",
     "output_type": "stream",
     "text": [
      "Classifier trained for option DUNWOD_Hour_5\n"
     ]
    },
    {
     "name": "stderr",
     "output_type": "stream",
     "text": [
      "/home/zyc/.local/lib/python3.6/site-packages/sklearn/linear_model/logistic.py:433: FutureWarning: Default solver will be changed to 'lbfgs' in 0.22. Specify a solver to silence this warning.\n",
      "  FutureWarning)\n"
     ]
    },
    {
     "name": "stdout",
     "output_type": "stream",
     "text": [
      "Classifier trained for option DUNWOD_Hour_6\n"
     ]
    },
    {
     "name": "stderr",
     "output_type": "stream",
     "text": [
      "/home/zyc/.local/lib/python3.6/site-packages/sklearn/linear_model/logistic.py:433: FutureWarning: Default solver will be changed to 'lbfgs' in 0.22. Specify a solver to silence this warning.\n",
      "  FutureWarning)\n"
     ]
    },
    {
     "name": "stdout",
     "output_type": "stream",
     "text": [
      "Classifier trained for option DUNWOD_Hour_7\n"
     ]
    },
    {
     "name": "stderr",
     "output_type": "stream",
     "text": [
      "/home/zyc/.local/lib/python3.6/site-packages/sklearn/linear_model/logistic.py:433: FutureWarning: Default solver will be changed to 'lbfgs' in 0.22. Specify a solver to silence this warning.\n",
      "  FutureWarning)\n"
     ]
    },
    {
     "name": "stdout",
     "output_type": "stream",
     "text": [
      "Classifier trained for option DUNWOD_Hour_8\n"
     ]
    },
    {
     "name": "stderr",
     "output_type": "stream",
     "text": [
      "/home/zyc/.local/lib/python3.6/site-packages/sklearn/linear_model/logistic.py:433: FutureWarning: Default solver will be changed to 'lbfgs' in 0.22. Specify a solver to silence this warning.\n",
      "  FutureWarning)\n"
     ]
    },
    {
     "name": "stdout",
     "output_type": "stream",
     "text": [
      "Classifier trained for option DUNWOD_Hour_9\n"
     ]
    },
    {
     "name": "stderr",
     "output_type": "stream",
     "text": [
      "/home/zyc/.local/lib/python3.6/site-packages/sklearn/linear_model/logistic.py:433: FutureWarning: Default solver will be changed to 'lbfgs' in 0.22. Specify a solver to silence this warning.\n",
      "  FutureWarning)\n"
     ]
    },
    {
     "name": "stdout",
     "output_type": "stream",
     "text": [
      "Classifier trained for option DUNWOD_Hour_10\n"
     ]
    },
    {
     "name": "stderr",
     "output_type": "stream",
     "text": [
      "/home/zyc/.local/lib/python3.6/site-packages/sklearn/linear_model/logistic.py:433: FutureWarning: Default solver will be changed to 'lbfgs' in 0.22. Specify a solver to silence this warning.\n",
      "  FutureWarning)\n"
     ]
    },
    {
     "name": "stdout",
     "output_type": "stream",
     "text": [
      "Classifier trained for option DUNWOD_Hour_11\n"
     ]
    },
    {
     "name": "stderr",
     "output_type": "stream",
     "text": [
      "/home/zyc/.local/lib/python3.6/site-packages/sklearn/linear_model/logistic.py:433: FutureWarning: Default solver will be changed to 'lbfgs' in 0.22. Specify a solver to silence this warning.\n",
      "  FutureWarning)\n"
     ]
    },
    {
     "name": "stdout",
     "output_type": "stream",
     "text": [
      "Classifier trained for option DUNWOD_Hour_12\n"
     ]
    },
    {
     "name": "stderr",
     "output_type": "stream",
     "text": [
      "/home/zyc/.local/lib/python3.6/site-packages/sklearn/linear_model/logistic.py:433: FutureWarning: Default solver will be changed to 'lbfgs' in 0.22. Specify a solver to silence this warning.\n",
      "  FutureWarning)\n"
     ]
    },
    {
     "name": "stdout",
     "output_type": "stream",
     "text": [
      "Classifier trained for option DUNWOD_Hour_13\n"
     ]
    },
    {
     "name": "stderr",
     "output_type": "stream",
     "text": [
      "/home/zyc/.local/lib/python3.6/site-packages/sklearn/linear_model/logistic.py:433: FutureWarning: Default solver will be changed to 'lbfgs' in 0.22. Specify a solver to silence this warning.\n",
      "  FutureWarning)\n"
     ]
    },
    {
     "name": "stdout",
     "output_type": "stream",
     "text": [
      "Classifier trained for option DUNWOD_Hour_14\n"
     ]
    },
    {
     "name": "stderr",
     "output_type": "stream",
     "text": [
      "/home/zyc/.local/lib/python3.6/site-packages/sklearn/linear_model/logistic.py:433: FutureWarning: Default solver will be changed to 'lbfgs' in 0.22. Specify a solver to silence this warning.\n",
      "  FutureWarning)\n"
     ]
    },
    {
     "name": "stdout",
     "output_type": "stream",
     "text": [
      "Classifier trained for option DUNWOD_Hour_15\n"
     ]
    },
    {
     "name": "stderr",
     "output_type": "stream",
     "text": [
      "/home/zyc/.local/lib/python3.6/site-packages/sklearn/linear_model/logistic.py:433: FutureWarning: Default solver will be changed to 'lbfgs' in 0.22. Specify a solver to silence this warning.\n",
      "  FutureWarning)\n"
     ]
    },
    {
     "name": "stdout",
     "output_type": "stream",
     "text": [
      "Classifier trained for option DUNWOD_Hour_16\n",
      "Classifier trained for option DUNWOD_Hour_17\n"
     ]
    },
    {
     "name": "stderr",
     "output_type": "stream",
     "text": [
      "/home/zyc/.local/lib/python3.6/site-packages/sklearn/linear_model/logistic.py:433: FutureWarning: Default solver will be changed to 'lbfgs' in 0.22. Specify a solver to silence this warning.\n",
      "  FutureWarning)\n",
      "/home/zyc/.local/lib/python3.6/site-packages/sklearn/linear_model/logistic.py:433: FutureWarning: Default solver will be changed to 'lbfgs' in 0.22. Specify a solver to silence this warning.\n",
      "  FutureWarning)\n"
     ]
    },
    {
     "name": "stdout",
     "output_type": "stream",
     "text": [
      "Classifier trained for option DUNWOD_Hour_18\n"
     ]
    },
    {
     "name": "stderr",
     "output_type": "stream",
     "text": [
      "/home/zyc/.local/lib/python3.6/site-packages/sklearn/linear_model/logistic.py:433: FutureWarning: Default solver will be changed to 'lbfgs' in 0.22. Specify a solver to silence this warning.\n",
      "  FutureWarning)\n"
     ]
    },
    {
     "name": "stdout",
     "output_type": "stream",
     "text": [
      "Classifier trained for option DUNWOD_Hour_19\n"
     ]
    },
    {
     "name": "stderr",
     "output_type": "stream",
     "text": [
      "/home/zyc/.local/lib/python3.6/site-packages/sklearn/linear_model/logistic.py:433: FutureWarning: Default solver will be changed to 'lbfgs' in 0.22. Specify a solver to silence this warning.\n",
      "  FutureWarning)\n"
     ]
    },
    {
     "name": "stdout",
     "output_type": "stream",
     "text": [
      "Classifier trained for option DUNWOD_Hour_20\n"
     ]
    },
    {
     "name": "stderr",
     "output_type": "stream",
     "text": [
      "/home/zyc/.local/lib/python3.6/site-packages/sklearn/linear_model/logistic.py:433: FutureWarning: Default solver will be changed to 'lbfgs' in 0.22. Specify a solver to silence this warning.\n",
      "  FutureWarning)\n"
     ]
    },
    {
     "name": "stdout",
     "output_type": "stream",
     "text": [
      "Classifier trained for option DUNWOD_Hour_21\n"
     ]
    },
    {
     "name": "stderr",
     "output_type": "stream",
     "text": [
      "/home/zyc/.local/lib/python3.6/site-packages/sklearn/linear_model/logistic.py:433: FutureWarning: Default solver will be changed to 'lbfgs' in 0.22. Specify a solver to silence this warning.\n",
      "  FutureWarning)\n"
     ]
    },
    {
     "name": "stdout",
     "output_type": "stream",
     "text": [
      "Classifier trained for option DUNWOD_Hour_22\n",
      "Classifier trained for option DUNWOD_Hour_23\n"
     ]
    },
    {
     "name": "stderr",
     "output_type": "stream",
     "text": [
      "/home/zyc/.local/lib/python3.6/site-packages/sklearn/linear_model/logistic.py:433: FutureWarning: Default solver will be changed to 'lbfgs' in 0.22. Specify a solver to silence this warning.\n",
      "  FutureWarning)\n",
      "/home/zyc/.local/lib/python3.6/site-packages/sklearn/linear_model/logistic.py:433: FutureWarning: Default solver will be changed to 'lbfgs' in 0.22. Specify a solver to silence this warning.\n",
      "  FutureWarning)\n"
     ]
    },
    {
     "name": "stdout",
     "output_type": "stream",
     "text": [
      "Classifier trained for option GENESE_Hour_0\n"
     ]
    },
    {
     "name": "stderr",
     "output_type": "stream",
     "text": [
      "/home/zyc/.local/lib/python3.6/site-packages/sklearn/linear_model/logistic.py:433: FutureWarning: Default solver will be changed to 'lbfgs' in 0.22. Specify a solver to silence this warning.\n",
      "  FutureWarning)\n"
     ]
    },
    {
     "name": "stdout",
     "output_type": "stream",
     "text": [
      "Classifier trained for option GENESE_Hour_1\n"
     ]
    },
    {
     "name": "stderr",
     "output_type": "stream",
     "text": [
      "/home/zyc/.local/lib/python3.6/site-packages/sklearn/linear_model/logistic.py:433: FutureWarning: Default solver will be changed to 'lbfgs' in 0.22. Specify a solver to silence this warning.\n",
      "  FutureWarning)\n"
     ]
    },
    {
     "name": "stdout",
     "output_type": "stream",
     "text": [
      "Classifier trained for option GENESE_Hour_2\n"
     ]
    },
    {
     "name": "stderr",
     "output_type": "stream",
     "text": [
      "/home/zyc/.local/lib/python3.6/site-packages/sklearn/linear_model/logistic.py:433: FutureWarning: Default solver will be changed to 'lbfgs' in 0.22. Specify a solver to silence this warning.\n",
      "  FutureWarning)\n"
     ]
    },
    {
     "name": "stdout",
     "output_type": "stream",
     "text": [
      "Classifier trained for option GENESE_Hour_3\n"
     ]
    },
    {
     "name": "stderr",
     "output_type": "stream",
     "text": [
      "/home/zyc/.local/lib/python3.6/site-packages/sklearn/linear_model/logistic.py:433: FutureWarning: Default solver will be changed to 'lbfgs' in 0.22. Specify a solver to silence this warning.\n",
      "  FutureWarning)\n"
     ]
    },
    {
     "name": "stdout",
     "output_type": "stream",
     "text": [
      "Classifier trained for option GENESE_Hour_4\n"
     ]
    },
    {
     "name": "stderr",
     "output_type": "stream",
     "text": [
      "/home/zyc/.local/lib/python3.6/site-packages/sklearn/linear_model/logistic.py:433: FutureWarning: Default solver will be changed to 'lbfgs' in 0.22. Specify a solver to silence this warning.\n",
      "  FutureWarning)\n"
     ]
    },
    {
     "name": "stdout",
     "output_type": "stream",
     "text": [
      "Classifier trained for option GENESE_Hour_5\n"
     ]
    },
    {
     "name": "stderr",
     "output_type": "stream",
     "text": [
      "/home/zyc/.local/lib/python3.6/site-packages/sklearn/linear_model/logistic.py:433: FutureWarning: Default solver will be changed to 'lbfgs' in 0.22. Specify a solver to silence this warning.\n",
      "  FutureWarning)\n"
     ]
    },
    {
     "name": "stdout",
     "output_type": "stream",
     "text": [
      "Classifier trained for option GENESE_Hour_6\n"
     ]
    },
    {
     "name": "stderr",
     "output_type": "stream",
     "text": [
      "/home/zyc/.local/lib/python3.6/site-packages/sklearn/linear_model/logistic.py:433: FutureWarning: Default solver will be changed to 'lbfgs' in 0.22. Specify a solver to silence this warning.\n",
      "  FutureWarning)\n"
     ]
    },
    {
     "name": "stdout",
     "output_type": "stream",
     "text": [
      "Classifier trained for option GENESE_Hour_7\n"
     ]
    },
    {
     "name": "stderr",
     "output_type": "stream",
     "text": [
      "/home/zyc/.local/lib/python3.6/site-packages/sklearn/linear_model/logistic.py:433: FutureWarning: Default solver will be changed to 'lbfgs' in 0.22. Specify a solver to silence this warning.\n",
      "  FutureWarning)\n"
     ]
    },
    {
     "name": "stdout",
     "output_type": "stream",
     "text": [
      "Classifier trained for option GENESE_Hour_8\n"
     ]
    },
    {
     "name": "stderr",
     "output_type": "stream",
     "text": [
      "/home/zyc/.local/lib/python3.6/site-packages/sklearn/linear_model/logistic.py:433: FutureWarning: Default solver will be changed to 'lbfgs' in 0.22. Specify a solver to silence this warning.\n",
      "  FutureWarning)\n"
     ]
    },
    {
     "name": "stdout",
     "output_type": "stream",
     "text": [
      "Classifier trained for option GENESE_Hour_9\n"
     ]
    },
    {
     "name": "stderr",
     "output_type": "stream",
     "text": [
      "/home/zyc/.local/lib/python3.6/site-packages/sklearn/linear_model/logistic.py:433: FutureWarning: Default solver will be changed to 'lbfgs' in 0.22. Specify a solver to silence this warning.\n",
      "  FutureWarning)\n"
     ]
    },
    {
     "name": "stdout",
     "output_type": "stream",
     "text": [
      "Classifier trained for option GENESE_Hour_10\n"
     ]
    },
    {
     "name": "stderr",
     "output_type": "stream",
     "text": [
      "/home/zyc/.local/lib/python3.6/site-packages/sklearn/linear_model/logistic.py:433: FutureWarning: Default solver will be changed to 'lbfgs' in 0.22. Specify a solver to silence this warning.\n",
      "  FutureWarning)\n"
     ]
    },
    {
     "name": "stdout",
     "output_type": "stream",
     "text": [
      "Classifier trained for option GENESE_Hour_11\n"
     ]
    },
    {
     "name": "stderr",
     "output_type": "stream",
     "text": [
      "/home/zyc/.local/lib/python3.6/site-packages/sklearn/linear_model/logistic.py:433: FutureWarning: Default solver will be changed to 'lbfgs' in 0.22. Specify a solver to silence this warning.\n",
      "  FutureWarning)\n"
     ]
    },
    {
     "name": "stdout",
     "output_type": "stream",
     "text": [
      "Classifier trained for option GENESE_Hour_12\n"
     ]
    },
    {
     "name": "stderr",
     "output_type": "stream",
     "text": [
      "/home/zyc/.local/lib/python3.6/site-packages/sklearn/linear_model/logistic.py:433: FutureWarning: Default solver will be changed to 'lbfgs' in 0.22. Specify a solver to silence this warning.\n",
      "  FutureWarning)\n"
     ]
    },
    {
     "name": "stdout",
     "output_type": "stream",
     "text": [
      "Classifier trained for option GENESE_Hour_13\n"
     ]
    },
    {
     "name": "stderr",
     "output_type": "stream",
     "text": [
      "/home/zyc/.local/lib/python3.6/site-packages/sklearn/linear_model/logistic.py:433: FutureWarning: Default solver will be changed to 'lbfgs' in 0.22. Specify a solver to silence this warning.\n",
      "  FutureWarning)\n"
     ]
    },
    {
     "name": "stdout",
     "output_type": "stream",
     "text": [
      "Classifier trained for option GENESE_Hour_14\n"
     ]
    },
    {
     "name": "stderr",
     "output_type": "stream",
     "text": [
      "/home/zyc/.local/lib/python3.6/site-packages/sklearn/linear_model/logistic.py:433: FutureWarning: Default solver will be changed to 'lbfgs' in 0.22. Specify a solver to silence this warning.\n",
      "  FutureWarning)\n"
     ]
    },
    {
     "name": "stdout",
     "output_type": "stream",
     "text": [
      "Classifier trained for option GENESE_Hour_15\n"
     ]
    },
    {
     "name": "stderr",
     "output_type": "stream",
     "text": [
      "/home/zyc/.local/lib/python3.6/site-packages/sklearn/linear_model/logistic.py:433: FutureWarning: Default solver will be changed to 'lbfgs' in 0.22. Specify a solver to silence this warning.\n",
      "  FutureWarning)\n"
     ]
    },
    {
     "name": "stdout",
     "output_type": "stream",
     "text": [
      "Classifier trained for option GENESE_Hour_16\n"
     ]
    },
    {
     "name": "stderr",
     "output_type": "stream",
     "text": [
      "/home/zyc/.local/lib/python3.6/site-packages/sklearn/linear_model/logistic.py:433: FutureWarning: Default solver will be changed to 'lbfgs' in 0.22. Specify a solver to silence this warning.\n",
      "  FutureWarning)\n"
     ]
    },
    {
     "name": "stdout",
     "output_type": "stream",
     "text": [
      "Classifier trained for option GENESE_Hour_17\n"
     ]
    },
    {
     "name": "stderr",
     "output_type": "stream",
     "text": [
      "/home/zyc/.local/lib/python3.6/site-packages/sklearn/linear_model/logistic.py:433: FutureWarning: Default solver will be changed to 'lbfgs' in 0.22. Specify a solver to silence this warning.\n",
      "  FutureWarning)\n"
     ]
    },
    {
     "name": "stdout",
     "output_type": "stream",
     "text": [
      "Classifier trained for option GENESE_Hour_18\n"
     ]
    },
    {
     "name": "stderr",
     "output_type": "stream",
     "text": [
      "/home/zyc/.local/lib/python3.6/site-packages/sklearn/linear_model/logistic.py:433: FutureWarning: Default solver will be changed to 'lbfgs' in 0.22. Specify a solver to silence this warning.\n",
      "  FutureWarning)\n"
     ]
    },
    {
     "name": "stdout",
     "output_type": "stream",
     "text": [
      "Classifier trained for option GENESE_Hour_19\n"
     ]
    },
    {
     "name": "stderr",
     "output_type": "stream",
     "text": [
      "/home/zyc/.local/lib/python3.6/site-packages/sklearn/linear_model/logistic.py:433: FutureWarning: Default solver will be changed to 'lbfgs' in 0.22. Specify a solver to silence this warning.\n",
      "  FutureWarning)\n"
     ]
    },
    {
     "name": "stdout",
     "output_type": "stream",
     "text": [
      "Classifier trained for option GENESE_Hour_20\n"
     ]
    },
    {
     "name": "stderr",
     "output_type": "stream",
     "text": [
      "/home/zyc/.local/lib/python3.6/site-packages/sklearn/linear_model/logistic.py:433: FutureWarning: Default solver will be changed to 'lbfgs' in 0.22. Specify a solver to silence this warning.\n",
      "  FutureWarning)\n"
     ]
    },
    {
     "name": "stdout",
     "output_type": "stream",
     "text": [
      "Classifier trained for option GENESE_Hour_21\n"
     ]
    },
    {
     "name": "stderr",
     "output_type": "stream",
     "text": [
      "/home/zyc/.local/lib/python3.6/site-packages/sklearn/linear_model/logistic.py:433: FutureWarning: Default solver will be changed to 'lbfgs' in 0.22. Specify a solver to silence this warning.\n",
      "  FutureWarning)\n"
     ]
    },
    {
     "name": "stdout",
     "output_type": "stream",
     "text": [
      "Classifier trained for option GENESE_Hour_22\n"
     ]
    },
    {
     "name": "stderr",
     "output_type": "stream",
     "text": [
      "/home/zyc/.local/lib/python3.6/site-packages/sklearn/linear_model/logistic.py:433: FutureWarning: Default solver will be changed to 'lbfgs' in 0.22. Specify a solver to silence this warning.\n",
      "  FutureWarning)\n"
     ]
    },
    {
     "name": "stdout",
     "output_type": "stream",
     "text": [
      "Classifier trained for option GENESE_Hour_23\n"
     ]
    },
    {
     "name": "stderr",
     "output_type": "stream",
     "text": [
      "/home/zyc/.local/lib/python3.6/site-packages/sklearn/linear_model/logistic.py:433: FutureWarning: Default solver will be changed to 'lbfgs' in 0.22. Specify a solver to silence this warning.\n",
      "  FutureWarning)\n"
     ]
    },
    {
     "name": "stdout",
     "output_type": "stream",
     "text": [
      "Classifier trained for option HUD VL_Hour_0\n"
     ]
    },
    {
     "name": "stderr",
     "output_type": "stream",
     "text": [
      "/home/zyc/.local/lib/python3.6/site-packages/sklearn/linear_model/logistic.py:433: FutureWarning: Default solver will be changed to 'lbfgs' in 0.22. Specify a solver to silence this warning.\n",
      "  FutureWarning)\n"
     ]
    },
    {
     "name": "stdout",
     "output_type": "stream",
     "text": [
      "Classifier trained for option HUD VL_Hour_1\n"
     ]
    },
    {
     "name": "stderr",
     "output_type": "stream",
     "text": [
      "/home/zyc/.local/lib/python3.6/site-packages/sklearn/linear_model/logistic.py:433: FutureWarning: Default solver will be changed to 'lbfgs' in 0.22. Specify a solver to silence this warning.\n",
      "  FutureWarning)\n"
     ]
    },
    {
     "name": "stdout",
     "output_type": "stream",
     "text": [
      "Classifier trained for option HUD VL_Hour_2\n"
     ]
    },
    {
     "name": "stderr",
     "output_type": "stream",
     "text": [
      "/home/zyc/.local/lib/python3.6/site-packages/sklearn/linear_model/logistic.py:433: FutureWarning: Default solver will be changed to 'lbfgs' in 0.22. Specify a solver to silence this warning.\n",
      "  FutureWarning)\n"
     ]
    },
    {
     "name": "stdout",
     "output_type": "stream",
     "text": [
      "Classifier trained for option HUD VL_Hour_3\n"
     ]
    },
    {
     "name": "stderr",
     "output_type": "stream",
     "text": [
      "/home/zyc/.local/lib/python3.6/site-packages/sklearn/linear_model/logistic.py:433: FutureWarning: Default solver will be changed to 'lbfgs' in 0.22. Specify a solver to silence this warning.\n",
      "  FutureWarning)\n"
     ]
    },
    {
     "name": "stdout",
     "output_type": "stream",
     "text": [
      "Classifier trained for option HUD VL_Hour_4\n"
     ]
    },
    {
     "name": "stderr",
     "output_type": "stream",
     "text": [
      "/home/zyc/.local/lib/python3.6/site-packages/sklearn/linear_model/logistic.py:433: FutureWarning: Default solver will be changed to 'lbfgs' in 0.22. Specify a solver to silence this warning.\n",
      "  FutureWarning)\n"
     ]
    },
    {
     "name": "stdout",
     "output_type": "stream",
     "text": [
      "Classifier trained for option HUD VL_Hour_5\n"
     ]
    },
    {
     "name": "stderr",
     "output_type": "stream",
     "text": [
      "/home/zyc/.local/lib/python3.6/site-packages/sklearn/linear_model/logistic.py:433: FutureWarning: Default solver will be changed to 'lbfgs' in 0.22. Specify a solver to silence this warning.\n",
      "  FutureWarning)\n"
     ]
    },
    {
     "name": "stdout",
     "output_type": "stream",
     "text": [
      "Classifier trained for option HUD VL_Hour_6\n"
     ]
    },
    {
     "name": "stderr",
     "output_type": "stream",
     "text": [
      "/home/zyc/.local/lib/python3.6/site-packages/sklearn/linear_model/logistic.py:433: FutureWarning: Default solver will be changed to 'lbfgs' in 0.22. Specify a solver to silence this warning.\n",
      "  FutureWarning)\n"
     ]
    },
    {
     "name": "stdout",
     "output_type": "stream",
     "text": [
      "Classifier trained for option HUD VL_Hour_7\n"
     ]
    },
    {
     "name": "stderr",
     "output_type": "stream",
     "text": [
      "/home/zyc/.local/lib/python3.6/site-packages/sklearn/linear_model/logistic.py:433: FutureWarning: Default solver will be changed to 'lbfgs' in 0.22. Specify a solver to silence this warning.\n",
      "  FutureWarning)\n"
     ]
    },
    {
     "name": "stdout",
     "output_type": "stream",
     "text": [
      "Classifier trained for option HUD VL_Hour_8\n"
     ]
    },
    {
     "name": "stderr",
     "output_type": "stream",
     "text": [
      "/home/zyc/.local/lib/python3.6/site-packages/sklearn/linear_model/logistic.py:433: FutureWarning: Default solver will be changed to 'lbfgs' in 0.22. Specify a solver to silence this warning.\n",
      "  FutureWarning)\n"
     ]
    },
    {
     "name": "stdout",
     "output_type": "stream",
     "text": [
      "Classifier trained for option HUD VL_Hour_9\n"
     ]
    },
    {
     "name": "stderr",
     "output_type": "stream",
     "text": [
      "/home/zyc/.local/lib/python3.6/site-packages/sklearn/linear_model/logistic.py:433: FutureWarning: Default solver will be changed to 'lbfgs' in 0.22. Specify a solver to silence this warning.\n",
      "  FutureWarning)\n"
     ]
    },
    {
     "name": "stdout",
     "output_type": "stream",
     "text": [
      "Classifier trained for option HUD VL_Hour_10\n"
     ]
    },
    {
     "name": "stderr",
     "output_type": "stream",
     "text": [
      "/home/zyc/.local/lib/python3.6/site-packages/sklearn/linear_model/logistic.py:433: FutureWarning: Default solver will be changed to 'lbfgs' in 0.22. Specify a solver to silence this warning.\n",
      "  FutureWarning)\n"
     ]
    },
    {
     "name": "stdout",
     "output_type": "stream",
     "text": [
      "Classifier trained for option HUD VL_Hour_11\n"
     ]
    },
    {
     "name": "stderr",
     "output_type": "stream",
     "text": [
      "/home/zyc/.local/lib/python3.6/site-packages/sklearn/linear_model/logistic.py:433: FutureWarning: Default solver will be changed to 'lbfgs' in 0.22. Specify a solver to silence this warning.\n",
      "  FutureWarning)\n"
     ]
    },
    {
     "name": "stdout",
     "output_type": "stream",
     "text": [
      "Classifier trained for option HUD VL_Hour_12\n"
     ]
    },
    {
     "name": "stderr",
     "output_type": "stream",
     "text": [
      "/home/zyc/.local/lib/python3.6/site-packages/sklearn/linear_model/logistic.py:433: FutureWarning: Default solver will be changed to 'lbfgs' in 0.22. Specify a solver to silence this warning.\n",
      "  FutureWarning)\n"
     ]
    },
    {
     "name": "stdout",
     "output_type": "stream",
     "text": [
      "Classifier trained for option HUD VL_Hour_13\n"
     ]
    },
    {
     "name": "stderr",
     "output_type": "stream",
     "text": [
      "/home/zyc/.local/lib/python3.6/site-packages/sklearn/linear_model/logistic.py:433: FutureWarning: Default solver will be changed to 'lbfgs' in 0.22. Specify a solver to silence this warning.\n",
      "  FutureWarning)\n"
     ]
    },
    {
     "name": "stdout",
     "output_type": "stream",
     "text": [
      "Classifier trained for option HUD VL_Hour_14\n"
     ]
    },
    {
     "name": "stderr",
     "output_type": "stream",
     "text": [
      "/home/zyc/.local/lib/python3.6/site-packages/sklearn/linear_model/logistic.py:433: FutureWarning: Default solver will be changed to 'lbfgs' in 0.22. Specify a solver to silence this warning.\n",
      "  FutureWarning)\n"
     ]
    },
    {
     "name": "stdout",
     "output_type": "stream",
     "text": [
      "Classifier trained for option HUD VL_Hour_15\n"
     ]
    },
    {
     "name": "stderr",
     "output_type": "stream",
     "text": [
      "/home/zyc/.local/lib/python3.6/site-packages/sklearn/linear_model/logistic.py:433: FutureWarning: Default solver will be changed to 'lbfgs' in 0.22. Specify a solver to silence this warning.\n",
      "  FutureWarning)\n"
     ]
    },
    {
     "name": "stdout",
     "output_type": "stream",
     "text": [
      "Classifier trained for option HUD VL_Hour_16\n"
     ]
    },
    {
     "name": "stderr",
     "output_type": "stream",
     "text": [
      "/home/zyc/.local/lib/python3.6/site-packages/sklearn/linear_model/logistic.py:433: FutureWarning: Default solver will be changed to 'lbfgs' in 0.22. Specify a solver to silence this warning.\n",
      "  FutureWarning)\n"
     ]
    },
    {
     "name": "stdout",
     "output_type": "stream",
     "text": [
      "Classifier trained for option HUD VL_Hour_17\n"
     ]
    },
    {
     "name": "stderr",
     "output_type": "stream",
     "text": [
      "/home/zyc/.local/lib/python3.6/site-packages/sklearn/linear_model/logistic.py:433: FutureWarning: Default solver will be changed to 'lbfgs' in 0.22. Specify a solver to silence this warning.\n",
      "  FutureWarning)\n"
     ]
    },
    {
     "name": "stdout",
     "output_type": "stream",
     "text": [
      "Classifier trained for option HUD VL_Hour_18\n"
     ]
    },
    {
     "name": "stderr",
     "output_type": "stream",
     "text": [
      "/home/zyc/.local/lib/python3.6/site-packages/sklearn/linear_model/logistic.py:433: FutureWarning: Default solver will be changed to 'lbfgs' in 0.22. Specify a solver to silence this warning.\n",
      "  FutureWarning)\n"
     ]
    },
    {
     "name": "stdout",
     "output_type": "stream",
     "text": [
      "Classifier trained for option HUD VL_Hour_19\n"
     ]
    },
    {
     "name": "stderr",
     "output_type": "stream",
     "text": [
      "/home/zyc/.local/lib/python3.6/site-packages/sklearn/linear_model/logistic.py:433: FutureWarning: Default solver will be changed to 'lbfgs' in 0.22. Specify a solver to silence this warning.\n",
      "  FutureWarning)\n"
     ]
    },
    {
     "name": "stdout",
     "output_type": "stream",
     "text": [
      "Classifier trained for option HUD VL_Hour_20\n"
     ]
    },
    {
     "name": "stderr",
     "output_type": "stream",
     "text": [
      "/home/zyc/.local/lib/python3.6/site-packages/sklearn/linear_model/logistic.py:433: FutureWarning: Default solver will be changed to 'lbfgs' in 0.22. Specify a solver to silence this warning.\n",
      "  FutureWarning)\n"
     ]
    },
    {
     "name": "stdout",
     "output_type": "stream",
     "text": [
      "Classifier trained for option HUD VL_Hour_21\n"
     ]
    },
    {
     "name": "stderr",
     "output_type": "stream",
     "text": [
      "/home/zyc/.local/lib/python3.6/site-packages/sklearn/linear_model/logistic.py:433: FutureWarning: Default solver will be changed to 'lbfgs' in 0.22. Specify a solver to silence this warning.\n",
      "  FutureWarning)\n"
     ]
    },
    {
     "name": "stdout",
     "output_type": "stream",
     "text": [
      "Classifier trained for option HUD VL_Hour_22\n"
     ]
    },
    {
     "name": "stderr",
     "output_type": "stream",
     "text": [
      "/home/zyc/.local/lib/python3.6/site-packages/sklearn/linear_model/logistic.py:433: FutureWarning: Default solver will be changed to 'lbfgs' in 0.22. Specify a solver to silence this warning.\n",
      "  FutureWarning)\n"
     ]
    },
    {
     "name": "stdout",
     "output_type": "stream",
     "text": [
      "Classifier trained for option HUD VL_Hour_23\n"
     ]
    },
    {
     "name": "stderr",
     "output_type": "stream",
     "text": [
      "/home/zyc/.local/lib/python3.6/site-packages/sklearn/linear_model/logistic.py:433: FutureWarning: Default solver will be changed to 'lbfgs' in 0.22. Specify a solver to silence this warning.\n",
      "  FutureWarning)\n"
     ]
    },
    {
     "name": "stdout",
     "output_type": "stream",
     "text": [
      "Classifier trained for option LONGIL_Hour_0\n"
     ]
    },
    {
     "name": "stderr",
     "output_type": "stream",
     "text": [
      "/home/zyc/.local/lib/python3.6/site-packages/sklearn/linear_model/logistic.py:433: FutureWarning: Default solver will be changed to 'lbfgs' in 0.22. Specify a solver to silence this warning.\n",
      "  FutureWarning)\n"
     ]
    },
    {
     "name": "stdout",
     "output_type": "stream",
     "text": [
      "Classifier trained for option LONGIL_Hour_1\n"
     ]
    },
    {
     "name": "stderr",
     "output_type": "stream",
     "text": [
      "/home/zyc/.local/lib/python3.6/site-packages/sklearn/linear_model/logistic.py:433: FutureWarning: Default solver will be changed to 'lbfgs' in 0.22. Specify a solver to silence this warning.\n",
      "  FutureWarning)\n"
     ]
    },
    {
     "name": "stdout",
     "output_type": "stream",
     "text": [
      "Classifier trained for option LONGIL_Hour_2\n"
     ]
    },
    {
     "name": "stderr",
     "output_type": "stream",
     "text": [
      "/home/zyc/.local/lib/python3.6/site-packages/sklearn/linear_model/logistic.py:433: FutureWarning: Default solver will be changed to 'lbfgs' in 0.22. Specify a solver to silence this warning.\n",
      "  FutureWarning)\n"
     ]
    },
    {
     "name": "stdout",
     "output_type": "stream",
     "text": [
      "Classifier trained for option LONGIL_Hour_3\n"
     ]
    },
    {
     "name": "stderr",
     "output_type": "stream",
     "text": [
      "/home/zyc/.local/lib/python3.6/site-packages/sklearn/linear_model/logistic.py:433: FutureWarning: Default solver will be changed to 'lbfgs' in 0.22. Specify a solver to silence this warning.\n",
      "  FutureWarning)\n"
     ]
    },
    {
     "name": "stdout",
     "output_type": "stream",
     "text": [
      "Classifier trained for option LONGIL_Hour_4\n"
     ]
    },
    {
     "name": "stderr",
     "output_type": "stream",
     "text": [
      "/home/zyc/.local/lib/python3.6/site-packages/sklearn/linear_model/logistic.py:433: FutureWarning: Default solver will be changed to 'lbfgs' in 0.22. Specify a solver to silence this warning.\n",
      "  FutureWarning)\n"
     ]
    },
    {
     "name": "stdout",
     "output_type": "stream",
     "text": [
      "Classifier trained for option LONGIL_Hour_5\n"
     ]
    },
    {
     "name": "stderr",
     "output_type": "stream",
     "text": [
      "/home/zyc/.local/lib/python3.6/site-packages/sklearn/linear_model/logistic.py:433: FutureWarning: Default solver will be changed to 'lbfgs' in 0.22. Specify a solver to silence this warning.\n",
      "  FutureWarning)\n"
     ]
    },
    {
     "name": "stdout",
     "output_type": "stream",
     "text": [
      "Classifier trained for option LONGIL_Hour_6\n"
     ]
    },
    {
     "name": "stderr",
     "output_type": "stream",
     "text": [
      "/home/zyc/.local/lib/python3.6/site-packages/sklearn/linear_model/logistic.py:433: FutureWarning: Default solver will be changed to 'lbfgs' in 0.22. Specify a solver to silence this warning.\n",
      "  FutureWarning)\n"
     ]
    },
    {
     "name": "stdout",
     "output_type": "stream",
     "text": [
      "Classifier trained for option LONGIL_Hour_7\n"
     ]
    },
    {
     "name": "stderr",
     "output_type": "stream",
     "text": [
      "/home/zyc/.local/lib/python3.6/site-packages/sklearn/linear_model/logistic.py:433: FutureWarning: Default solver will be changed to 'lbfgs' in 0.22. Specify a solver to silence this warning.\n",
      "  FutureWarning)\n"
     ]
    },
    {
     "name": "stdout",
     "output_type": "stream",
     "text": [
      "Classifier trained for option LONGIL_Hour_8\n"
     ]
    },
    {
     "name": "stderr",
     "output_type": "stream",
     "text": [
      "/home/zyc/.local/lib/python3.6/site-packages/sklearn/linear_model/logistic.py:433: FutureWarning: Default solver will be changed to 'lbfgs' in 0.22. Specify a solver to silence this warning.\n",
      "  FutureWarning)\n"
     ]
    },
    {
     "name": "stdout",
     "output_type": "stream",
     "text": [
      "Classifier trained for option LONGIL_Hour_9\n"
     ]
    },
    {
     "name": "stderr",
     "output_type": "stream",
     "text": [
      "/home/zyc/.local/lib/python3.6/site-packages/sklearn/linear_model/logistic.py:433: FutureWarning: Default solver will be changed to 'lbfgs' in 0.22. Specify a solver to silence this warning.\n",
      "  FutureWarning)\n"
     ]
    },
    {
     "name": "stdout",
     "output_type": "stream",
     "text": [
      "Classifier trained for option LONGIL_Hour_10\n"
     ]
    },
    {
     "name": "stderr",
     "output_type": "stream",
     "text": [
      "/home/zyc/.local/lib/python3.6/site-packages/sklearn/linear_model/logistic.py:433: FutureWarning: Default solver will be changed to 'lbfgs' in 0.22. Specify a solver to silence this warning.\n",
      "  FutureWarning)\n"
     ]
    },
    {
     "name": "stdout",
     "output_type": "stream",
     "text": [
      "Classifier trained for option LONGIL_Hour_11\n"
     ]
    },
    {
     "name": "stderr",
     "output_type": "stream",
     "text": [
      "/home/zyc/.local/lib/python3.6/site-packages/sklearn/linear_model/logistic.py:433: FutureWarning: Default solver will be changed to 'lbfgs' in 0.22. Specify a solver to silence this warning.\n",
      "  FutureWarning)\n"
     ]
    },
    {
     "name": "stdout",
     "output_type": "stream",
     "text": [
      "Classifier trained for option LONGIL_Hour_12\n"
     ]
    },
    {
     "name": "stderr",
     "output_type": "stream",
     "text": [
      "/home/zyc/.local/lib/python3.6/site-packages/sklearn/linear_model/logistic.py:433: FutureWarning: Default solver will be changed to 'lbfgs' in 0.22. Specify a solver to silence this warning.\n",
      "  FutureWarning)\n"
     ]
    },
    {
     "name": "stdout",
     "output_type": "stream",
     "text": [
      "Classifier trained for option LONGIL_Hour_13\n"
     ]
    },
    {
     "name": "stderr",
     "output_type": "stream",
     "text": [
      "/home/zyc/.local/lib/python3.6/site-packages/sklearn/linear_model/logistic.py:433: FutureWarning: Default solver will be changed to 'lbfgs' in 0.22. Specify a solver to silence this warning.\n",
      "  FutureWarning)\n"
     ]
    },
    {
     "name": "stdout",
     "output_type": "stream",
     "text": [
      "Classifier trained for option LONGIL_Hour_14\n"
     ]
    },
    {
     "name": "stderr",
     "output_type": "stream",
     "text": [
      "/home/zyc/.local/lib/python3.6/site-packages/sklearn/linear_model/logistic.py:433: FutureWarning: Default solver will be changed to 'lbfgs' in 0.22. Specify a solver to silence this warning.\n",
      "  FutureWarning)\n"
     ]
    },
    {
     "name": "stdout",
     "output_type": "stream",
     "text": [
      "Classifier trained for option LONGIL_Hour_15\n"
     ]
    },
    {
     "name": "stderr",
     "output_type": "stream",
     "text": [
      "/home/zyc/.local/lib/python3.6/site-packages/sklearn/linear_model/logistic.py:433: FutureWarning: Default solver will be changed to 'lbfgs' in 0.22. Specify a solver to silence this warning.\n",
      "  FutureWarning)\n"
     ]
    },
    {
     "name": "stdout",
     "output_type": "stream",
     "text": [
      "Classifier trained for option LONGIL_Hour_16\n"
     ]
    },
    {
     "name": "stderr",
     "output_type": "stream",
     "text": [
      "/home/zyc/.local/lib/python3.6/site-packages/sklearn/linear_model/logistic.py:433: FutureWarning: Default solver will be changed to 'lbfgs' in 0.22. Specify a solver to silence this warning.\n",
      "  FutureWarning)\n"
     ]
    },
    {
     "name": "stdout",
     "output_type": "stream",
     "text": [
      "Classifier trained for option LONGIL_Hour_17\n"
     ]
    },
    {
     "name": "stderr",
     "output_type": "stream",
     "text": [
      "/home/zyc/.local/lib/python3.6/site-packages/sklearn/linear_model/logistic.py:433: FutureWarning: Default solver will be changed to 'lbfgs' in 0.22. Specify a solver to silence this warning.\n",
      "  FutureWarning)\n"
     ]
    },
    {
     "name": "stdout",
     "output_type": "stream",
     "text": [
      "Classifier trained for option LONGIL_Hour_18\n"
     ]
    },
    {
     "name": "stderr",
     "output_type": "stream",
     "text": [
      "/home/zyc/.local/lib/python3.6/site-packages/sklearn/linear_model/logistic.py:433: FutureWarning: Default solver will be changed to 'lbfgs' in 0.22. Specify a solver to silence this warning.\n",
      "  FutureWarning)\n"
     ]
    },
    {
     "name": "stdout",
     "output_type": "stream",
     "text": [
      "Classifier trained for option LONGIL_Hour_19\n"
     ]
    },
    {
     "name": "stderr",
     "output_type": "stream",
     "text": [
      "/home/zyc/.local/lib/python3.6/site-packages/sklearn/linear_model/logistic.py:433: FutureWarning: Default solver will be changed to 'lbfgs' in 0.22. Specify a solver to silence this warning.\n",
      "  FutureWarning)\n"
     ]
    },
    {
     "name": "stdout",
     "output_type": "stream",
     "text": [
      "Classifier trained for option LONGIL_Hour_20\n",
      "Classifier trained for option LONGIL_Hour_21\n"
     ]
    },
    {
     "name": "stderr",
     "output_type": "stream",
     "text": [
      "/home/zyc/.local/lib/python3.6/site-packages/sklearn/linear_model/logistic.py:433: FutureWarning: Default solver will be changed to 'lbfgs' in 0.22. Specify a solver to silence this warning.\n",
      "  FutureWarning)\n",
      "/home/zyc/.local/lib/python3.6/site-packages/sklearn/linear_model/logistic.py:433: FutureWarning: Default solver will be changed to 'lbfgs' in 0.22. Specify a solver to silence this warning.\n",
      "  FutureWarning)\n"
     ]
    },
    {
     "name": "stdout",
     "output_type": "stream",
     "text": [
      "Classifier trained for option LONGIL_Hour_22\n"
     ]
    },
    {
     "name": "stderr",
     "output_type": "stream",
     "text": [
      "/home/zyc/.local/lib/python3.6/site-packages/sklearn/linear_model/logistic.py:433: FutureWarning: Default solver will be changed to 'lbfgs' in 0.22. Specify a solver to silence this warning.\n",
      "  FutureWarning)\n"
     ]
    },
    {
     "name": "stdout",
     "output_type": "stream",
     "text": [
      "Classifier trained for option LONGIL_Hour_23\n"
     ]
    },
    {
     "name": "stderr",
     "output_type": "stream",
     "text": [
      "/home/zyc/.local/lib/python3.6/site-packages/sklearn/linear_model/logistic.py:433: FutureWarning: Default solver will be changed to 'lbfgs' in 0.22. Specify a solver to silence this warning.\n",
      "  FutureWarning)\n"
     ]
    },
    {
     "name": "stdout",
     "output_type": "stream",
     "text": [
      "Classifier trained for option MHK VL_Hour_0\n"
     ]
    },
    {
     "name": "stderr",
     "output_type": "stream",
     "text": [
      "/home/zyc/.local/lib/python3.6/site-packages/sklearn/linear_model/logistic.py:433: FutureWarning: Default solver will be changed to 'lbfgs' in 0.22. Specify a solver to silence this warning.\n",
      "  FutureWarning)\n"
     ]
    },
    {
     "name": "stdout",
     "output_type": "stream",
     "text": [
      "Classifier trained for option MHK VL_Hour_1\n"
     ]
    },
    {
     "name": "stderr",
     "output_type": "stream",
     "text": [
      "/home/zyc/.local/lib/python3.6/site-packages/sklearn/linear_model/logistic.py:433: FutureWarning: Default solver will be changed to 'lbfgs' in 0.22. Specify a solver to silence this warning.\n",
      "  FutureWarning)\n"
     ]
    },
    {
     "name": "stdout",
     "output_type": "stream",
     "text": [
      "Classifier trained for option MHK VL_Hour_2\n"
     ]
    },
    {
     "name": "stderr",
     "output_type": "stream",
     "text": [
      "/home/zyc/.local/lib/python3.6/site-packages/sklearn/linear_model/logistic.py:433: FutureWarning: Default solver will be changed to 'lbfgs' in 0.22. Specify a solver to silence this warning.\n",
      "  FutureWarning)\n"
     ]
    },
    {
     "name": "stdout",
     "output_type": "stream",
     "text": [
      "Classifier trained for option MHK VL_Hour_3\n"
     ]
    },
    {
     "name": "stderr",
     "output_type": "stream",
     "text": [
      "/home/zyc/.local/lib/python3.6/site-packages/sklearn/linear_model/logistic.py:433: FutureWarning: Default solver will be changed to 'lbfgs' in 0.22. Specify a solver to silence this warning.\n",
      "  FutureWarning)\n"
     ]
    },
    {
     "name": "stdout",
     "output_type": "stream",
     "text": [
      "Classifier trained for option MHK VL_Hour_4\n"
     ]
    },
    {
     "name": "stderr",
     "output_type": "stream",
     "text": [
      "/home/zyc/.local/lib/python3.6/site-packages/sklearn/linear_model/logistic.py:433: FutureWarning: Default solver will be changed to 'lbfgs' in 0.22. Specify a solver to silence this warning.\n",
      "  FutureWarning)\n"
     ]
    },
    {
     "name": "stdout",
     "output_type": "stream",
     "text": [
      "Classifier trained for option MHK VL_Hour_5\n"
     ]
    },
    {
     "name": "stderr",
     "output_type": "stream",
     "text": [
      "/home/zyc/.local/lib/python3.6/site-packages/sklearn/linear_model/logistic.py:433: FutureWarning: Default solver will be changed to 'lbfgs' in 0.22. Specify a solver to silence this warning.\n",
      "  FutureWarning)\n"
     ]
    },
    {
     "name": "stdout",
     "output_type": "stream",
     "text": [
      "Classifier trained for option MHK VL_Hour_6\n"
     ]
    },
    {
     "name": "stderr",
     "output_type": "stream",
     "text": [
      "/home/zyc/.local/lib/python3.6/site-packages/sklearn/linear_model/logistic.py:433: FutureWarning: Default solver will be changed to 'lbfgs' in 0.22. Specify a solver to silence this warning.\n",
      "  FutureWarning)\n"
     ]
    },
    {
     "name": "stdout",
     "output_type": "stream",
     "text": [
      "Classifier trained for option MHK VL_Hour_7\n"
     ]
    },
    {
     "name": "stderr",
     "output_type": "stream",
     "text": [
      "/home/zyc/.local/lib/python3.6/site-packages/sklearn/linear_model/logistic.py:433: FutureWarning: Default solver will be changed to 'lbfgs' in 0.22. Specify a solver to silence this warning.\n",
      "  FutureWarning)\n"
     ]
    },
    {
     "name": "stdout",
     "output_type": "stream",
     "text": [
      "Classifier trained for option MHK VL_Hour_8\n"
     ]
    },
    {
     "name": "stderr",
     "output_type": "stream",
     "text": [
      "/home/zyc/.local/lib/python3.6/site-packages/sklearn/linear_model/logistic.py:433: FutureWarning: Default solver will be changed to 'lbfgs' in 0.22. Specify a solver to silence this warning.\n",
      "  FutureWarning)\n"
     ]
    },
    {
     "name": "stdout",
     "output_type": "stream",
     "text": [
      "Classifier trained for option MHK VL_Hour_9\n"
     ]
    },
    {
     "name": "stderr",
     "output_type": "stream",
     "text": [
      "/home/zyc/.local/lib/python3.6/site-packages/sklearn/linear_model/logistic.py:433: FutureWarning: Default solver will be changed to 'lbfgs' in 0.22. Specify a solver to silence this warning.\n",
      "  FutureWarning)\n"
     ]
    },
    {
     "name": "stdout",
     "output_type": "stream",
     "text": [
      "Classifier trained for option MHK VL_Hour_10\n",
      "Classifier trained for option MHK VL_Hour_11\n"
     ]
    },
    {
     "name": "stderr",
     "output_type": "stream",
     "text": [
      "/home/zyc/.local/lib/python3.6/site-packages/sklearn/linear_model/logistic.py:433: FutureWarning: Default solver will be changed to 'lbfgs' in 0.22. Specify a solver to silence this warning.\n",
      "  FutureWarning)\n",
      "/home/zyc/.local/lib/python3.6/site-packages/sklearn/linear_model/logistic.py:433: FutureWarning: Default solver will be changed to 'lbfgs' in 0.22. Specify a solver to silence this warning.\n",
      "  FutureWarning)\n"
     ]
    },
    {
     "name": "stdout",
     "output_type": "stream",
     "text": [
      "Classifier trained for option MHK VL_Hour_12\n"
     ]
    },
    {
     "name": "stderr",
     "output_type": "stream",
     "text": [
      "/home/zyc/.local/lib/python3.6/site-packages/sklearn/linear_model/logistic.py:433: FutureWarning: Default solver will be changed to 'lbfgs' in 0.22. Specify a solver to silence this warning.\n",
      "  FutureWarning)\n"
     ]
    },
    {
     "name": "stdout",
     "output_type": "stream",
     "text": [
      "Classifier trained for option MHK VL_Hour_13\n"
     ]
    },
    {
     "name": "stderr",
     "output_type": "stream",
     "text": [
      "/home/zyc/.local/lib/python3.6/site-packages/sklearn/linear_model/logistic.py:433: FutureWarning: Default solver will be changed to 'lbfgs' in 0.22. Specify a solver to silence this warning.\n",
      "  FutureWarning)\n"
     ]
    },
    {
     "name": "stdout",
     "output_type": "stream",
     "text": [
      "Classifier trained for option MHK VL_Hour_14\n"
     ]
    },
    {
     "name": "stderr",
     "output_type": "stream",
     "text": [
      "/home/zyc/.local/lib/python3.6/site-packages/sklearn/linear_model/logistic.py:433: FutureWarning: Default solver will be changed to 'lbfgs' in 0.22. Specify a solver to silence this warning.\n",
      "  FutureWarning)\n"
     ]
    },
    {
     "name": "stdout",
     "output_type": "stream",
     "text": [
      "Classifier trained for option MHK VL_Hour_15\n"
     ]
    },
    {
     "name": "stderr",
     "output_type": "stream",
     "text": [
      "/home/zyc/.local/lib/python3.6/site-packages/sklearn/linear_model/logistic.py:433: FutureWarning: Default solver will be changed to 'lbfgs' in 0.22. Specify a solver to silence this warning.\n",
      "  FutureWarning)\n"
     ]
    },
    {
     "name": "stdout",
     "output_type": "stream",
     "text": [
      "Classifier trained for option MHK VL_Hour_16\n"
     ]
    },
    {
     "name": "stderr",
     "output_type": "stream",
     "text": [
      "/home/zyc/.local/lib/python3.6/site-packages/sklearn/linear_model/logistic.py:433: FutureWarning: Default solver will be changed to 'lbfgs' in 0.22. Specify a solver to silence this warning.\n",
      "  FutureWarning)\n"
     ]
    },
    {
     "name": "stdout",
     "output_type": "stream",
     "text": [
      "Classifier trained for option MHK VL_Hour_17\n"
     ]
    },
    {
     "name": "stderr",
     "output_type": "stream",
     "text": [
      "/home/zyc/.local/lib/python3.6/site-packages/sklearn/linear_model/logistic.py:433: FutureWarning: Default solver will be changed to 'lbfgs' in 0.22. Specify a solver to silence this warning.\n",
      "  FutureWarning)\n"
     ]
    },
    {
     "name": "stdout",
     "output_type": "stream",
     "text": [
      "Classifier trained for option MHK VL_Hour_18\n",
      "Classifier trained for option MHK VL_Hour_19\n"
     ]
    },
    {
     "name": "stderr",
     "output_type": "stream",
     "text": [
      "/home/zyc/.local/lib/python3.6/site-packages/sklearn/linear_model/logistic.py:433: FutureWarning: Default solver will be changed to 'lbfgs' in 0.22. Specify a solver to silence this warning.\n",
      "  FutureWarning)\n",
      "/home/zyc/.local/lib/python3.6/site-packages/sklearn/linear_model/logistic.py:433: FutureWarning: Default solver will be changed to 'lbfgs' in 0.22. Specify a solver to silence this warning.\n",
      "  FutureWarning)\n"
     ]
    },
    {
     "name": "stdout",
     "output_type": "stream",
     "text": [
      "Classifier trained for option MHK VL_Hour_20\n"
     ]
    },
    {
     "name": "stderr",
     "output_type": "stream",
     "text": [
      "/home/zyc/.local/lib/python3.6/site-packages/sklearn/linear_model/logistic.py:433: FutureWarning: Default solver will be changed to 'lbfgs' in 0.22. Specify a solver to silence this warning.\n",
      "  FutureWarning)\n"
     ]
    },
    {
     "name": "stdout",
     "output_type": "stream",
     "text": [
      "Classifier trained for option MHK VL_Hour_21\n"
     ]
    },
    {
     "name": "stderr",
     "output_type": "stream",
     "text": [
      "/home/zyc/.local/lib/python3.6/site-packages/sklearn/linear_model/logistic.py:433: FutureWarning: Default solver will be changed to 'lbfgs' in 0.22. Specify a solver to silence this warning.\n",
      "  FutureWarning)\n"
     ]
    },
    {
     "name": "stdout",
     "output_type": "stream",
     "text": [
      "Classifier trained for option MHK VL_Hour_22\n"
     ]
    },
    {
     "name": "stderr",
     "output_type": "stream",
     "text": [
      "/home/zyc/.local/lib/python3.6/site-packages/sklearn/linear_model/logistic.py:433: FutureWarning: Default solver will be changed to 'lbfgs' in 0.22. Specify a solver to silence this warning.\n",
      "  FutureWarning)\n"
     ]
    },
    {
     "name": "stdout",
     "output_type": "stream",
     "text": [
      "Classifier trained for option MHK VL_Hour_23\n"
     ]
    },
    {
     "name": "stderr",
     "output_type": "stream",
     "text": [
      "/home/zyc/.local/lib/python3.6/site-packages/sklearn/linear_model/logistic.py:433: FutureWarning: Default solver will be changed to 'lbfgs' in 0.22. Specify a solver to silence this warning.\n",
      "  FutureWarning)\n"
     ]
    },
    {
     "name": "stdout",
     "output_type": "stream",
     "text": [
      "Classifier trained for option MILLWD_Hour_0\n"
     ]
    },
    {
     "name": "stderr",
     "output_type": "stream",
     "text": [
      "/home/zyc/.local/lib/python3.6/site-packages/sklearn/linear_model/logistic.py:433: FutureWarning: Default solver will be changed to 'lbfgs' in 0.22. Specify a solver to silence this warning.\n",
      "  FutureWarning)\n"
     ]
    },
    {
     "name": "stdout",
     "output_type": "stream",
     "text": [
      "Classifier trained for option MILLWD_Hour_1\n"
     ]
    },
    {
     "name": "stderr",
     "output_type": "stream",
     "text": [
      "/home/zyc/.local/lib/python3.6/site-packages/sklearn/linear_model/logistic.py:433: FutureWarning: Default solver will be changed to 'lbfgs' in 0.22. Specify a solver to silence this warning.\n",
      "  FutureWarning)\n"
     ]
    },
    {
     "name": "stdout",
     "output_type": "stream",
     "text": [
      "Classifier trained for option MILLWD_Hour_2\n"
     ]
    },
    {
     "name": "stderr",
     "output_type": "stream",
     "text": [
      "/home/zyc/.local/lib/python3.6/site-packages/sklearn/linear_model/logistic.py:433: FutureWarning: Default solver will be changed to 'lbfgs' in 0.22. Specify a solver to silence this warning.\n",
      "  FutureWarning)\n"
     ]
    },
    {
     "name": "stdout",
     "output_type": "stream",
     "text": [
      "Classifier trained for option MILLWD_Hour_3\n"
     ]
    },
    {
     "name": "stderr",
     "output_type": "stream",
     "text": [
      "/home/zyc/.local/lib/python3.6/site-packages/sklearn/linear_model/logistic.py:433: FutureWarning: Default solver will be changed to 'lbfgs' in 0.22. Specify a solver to silence this warning.\n",
      "  FutureWarning)\n"
     ]
    },
    {
     "name": "stdout",
     "output_type": "stream",
     "text": [
      "Classifier trained for option MILLWD_Hour_4\n"
     ]
    },
    {
     "name": "stderr",
     "output_type": "stream",
     "text": [
      "/home/zyc/.local/lib/python3.6/site-packages/sklearn/linear_model/logistic.py:433: FutureWarning: Default solver will be changed to 'lbfgs' in 0.22. Specify a solver to silence this warning.\n",
      "  FutureWarning)\n"
     ]
    },
    {
     "name": "stdout",
     "output_type": "stream",
     "text": [
      "Classifier trained for option MILLWD_Hour_5\n"
     ]
    },
    {
     "name": "stderr",
     "output_type": "stream",
     "text": [
      "/home/zyc/.local/lib/python3.6/site-packages/sklearn/linear_model/logistic.py:433: FutureWarning: Default solver will be changed to 'lbfgs' in 0.22. Specify a solver to silence this warning.\n",
      "  FutureWarning)\n"
     ]
    },
    {
     "name": "stdout",
     "output_type": "stream",
     "text": [
      "Classifier trained for option MILLWD_Hour_6\n"
     ]
    },
    {
     "name": "stderr",
     "output_type": "stream",
     "text": [
      "/home/zyc/.local/lib/python3.6/site-packages/sklearn/linear_model/logistic.py:433: FutureWarning: Default solver will be changed to 'lbfgs' in 0.22. Specify a solver to silence this warning.\n",
      "  FutureWarning)\n"
     ]
    },
    {
     "name": "stdout",
     "output_type": "stream",
     "text": [
      "Classifier trained for option MILLWD_Hour_7\n"
     ]
    },
    {
     "name": "stderr",
     "output_type": "stream",
     "text": [
      "/home/zyc/.local/lib/python3.6/site-packages/sklearn/linear_model/logistic.py:433: FutureWarning: Default solver will be changed to 'lbfgs' in 0.22. Specify a solver to silence this warning.\n",
      "  FutureWarning)\n"
     ]
    },
    {
     "name": "stdout",
     "output_type": "stream",
     "text": [
      "Classifier trained for option MILLWD_Hour_8\n"
     ]
    },
    {
     "name": "stderr",
     "output_type": "stream",
     "text": [
      "/home/zyc/.local/lib/python3.6/site-packages/sklearn/linear_model/logistic.py:433: FutureWarning: Default solver will be changed to 'lbfgs' in 0.22. Specify a solver to silence this warning.\n",
      "  FutureWarning)\n"
     ]
    },
    {
     "name": "stdout",
     "output_type": "stream",
     "text": [
      "Classifier trained for option MILLWD_Hour_9\n"
     ]
    },
    {
     "name": "stderr",
     "output_type": "stream",
     "text": [
      "/home/zyc/.local/lib/python3.6/site-packages/sklearn/linear_model/logistic.py:433: FutureWarning: Default solver will be changed to 'lbfgs' in 0.22. Specify a solver to silence this warning.\n",
      "  FutureWarning)\n"
     ]
    },
    {
     "name": "stdout",
     "output_type": "stream",
     "text": [
      "Classifier trained for option MILLWD_Hour_10\n"
     ]
    },
    {
     "name": "stderr",
     "output_type": "stream",
     "text": [
      "/home/zyc/.local/lib/python3.6/site-packages/sklearn/linear_model/logistic.py:433: FutureWarning: Default solver will be changed to 'lbfgs' in 0.22. Specify a solver to silence this warning.\n",
      "  FutureWarning)\n"
     ]
    },
    {
     "name": "stdout",
     "output_type": "stream",
     "text": [
      "Classifier trained for option MILLWD_Hour_11\n"
     ]
    },
    {
     "name": "stderr",
     "output_type": "stream",
     "text": [
      "/home/zyc/.local/lib/python3.6/site-packages/sklearn/linear_model/logistic.py:433: FutureWarning: Default solver will be changed to 'lbfgs' in 0.22. Specify a solver to silence this warning.\n",
      "  FutureWarning)\n"
     ]
    },
    {
     "name": "stdout",
     "output_type": "stream",
     "text": [
      "Classifier trained for option MILLWD_Hour_12\n"
     ]
    },
    {
     "name": "stderr",
     "output_type": "stream",
     "text": [
      "/home/zyc/.local/lib/python3.6/site-packages/sklearn/linear_model/logistic.py:433: FutureWarning: Default solver will be changed to 'lbfgs' in 0.22. Specify a solver to silence this warning.\n",
      "  FutureWarning)\n"
     ]
    },
    {
     "name": "stdout",
     "output_type": "stream",
     "text": [
      "Classifier trained for option MILLWD_Hour_13\n"
     ]
    },
    {
     "name": "stderr",
     "output_type": "stream",
     "text": [
      "/home/zyc/.local/lib/python3.6/site-packages/sklearn/linear_model/logistic.py:433: FutureWarning: Default solver will be changed to 'lbfgs' in 0.22. Specify a solver to silence this warning.\n",
      "  FutureWarning)\n"
     ]
    },
    {
     "name": "stdout",
     "output_type": "stream",
     "text": [
      "Classifier trained for option MILLWD_Hour_14\n"
     ]
    },
    {
     "name": "stderr",
     "output_type": "stream",
     "text": [
      "/home/zyc/.local/lib/python3.6/site-packages/sklearn/linear_model/logistic.py:433: FutureWarning: Default solver will be changed to 'lbfgs' in 0.22. Specify a solver to silence this warning.\n",
      "  FutureWarning)\n"
     ]
    },
    {
     "name": "stdout",
     "output_type": "stream",
     "text": [
      "Classifier trained for option MILLWD_Hour_15\n"
     ]
    },
    {
     "name": "stderr",
     "output_type": "stream",
     "text": [
      "/home/zyc/.local/lib/python3.6/site-packages/sklearn/linear_model/logistic.py:433: FutureWarning: Default solver will be changed to 'lbfgs' in 0.22. Specify a solver to silence this warning.\n",
      "  FutureWarning)\n"
     ]
    },
    {
     "name": "stdout",
     "output_type": "stream",
     "text": [
      "Classifier trained for option MILLWD_Hour_16\n"
     ]
    },
    {
     "name": "stderr",
     "output_type": "stream",
     "text": [
      "/home/zyc/.local/lib/python3.6/site-packages/sklearn/linear_model/logistic.py:433: FutureWarning: Default solver will be changed to 'lbfgs' in 0.22. Specify a solver to silence this warning.\n",
      "  FutureWarning)\n"
     ]
    },
    {
     "name": "stdout",
     "output_type": "stream",
     "text": [
      "Classifier trained for option MILLWD_Hour_17\n"
     ]
    },
    {
     "name": "stderr",
     "output_type": "stream",
     "text": [
      "/home/zyc/.local/lib/python3.6/site-packages/sklearn/linear_model/logistic.py:433: FutureWarning: Default solver will be changed to 'lbfgs' in 0.22. Specify a solver to silence this warning.\n",
      "  FutureWarning)\n"
     ]
    },
    {
     "name": "stdout",
     "output_type": "stream",
     "text": [
      "Classifier trained for option MILLWD_Hour_18\n"
     ]
    },
    {
     "name": "stderr",
     "output_type": "stream",
     "text": [
      "/home/zyc/.local/lib/python3.6/site-packages/sklearn/linear_model/logistic.py:433: FutureWarning: Default solver will be changed to 'lbfgs' in 0.22. Specify a solver to silence this warning.\n",
      "  FutureWarning)\n"
     ]
    },
    {
     "name": "stdout",
     "output_type": "stream",
     "text": [
      "Classifier trained for option MILLWD_Hour_19\n"
     ]
    },
    {
     "name": "stderr",
     "output_type": "stream",
     "text": [
      "/home/zyc/.local/lib/python3.6/site-packages/sklearn/linear_model/logistic.py:433: FutureWarning: Default solver will be changed to 'lbfgs' in 0.22. Specify a solver to silence this warning.\n",
      "  FutureWarning)\n"
     ]
    },
    {
     "name": "stdout",
     "output_type": "stream",
     "text": [
      "Classifier trained for option MILLWD_Hour_20\n"
     ]
    },
    {
     "name": "stderr",
     "output_type": "stream",
     "text": [
      "/home/zyc/.local/lib/python3.6/site-packages/sklearn/linear_model/logistic.py:433: FutureWarning: Default solver will be changed to 'lbfgs' in 0.22. Specify a solver to silence this warning.\n",
      "  FutureWarning)\n"
     ]
    },
    {
     "name": "stdout",
     "output_type": "stream",
     "text": [
      "Classifier trained for option MILLWD_Hour_21\n"
     ]
    },
    {
     "name": "stderr",
     "output_type": "stream",
     "text": [
      "/home/zyc/.local/lib/python3.6/site-packages/sklearn/linear_model/logistic.py:433: FutureWarning: Default solver will be changed to 'lbfgs' in 0.22. Specify a solver to silence this warning.\n",
      "  FutureWarning)\n"
     ]
    },
    {
     "name": "stdout",
     "output_type": "stream",
     "text": [
      "Classifier trained for option MILLWD_Hour_22\n"
     ]
    },
    {
     "name": "stderr",
     "output_type": "stream",
     "text": [
      "/home/zyc/.local/lib/python3.6/site-packages/sklearn/linear_model/logistic.py:433: FutureWarning: Default solver will be changed to 'lbfgs' in 0.22. Specify a solver to silence this warning.\n",
      "  FutureWarning)\n"
     ]
    },
    {
     "name": "stdout",
     "output_type": "stream",
     "text": [
      "Classifier trained for option MILLWD_Hour_23\n"
     ]
    },
    {
     "name": "stderr",
     "output_type": "stream",
     "text": [
      "/home/zyc/.local/lib/python3.6/site-packages/sklearn/linear_model/logistic.py:433: FutureWarning: Default solver will be changed to 'lbfgs' in 0.22. Specify a solver to silence this warning.\n",
      "  FutureWarning)\n"
     ]
    },
    {
     "name": "stdout",
     "output_type": "stream",
     "text": [
      "Classifier trained for option N.Y.C._Hour_0\n"
     ]
    },
    {
     "name": "stderr",
     "output_type": "stream",
     "text": [
      "/home/zyc/.local/lib/python3.6/site-packages/sklearn/linear_model/logistic.py:433: FutureWarning: Default solver will be changed to 'lbfgs' in 0.22. Specify a solver to silence this warning.\n",
      "  FutureWarning)\n"
     ]
    },
    {
     "name": "stdout",
     "output_type": "stream",
     "text": [
      "Classifier trained for option N.Y.C._Hour_1\n"
     ]
    },
    {
     "name": "stderr",
     "output_type": "stream",
     "text": [
      "/home/zyc/.local/lib/python3.6/site-packages/sklearn/linear_model/logistic.py:433: FutureWarning: Default solver will be changed to 'lbfgs' in 0.22. Specify a solver to silence this warning.\n",
      "  FutureWarning)\n"
     ]
    },
    {
     "name": "stdout",
     "output_type": "stream",
     "text": [
      "Classifier trained for option N.Y.C._Hour_2\n"
     ]
    },
    {
     "name": "stderr",
     "output_type": "stream",
     "text": [
      "/home/zyc/.local/lib/python3.6/site-packages/sklearn/linear_model/logistic.py:433: FutureWarning: Default solver will be changed to 'lbfgs' in 0.22. Specify a solver to silence this warning.\n",
      "  FutureWarning)\n"
     ]
    },
    {
     "name": "stdout",
     "output_type": "stream",
     "text": [
      "Classifier trained for option N.Y.C._Hour_3\n"
     ]
    },
    {
     "name": "stderr",
     "output_type": "stream",
     "text": [
      "/home/zyc/.local/lib/python3.6/site-packages/sklearn/linear_model/logistic.py:433: FutureWarning: Default solver will be changed to 'lbfgs' in 0.22. Specify a solver to silence this warning.\n",
      "  FutureWarning)\n"
     ]
    },
    {
     "name": "stdout",
     "output_type": "stream",
     "text": [
      "Classifier trained for option N.Y.C._Hour_4\n"
     ]
    },
    {
     "name": "stderr",
     "output_type": "stream",
     "text": [
      "/home/zyc/.local/lib/python3.6/site-packages/sklearn/linear_model/logistic.py:433: FutureWarning: Default solver will be changed to 'lbfgs' in 0.22. Specify a solver to silence this warning.\n",
      "  FutureWarning)\n"
     ]
    },
    {
     "name": "stdout",
     "output_type": "stream",
     "text": [
      "Classifier trained for option N.Y.C._Hour_5\n"
     ]
    },
    {
     "name": "stderr",
     "output_type": "stream",
     "text": [
      "/home/zyc/.local/lib/python3.6/site-packages/sklearn/linear_model/logistic.py:433: FutureWarning: Default solver will be changed to 'lbfgs' in 0.22. Specify a solver to silence this warning.\n",
      "  FutureWarning)\n"
     ]
    },
    {
     "name": "stdout",
     "output_type": "stream",
     "text": [
      "Classifier trained for option N.Y.C._Hour_6\n"
     ]
    },
    {
     "name": "stderr",
     "output_type": "stream",
     "text": [
      "/home/zyc/.local/lib/python3.6/site-packages/sklearn/linear_model/logistic.py:433: FutureWarning: Default solver will be changed to 'lbfgs' in 0.22. Specify a solver to silence this warning.\n",
      "  FutureWarning)\n"
     ]
    },
    {
     "name": "stdout",
     "output_type": "stream",
     "text": [
      "Classifier trained for option N.Y.C._Hour_7\n"
     ]
    },
    {
     "name": "stderr",
     "output_type": "stream",
     "text": [
      "/home/zyc/.local/lib/python3.6/site-packages/sklearn/linear_model/logistic.py:433: FutureWarning: Default solver will be changed to 'lbfgs' in 0.22. Specify a solver to silence this warning.\n",
      "  FutureWarning)\n"
     ]
    },
    {
     "name": "stdout",
     "output_type": "stream",
     "text": [
      "Classifier trained for option N.Y.C._Hour_8\n"
     ]
    },
    {
     "name": "stderr",
     "output_type": "stream",
     "text": [
      "/home/zyc/.local/lib/python3.6/site-packages/sklearn/linear_model/logistic.py:433: FutureWarning: Default solver will be changed to 'lbfgs' in 0.22. Specify a solver to silence this warning.\n",
      "  FutureWarning)\n"
     ]
    },
    {
     "name": "stdout",
     "output_type": "stream",
     "text": [
      "Classifier trained for option N.Y.C._Hour_9\n"
     ]
    },
    {
     "name": "stderr",
     "output_type": "stream",
     "text": [
      "/home/zyc/.local/lib/python3.6/site-packages/sklearn/linear_model/logistic.py:433: FutureWarning: Default solver will be changed to 'lbfgs' in 0.22. Specify a solver to silence this warning.\n",
      "  FutureWarning)\n"
     ]
    },
    {
     "name": "stdout",
     "output_type": "stream",
     "text": [
      "Classifier trained for option N.Y.C._Hour_10\n"
     ]
    },
    {
     "name": "stderr",
     "output_type": "stream",
     "text": [
      "/home/zyc/.local/lib/python3.6/site-packages/sklearn/linear_model/logistic.py:433: FutureWarning: Default solver will be changed to 'lbfgs' in 0.22. Specify a solver to silence this warning.\n",
      "  FutureWarning)\n"
     ]
    },
    {
     "name": "stdout",
     "output_type": "stream",
     "text": [
      "Classifier trained for option N.Y.C._Hour_11\n"
     ]
    },
    {
     "name": "stderr",
     "output_type": "stream",
     "text": [
      "/home/zyc/.local/lib/python3.6/site-packages/sklearn/linear_model/logistic.py:433: FutureWarning: Default solver will be changed to 'lbfgs' in 0.22. Specify a solver to silence this warning.\n",
      "  FutureWarning)\n"
     ]
    },
    {
     "name": "stdout",
     "output_type": "stream",
     "text": [
      "Classifier trained for option N.Y.C._Hour_12\n"
     ]
    },
    {
     "name": "stderr",
     "output_type": "stream",
     "text": [
      "/home/zyc/.local/lib/python3.6/site-packages/sklearn/linear_model/logistic.py:433: FutureWarning: Default solver will be changed to 'lbfgs' in 0.22. Specify a solver to silence this warning.\n",
      "  FutureWarning)\n"
     ]
    },
    {
     "name": "stdout",
     "output_type": "stream",
     "text": [
      "Classifier trained for option N.Y.C._Hour_13\n"
     ]
    },
    {
     "name": "stderr",
     "output_type": "stream",
     "text": [
      "/home/zyc/.local/lib/python3.6/site-packages/sklearn/linear_model/logistic.py:433: FutureWarning: Default solver will be changed to 'lbfgs' in 0.22. Specify a solver to silence this warning.\n",
      "  FutureWarning)\n"
     ]
    },
    {
     "name": "stdout",
     "output_type": "stream",
     "text": [
      "Classifier trained for option N.Y.C._Hour_14\n"
     ]
    },
    {
     "name": "stderr",
     "output_type": "stream",
     "text": [
      "/home/zyc/.local/lib/python3.6/site-packages/sklearn/linear_model/logistic.py:433: FutureWarning: Default solver will be changed to 'lbfgs' in 0.22. Specify a solver to silence this warning.\n",
      "  FutureWarning)\n"
     ]
    },
    {
     "name": "stdout",
     "output_type": "stream",
     "text": [
      "Classifier trained for option N.Y.C._Hour_15\n"
     ]
    },
    {
     "name": "stderr",
     "output_type": "stream",
     "text": [
      "/home/zyc/.local/lib/python3.6/site-packages/sklearn/linear_model/logistic.py:433: FutureWarning: Default solver will be changed to 'lbfgs' in 0.22. Specify a solver to silence this warning.\n",
      "  FutureWarning)\n"
     ]
    },
    {
     "name": "stdout",
     "output_type": "stream",
     "text": [
      "Classifier trained for option N.Y.C._Hour_16\n"
     ]
    },
    {
     "name": "stderr",
     "output_type": "stream",
     "text": [
      "/home/zyc/.local/lib/python3.6/site-packages/sklearn/linear_model/logistic.py:433: FutureWarning: Default solver will be changed to 'lbfgs' in 0.22. Specify a solver to silence this warning.\n",
      "  FutureWarning)\n"
     ]
    },
    {
     "name": "stdout",
     "output_type": "stream",
     "text": [
      "Classifier trained for option N.Y.C._Hour_17\n"
     ]
    },
    {
     "name": "stderr",
     "output_type": "stream",
     "text": [
      "/home/zyc/.local/lib/python3.6/site-packages/sklearn/linear_model/logistic.py:433: FutureWarning: Default solver will be changed to 'lbfgs' in 0.22. Specify a solver to silence this warning.\n",
      "  FutureWarning)\n"
     ]
    },
    {
     "name": "stdout",
     "output_type": "stream",
     "text": [
      "Classifier trained for option N.Y.C._Hour_18\n"
     ]
    },
    {
     "name": "stderr",
     "output_type": "stream",
     "text": [
      "/home/zyc/.local/lib/python3.6/site-packages/sklearn/linear_model/logistic.py:433: FutureWarning: Default solver will be changed to 'lbfgs' in 0.22. Specify a solver to silence this warning.\n",
      "  FutureWarning)\n"
     ]
    },
    {
     "name": "stdout",
     "output_type": "stream",
     "text": [
      "Classifier trained for option N.Y.C._Hour_19\n"
     ]
    },
    {
     "name": "stderr",
     "output_type": "stream",
     "text": [
      "/home/zyc/.local/lib/python3.6/site-packages/sklearn/linear_model/logistic.py:433: FutureWarning: Default solver will be changed to 'lbfgs' in 0.22. Specify a solver to silence this warning.\n",
      "  FutureWarning)\n"
     ]
    },
    {
     "name": "stdout",
     "output_type": "stream",
     "text": [
      "Classifier trained for option N.Y.C._Hour_20\n"
     ]
    },
    {
     "name": "stderr",
     "output_type": "stream",
     "text": [
      "/home/zyc/.local/lib/python3.6/site-packages/sklearn/linear_model/logistic.py:433: FutureWarning: Default solver will be changed to 'lbfgs' in 0.22. Specify a solver to silence this warning.\n",
      "  FutureWarning)\n"
     ]
    },
    {
     "name": "stdout",
     "output_type": "stream",
     "text": [
      "Classifier trained for option N.Y.C._Hour_21\n"
     ]
    },
    {
     "name": "stderr",
     "output_type": "stream",
     "text": [
      "/home/zyc/.local/lib/python3.6/site-packages/sklearn/linear_model/logistic.py:433: FutureWarning: Default solver will be changed to 'lbfgs' in 0.22. Specify a solver to silence this warning.\n",
      "  FutureWarning)\n"
     ]
    },
    {
     "name": "stdout",
     "output_type": "stream",
     "text": [
      "Classifier trained for option N.Y.C._Hour_22\n"
     ]
    },
    {
     "name": "stderr",
     "output_type": "stream",
     "text": [
      "/home/zyc/.local/lib/python3.6/site-packages/sklearn/linear_model/logistic.py:433: FutureWarning: Default solver will be changed to 'lbfgs' in 0.22. Specify a solver to silence this warning.\n",
      "  FutureWarning)\n"
     ]
    },
    {
     "name": "stdout",
     "output_type": "stream",
     "text": [
      "Classifier trained for option N.Y.C._Hour_23\n"
     ]
    },
    {
     "name": "stderr",
     "output_type": "stream",
     "text": [
      "/home/zyc/.local/lib/python3.6/site-packages/sklearn/linear_model/logistic.py:433: FutureWarning: Default solver will be changed to 'lbfgs' in 0.22. Specify a solver to silence this warning.\n",
      "  FutureWarning)\n"
     ]
    },
    {
     "name": "stdout",
     "output_type": "stream",
     "text": [
      "Classifier trained for option NORTH_Hour_0\n"
     ]
    },
    {
     "name": "stderr",
     "output_type": "stream",
     "text": [
      "/home/zyc/.local/lib/python3.6/site-packages/sklearn/linear_model/logistic.py:433: FutureWarning: Default solver will be changed to 'lbfgs' in 0.22. Specify a solver to silence this warning.\n",
      "  FutureWarning)\n"
     ]
    },
    {
     "name": "stdout",
     "output_type": "stream",
     "text": [
      "Classifier trained for option NORTH_Hour_1\n"
     ]
    },
    {
     "name": "stderr",
     "output_type": "stream",
     "text": [
      "/home/zyc/.local/lib/python3.6/site-packages/sklearn/linear_model/logistic.py:433: FutureWarning: Default solver will be changed to 'lbfgs' in 0.22. Specify a solver to silence this warning.\n",
      "  FutureWarning)\n"
     ]
    },
    {
     "name": "stdout",
     "output_type": "stream",
     "text": [
      "Classifier trained for option NORTH_Hour_2\n"
     ]
    },
    {
     "name": "stderr",
     "output_type": "stream",
     "text": [
      "/home/zyc/.local/lib/python3.6/site-packages/sklearn/linear_model/logistic.py:433: FutureWarning: Default solver will be changed to 'lbfgs' in 0.22. Specify a solver to silence this warning.\n",
      "  FutureWarning)\n"
     ]
    },
    {
     "name": "stdout",
     "output_type": "stream",
     "text": [
      "Classifier trained for option NORTH_Hour_3\n"
     ]
    },
    {
     "name": "stderr",
     "output_type": "stream",
     "text": [
      "/home/zyc/.local/lib/python3.6/site-packages/sklearn/linear_model/logistic.py:433: FutureWarning: Default solver will be changed to 'lbfgs' in 0.22. Specify a solver to silence this warning.\n",
      "  FutureWarning)\n"
     ]
    },
    {
     "name": "stdout",
     "output_type": "stream",
     "text": [
      "Classifier trained for option NORTH_Hour_4\n"
     ]
    },
    {
     "name": "stderr",
     "output_type": "stream",
     "text": [
      "/home/zyc/.local/lib/python3.6/site-packages/sklearn/linear_model/logistic.py:433: FutureWarning: Default solver will be changed to 'lbfgs' in 0.22. Specify a solver to silence this warning.\n",
      "  FutureWarning)\n"
     ]
    },
    {
     "name": "stdout",
     "output_type": "stream",
     "text": [
      "Classifier trained for option NORTH_Hour_5\n"
     ]
    },
    {
     "name": "stderr",
     "output_type": "stream",
     "text": [
      "/home/zyc/.local/lib/python3.6/site-packages/sklearn/linear_model/logistic.py:433: FutureWarning: Default solver will be changed to 'lbfgs' in 0.22. Specify a solver to silence this warning.\n",
      "  FutureWarning)\n"
     ]
    },
    {
     "name": "stdout",
     "output_type": "stream",
     "text": [
      "Classifier trained for option NORTH_Hour_6\n"
     ]
    },
    {
     "name": "stderr",
     "output_type": "stream",
     "text": [
      "/home/zyc/.local/lib/python3.6/site-packages/sklearn/linear_model/logistic.py:433: FutureWarning: Default solver will be changed to 'lbfgs' in 0.22. Specify a solver to silence this warning.\n",
      "  FutureWarning)\n"
     ]
    },
    {
     "name": "stdout",
     "output_type": "stream",
     "text": [
      "Classifier trained for option NORTH_Hour_7\n"
     ]
    },
    {
     "name": "stderr",
     "output_type": "stream",
     "text": [
      "/home/zyc/.local/lib/python3.6/site-packages/sklearn/linear_model/logistic.py:433: FutureWarning: Default solver will be changed to 'lbfgs' in 0.22. Specify a solver to silence this warning.\n",
      "  FutureWarning)\n"
     ]
    },
    {
     "name": "stdout",
     "output_type": "stream",
     "text": [
      "Classifier trained for option NORTH_Hour_8\n"
     ]
    },
    {
     "name": "stderr",
     "output_type": "stream",
     "text": [
      "/home/zyc/.local/lib/python3.6/site-packages/sklearn/linear_model/logistic.py:433: FutureWarning: Default solver will be changed to 'lbfgs' in 0.22. Specify a solver to silence this warning.\n",
      "  FutureWarning)\n"
     ]
    },
    {
     "name": "stdout",
     "output_type": "stream",
     "text": [
      "Classifier trained for option NORTH_Hour_9\n"
     ]
    },
    {
     "name": "stderr",
     "output_type": "stream",
     "text": [
      "/home/zyc/.local/lib/python3.6/site-packages/sklearn/linear_model/logistic.py:433: FutureWarning: Default solver will be changed to 'lbfgs' in 0.22. Specify a solver to silence this warning.\n",
      "  FutureWarning)\n"
     ]
    },
    {
     "name": "stdout",
     "output_type": "stream",
     "text": [
      "Classifier trained for option NORTH_Hour_10\n"
     ]
    },
    {
     "name": "stderr",
     "output_type": "stream",
     "text": [
      "/home/zyc/.local/lib/python3.6/site-packages/sklearn/linear_model/logistic.py:433: FutureWarning: Default solver will be changed to 'lbfgs' in 0.22. Specify a solver to silence this warning.\n",
      "  FutureWarning)\n"
     ]
    },
    {
     "name": "stdout",
     "output_type": "stream",
     "text": [
      "Classifier trained for option NORTH_Hour_11\n"
     ]
    },
    {
     "name": "stderr",
     "output_type": "stream",
     "text": [
      "/home/zyc/.local/lib/python3.6/site-packages/sklearn/linear_model/logistic.py:433: FutureWarning: Default solver will be changed to 'lbfgs' in 0.22. Specify a solver to silence this warning.\n",
      "  FutureWarning)\n"
     ]
    },
    {
     "name": "stdout",
     "output_type": "stream",
     "text": [
      "Classifier trained for option NORTH_Hour_12\n"
     ]
    },
    {
     "name": "stderr",
     "output_type": "stream",
     "text": [
      "/home/zyc/.local/lib/python3.6/site-packages/sklearn/linear_model/logistic.py:433: FutureWarning: Default solver will be changed to 'lbfgs' in 0.22. Specify a solver to silence this warning.\n",
      "  FutureWarning)\n"
     ]
    },
    {
     "name": "stdout",
     "output_type": "stream",
     "text": [
      "Classifier trained for option NORTH_Hour_13\n"
     ]
    },
    {
     "name": "stderr",
     "output_type": "stream",
     "text": [
      "/home/zyc/.local/lib/python3.6/site-packages/sklearn/linear_model/logistic.py:433: FutureWarning: Default solver will be changed to 'lbfgs' in 0.22. Specify a solver to silence this warning.\n",
      "  FutureWarning)\n"
     ]
    },
    {
     "name": "stdout",
     "output_type": "stream",
     "text": [
      "Classifier trained for option NORTH_Hour_14\n"
     ]
    },
    {
     "name": "stderr",
     "output_type": "stream",
     "text": [
      "/home/zyc/.local/lib/python3.6/site-packages/sklearn/linear_model/logistic.py:433: FutureWarning: Default solver will be changed to 'lbfgs' in 0.22. Specify a solver to silence this warning.\n",
      "  FutureWarning)\n"
     ]
    },
    {
     "name": "stdout",
     "output_type": "stream",
     "text": [
      "Classifier trained for option NORTH_Hour_15\n"
     ]
    },
    {
     "name": "stderr",
     "output_type": "stream",
     "text": [
      "/home/zyc/.local/lib/python3.6/site-packages/sklearn/linear_model/logistic.py:433: FutureWarning: Default solver will be changed to 'lbfgs' in 0.22. Specify a solver to silence this warning.\n",
      "  FutureWarning)\n"
     ]
    },
    {
     "name": "stdout",
     "output_type": "stream",
     "text": [
      "Classifier trained for option NORTH_Hour_16\n"
     ]
    },
    {
     "name": "stderr",
     "output_type": "stream",
     "text": [
      "/home/zyc/.local/lib/python3.6/site-packages/sklearn/linear_model/logistic.py:433: FutureWarning: Default solver will be changed to 'lbfgs' in 0.22. Specify a solver to silence this warning.\n",
      "  FutureWarning)\n"
     ]
    },
    {
     "name": "stdout",
     "output_type": "stream",
     "text": [
      "Classifier trained for option NORTH_Hour_17\n",
      "Classifier trained for option NORTH_Hour_18\n"
     ]
    },
    {
     "name": "stderr",
     "output_type": "stream",
     "text": [
      "/home/zyc/.local/lib/python3.6/site-packages/sklearn/linear_model/logistic.py:433: FutureWarning: Default solver will be changed to 'lbfgs' in 0.22. Specify a solver to silence this warning.\n",
      "  FutureWarning)\n",
      "/home/zyc/.local/lib/python3.6/site-packages/sklearn/linear_model/logistic.py:433: FutureWarning: Default solver will be changed to 'lbfgs' in 0.22. Specify a solver to silence this warning.\n",
      "  FutureWarning)\n"
     ]
    },
    {
     "name": "stdout",
     "output_type": "stream",
     "text": [
      "Classifier trained for option NORTH_Hour_19\n"
     ]
    },
    {
     "name": "stderr",
     "output_type": "stream",
     "text": [
      "/home/zyc/.local/lib/python3.6/site-packages/sklearn/linear_model/logistic.py:433: FutureWarning: Default solver will be changed to 'lbfgs' in 0.22. Specify a solver to silence this warning.\n",
      "  FutureWarning)\n"
     ]
    },
    {
     "name": "stdout",
     "output_type": "stream",
     "text": [
      "Classifier trained for option NORTH_Hour_20\n"
     ]
    },
    {
     "name": "stderr",
     "output_type": "stream",
     "text": [
      "/home/zyc/.local/lib/python3.6/site-packages/sklearn/linear_model/logistic.py:433: FutureWarning: Default solver will be changed to 'lbfgs' in 0.22. Specify a solver to silence this warning.\n",
      "  FutureWarning)\n"
     ]
    },
    {
     "name": "stdout",
     "output_type": "stream",
     "text": [
      "Classifier trained for option NORTH_Hour_21\n"
     ]
    },
    {
     "name": "stderr",
     "output_type": "stream",
     "text": [
      "/home/zyc/.local/lib/python3.6/site-packages/sklearn/linear_model/logistic.py:433: FutureWarning: Default solver will be changed to 'lbfgs' in 0.22. Specify a solver to silence this warning.\n",
      "  FutureWarning)\n"
     ]
    },
    {
     "name": "stdout",
     "output_type": "stream",
     "text": [
      "Classifier trained for option NORTH_Hour_22\n"
     ]
    },
    {
     "name": "stderr",
     "output_type": "stream",
     "text": [
      "/home/zyc/.local/lib/python3.6/site-packages/sklearn/linear_model/logistic.py:433: FutureWarning: Default solver will be changed to 'lbfgs' in 0.22. Specify a solver to silence this warning.\n",
      "  FutureWarning)\n"
     ]
    },
    {
     "name": "stdout",
     "output_type": "stream",
     "text": [
      "Classifier trained for option NORTH_Hour_23\n",
      "Classifier trained for option WEST_Hour_0\n"
     ]
    },
    {
     "name": "stderr",
     "output_type": "stream",
     "text": [
      "/home/zyc/.local/lib/python3.6/site-packages/sklearn/linear_model/logistic.py:433: FutureWarning: Default solver will be changed to 'lbfgs' in 0.22. Specify a solver to silence this warning.\n",
      "  FutureWarning)\n",
      "/home/zyc/.local/lib/python3.6/site-packages/sklearn/linear_model/logistic.py:433: FutureWarning: Default solver will be changed to 'lbfgs' in 0.22. Specify a solver to silence this warning.\n",
      "  FutureWarning)\n"
     ]
    },
    {
     "name": "stdout",
     "output_type": "stream",
     "text": [
      "Classifier trained for option WEST_Hour_1\n"
     ]
    },
    {
     "name": "stderr",
     "output_type": "stream",
     "text": [
      "/home/zyc/.local/lib/python3.6/site-packages/sklearn/linear_model/logistic.py:433: FutureWarning: Default solver will be changed to 'lbfgs' in 0.22. Specify a solver to silence this warning.\n",
      "  FutureWarning)\n"
     ]
    },
    {
     "name": "stdout",
     "output_type": "stream",
     "text": [
      "Classifier trained for option WEST_Hour_2\n"
     ]
    },
    {
     "name": "stderr",
     "output_type": "stream",
     "text": [
      "/home/zyc/.local/lib/python3.6/site-packages/sklearn/linear_model/logistic.py:433: FutureWarning: Default solver will be changed to 'lbfgs' in 0.22. Specify a solver to silence this warning.\n",
      "  FutureWarning)\n"
     ]
    },
    {
     "name": "stdout",
     "output_type": "stream",
     "text": [
      "Classifier trained for option WEST_Hour_3\n"
     ]
    },
    {
     "name": "stderr",
     "output_type": "stream",
     "text": [
      "/home/zyc/.local/lib/python3.6/site-packages/sklearn/linear_model/logistic.py:433: FutureWarning: Default solver will be changed to 'lbfgs' in 0.22. Specify a solver to silence this warning.\n",
      "  FutureWarning)\n"
     ]
    },
    {
     "name": "stdout",
     "output_type": "stream",
     "text": [
      "Classifier trained for option WEST_Hour_4\n"
     ]
    },
    {
     "name": "stderr",
     "output_type": "stream",
     "text": [
      "/home/zyc/.local/lib/python3.6/site-packages/sklearn/linear_model/logistic.py:433: FutureWarning: Default solver will be changed to 'lbfgs' in 0.22. Specify a solver to silence this warning.\n",
      "  FutureWarning)\n"
     ]
    },
    {
     "name": "stdout",
     "output_type": "stream",
     "text": [
      "Classifier trained for option WEST_Hour_5\n"
     ]
    },
    {
     "name": "stderr",
     "output_type": "stream",
     "text": [
      "/home/zyc/.local/lib/python3.6/site-packages/sklearn/linear_model/logistic.py:433: FutureWarning: Default solver will be changed to 'lbfgs' in 0.22. Specify a solver to silence this warning.\n",
      "  FutureWarning)\n"
     ]
    },
    {
     "name": "stdout",
     "output_type": "stream",
     "text": [
      "Classifier trained for option WEST_Hour_6\n"
     ]
    },
    {
     "name": "stderr",
     "output_type": "stream",
     "text": [
      "/home/zyc/.local/lib/python3.6/site-packages/sklearn/linear_model/logistic.py:433: FutureWarning: Default solver will be changed to 'lbfgs' in 0.22. Specify a solver to silence this warning.\n",
      "  FutureWarning)\n"
     ]
    },
    {
     "name": "stdout",
     "output_type": "stream",
     "text": [
      "Classifier trained for option WEST_Hour_7\n"
     ]
    },
    {
     "name": "stderr",
     "output_type": "stream",
     "text": [
      "/home/zyc/.local/lib/python3.6/site-packages/sklearn/linear_model/logistic.py:433: FutureWarning: Default solver will be changed to 'lbfgs' in 0.22. Specify a solver to silence this warning.\n",
      "  FutureWarning)\n"
     ]
    },
    {
     "name": "stdout",
     "output_type": "stream",
     "text": [
      "Classifier trained for option WEST_Hour_8\n"
     ]
    },
    {
     "name": "stderr",
     "output_type": "stream",
     "text": [
      "/home/zyc/.local/lib/python3.6/site-packages/sklearn/linear_model/logistic.py:433: FutureWarning: Default solver will be changed to 'lbfgs' in 0.22. Specify a solver to silence this warning.\n",
      "  FutureWarning)\n"
     ]
    },
    {
     "name": "stdout",
     "output_type": "stream",
     "text": [
      "Classifier trained for option WEST_Hour_9\n"
     ]
    },
    {
     "name": "stderr",
     "output_type": "stream",
     "text": [
      "/home/zyc/.local/lib/python3.6/site-packages/sklearn/linear_model/logistic.py:433: FutureWarning: Default solver will be changed to 'lbfgs' in 0.22. Specify a solver to silence this warning.\n",
      "  FutureWarning)\n"
     ]
    },
    {
     "name": "stdout",
     "output_type": "stream",
     "text": [
      "Classifier trained for option WEST_Hour_10\n"
     ]
    },
    {
     "name": "stderr",
     "output_type": "stream",
     "text": [
      "/home/zyc/.local/lib/python3.6/site-packages/sklearn/linear_model/logistic.py:433: FutureWarning: Default solver will be changed to 'lbfgs' in 0.22. Specify a solver to silence this warning.\n",
      "  FutureWarning)\n"
     ]
    },
    {
     "name": "stdout",
     "output_type": "stream",
     "text": [
      "Classifier trained for option WEST_Hour_11\n"
     ]
    },
    {
     "name": "stderr",
     "output_type": "stream",
     "text": [
      "/home/zyc/.local/lib/python3.6/site-packages/sklearn/linear_model/logistic.py:433: FutureWarning: Default solver will be changed to 'lbfgs' in 0.22. Specify a solver to silence this warning.\n",
      "  FutureWarning)\n"
     ]
    },
    {
     "name": "stdout",
     "output_type": "stream",
     "text": [
      "Classifier trained for option WEST_Hour_12\n"
     ]
    },
    {
     "name": "stderr",
     "output_type": "stream",
     "text": [
      "/home/zyc/.local/lib/python3.6/site-packages/sklearn/linear_model/logistic.py:433: FutureWarning: Default solver will be changed to 'lbfgs' in 0.22. Specify a solver to silence this warning.\n",
      "  FutureWarning)\n"
     ]
    },
    {
     "name": "stdout",
     "output_type": "stream",
     "text": [
      "Classifier trained for option WEST_Hour_13\n"
     ]
    },
    {
     "name": "stderr",
     "output_type": "stream",
     "text": [
      "/home/zyc/.local/lib/python3.6/site-packages/sklearn/linear_model/logistic.py:433: FutureWarning: Default solver will be changed to 'lbfgs' in 0.22. Specify a solver to silence this warning.\n",
      "  FutureWarning)\n"
     ]
    },
    {
     "name": "stdout",
     "output_type": "stream",
     "text": [
      "Classifier trained for option WEST_Hour_14\n"
     ]
    },
    {
     "name": "stderr",
     "output_type": "stream",
     "text": [
      "/home/zyc/.local/lib/python3.6/site-packages/sklearn/linear_model/logistic.py:433: FutureWarning: Default solver will be changed to 'lbfgs' in 0.22. Specify a solver to silence this warning.\n",
      "  FutureWarning)\n"
     ]
    },
    {
     "name": "stdout",
     "output_type": "stream",
     "text": [
      "Classifier trained for option WEST_Hour_15\n"
     ]
    },
    {
     "name": "stderr",
     "output_type": "stream",
     "text": [
      "/home/zyc/.local/lib/python3.6/site-packages/sklearn/linear_model/logistic.py:433: FutureWarning: Default solver will be changed to 'lbfgs' in 0.22. Specify a solver to silence this warning.\n",
      "  FutureWarning)\n"
     ]
    },
    {
     "name": "stdout",
     "output_type": "stream",
     "text": [
      "Classifier trained for option WEST_Hour_16\n"
     ]
    },
    {
     "name": "stderr",
     "output_type": "stream",
     "text": [
      "/home/zyc/.local/lib/python3.6/site-packages/sklearn/linear_model/logistic.py:433: FutureWarning: Default solver will be changed to 'lbfgs' in 0.22. Specify a solver to silence this warning.\n",
      "  FutureWarning)\n"
     ]
    },
    {
     "name": "stdout",
     "output_type": "stream",
     "text": [
      "Classifier trained for option WEST_Hour_17\n"
     ]
    },
    {
     "name": "stderr",
     "output_type": "stream",
     "text": [
      "/home/zyc/.local/lib/python3.6/site-packages/sklearn/linear_model/logistic.py:433: FutureWarning: Default solver will be changed to 'lbfgs' in 0.22. Specify a solver to silence this warning.\n",
      "  FutureWarning)\n"
     ]
    },
    {
     "name": "stdout",
     "output_type": "stream",
     "text": [
      "Classifier trained for option WEST_Hour_18\n"
     ]
    },
    {
     "name": "stderr",
     "output_type": "stream",
     "text": [
      "/home/zyc/.local/lib/python3.6/site-packages/sklearn/linear_model/logistic.py:433: FutureWarning: Default solver will be changed to 'lbfgs' in 0.22. Specify a solver to silence this warning.\n",
      "  FutureWarning)\n"
     ]
    },
    {
     "name": "stdout",
     "output_type": "stream",
     "text": [
      "Classifier trained for option WEST_Hour_19\n"
     ]
    },
    {
     "name": "stderr",
     "output_type": "stream",
     "text": [
      "/home/zyc/.local/lib/python3.6/site-packages/sklearn/linear_model/logistic.py:433: FutureWarning: Default solver will be changed to 'lbfgs' in 0.22. Specify a solver to silence this warning.\n",
      "  FutureWarning)\n"
     ]
    },
    {
     "name": "stdout",
     "output_type": "stream",
     "text": [
      "Classifier trained for option WEST_Hour_20\n"
     ]
    },
    {
     "name": "stderr",
     "output_type": "stream",
     "text": [
      "/home/zyc/.local/lib/python3.6/site-packages/sklearn/linear_model/logistic.py:433: FutureWarning: Default solver will be changed to 'lbfgs' in 0.22. Specify a solver to silence this warning.\n",
      "  FutureWarning)\n"
     ]
    },
    {
     "name": "stdout",
     "output_type": "stream",
     "text": [
      "Classifier trained for option WEST_Hour_21\n"
     ]
    },
    {
     "name": "stderr",
     "output_type": "stream",
     "text": [
      "/home/zyc/.local/lib/python3.6/site-packages/sklearn/linear_model/logistic.py:433: FutureWarning: Default solver will be changed to 'lbfgs' in 0.22. Specify a solver to silence this warning.\n",
      "  FutureWarning)\n"
     ]
    },
    {
     "name": "stdout",
     "output_type": "stream",
     "text": [
      "Classifier trained for option WEST_Hour_22\n"
     ]
    },
    {
     "name": "stderr",
     "output_type": "stream",
     "text": [
      "/home/zyc/.local/lib/python3.6/site-packages/sklearn/linear_model/logistic.py:433: FutureWarning: Default solver will be changed to 'lbfgs' in 0.22. Specify a solver to silence this warning.\n",
      "  FutureWarning)\n"
     ]
    },
    {
     "name": "stdout",
     "output_type": "stream",
     "text": [
      "Classifier trained for option WEST_Hour_23\n",
      "\n",
      "Overall training accuracy = 98.88 percent.\n"
     ]
    }
   ],
   "source": [
    "#logistic regression \n",
    "classifiers = []\n",
    "\n",
    "# We have two options here. Use previous training experience, or learn anew.\n",
    "useSavedClassifiers = False\n",
    "\n",
    "if not useSavedClassifiers:\n",
    "\n",
    "    print(\"Starting training module...\\n\")\n",
    "    trainPriceDA, trainPriceDART, trainLoadDA = loadNYISOData(2015)\n",
    "\n",
    "    numberOfDays =  int(len(trainPriceDA.index))\n",
    "    print(\"Loaded hourly prices from 2015 for %d days.\" % numberOfDays)\n",
    "\n",
    "    # We will implement a trading strategy, where we bid a particular quantile of the past\n",
    "    # DA prices for an option. If you do not know what a quantile means, refer to the Wikipedia\n",
    "    # article on it. Essentially, a 95% quantile of the DA prices equals that value for which\n",
    "    # 95% of the DA prices are below it. Store all quantiles starting from 50% in steps of\n",
    "    # 5% in a dictionary. Store them in a pickle file.\n",
    "\n",
    "    quantilesToStore = [0.70, 0.75, 0.80, 0.85, 0.90, 0.95]\n",
    "    offerPrices = trainPriceDA.quantile(q=quantilesToStore).transpose().to_dict()\n",
    "    pickle.dump(offerPrices, open(\"./Training/OfferPrices\", 'wb'))\n",
    "\n",
    "    # Calculate the average price spread for each option over the entire year. This will guide\n",
    "    # us in choosing our portfolio. Store it as a dictionary. Our bid will choose those\n",
    "    # options that our classifier indicates that they will be profitable and historically they\n",
    "    # have higher average price differences, indicating that they have higher rate of return.\n",
    "    # Store them using pickle.\n",
    "\n",
    "    averagePriceSpread = trainPriceDART.mean(axis=0).transpose().to_dict()\n",
    "    pickle.dump(averagePriceSpread, open(\"./Training/AveragePriceSpread\", 'wb'))\n",
    "\n",
    "    # Create the training dataset using the function 'createClassifierIO' on the prices and\n",
    "    # loads, and store them in 'trainX', and 'trainY'.\n",
    "\n",
    "    trainX, trainY, _ = createClassifierIO(trainPriceDA, trainPriceDART, trainLoadDA)\n",
    "\n",
    "    # Define a collection of classifiers, one for each option. You can try different options, such\n",
    "    # as that based on an SVM, logistic regression, multilayer perceptron based, etc. We will\n",
    "    # measure training accuracy to indicate how well the classifier works on the training dataset.\n",
    "    # However, good training accuracy does not always indicate good test performance.\n",
    "    # Avoid over-fitting.\n",
    "\n",
    "\n",
    "    classifiers = [LogisticRegression()\n",
    "                   for _ in range(nOptions)]\n",
    "\n",
    "    trainingAccuracy = 0\n",
    "\n",
    "    for ii in range(nOptions):\n",
    "        classifiers[ii].fit(trainX, trainY[:, ii])\n",
    "        print(\"Classifier trained for option \" + optionNames[ii])\n",
    "        trainingAccuracy += classifiers[ii].score(trainX, trainY[:, ii])\n",
    "\n",
    "        # Store the classifier.\n",
    "        pickle.dump(classifiers[ii], open(\"./Training/Classifier_\" + optionNames[ii], 'wb'))\n",
    "\n",
    "    print(\"\\nOverall training accuracy = %1.2f percent.\" % (100 * trainingAccuracy/nOptions))\n",
    "\n",
    "    del numberOfDays, trainPriceDA, trainLoadDA, trainPriceDART, trainX, trainY\n",
    "else:\n",
    "\n",
    "    # Load the classifiers, the offer prices at various quantiles, and the average price spreads.\n",
    "\n",
    "    print(\"Loading previously trained variables...\\n\")\n",
    "    classifiers = [pickle.load(open(\"./Training/Classifier_\" + optionNames[ii], 'rb'))\n",
    "                   for ii in range(nOptions)]\n",
    "    offerPrices = pickle.load(open(\"./Training/OfferPrices\", 'rb'))\n",
    "    averagePriceSpread = pickle.load(open(\"./Training/AveragePriceSpread\", 'rb'))\n",
    "\n",
    "    print(\"All training variables were loaded successfully...\\n\")"
   ]
  },
  {
   "cell_type": "code",
   "execution_count": 27,
   "metadata": {},
   "outputs": [
    {
     "name": "stdout",
     "output_type": "stream",
     "text": [
      "Starting the testing module...\n",
      "\n",
      "Test Accuracy Stats: Min = 46.56%, Avg = 57.11%, Max = 66.94%\n"
     ]
    }
   ],
   "source": [
    "# First, load the test data from NYISO for the year 2016. Again, utilize our function\n",
    "# named 'loadNYISOData'.\n",
    "\n",
    "print(\"Starting the testing module...\\n\")\n",
    "testPriceDA, testPriceDART, testLoadDA = loadNYISOData(2016)\n",
    "\n",
    "# Create the data for the classifier using the function 'createClassifierIO'.\n",
    "testX, testY, rangeOfDays = createClassifierIO(testPriceDA, testPriceDART, testLoadDA)\n",
    "\n",
    "# The next step is not useful for implementing the trading strategy, but quickly check how accurate\n",
    "# your trained classifiers are for the test data. Training accuracy is not always indicative of\n",
    "# test accuracy.\n",
    "\n",
    "testingAccuracy = [classifiers[ii].score(testX, testY[:, ii]) for ii in range(nOptions)]\n",
    "print(\"Test Accuracy Stats: Min = %.2f%%, Avg = %.2f%%, Max = %.2f%%\" %\n",
    "      (100 * np.min(testingAccuracy),\n",
    "       100 * np.mean(testingAccuracy),\n",
    "       100 * np.max(testingAccuracy)))\n",
    "\n",
    "# Utilize the classifiers to predict the sign of DA - RT prices for each day in 'rangeOfDays' for\n",
    "# the test data. Store the result in a pandas data frame with columns as the option names and the\n",
    "# day in year as index.\n",
    "predictedY = pd.DataFrame(np.column_stack([classifiers[ii].predict(testX) for ii in range(nOptions)]),\n",
    "                          columns=optionNames, index=rangeOfDays)"
   ]
  },
  {
   "cell_type": "code",
   "execution_count": 28,
   "metadata": {},
   "outputs": [
    {
     "name": "stdout",
     "output_type": "stream",
     "text": [
      "Day 3: Reward (in $) = -68,574\n",
      "Day 4: Reward (in $) = 1,472,038\n",
      "Day 5: Reward (in $) = 25,356\n",
      "Day 6: Reward (in $) = -11,882\n",
      "Day 7: Reward (in $) = -33,883\n",
      "Day 8: Reward (in $) = 539\n",
      "Day 9: Reward (in $) = -39,478\n",
      "Day 10: Reward (in $) = -105,012\n",
      "Day 11: Reward (in $) = -67,182\n",
      "Day 12: Reward (in $) = -19,287\n",
      "Day 13: Reward (in $) = -28,999\n",
      "Day 14: Reward (in $) = -37,957\n",
      "Day 15: Reward (in $) = -400\n",
      "Day 16: Reward (in $) = 44,664\n",
      "Day 17: Reward (in $) = -68,690\n",
      "Day 18: Reward (in $) = -21,544\n",
      "Day 19: Reward (in $) = 16,018\n",
      "Day 20: Reward (in $) = -5,747\n",
      "Day 21: Reward (in $) = 31,128\n",
      "Day 22: Reward (in $) = 123,407\n",
      "Day 23: Reward (in $) = 28,103\n",
      "Day 24: Reward (in $) = -86,607\n",
      "Day 25: Reward (in $) = -88,456\n",
      "Day 26: Reward (in $) = -18,724\n",
      "Day 27: Reward (in $) = -7,309\n",
      "Day 28: Reward (in $) = -12,434\n",
      "Day 29: Reward (in $) = -22,453\n",
      "Day 30: Reward (in $) = -35,343\n",
      "Day 31: Reward (in $) = -47,234\n",
      "Day 32: Reward (in $) = -11,477\n",
      "Day 33: Reward (in $) = -57,770\n",
      "Day 34: Reward (in $) = 1,416\n",
      "Day 35: Reward (in $) = 13,937\n",
      "Day 36: Reward (in $) = -39,770\n",
      "Day 37: Reward (in $) = -41,872\n",
      "Day 38: Reward (in $) = 27,892\n",
      "Day 39: Reward (in $) = 20,229\n",
      "Day 40: Reward (in $) = -31,137\n",
      "Day 41: Reward (in $) = 8,596\n",
      "Day 42: Reward (in $) = -15,711\n",
      "Day 43: Reward (in $) = -32,346\n",
      "Day 44: Reward (in $) = -25,119\n",
      "Day 45: Reward (in $) = -18,098\n",
      "Day 46: Reward (in $) = 88,248\n",
      "Day 47: Reward (in $) = 54,510\n",
      "Day 48: Reward (in $) = -55,067\n",
      "Day 49: Reward (in $) = -46,254\n",
      "Day 50: Reward (in $) = -49,183\n",
      "Day 51: Reward (in $) = -1,465\n",
      "Day 52: Reward (in $) = -25,086\n",
      "Day 53: Reward (in $) = -15,126\n",
      "Day 54: Reward (in $) = -1,444\n",
      "Day 55: Reward (in $) = -5,159\n",
      "Day 56: Reward (in $) = -43,718\n",
      "Day 57: Reward (in $) = -28,452\n",
      "Day 58: Reward (in $) = -25,991\n",
      "Day 59: Reward (in $) = -16,108\n",
      "Day 60: Reward (in $) = -6,979\n",
      "Day 61: Reward (in $) = -119,157\n",
      "Day 62: Reward (in $) = -14,061\n",
      "Day 63: Reward (in $) = -18,882\n",
      "Day 64: Reward (in $) = -48,180\n",
      "Day 65: Reward (in $) = 37,648\n",
      "Day 66: Reward (in $) = 72,195\n",
      "Day 67: Reward (in $) = -52,829\n",
      "Day 68: Reward (in $) = -65,259\n",
      "Day 69: Reward (in $) = -29,127\n",
      "Day 70: Reward (in $) = 135,353\n",
      "Day 71: Reward (in $) = -5,375\n",
      "Day 72: Reward (in $) = -9,514\n",
      "Day 73: Reward (in $) = -56,274\n",
      "Day 74: Reward (in $) = -36,087\n",
      "Day 75: Reward (in $) = -4,028\n",
      "Day 76: Reward (in $) = -96,049\n",
      "Day 77: Reward (in $) = -15,232\n",
      "Day 78: Reward (in $) = -34,985\n",
      "Day 79: Reward (in $) = -40,864\n",
      "Day 80: Reward (in $) = -37,810\n",
      "Day 81: Reward (in $) = 111,000\n",
      "Day 82: Reward (in $) = 26,426\n",
      "Day 83: Reward (in $) = -9,246\n",
      "Day 84: Reward (in $) = -3,439\n",
      "Day 85: Reward (in $) = 21,159\n",
      "Day 86: Reward (in $) = -29,272\n",
      "Day 87: Reward (in $) = 2,632,846\n",
      "Day 88: Reward (in $) = 916,871\n",
      "Day 89: Reward (in $) = -22,673\n",
      "Day 90: Reward (in $) = -9,153\n",
      "Day 91: Reward (in $) = -112,237\n",
      "Day 92: Reward (in $) = 76,313\n",
      "Day 93: Reward (in $) = -1,407\n",
      "Day 94: Reward (in $) = 6,062\n",
      "Day 95: Reward (in $) = -23,308\n",
      "Day 96: Reward (in $) = 66,637\n",
      "Day 97: Reward (in $) = 24,565\n",
      "Day 98: Reward (in $) = -6,217\n",
      "Day 99: Reward (in $) = -24,649\n",
      "Day 100: Reward (in $) = -36,641\n",
      "Day 101: Reward (in $) = -20,404\n",
      "Day 102: Reward (in $) = -39,023\n",
      "Day 103: Reward (in $) = 75,346\n",
      "Day 104: Reward (in $) = -34,000\n",
      "Day 105: Reward (in $) = -72,034\n",
      "Day 106: Reward (in $) = -10,950\n",
      "Day 107: Reward (in $) = -25,265\n",
      "Day 108: Reward (in $) = 27,835\n",
      "Day 109: Reward (in $) = -2,368\n",
      "Day 110: Reward (in $) = -40,377\n",
      "Day 111: Reward (in $) = -31,775\n",
      "Day 112: Reward (in $) = 108,801\n",
      "Day 113: Reward (in $) = -49,115\n",
      "Day 114: Reward (in $) = -61,977\n",
      "Day 115: Reward (in $) = -118,520\n",
      "Day 116: Reward (in $) = 9,153\n",
      "Day 117: Reward (in $) = -16,870\n",
      "Day 118: Reward (in $) = 5,092\n",
      "Day 119: Reward (in $) = -9,240\n",
      "Day 120: Reward (in $) = 15,807\n",
      "Day 121: Reward (in $) = 52,411\n",
      "Day 122: Reward (in $) = -29,237\n",
      "Day 123: Reward (in $) = -15,594\n",
      "Day 124: Reward (in $) = -39,997\n",
      "Day 125: Reward (in $) = -31,402\n",
      "Day 126: Reward (in $) = -7,216\n",
      "Day 127: Reward (in $) = -39,088\n",
      "Day 128: Reward (in $) = -32,636\n",
      "Day 129: Reward (in $) = -38,539\n",
      "Day 130: Reward (in $) = -10,902\n",
      "Day 131: Reward (in $) = 13,227\n",
      "Day 132: Reward (in $) = 53,588\n",
      "Day 133: Reward (in $) = 59,293\n",
      "Day 134: Reward (in $) = -50,397\n",
      "Day 135: Reward (in $) = -15,471\n",
      "Day 136: Reward (in $) = -41,885\n",
      "Day 137: Reward (in $) = -47,550\n",
      "Day 138: Reward (in $) = -103,093\n",
      "Day 139: Reward (in $) = -2,016\n",
      "Day 140: Reward (in $) = -58,822\n",
      "Day 141: Reward (in $) = 26,311\n",
      "Day 142: Reward (in $) = 26,440\n",
      "Day 143: Reward (in $) = -12,011\n",
      "Day 144: Reward (in $) = -38,762\n",
      "Day 145: Reward (in $) = -47,367\n",
      "Day 146: Reward (in $) = -7,871\n",
      "Day 147: Reward (in $) = -69,229\n",
      "Day 148: Reward (in $) = -13,537\n",
      "Day 149: Reward (in $) = -7,451\n",
      "Day 150: Reward (in $) = 54,618\n",
      "Day 151: Reward (in $) = 530,922\n",
      "Day 152: Reward (in $) = 383,437\n",
      "Day 153: Reward (in $) = 120,946\n",
      "Day 154: Reward (in $) = 5,489\n",
      "Day 155: Reward (in $) = -44,066\n",
      "Day 156: Reward (in $) = -31,887\n",
      "Day 157: Reward (in $) = -129,016\n",
      "Day 158: Reward (in $) = -74,714\n",
      "Day 159: Reward (in $) = -36,275\n",
      "Day 160: Reward (in $) = -118,484\n",
      "Day 161: Reward (in $) = -45,984\n",
      "Day 162: Reward (in $) = 435,188\n",
      "Day 163: Reward (in $) = -14,378\n",
      "Day 164: Reward (in $) = -12,748\n",
      "Day 165: Reward (in $) = 616,502\n",
      "Day 166: Reward (in $) = -22,278\n",
      "Day 167: Reward (in $) = 8,721\n",
      "Day 168: Reward (in $) = 967\n",
      "Day 169: Reward (in $) = 7,756\n",
      "Day 170: Reward (in $) = -32,758\n",
      "Day 171: Reward (in $) = -3,576\n",
      "Day 172: Reward (in $) = -10,614\n",
      "Day 173: Reward (in $) = 20,699\n",
      "Day 174: Reward (in $) = 15,026\n",
      "Day 175: Reward (in $) = 18,305\n",
      "Day 176: Reward (in $) = -16,384\n",
      "Day 177: Reward (in $) = -29,506\n",
      "Day 178: Reward (in $) = -22,546\n",
      "Day 179: Reward (in $) = -17,432\n",
      "Day 180: Reward (in $) = -366\n",
      "Day 181: Reward (in $) = -20,247\n",
      "Day 182: Reward (in $) = -15,053\n",
      "Day 183: Reward (in $) = -70,670\n",
      "Day 184: Reward (in $) = -101,720\n",
      "Day 185: Reward (in $) = -33,302\n",
      "Day 186: Reward (in $) = 35,497\n",
      "Day 187: Reward (in $) = 15,126\n",
      "Day 188: Reward (in $) = 2,126\n",
      "Day 189: Reward (in $) = -7,080\n",
      "Day 190: Reward (in $) = -99,926\n",
      "Day 191: Reward (in $) = -23,568\n",
      "Day 192: Reward (in $) = -22,927\n",
      "Day 193: Reward (in $) = -60,213\n",
      "Day 194: Reward (in $) = -772\n",
      "Day 195: Reward (in $) = 5,974\n",
      "Day 196: Reward (in $) = 10,714\n",
      "Day 197: Reward (in $) = 11,916\n",
      "Day 198: Reward (in $) = 38,895\n",
      "Day 199: Reward (in $) = -4,948\n",
      "Day 200: Reward (in $) = -77,984\n",
      "Day 201: Reward (in $) = -7,719\n",
      "Day 202: Reward (in $) = -5,718\n",
      "Day 203: Reward (in $) = 13,513\n",
      "Day 204: Reward (in $) = 4,595\n",
      "Day 205: Reward (in $) = -26,228\n",
      "Day 206: Reward (in $) = -2,327\n",
      "Day 207: Reward (in $) = -4,042\n",
      "Day 208: Reward (in $) = 21,383\n",
      "Day 209: Reward (in $) = 24,174\n",
      "Day 210: Reward (in $) = 206,160\n",
      "Day 211: Reward (in $) = 47,060\n",
      "Day 212: Reward (in $) = 54,880\n",
      "Day 213: Reward (in $) = -6,576\n",
      "Day 214: Reward (in $) = -70,198\n",
      "Day 215: Reward (in $) = -70,434\n",
      "Day 216: Reward (in $) = 1,027\n",
      "Day 217: Reward (in $) = 2,107\n",
      "Day 218: Reward (in $) = 25,652\n",
      "Day 219: Reward (in $) = -29,043\n",
      "Day 220: Reward (in $) = -3,285\n",
      "Day 221: Reward (in $) = -28,871\n",
      "Day 222: Reward (in $) = 17,565\n",
      "Day 223: Reward (in $) = 5,892\n",
      "Day 224: Reward (in $) = 21\n",
      "Day 225: Reward (in $) = 427\n",
      "Day 226: Reward (in $) = -39,563\n",
      "Day 227: Reward (in $) = -1,626\n",
      "Day 228: Reward (in $) = 15,376\n",
      "Day 229: Reward (in $) = -5,271\n",
      "Day 230: Reward (in $) = -3,504\n",
      "Day 231: Reward (in $) = -1,466\n",
      "Day 232: Reward (in $) = -64,766\n",
      "Day 233: Reward (in $) = -51,400\n",
      "Day 234: Reward (in $) = -80,513\n",
      "Day 235: Reward (in $) = -130,873\n",
      "Day 236: Reward (in $) = 15,981\n",
      "Day 237: Reward (in $) = 58,624\n",
      "Day 238: Reward (in $) = -2,211\n",
      "Day 239: Reward (in $) = -39,127\n",
      "Day 240: Reward (in $) = -15,294\n",
      "Day 241: Reward (in $) = -736\n",
      "Day 242: Reward (in $) = 57,043\n",
      "Day 243: Reward (in $) = -1,885\n",
      "Day 244: Reward (in $) = 5,709\n",
      "Day 245: Reward (in $) = -68,386\n",
      "Day 246: Reward (in $) = -37,236\n",
      "Day 247: Reward (in $) = -5,345\n",
      "Day 248: Reward (in $) = -33,601\n",
      "Day 249: Reward (in $) = -1,036\n",
      "Day 250: Reward (in $) = -18,233\n",
      "Day 251: Reward (in $) = 419\n",
      "Day 252: Reward (in $) = -3,446\n",
      "Day 253: Reward (in $) = 140,117\n",
      "Day 254: Reward (in $) = -9,583\n",
      "Day 255: Reward (in $) = -58,900\n",
      "Day 256: Reward (in $) = -4,382\n",
      "Day 257: Reward (in $) = 41,089\n",
      "Day 258: Reward (in $) = -24,131\n"
     ]
    },
    {
     "name": "stdout",
     "output_type": "stream",
     "text": [
      "Day 259: Reward (in $) = -38,919\n",
      "Day 260: Reward (in $) = -31,315\n",
      "Day 261: Reward (in $) = 68,591\n",
      "Day 262: Reward (in $) = -9,171\n",
      "Day 263: Reward (in $) = -61,658\n",
      "Day 264: Reward (in $) = -41,074\n",
      "Day 265: Reward (in $) = -4,606\n",
      "Day 266: Reward (in $) = -86,358\n",
      "Day 267: Reward (in $) = -8,684\n",
      "Day 268: Reward (in $) = -22,382\n",
      "Day 269: Reward (in $) = -84,241\n",
      "Day 270: Reward (in $) = -69,411\n",
      "Day 271: Reward (in $) = -8,696\n",
      "Day 272: Reward (in $) = -25,185\n",
      "Day 273: Reward (in $) = -42,610\n",
      "Day 274: Reward (in $) = 22,680\n",
      "Day 275: Reward (in $) = 23,453\n",
      "Day 276: Reward (in $) = -19,612\n",
      "Day 277: Reward (in $) = 72,247\n",
      "Day 278: Reward (in $) = 135,861\n",
      "Day 279: Reward (in $) = -1,709\n",
      "Day 280: Reward (in $) = -25,102\n",
      "Day 281: Reward (in $) = -11,303\n",
      "Day 282: Reward (in $) = 12,267\n",
      "Day 283: Reward (in $) = -5,610\n",
      "Day 284: Reward (in $) = -31,917\n",
      "Day 285: Reward (in $) = 16,213\n",
      "Day 286: Reward (in $) = -53,426\n",
      "Day 287: Reward (in $) = -63,083\n",
      "Day 288: Reward (in $) = 4,265\n",
      "Day 289: Reward (in $) = 5,705\n",
      "Day 290: Reward (in $) = 7,977\n",
      "Day 291: Reward (in $) = -5,987\n",
      "Day 292: Reward (in $) = -1,872\n",
      "Day 293: Reward (in $) = 70,376\n",
      "Day 294: Reward (in $) = -11,084\n",
      "Day 295: Reward (in $) = 6,611\n",
      "Day 296: Reward (in $) = -49,509\n",
      "Day 297: Reward (in $) = -32,065\n",
      "Day 298: Reward (in $) = 140,953\n",
      "Day 299: Reward (in $) = -60,930\n",
      "Day 300: Reward (in $) = -14,930\n",
      "Day 301: Reward (in $) = -6,428\n",
      "Day 302: Reward (in $) = -21,617\n",
      "Day 303: Reward (in $) = 13,114\n",
      "Day 304: Reward (in $) = -54,337\n",
      "Day 305: Reward (in $) = -15,281\n",
      "Day 306: Reward (in $) = -17,402\n",
      "Day 307: Reward (in $) = -6,428\n",
      "Day 308: Reward (in $) = -44,583\n",
      "Day 309: Reward (in $) = 3,644\n",
      "Day 310: Reward (in $) = -5,737\n",
      "Day 311: Reward (in $) = -32,828\n",
      "Day 312: Reward (in $) = 48,531\n",
      "Day 313: Reward (in $) = -1,728\n",
      "Day 314: Reward (in $) = -59,871\n",
      "Day 315: Reward (in $) = -48,888\n",
      "Day 316: Reward (in $) = -12,038\n",
      "Day 317: Reward (in $) = -33,910\n",
      "Day 318: Reward (in $) = -17,415\n",
      "Day 319: Reward (in $) = 2,224\n",
      "Day 320: Reward (in $) = 15,660\n",
      "Day 321: Reward (in $) = 10,134\n",
      "Day 322: Reward (in $) = -5,160\n",
      "Day 323: Reward (in $) = 7,452\n",
      "Day 324: Reward (in $) = 15,445\n",
      "Day 325: Reward (in $) = -26,595\n",
      "Day 326: Reward (in $) = -10,381\n",
      "Day 327: Reward (in $) = -11,364\n",
      "Day 328: Reward (in $) = 57,836\n",
      "Day 329: Reward (in $) = 37,699\n",
      "Day 330: Reward (in $) = 6,219\n",
      "Day 331: Reward (in $) = -12,120\n",
      "Day 332: Reward (in $) = -45,565\n",
      "Day 333: Reward (in $) = -41,899\n",
      "Day 334: Reward (in $) = -2,256\n",
      "Day 335: Reward (in $) = -20,614\n",
      "Day 336: Reward (in $) = -17,670\n",
      "Day 337: Reward (in $) = 18,138\n",
      "Day 338: Reward (in $) = -9,030\n",
      "Day 339: Reward (in $) = -29,129\n",
      "Day 340: Reward (in $) = -29,209\n",
      "Day 341: Reward (in $) = -51,608\n",
      "Day 342: Reward (in $) = -109,897\n",
      "Day 343: Reward (in $) = -123,535\n",
      "Day 344: Reward (in $) = 168,505\n",
      "Day 345: Reward (in $) = 77,105\n",
      "Day 346: Reward (in $) = -24,371\n",
      "Day 347: Reward (in $) = 7,196\n",
      "Day 348: Reward (in $) = -35,163\n",
      "Day 349: Reward (in $) = 78,100\n",
      "Day 350: Reward (in $) = -4,091\n",
      "Day 351: Reward (in $) = 78,309\n",
      "Day 352: Reward (in $) = 42,304\n",
      "Day 353: Reward (in $) = 6,585\n",
      "Day 354: Reward (in $) = -44,665\n",
      "Day 355: Reward (in $) = -59,230\n",
      "Day 356: Reward (in $) = -23,753\n",
      "Day 357: Reward (in $) = -29,594\n",
      "Day 358: Reward (in $) = -13,128\n",
      "Day 359: Reward (in $) = -12,212\n",
      "Day 360: Reward (in $) = -31,733\n",
      "Day 361: Reward (in $) = -70,463\n",
      "Day 362: Reward (in $) = 25,623\n",
      "Day 363: Reward (in $) = 272,928\n",
      "Day 364: Reward (in $) = 1,773\n",
      "Day 365: Reward (in $) = -14,771\n",
      "Total money earned over the year (in $) = 3,192,828\n"
     ]
    }
   ],
   "source": [
    "dailyBudget = 250000\n",
    "quantileOffer =0.8\n",
    "\n",
    "# Keep track of your rewards in each day, a cumulative reward over the year, and a total reward over the\n",
    "# year. Also, keep track of the total reward from each option. Store them as dictionaries that are\n",
    "# indexed by day of the year.\n",
    "reward = {}\n",
    "cumulativeReward = {}\n",
    "totalReward = 0\n",
    "optionReturn = dict((option, 0) for option in optionNames)\n",
    "\n",
    "# Implement the trading strategy on each day!\n",
    "\n",
    "for day in rangeOfDays:\n",
    "\n",
    "    reward[day] = 0\n",
    "\n",
    "    # Find the options that your classifier says that should be profitable. Store the profitable option\n",
    "    # names in chosenOptions.\n",
    "    chosenOptionNumbers = np.ravel(list(np.nonzero(predictedY.loc[day].values)))\n",
    "    if np.size(chosenOptionNumbers) == 0:\n",
    "        continue\n",
    "    chosenOptions = [optionNames[i] for i in chosenOptionNumbers]\n",
    "\n",
    "    # Design the portfolio based on average price spreads. Our strategy is that as long as you have not\n",
    "    # exceeded your daily budget, pick an option from the list of 'chosenOptions' probabilistically, where\n",
    "    # the probability of choosing it is proportional to exponential(historical rewards of that option). That\n",
    "    # is, a historically profitable option is chosen more often than one that is not. Keep sampling and\n",
    "    # decreasing your budget with each bid.\n",
    "\n",
    "    # Start with an empty portfolio.\n",
    "\n",
    "    portfolio = dict((option, 0) for option in chosenOptions)\n",
    "\n",
    "    # Calculate the probabilities of choosing each option among the list 'chosenOptions'. Recall that\n",
    "    # 'chosenOptions' contains the options that your classifier indicates as being profitable.\n",
    "    priceSpreads = [1.0 * averagePriceSpread[option] for option in chosenOptions]\n",
    "    probabilityOptions = [np.exp(p) for p in priceSpreads]\n",
    "    probabilityOptions /= np.sum(probabilityOptions)\n",
    "\n",
    "    # Start with your daily budget.\n",
    "    budget = dailyBudget\n",
    "\n",
    "    # Sampling among the profitable options and bid based on them.\n",
    "    while budget > np.median([offerPrices[quantileOffer][option] for option in chosenOptions]):\n",
    "\n",
    "        optionToBuy = choice(chosenOptions, p=probabilityOptions)\n",
    "\n",
    "        if budget >= offerPrices[quantileOffer][optionToBuy]:\n",
    "            portfolio[optionToBuy] += 1\n",
    "            budget -= offerPrices[quantileOffer][optionToBuy]\n",
    "\n",
    "    # Compute the reward from the day. Go through each of the options you have decided to buy.\n",
    "    # If the DA price is lower than the bid price, then your bid is cleared. For each option you\n",
    "    # have bought, you get a reward equal to the DA - RT price.\n",
    "\n",
    "    for option in chosenOptions:\n",
    "        if testPriceDA.at[day, option] < offerPrices[quantileOffer][option]:\n",
    "            rewardOptionDay = testPriceDART.at[day, option] * portfolio[option]\n",
    "            optionReturn[option] += rewardOptionDay\n",
    "            reward[day] += rewardOptionDay\n",
    "\n",
    "    totalReward += reward[day]\n",
    "\n",
    "    # Calculate the cumulative reward in millions of dollars.\n",
    "    cumulativeReward[day] = totalReward/1000000\n",
    "\n",
    "    print(\"Day \" + str(day) + \": Reward (in $) = \" + \"{0:,.0f}\".format(reward[day]))\n",
    "\n",
    "print(\"Total money earned over the year (in $) = \" + \"{0:,.0f}\".format(totalReward))"
   ]
  },
  {
   "cell_type": "code",
   "execution_count": 29,
   "metadata": {},
   "outputs": [
    {
     "name": "stderr",
     "output_type": "stream",
     "text": [
      "/home/zyc/.local/lib/python3.6/site-packages/matplotlib/figure.py:2359: UserWarning: This figure includes Axes that are not compatible with tight_layout, so results might be incorrect.\n",
      "  warnings.warn(\"This figure includes Axes that are not compatible \"\n"
     ]
    },
    {
     "data": {
      "image/png": "[encoded data removed]",
      "text/plain": [
       "<Figure size 432x288 with 2 Axes>"
      ]
     },
     "metadata": {},
     "output_type": "display_data"
    },
    {
     "data": {
      "image/png": "[encoded data removed]",
      "text/plain": [
       "<Figure size 432x288 with 2 Axes>"
      ]
     },
     "metadata": {},
     "output_type": "display_data"
    }
   ],
   "source": [
    "# Plot the cumulative reward over the year 2016. Also, plot a heat map of the returns from\n",
    "# each option.\n",
    "\n",
    "fig, axs = plt.subplots(2, 1, tight_layout=True)\n",
    "axs = axs.ravel()\n",
    "\n",
    "\n",
    "## Enter code here where you plot in axs[0].\n",
    "lists = sorted(cumulativeReward.items())\n",
    "x, y = zip(*lists)\n",
    "axs[0].plot(x, y)\n",
    "plt.show()\n",
    "\n",
    "\n",
    "axs[1] = sns.heatmap(np.reshape(list(optionReturn.values()), (len(listOfZones), 24)),\n",
    "                     linewidth=0.5,\n",
    "                     cmap=\"YlGnBu\")\n",
    "axs[1].set_yticklabels(listOfZones, rotation=0)\n",
    "axs[1].set_xticklabels(range(24), rotation=90)\n",
    "axs[1].set_title('Returns on different options')\n",
    "plt.show()\n"
   ]
  },
  {
   "cell_type": "markdown",
   "metadata": {},
   "source": [
    "Answer: Logistic Regression has larger profit. The total money with logistic regression is 3,192,828 which is larger than SVM's 1,095,969."
   ]
  },
  {
   "cell_type": "markdown",
   "metadata": {},
   "source": [
    "### Task 3: Quantile (25 points)\n",
    "\n",
    "For the best classifier, try different quanltile choices from the following list: 0.70, 0.75, 0.80, 0.85, 0.90, 0.95. Rank them in terms of profits (low to high). \n",
    "\n",
    "How do you expect the quantile to affect the portfolio? \n",
    "\n",
    "#### (comments here, add a new code cell below)"
   ]
  },
  {
   "cell_type": "code",
   "execution_count": 30,
   "metadata": {},
   "outputs": [
    {
     "name": "stdout",
     "output_type": "stream",
     "text": [
      "Starting training module...\n",
      "\n",
      "Loaded hourly prices from 2015 for 365 days.\n",
      "Classifier trained for option CAPITL_Hour_0\n",
      "Classifier trained for option CAPITL_Hour_1\n"
     ]
    },
    {
     "name": "stderr",
     "output_type": "stream",
     "text": [
      "/home/zyc/.local/lib/python3.6/site-packages/sklearn/neural_network/multilayer_perceptron.py:562: ConvergenceWarning: Stochastic Optimizer: Maximum iterations (200) reached and the optimization hasn't converged yet.\n",
      "  % self.max_iter, ConvergenceWarning)\n"
     ]
    },
    {
     "name": "stdout",
     "output_type": "stream",
     "text": [
      "Classifier trained for option CAPITL_Hour_2\n",
      "Classifier trained for option CAPITL_Hour_3\n",
      "Classifier trained for option CAPITL_Hour_4\n",
      "Classifier trained for option CAPITL_Hour_5\n",
      "Classifier trained for option CAPITL_Hour_6\n",
      "Classifier trained for option CAPITL_Hour_7\n",
      "Classifier trained for option CAPITL_Hour_8\n",
      "Classifier trained for option CAPITL_Hour_9\n",
      "Classifier trained for option CAPITL_Hour_10\n",
      "Classifier trained for option CAPITL_Hour_11\n",
      "Classifier trained for option CAPITL_Hour_12\n",
      "Classifier trained for option CAPITL_Hour_13\n",
      "Classifier trained for option CAPITL_Hour_14\n"
     ]
    },
    {
     "name": "stderr",
     "output_type": "stream",
     "text": [
      "/home/zyc/.local/lib/python3.6/site-packages/sklearn/neural_network/multilayer_perceptron.py:562: ConvergenceWarning: Stochastic Optimizer: Maximum iterations (200) reached and the optimization hasn't converged yet.\n",
      "  % self.max_iter, ConvergenceWarning)\n"
     ]
    },
    {
     "name": "stdout",
     "output_type": "stream",
     "text": [
      "Classifier trained for option CAPITL_Hour_15\n",
      "Classifier trained for option CAPITL_Hour_16\n",
      "Classifier trained for option CAPITL_Hour_17\n"
     ]
    },
    {
     "name": "stderr",
     "output_type": "stream",
     "text": [
      "/home/zyc/.local/lib/python3.6/site-packages/sklearn/neural_network/multilayer_perceptron.py:562: ConvergenceWarning: Stochastic Optimizer: Maximum iterations (200) reached and the optimization hasn't converged yet.\n",
      "  % self.max_iter, ConvergenceWarning)\n"
     ]
    },
    {
     "name": "stdout",
     "output_type": "stream",
     "text": [
      "Classifier trained for option CAPITL_Hour_18\n",
      "Classifier trained for option CAPITL_Hour_19\n",
      "Classifier trained for option CAPITL_Hour_20\n"
     ]
    },
    {
     "name": "stderr",
     "output_type": "stream",
     "text": [
      "/home/zyc/.local/lib/python3.6/site-packages/sklearn/neural_network/multilayer_perceptron.py:562: ConvergenceWarning: Stochastic Optimizer: Maximum iterations (200) reached and the optimization hasn't converged yet.\n",
      "  % self.max_iter, ConvergenceWarning)\n"
     ]
    },
    {
     "name": "stdout",
     "output_type": "stream",
     "text": [
      "Classifier trained for option CAPITL_Hour_21\n",
      "Classifier trained for option CAPITL_Hour_22\n",
      "Classifier trained for option CAPITL_Hour_23\n",
      "Classifier trained for option CENTRL_Hour_0\n",
      "Classifier trained for option CENTRL_Hour_1\n",
      "Classifier trained for option CENTRL_Hour_2\n",
      "Classifier trained for option CENTRL_Hour_3\n",
      "Classifier trained for option CENTRL_Hour_4\n",
      "Classifier trained for option CENTRL_Hour_5\n",
      "Classifier trained for option CENTRL_Hour_6\n",
      "Classifier trained for option CENTRL_Hour_7\n",
      "Classifier trained for option CENTRL_Hour_8\n"
     ]
    },
    {
     "name": "stderr",
     "output_type": "stream",
     "text": [
      "/home/zyc/.local/lib/python3.6/site-packages/sklearn/neural_network/multilayer_perceptron.py:562: ConvergenceWarning: Stochastic Optimizer: Maximum iterations (200) reached and the optimization hasn't converged yet.\n",
      "  % self.max_iter, ConvergenceWarning)\n"
     ]
    },
    {
     "name": "stdout",
     "output_type": "stream",
     "text": [
      "Classifier trained for option CENTRL_Hour_9\n",
      "Classifier trained for option CENTRL_Hour_10\n",
      "Classifier trained for option CENTRL_Hour_11\n",
      "Classifier trained for option CENTRL_Hour_12\n",
      "Classifier trained for option CENTRL_Hour_13\n"
     ]
    },
    {
     "name": "stderr",
     "output_type": "stream",
     "text": [
      "/home/zyc/.local/lib/python3.6/site-packages/sklearn/neural_network/multilayer_perceptron.py:562: ConvergenceWarning: Stochastic Optimizer: Maximum iterations (200) reached and the optimization hasn't converged yet.\n",
      "  % self.max_iter, ConvergenceWarning)\n"
     ]
    },
    {
     "name": "stdout",
     "output_type": "stream",
     "text": [
      "Classifier trained for option CENTRL_Hour_14\n",
      "Classifier trained for option CENTRL_Hour_15\n",
      "Classifier trained for option CENTRL_Hour_16\n",
      "Classifier trained for option CENTRL_Hour_17\n",
      "Classifier trained for option CENTRL_Hour_18\n"
     ]
    },
    {
     "name": "stderr",
     "output_type": "stream",
     "text": [
      "/home/zyc/.local/lib/python3.6/site-packages/sklearn/neural_network/multilayer_perceptron.py:562: ConvergenceWarning: Stochastic Optimizer: Maximum iterations (200) reached and the optimization hasn't converged yet.\n",
      "  % self.max_iter, ConvergenceWarning)\n"
     ]
    },
    {
     "name": "stdout",
     "output_type": "stream",
     "text": [
      "Classifier trained for option CENTRL_Hour_19\n",
      "Classifier trained for option CENTRL_Hour_20\n",
      "Classifier trained for option CENTRL_Hour_21\n",
      "Classifier trained for option CENTRL_Hour_22\n"
     ]
    },
    {
     "name": "stderr",
     "output_type": "stream",
     "text": [
      "/home/zyc/.local/lib/python3.6/site-packages/sklearn/neural_network/multilayer_perceptron.py:562: ConvergenceWarning: Stochastic Optimizer: Maximum iterations (200) reached and the optimization hasn't converged yet.\n",
      "  % self.max_iter, ConvergenceWarning)\n"
     ]
    },
    {
     "name": "stdout",
     "output_type": "stream",
     "text": [
      "Classifier trained for option CENTRL_Hour_23\n",
      "Classifier trained for option DUNWOD_Hour_0\n",
      "Classifier trained for option DUNWOD_Hour_1\n",
      "Classifier trained for option DUNWOD_Hour_2\n",
      "Classifier trained for option DUNWOD_Hour_3\n"
     ]
    },
    {
     "name": "stderr",
     "output_type": "stream",
     "text": [
      "/home/zyc/.local/lib/python3.6/site-packages/sklearn/neural_network/multilayer_perceptron.py:562: ConvergenceWarning: Stochastic Optimizer: Maximum iterations (200) reached and the optimization hasn't converged yet.\n",
      "  % self.max_iter, ConvergenceWarning)\n"
     ]
    },
    {
     "name": "stdout",
     "output_type": "stream",
     "text": [
      "Classifier trained for option DUNWOD_Hour_4\n",
      "Classifier trained for option DUNWOD_Hour_5\n",
      "Classifier trained for option DUNWOD_Hour_6\n",
      "Classifier trained for option DUNWOD_Hour_7\n",
      "Classifier trained for option DUNWOD_Hour_8\n",
      "Classifier trained for option DUNWOD_Hour_9\n"
     ]
    },
    {
     "name": "stderr",
     "output_type": "stream",
     "text": [
      "/home/zyc/.local/lib/python3.6/site-packages/sklearn/neural_network/multilayer_perceptron.py:562: ConvergenceWarning: Stochastic Optimizer: Maximum iterations (200) reached and the optimization hasn't converged yet.\n",
      "  % self.max_iter, ConvergenceWarning)\n"
     ]
    },
    {
     "name": "stdout",
     "output_type": "stream",
     "text": [
      "Classifier trained for option DUNWOD_Hour_10\n",
      "Classifier trained for option DUNWOD_Hour_11\n",
      "Classifier trained for option DUNWOD_Hour_12\n",
      "Classifier trained for option DUNWOD_Hour_13\n",
      "Classifier trained for option DUNWOD_Hour_14\n",
      "Classifier trained for option DUNWOD_Hour_15\n",
      "Classifier trained for option DUNWOD_Hour_16\n"
     ]
    },
    {
     "name": "stderr",
     "output_type": "stream",
     "text": [
      "/home/zyc/.local/lib/python3.6/site-packages/sklearn/neural_network/multilayer_perceptron.py:562: ConvergenceWarning: Stochastic Optimizer: Maximum iterations (200) reached and the optimization hasn't converged yet.\n",
      "  % self.max_iter, ConvergenceWarning)\n"
     ]
    },
    {
     "name": "stdout",
     "output_type": "stream",
     "text": [
      "Classifier trained for option DUNWOD_Hour_17\n",
      "Classifier trained for option DUNWOD_Hour_18\n"
     ]
    },
    {
     "name": "stderr",
     "output_type": "stream",
     "text": [
      "/home/zyc/.local/lib/python3.6/site-packages/sklearn/neural_network/multilayer_perceptron.py:562: ConvergenceWarning: Stochastic Optimizer: Maximum iterations (200) reached and the optimization hasn't converged yet.\n",
      "  % self.max_iter, ConvergenceWarning)\n"
     ]
    },
    {
     "name": "stdout",
     "output_type": "stream",
     "text": [
      "Classifier trained for option DUNWOD_Hour_19\n"
     ]
    },
    {
     "name": "stderr",
     "output_type": "stream",
     "text": [
      "/home/zyc/.local/lib/python3.6/site-packages/sklearn/neural_network/multilayer_perceptron.py:562: ConvergenceWarning: Stochastic Optimizer: Maximum iterations (200) reached and the optimization hasn't converged yet.\n",
      "  % self.max_iter, ConvergenceWarning)\n"
     ]
    },
    {
     "name": "stdout",
     "output_type": "stream",
     "text": [
      "Classifier trained for option DUNWOD_Hour_20\n",
      "Classifier trained for option DUNWOD_Hour_21\n",
      "Classifier trained for option DUNWOD_Hour_22\n",
      "Classifier trained for option DUNWOD_Hour_23\n",
      "Classifier trained for option GENESE_Hour_0\n",
      "Classifier trained for option GENESE_Hour_1\n",
      "Classifier trained for option GENESE_Hour_2\n",
      "Classifier trained for option GENESE_Hour_3\n"
     ]
    },
    {
     "name": "stderr",
     "output_type": "stream",
     "text": [
      "/home/zyc/.local/lib/python3.6/site-packages/sklearn/neural_network/multilayer_perceptron.py:562: ConvergenceWarning: Stochastic Optimizer: Maximum iterations (200) reached and the optimization hasn't converged yet.\n",
      "  % self.max_iter, ConvergenceWarning)\n"
     ]
    },
    {
     "name": "stdout",
     "output_type": "stream",
     "text": [
      "Classifier trained for option GENESE_Hour_4\n"
     ]
    },
    {
     "name": "stderr",
     "output_type": "stream",
     "text": [
      "/home/zyc/.local/lib/python3.6/site-packages/sklearn/neural_network/multilayer_perceptron.py:562: ConvergenceWarning: Stochastic Optimizer: Maximum iterations (200) reached and the optimization hasn't converged yet.\n",
      "  % self.max_iter, ConvergenceWarning)\n"
     ]
    },
    {
     "name": "stdout",
     "output_type": "stream",
     "text": [
      "Classifier trained for option GENESE_Hour_5\n",
      "Classifier trained for option GENESE_Hour_6\n",
      "Classifier trained for option GENESE_Hour_7\n",
      "Classifier trained for option GENESE_Hour_8\n",
      "Classifier trained for option GENESE_Hour_9\n",
      "Classifier trained for option GENESE_Hour_10\n"
     ]
    },
    {
     "name": "stderr",
     "output_type": "stream",
     "text": [
      "/home/zyc/.local/lib/python3.6/site-packages/sklearn/neural_network/multilayer_perceptron.py:562: ConvergenceWarning: Stochastic Optimizer: Maximum iterations (200) reached and the optimization hasn't converged yet.\n",
      "  % self.max_iter, ConvergenceWarning)\n"
     ]
    },
    {
     "name": "stdout",
     "output_type": "stream",
     "text": [
      "Classifier trained for option GENESE_Hour_11\n"
     ]
    },
    {
     "name": "stderr",
     "output_type": "stream",
     "text": [
      "/home/zyc/.local/lib/python3.6/site-packages/sklearn/neural_network/multilayer_perceptron.py:562: ConvergenceWarning: Stochastic Optimizer: Maximum iterations (200) reached and the optimization hasn't converged yet.\n",
      "  % self.max_iter, ConvergenceWarning)\n"
     ]
    },
    {
     "name": "stdout",
     "output_type": "stream",
     "text": [
      "Classifier trained for option GENESE_Hour_12\n",
      "Classifier trained for option GENESE_Hour_13\n",
      "Classifier trained for option GENESE_Hour_14\n",
      "Classifier trained for option GENESE_Hour_15\n",
      "Classifier trained for option GENESE_Hour_16\n",
      "Classifier trained for option GENESE_Hour_17\n",
      "Classifier trained for option GENESE_Hour_18\n",
      "Classifier trained for option GENESE_Hour_19\n",
      "Classifier trained for option GENESE_Hour_20\n",
      "Classifier trained for option GENESE_Hour_21\n",
      "Classifier trained for option GENESE_Hour_22\n",
      "Classifier trained for option GENESE_Hour_23\n",
      "Classifier trained for option HUD VL_Hour_0\n",
      "Classifier trained for option HUD VL_Hour_1\n",
      "Classifier trained for option HUD VL_Hour_2\n",
      "Classifier trained for option HUD VL_Hour_3\n"
     ]
    },
    {
     "name": "stderr",
     "output_type": "stream",
     "text": [
      "/home/zyc/.local/lib/python3.6/site-packages/sklearn/neural_network/multilayer_perceptron.py:562: ConvergenceWarning: Stochastic Optimizer: Maximum iterations (200) reached and the optimization hasn't converged yet.\n",
      "  % self.max_iter, ConvergenceWarning)\n"
     ]
    },
    {
     "name": "stdout",
     "output_type": "stream",
     "text": [
      "Classifier trained for option HUD VL_Hour_4\n",
      "Classifier trained for option HUD VL_Hour_5\n",
      "Classifier trained for option HUD VL_Hour_6\n",
      "Classifier trained for option HUD VL_Hour_7\n",
      "Classifier trained for option HUD VL_Hour_8\n",
      "Classifier trained for option HUD VL_Hour_9\n",
      "Classifier trained for option HUD VL_Hour_10\n",
      "Classifier trained for option HUD VL_Hour_11\n",
      "Classifier trained for option HUD VL_Hour_12\n",
      "Classifier trained for option HUD VL_Hour_13\n",
      "Classifier trained for option HUD VL_Hour_14\n",
      "Classifier trained for option HUD VL_Hour_15\n"
     ]
    },
    {
     "name": "stderr",
     "output_type": "stream",
     "text": [
      "/home/zyc/.local/lib/python3.6/site-packages/sklearn/neural_network/multilayer_perceptron.py:562: ConvergenceWarning: Stochastic Optimizer: Maximum iterations (200) reached and the optimization hasn't converged yet.\n",
      "  % self.max_iter, ConvergenceWarning)\n"
     ]
    },
    {
     "name": "stdout",
     "output_type": "stream",
     "text": [
      "Classifier trained for option HUD VL_Hour_16\n",
      "Classifier trained for option HUD VL_Hour_17\n",
      "Classifier trained for option HUD VL_Hour_18\n",
      "Classifier trained for option HUD VL_Hour_19\n",
      "Classifier trained for option HUD VL_Hour_20\n",
      "Classifier trained for option HUD VL_Hour_21\n",
      "Classifier trained for option HUD VL_Hour_22\n"
     ]
    },
    {
     "name": "stderr",
     "output_type": "stream",
     "text": [
      "/home/zyc/.local/lib/python3.6/site-packages/sklearn/neural_network/multilayer_perceptron.py:562: ConvergenceWarning: Stochastic Optimizer: Maximum iterations (200) reached and the optimization hasn't converged yet.\n",
      "  % self.max_iter, ConvergenceWarning)\n"
     ]
    },
    {
     "name": "stdout",
     "output_type": "stream",
     "text": [
      "Classifier trained for option HUD VL_Hour_23\n",
      "Classifier trained for option LONGIL_Hour_0\n",
      "Classifier trained for option LONGIL_Hour_1\n"
     ]
    },
    {
     "name": "stderr",
     "output_type": "stream",
     "text": [
      "/home/zyc/.local/lib/python3.6/site-packages/sklearn/neural_network/multilayer_perceptron.py:562: ConvergenceWarning: Stochastic Optimizer: Maximum iterations (200) reached and the optimization hasn't converged yet.\n",
      "  % self.max_iter, ConvergenceWarning)\n"
     ]
    },
    {
     "name": "stdout",
     "output_type": "stream",
     "text": [
      "Classifier trained for option LONGIL_Hour_2\n",
      "Classifier trained for option LONGIL_Hour_3\n"
     ]
    },
    {
     "name": "stderr",
     "output_type": "stream",
     "text": [
      "/home/zyc/.local/lib/python3.6/site-packages/sklearn/neural_network/multilayer_perceptron.py:562: ConvergenceWarning: Stochastic Optimizer: Maximum iterations (200) reached and the optimization hasn't converged yet.\n",
      "  % self.max_iter, ConvergenceWarning)\n"
     ]
    },
    {
     "name": "stdout",
     "output_type": "stream",
     "text": [
      "Classifier trained for option LONGIL_Hour_4\n",
      "Classifier trained for option LONGIL_Hour_5\n",
      "Classifier trained for option LONGIL_Hour_6\n",
      "Classifier trained for option LONGIL_Hour_7\n",
      "Classifier trained for option LONGIL_Hour_8\n",
      "Classifier trained for option LONGIL_Hour_9\n",
      "Classifier trained for option LONGIL_Hour_10\n",
      "Classifier trained for option LONGIL_Hour_11\n"
     ]
    },
    {
     "name": "stderr",
     "output_type": "stream",
     "text": [
      "/home/zyc/.local/lib/python3.6/site-packages/sklearn/neural_network/multilayer_perceptron.py:562: ConvergenceWarning: Stochastic Optimizer: Maximum iterations (200) reached and the optimization hasn't converged yet.\n",
      "  % self.max_iter, ConvergenceWarning)\n"
     ]
    },
    {
     "name": "stdout",
     "output_type": "stream",
     "text": [
      "Classifier trained for option LONGIL_Hour_12\n",
      "Classifier trained for option LONGIL_Hour_13\n",
      "Classifier trained for option LONGIL_Hour_14\n",
      "Classifier trained for option LONGIL_Hour_15\n",
      "Classifier trained for option LONGIL_Hour_16\n"
     ]
    },
    {
     "name": "stderr",
     "output_type": "stream",
     "text": [
      "/home/zyc/.local/lib/python3.6/site-packages/sklearn/neural_network/multilayer_perceptron.py:562: ConvergenceWarning: Stochastic Optimizer: Maximum iterations (200) reached and the optimization hasn't converged yet.\n",
      "  % self.max_iter, ConvergenceWarning)\n"
     ]
    },
    {
     "name": "stdout",
     "output_type": "stream",
     "text": [
      "Classifier trained for option LONGIL_Hour_17\n",
      "Classifier trained for option LONGIL_Hour_18\n"
     ]
    },
    {
     "name": "stderr",
     "output_type": "stream",
     "text": [
      "/home/zyc/.local/lib/python3.6/site-packages/sklearn/neural_network/multilayer_perceptron.py:562: ConvergenceWarning: Stochastic Optimizer: Maximum iterations (200) reached and the optimization hasn't converged yet.\n",
      "  % self.max_iter, ConvergenceWarning)\n"
     ]
    },
    {
     "name": "stdout",
     "output_type": "stream",
     "text": [
      "Classifier trained for option LONGIL_Hour_19\n",
      "Classifier trained for option LONGIL_Hour_20\n"
     ]
    },
    {
     "name": "stderr",
     "output_type": "stream",
     "text": [
      "/home/zyc/.local/lib/python3.6/site-packages/sklearn/neural_network/multilayer_perceptron.py:562: ConvergenceWarning: Stochastic Optimizer: Maximum iterations (200) reached and the optimization hasn't converged yet.\n",
      "  % self.max_iter, ConvergenceWarning)\n"
     ]
    },
    {
     "name": "stdout",
     "output_type": "stream",
     "text": [
      "Classifier trained for option LONGIL_Hour_21\n"
     ]
    },
    {
     "name": "stderr",
     "output_type": "stream",
     "text": [
      "/home/zyc/.local/lib/python3.6/site-packages/sklearn/neural_network/multilayer_perceptron.py:562: ConvergenceWarning: Stochastic Optimizer: Maximum iterations (200) reached and the optimization hasn't converged yet.\n",
      "  % self.max_iter, ConvergenceWarning)\n"
     ]
    },
    {
     "name": "stdout",
     "output_type": "stream",
     "text": [
      "Classifier trained for option LONGIL_Hour_22\n",
      "Classifier trained for option LONGIL_Hour_23\n",
      "Classifier trained for option MHK VL_Hour_0\n",
      "Classifier trained for option MHK VL_Hour_1\n",
      "Classifier trained for option MHK VL_Hour_2\n",
      "Classifier trained for option MHK VL_Hour_3\n",
      "Classifier trained for option MHK VL_Hour_4\n",
      "Classifier trained for option MHK VL_Hour_5\n",
      "Classifier trained for option MHK VL_Hour_6\n",
      "Classifier trained for option MHK VL_Hour_7\n",
      "Classifier trained for option MHK VL_Hour_8\n"
     ]
    },
    {
     "name": "stderr",
     "output_type": "stream",
     "text": [
      "/home/zyc/.local/lib/python3.6/site-packages/sklearn/neural_network/multilayer_perceptron.py:562: ConvergenceWarning: Stochastic Optimizer: Maximum iterations (200) reached and the optimization hasn't converged yet.\n",
      "  % self.max_iter, ConvergenceWarning)\n"
     ]
    },
    {
     "name": "stdout",
     "output_type": "stream",
     "text": [
      "Classifier trained for option MHK VL_Hour_9\n"
     ]
    },
    {
     "name": "stderr",
     "output_type": "stream",
     "text": [
      "/home/zyc/.local/lib/python3.6/site-packages/sklearn/neural_network/multilayer_perceptron.py:562: ConvergenceWarning: Stochastic Optimizer: Maximum iterations (200) reached and the optimization hasn't converged yet.\n",
      "  % self.max_iter, ConvergenceWarning)\n"
     ]
    },
    {
     "name": "stdout",
     "output_type": "stream",
     "text": [
      "Classifier trained for option MHK VL_Hour_10\n",
      "Classifier trained for option MHK VL_Hour_11\n",
      "Classifier trained for option MHK VL_Hour_12\n"
     ]
    },
    {
     "name": "stderr",
     "output_type": "stream",
     "text": [
      "/home/zyc/.local/lib/python3.6/site-packages/sklearn/neural_network/multilayer_perceptron.py:562: ConvergenceWarning: Stochastic Optimizer: Maximum iterations (200) reached and the optimization hasn't converged yet.\n",
      "  % self.max_iter, ConvergenceWarning)\n"
     ]
    },
    {
     "name": "stdout",
     "output_type": "stream",
     "text": [
      "Classifier trained for option MHK VL_Hour_13\n",
      "Classifier trained for option MHK VL_Hour_14\n",
      "Classifier trained for option MHK VL_Hour_15\n",
      "Classifier trained for option MHK VL_Hour_16\n",
      "Classifier trained for option MHK VL_Hour_17\n",
      "Classifier trained for option MHK VL_Hour_18\n"
     ]
    },
    {
     "name": "stderr",
     "output_type": "stream",
     "text": [
      "/home/zyc/.local/lib/python3.6/site-packages/sklearn/neural_network/multilayer_perceptron.py:562: ConvergenceWarning: Stochastic Optimizer: Maximum iterations (200) reached and the optimization hasn't converged yet.\n",
      "  % self.max_iter, ConvergenceWarning)\n"
     ]
    },
    {
     "name": "stdout",
     "output_type": "stream",
     "text": [
      "Classifier trained for option MHK VL_Hour_19\n",
      "Classifier trained for option MHK VL_Hour_20\n"
     ]
    },
    {
     "name": "stderr",
     "output_type": "stream",
     "text": [
      "/home/zyc/.local/lib/python3.6/site-packages/sklearn/neural_network/multilayer_perceptron.py:562: ConvergenceWarning: Stochastic Optimizer: Maximum iterations (200) reached and the optimization hasn't converged yet.\n",
      "  % self.max_iter, ConvergenceWarning)\n"
     ]
    },
    {
     "name": "stdout",
     "output_type": "stream",
     "text": [
      "Classifier trained for option MHK VL_Hour_21\n"
     ]
    },
    {
     "name": "stderr",
     "output_type": "stream",
     "text": [
      "/home/zyc/.local/lib/python3.6/site-packages/sklearn/neural_network/multilayer_perceptron.py:562: ConvergenceWarning: Stochastic Optimizer: Maximum iterations (200) reached and the optimization hasn't converged yet.\n",
      "  % self.max_iter, ConvergenceWarning)\n"
     ]
    },
    {
     "name": "stdout",
     "output_type": "stream",
     "text": [
      "Classifier trained for option MHK VL_Hour_22\n",
      "Classifier trained for option MHK VL_Hour_23\n"
     ]
    },
    {
     "name": "stderr",
     "output_type": "stream",
     "text": [
      "/home/zyc/.local/lib/python3.6/site-packages/sklearn/neural_network/multilayer_perceptron.py:562: ConvergenceWarning: Stochastic Optimizer: Maximum iterations (200) reached and the optimization hasn't converged yet.\n",
      "  % self.max_iter, ConvergenceWarning)\n"
     ]
    },
    {
     "name": "stdout",
     "output_type": "stream",
     "text": [
      "Classifier trained for option MILLWD_Hour_0\n"
     ]
    },
    {
     "name": "stderr",
     "output_type": "stream",
     "text": [
      "/home/zyc/.local/lib/python3.6/site-packages/sklearn/neural_network/multilayer_perceptron.py:562: ConvergenceWarning: Stochastic Optimizer: Maximum iterations (200) reached and the optimization hasn't converged yet.\n",
      "  % self.max_iter, ConvergenceWarning)\n"
     ]
    },
    {
     "name": "stdout",
     "output_type": "stream",
     "text": [
      "Classifier trained for option MILLWD_Hour_1\n",
      "Classifier trained for option MILLWD_Hour_2\n"
     ]
    },
    {
     "name": "stderr",
     "output_type": "stream",
     "text": [
      "/home/zyc/.local/lib/python3.6/site-packages/sklearn/neural_network/multilayer_perceptron.py:562: ConvergenceWarning: Stochastic Optimizer: Maximum iterations (200) reached and the optimization hasn't converged yet.\n",
      "  % self.max_iter, ConvergenceWarning)\n"
     ]
    },
    {
     "name": "stdout",
     "output_type": "stream",
     "text": [
      "Classifier trained for option MILLWD_Hour_3\n",
      "Classifier trained for option MILLWD_Hour_4\n"
     ]
    },
    {
     "name": "stderr",
     "output_type": "stream",
     "text": [
      "/home/zyc/.local/lib/python3.6/site-packages/sklearn/neural_network/multilayer_perceptron.py:562: ConvergenceWarning: Stochastic Optimizer: Maximum iterations (200) reached and the optimization hasn't converged yet.\n",
      "  % self.max_iter, ConvergenceWarning)\n"
     ]
    },
    {
     "name": "stdout",
     "output_type": "stream",
     "text": [
      "Classifier trained for option MILLWD_Hour_5\n",
      "Classifier trained for option MILLWD_Hour_6\n"
     ]
    },
    {
     "name": "stderr",
     "output_type": "stream",
     "text": [
      "/home/zyc/.local/lib/python3.6/site-packages/sklearn/neural_network/multilayer_perceptron.py:562: ConvergenceWarning: Stochastic Optimizer: Maximum iterations (200) reached and the optimization hasn't converged yet.\n",
      "  % self.max_iter, ConvergenceWarning)\n"
     ]
    },
    {
     "name": "stdout",
     "output_type": "stream",
     "text": [
      "Classifier trained for option MILLWD_Hour_7\n"
     ]
    },
    {
     "name": "stderr",
     "output_type": "stream",
     "text": [
      "/home/zyc/.local/lib/python3.6/site-packages/sklearn/neural_network/multilayer_perceptron.py:562: ConvergenceWarning: Stochastic Optimizer: Maximum iterations (200) reached and the optimization hasn't converged yet.\n",
      "  % self.max_iter, ConvergenceWarning)\n"
     ]
    },
    {
     "name": "stdout",
     "output_type": "stream",
     "text": [
      "Classifier trained for option MILLWD_Hour_8\n",
      "Classifier trained for option MILLWD_Hour_9\n",
      "Classifier trained for option MILLWD_Hour_10\n"
     ]
    },
    {
     "name": "stderr",
     "output_type": "stream",
     "text": [
      "/home/zyc/.local/lib/python3.6/site-packages/sklearn/neural_network/multilayer_perceptron.py:562: ConvergenceWarning: Stochastic Optimizer: Maximum iterations (200) reached and the optimization hasn't converged yet.\n",
      "  % self.max_iter, ConvergenceWarning)\n"
     ]
    },
    {
     "name": "stdout",
     "output_type": "stream",
     "text": [
      "Classifier trained for option MILLWD_Hour_11\n",
      "Classifier trained for option MILLWD_Hour_12\n"
     ]
    },
    {
     "name": "stderr",
     "output_type": "stream",
     "text": [
      "/home/zyc/.local/lib/python3.6/site-packages/sklearn/neural_network/multilayer_perceptron.py:562: ConvergenceWarning: Stochastic Optimizer: Maximum iterations (200) reached and the optimization hasn't converged yet.\n",
      "  % self.max_iter, ConvergenceWarning)\n"
     ]
    },
    {
     "name": "stdout",
     "output_type": "stream",
     "text": [
      "Classifier trained for option MILLWD_Hour_13\n"
     ]
    },
    {
     "name": "stderr",
     "output_type": "stream",
     "text": [
      "/home/zyc/.local/lib/python3.6/site-packages/sklearn/neural_network/multilayer_perceptron.py:562: ConvergenceWarning: Stochastic Optimizer: Maximum iterations (200) reached and the optimization hasn't converged yet.\n",
      "  % self.max_iter, ConvergenceWarning)\n"
     ]
    },
    {
     "name": "stdout",
     "output_type": "stream",
     "text": [
      "Classifier trained for option MILLWD_Hour_14\n",
      "Classifier trained for option MILLWD_Hour_15\n",
      "Classifier trained for option MILLWD_Hour_16\n",
      "Classifier trained for option MILLWD_Hour_17\n",
      "Classifier trained for option MILLWD_Hour_18\n",
      "Classifier trained for option MILLWD_Hour_19\n"
     ]
    },
    {
     "name": "stderr",
     "output_type": "stream",
     "text": [
      "/home/zyc/.local/lib/python3.6/site-packages/sklearn/neural_network/multilayer_perceptron.py:562: ConvergenceWarning: Stochastic Optimizer: Maximum iterations (200) reached and the optimization hasn't converged yet.\n",
      "  % self.max_iter, ConvergenceWarning)\n"
     ]
    },
    {
     "name": "stdout",
     "output_type": "stream",
     "text": [
      "Classifier trained for option MILLWD_Hour_20\n",
      "Classifier trained for option MILLWD_Hour_21\n",
      "Classifier trained for option MILLWD_Hour_22\n",
      "Classifier trained for option MILLWD_Hour_23\n"
     ]
    },
    {
     "name": "stderr",
     "output_type": "stream",
     "text": [
      "/home/zyc/.local/lib/python3.6/site-packages/sklearn/neural_network/multilayer_perceptron.py:562: ConvergenceWarning: Stochastic Optimizer: Maximum iterations (200) reached and the optimization hasn't converged yet.\n",
      "  % self.max_iter, ConvergenceWarning)\n"
     ]
    },
    {
     "name": "stdout",
     "output_type": "stream",
     "text": [
      "Classifier trained for option N.Y.C._Hour_0\n",
      "Classifier trained for option N.Y.C._Hour_1\n",
      "Classifier trained for option N.Y.C._Hour_2\n",
      "Classifier trained for option N.Y.C._Hour_3\n",
      "Classifier trained for option N.Y.C._Hour_4\n",
      "Classifier trained for option N.Y.C._Hour_5\n"
     ]
    },
    {
     "name": "stderr",
     "output_type": "stream",
     "text": [
      "/home/zyc/.local/lib/python3.6/site-packages/sklearn/neural_network/multilayer_perceptron.py:562: ConvergenceWarning: Stochastic Optimizer: Maximum iterations (200) reached and the optimization hasn't converged yet.\n",
      "  % self.max_iter, ConvergenceWarning)\n"
     ]
    },
    {
     "name": "stdout",
     "output_type": "stream",
     "text": [
      "Classifier trained for option N.Y.C._Hour_6\n",
      "Classifier trained for option N.Y.C._Hour_7\n"
     ]
    },
    {
     "name": "stderr",
     "output_type": "stream",
     "text": [
      "/home/zyc/.local/lib/python3.6/site-packages/sklearn/neural_network/multilayer_perceptron.py:562: ConvergenceWarning: Stochastic Optimizer: Maximum iterations (200) reached and the optimization hasn't converged yet.\n",
      "  % self.max_iter, ConvergenceWarning)\n"
     ]
    },
    {
     "name": "stdout",
     "output_type": "stream",
     "text": [
      "Classifier trained for option N.Y.C._Hour_8\n"
     ]
    },
    {
     "name": "stderr",
     "output_type": "stream",
     "text": [
      "/home/zyc/.local/lib/python3.6/site-packages/sklearn/neural_network/multilayer_perceptron.py:562: ConvergenceWarning: Stochastic Optimizer: Maximum iterations (200) reached and the optimization hasn't converged yet.\n",
      "  % self.max_iter, ConvergenceWarning)\n"
     ]
    },
    {
     "name": "stdout",
     "output_type": "stream",
     "text": [
      "Classifier trained for option N.Y.C._Hour_9\n"
     ]
    },
    {
     "name": "stderr",
     "output_type": "stream",
     "text": [
      "/home/zyc/.local/lib/python3.6/site-packages/sklearn/neural_network/multilayer_perceptron.py:562: ConvergenceWarning: Stochastic Optimizer: Maximum iterations (200) reached and the optimization hasn't converged yet.\n",
      "  % self.max_iter, ConvergenceWarning)\n"
     ]
    },
    {
     "name": "stdout",
     "output_type": "stream",
     "text": [
      "Classifier trained for option N.Y.C._Hour_10\n",
      "Classifier trained for option N.Y.C._Hour_11\n"
     ]
    },
    {
     "name": "stderr",
     "output_type": "stream",
     "text": [
      "/home/zyc/.local/lib/python3.6/site-packages/sklearn/neural_network/multilayer_perceptron.py:562: ConvergenceWarning: Stochastic Optimizer: Maximum iterations (200) reached and the optimization hasn't converged yet.\n",
      "  % self.max_iter, ConvergenceWarning)\n"
     ]
    },
    {
     "name": "stdout",
     "output_type": "stream",
     "text": [
      "Classifier trained for option N.Y.C._Hour_12\n"
     ]
    },
    {
     "name": "stderr",
     "output_type": "stream",
     "text": [
      "/home/zyc/.local/lib/python3.6/site-packages/sklearn/neural_network/multilayer_perceptron.py:562: ConvergenceWarning: Stochastic Optimizer: Maximum iterations (200) reached and the optimization hasn't converged yet.\n",
      "  % self.max_iter, ConvergenceWarning)\n"
     ]
    },
    {
     "name": "stdout",
     "output_type": "stream",
     "text": [
      "Classifier trained for option N.Y.C._Hour_13\n"
     ]
    },
    {
     "name": "stderr",
     "output_type": "stream",
     "text": [
      "/home/zyc/.local/lib/python3.6/site-packages/sklearn/neural_network/multilayer_perceptron.py:562: ConvergenceWarning: Stochastic Optimizer: Maximum iterations (200) reached and the optimization hasn't converged yet.\n",
      "  % self.max_iter, ConvergenceWarning)\n"
     ]
    },
    {
     "name": "stdout",
     "output_type": "stream",
     "text": [
      "Classifier trained for option N.Y.C._Hour_14\n",
      "Classifier trained for option N.Y.C._Hour_15\n",
      "Classifier trained for option N.Y.C._Hour_16\n",
      "Classifier trained for option N.Y.C._Hour_17\n",
      "Classifier trained for option N.Y.C._Hour_18\n",
      "Classifier trained for option N.Y.C._Hour_19\n",
      "Classifier trained for option N.Y.C._Hour_20\n",
      "Classifier trained for option N.Y.C._Hour_21\n",
      "Classifier trained for option N.Y.C._Hour_22\n"
     ]
    },
    {
     "name": "stderr",
     "output_type": "stream",
     "text": [
      "/home/zyc/.local/lib/python3.6/site-packages/sklearn/neural_network/multilayer_perceptron.py:562: ConvergenceWarning: Stochastic Optimizer: Maximum iterations (200) reached and the optimization hasn't converged yet.\n",
      "  % self.max_iter, ConvergenceWarning)\n"
     ]
    },
    {
     "name": "stdout",
     "output_type": "stream",
     "text": [
      "Classifier trained for option N.Y.C._Hour_23\n",
      "Classifier trained for option NORTH_Hour_0\n",
      "Classifier trained for option NORTH_Hour_1\n",
      "Classifier trained for option NORTH_Hour_2\n",
      "Classifier trained for option NORTH_Hour_3\n",
      "Classifier trained for option NORTH_Hour_4\n",
      "Classifier trained for option NORTH_Hour_5\n",
      "Classifier trained for option NORTH_Hour_6\n",
      "Classifier trained for option NORTH_Hour_7\n",
      "Classifier trained for option NORTH_Hour_8\n"
     ]
    },
    {
     "name": "stderr",
     "output_type": "stream",
     "text": [
      "/home/zyc/.local/lib/python3.6/site-packages/sklearn/neural_network/multilayer_perceptron.py:562: ConvergenceWarning: Stochastic Optimizer: Maximum iterations (200) reached and the optimization hasn't converged yet.\n",
      "  % self.max_iter, ConvergenceWarning)\n"
     ]
    },
    {
     "name": "stdout",
     "output_type": "stream",
     "text": [
      "Classifier trained for option NORTH_Hour_9\n"
     ]
    },
    {
     "name": "stderr",
     "output_type": "stream",
     "text": [
      "/home/zyc/.local/lib/python3.6/site-packages/sklearn/neural_network/multilayer_perceptron.py:562: ConvergenceWarning: Stochastic Optimizer: Maximum iterations (200) reached and the optimization hasn't converged yet.\n",
      "  % self.max_iter, ConvergenceWarning)\n"
     ]
    },
    {
     "name": "stdout",
     "output_type": "stream",
     "text": [
      "Classifier trained for option NORTH_Hour_10\n",
      "Classifier trained for option NORTH_Hour_11\n"
     ]
    },
    {
     "name": "stderr",
     "output_type": "stream",
     "text": [
      "/home/zyc/.local/lib/python3.6/site-packages/sklearn/neural_network/multilayer_perceptron.py:562: ConvergenceWarning: Stochastic Optimizer: Maximum iterations (200) reached and the optimization hasn't converged yet.\n",
      "  % self.max_iter, ConvergenceWarning)\n"
     ]
    },
    {
     "name": "stdout",
     "output_type": "stream",
     "text": [
      "Classifier trained for option NORTH_Hour_12\n",
      "Classifier trained for option NORTH_Hour_13\n",
      "Classifier trained for option NORTH_Hour_14\n"
     ]
    },
    {
     "name": "stderr",
     "output_type": "stream",
     "text": [
      "/home/zyc/.local/lib/python3.6/site-packages/sklearn/neural_network/multilayer_perceptron.py:562: ConvergenceWarning: Stochastic Optimizer: Maximum iterations (200) reached and the optimization hasn't converged yet.\n",
      "  % self.max_iter, ConvergenceWarning)\n"
     ]
    },
    {
     "name": "stdout",
     "output_type": "stream",
     "text": [
      "Classifier trained for option NORTH_Hour_15\n"
     ]
    },
    {
     "name": "stderr",
     "output_type": "stream",
     "text": [
      "/home/zyc/.local/lib/python3.6/site-packages/sklearn/neural_network/multilayer_perceptron.py:562: ConvergenceWarning: Stochastic Optimizer: Maximum iterations (200) reached and the optimization hasn't converged yet.\n",
      "  % self.max_iter, ConvergenceWarning)\n"
     ]
    },
    {
     "name": "stdout",
     "output_type": "stream",
     "text": [
      "Classifier trained for option NORTH_Hour_16\n",
      "Classifier trained for option NORTH_Hour_17\n",
      "Classifier trained for option NORTH_Hour_18\n",
      "Classifier trained for option NORTH_Hour_19\n",
      "Classifier trained for option NORTH_Hour_20\n",
      "Classifier trained for option NORTH_Hour_21\n",
      "Classifier trained for option NORTH_Hour_22\n",
      "Classifier trained for option NORTH_Hour_23\n"
     ]
    },
    {
     "name": "stderr",
     "output_type": "stream",
     "text": [
      "/home/zyc/.local/lib/python3.6/site-packages/sklearn/neural_network/multilayer_perceptron.py:562: ConvergenceWarning: Stochastic Optimizer: Maximum iterations (200) reached and the optimization hasn't converged yet.\n",
      "  % self.max_iter, ConvergenceWarning)\n"
     ]
    },
    {
     "name": "stdout",
     "output_type": "stream",
     "text": [
      "Classifier trained for option WEST_Hour_0\n",
      "Classifier trained for option WEST_Hour_1\n",
      "Classifier trained for option WEST_Hour_2\n",
      "Classifier trained for option WEST_Hour_3\n",
      "Classifier trained for option WEST_Hour_4\n",
      "Classifier trained for option WEST_Hour_5\n",
      "Classifier trained for option WEST_Hour_6\n",
      "Classifier trained for option WEST_Hour_7\n",
      "Classifier trained for option WEST_Hour_8\n"
     ]
    },
    {
     "name": "stderr",
     "output_type": "stream",
     "text": [
      "/home/zyc/.local/lib/python3.6/site-packages/sklearn/neural_network/multilayer_perceptron.py:562: ConvergenceWarning: Stochastic Optimizer: Maximum iterations (200) reached and the optimization hasn't converged yet.\n",
      "  % self.max_iter, ConvergenceWarning)\n"
     ]
    },
    {
     "name": "stdout",
     "output_type": "stream",
     "text": [
      "Classifier trained for option WEST_Hour_9\n",
      "Classifier trained for option WEST_Hour_10\n"
     ]
    },
    {
     "name": "stderr",
     "output_type": "stream",
     "text": [
      "/home/zyc/.local/lib/python3.6/site-packages/sklearn/neural_network/multilayer_perceptron.py:562: ConvergenceWarning: Stochastic Optimizer: Maximum iterations (200) reached and the optimization hasn't converged yet.\n",
      "  % self.max_iter, ConvergenceWarning)\n"
     ]
    },
    {
     "name": "stdout",
     "output_type": "stream",
     "text": [
      "Classifier trained for option WEST_Hour_11\n",
      "Classifier trained for option WEST_Hour_12\n",
      "Classifier trained for option WEST_Hour_13\n"
     ]
    },
    {
     "name": "stderr",
     "output_type": "stream",
     "text": [
      "/home/zyc/.local/lib/python3.6/site-packages/sklearn/neural_network/multilayer_perceptron.py:562: ConvergenceWarning: Stochastic Optimizer: Maximum iterations (200) reached and the optimization hasn't converged yet.\n",
      "  % self.max_iter, ConvergenceWarning)\n"
     ]
    },
    {
     "name": "stdout",
     "output_type": "stream",
     "text": [
      "Classifier trained for option WEST_Hour_14\n"
     ]
    },
    {
     "name": "stderr",
     "output_type": "stream",
     "text": [
      "/home/zyc/.local/lib/python3.6/site-packages/sklearn/neural_network/multilayer_perceptron.py:562: ConvergenceWarning: Stochastic Optimizer: Maximum iterations (200) reached and the optimization hasn't converged yet.\n",
      "  % self.max_iter, ConvergenceWarning)\n"
     ]
    },
    {
     "name": "stdout",
     "output_type": "stream",
     "text": [
      "Classifier trained for option WEST_Hour_15\n",
      "Classifier trained for option WEST_Hour_16\n",
      "Classifier trained for option WEST_Hour_17\n"
     ]
    },
    {
     "name": "stderr",
     "output_type": "stream",
     "text": [
      "/home/zyc/.local/lib/python3.6/site-packages/sklearn/neural_network/multilayer_perceptron.py:562: ConvergenceWarning: Stochastic Optimizer: Maximum iterations (200) reached and the optimization hasn't converged yet.\n",
      "  % self.max_iter, ConvergenceWarning)\n"
     ]
    },
    {
     "name": "stdout",
     "output_type": "stream",
     "text": [
      "Classifier trained for option WEST_Hour_18\n",
      "Classifier trained for option WEST_Hour_19\n",
      "Classifier trained for option WEST_Hour_20\n",
      "Classifier trained for option WEST_Hour_21\n"
     ]
    },
    {
     "name": "stderr",
     "output_type": "stream",
     "text": [
      "/home/zyc/.local/lib/python3.6/site-packages/sklearn/neural_network/multilayer_perceptron.py:562: ConvergenceWarning: Stochastic Optimizer: Maximum iterations (200) reached and the optimization hasn't converged yet.\n",
      "  % self.max_iter, ConvergenceWarning)\n"
     ]
    },
    {
     "name": "stdout",
     "output_type": "stream",
     "text": [
      "Classifier trained for option WEST_Hour_22\n",
      "Classifier trained for option WEST_Hour_23\n",
      "\n",
      "Overall training accuracy = 99.96 percent.\n"
     ]
    }
   ],
   "source": [
    "classifiers = []\n",
    "\n",
    "# We have two options here. Use previous training experience, or learn anew.\n",
    "useSavedClassifiers = False\n",
    "\n",
    "if not useSavedClassifiers:\n",
    "\n",
    "    print(\"Starting training module...\\n\")\n",
    "    trainPriceDA, trainPriceDART, trainLoadDA = loadNYISOData(2015)\n",
    "\n",
    "    numberOfDays =  int(len(trainPriceDA.index))\n",
    "    print(\"Loaded hourly prices from 2015 for %d days.\" % numberOfDays)\n",
    "\n",
    "    # We will implement a trading strategy, where we bid a particular quantile of the past\n",
    "    # DA prices for an option. If you do not know what a quantile means, refer to the Wikipedia\n",
    "    # article on it. Essentially, a 95% quantile of the DA prices equals that value for which\n",
    "    # 95% of the DA prices are below it. Store all quantiles starting from 50% in steps of\n",
    "    # 5% in a dictionary. Store them in a pickle file.\n",
    "\n",
    "    quantilesToStore = [0.70, 0.75, 0.80, 0.85, 0.90, 0.95]\n",
    "    offerPrices = trainPriceDA.quantile(q=quantilesToStore).transpose().to_dict()\n",
    "    pickle.dump(offerPrices, open(\"./Training/OfferPrices\", 'wb'))\n",
    "\n",
    "    # Calculate the average price spread for each option over the entire year. This will guide\n",
    "    # us in choosing our portfolio. Store it as a dictionary. Our bid will choose those\n",
    "    # options that our classifier indicates that they will be profitable and historically they\n",
    "    # have higher average price differences, indicating that they have higher rate of return.\n",
    "    # Store them using pickle.\n",
    "\n",
    "    averagePriceSpread = trainPriceDART.mean(axis=0).transpose().to_dict()\n",
    "    pickle.dump(averagePriceSpread, open(\"./Training/AveragePriceSpread\", 'wb'))\n",
    "\n",
    "    # Create the training dataset using the function 'createClassifierIO' on the prices and\n",
    "    # loads, and store them in 'trainX', and 'trainY'.\n",
    "\n",
    "    trainX, trainY, _ = createClassifierIO(trainPriceDA, trainPriceDART, trainLoadDA)\n",
    "\n",
    "    # Define a collection of classifiers, one for each option. You can try different options, such\n",
    "    # as that based on an SVM, logistic regression, multilayer perceptron based, etc. We will\n",
    "    # measure training accuracy to indicate how well the classifier works on the training dataset.\n",
    "    # However, good training accuracy does not always indicate good test performance.\n",
    "    # Avoid over-fitting.\n",
    "\n",
    "\n",
    "    classifiers = [MLPClassifier(hidden_layer_sizes=(20, 10), max_iter=200)\n",
    "                   for _ in range(nOptions)]\n",
    "\n",
    "    trainingAccuracy = 0\n",
    "\n",
    "    for ii in range(nOptions):\n",
    "        classifiers[ii].fit(trainX, trainY[:, ii])\n",
    "        print(\"Classifier trained for option \" + optionNames[ii])\n",
    "        trainingAccuracy += classifiers[ii].score(trainX, trainY[:, ii])\n",
    "\n",
    "        # Store the classifier.\n",
    "        pickle.dump(classifiers[ii], open(\"./Training/Classifier_\" + optionNames[ii], 'wb'))\n",
    "\n",
    "    print(\"\\nOverall training accuracy = %1.2f percent.\" % (100 * trainingAccuracy/nOptions))\n",
    "\n",
    "    del numberOfDays, trainPriceDA, trainLoadDA, trainPriceDART, trainX, trainY\n",
    "else:\n",
    "\n",
    "    # Load the classifiers, the offer prices at various quantiles, and the average price spreads.\n",
    "\n",
    "    print(\"Loading previously trained variables...\\n\")\n",
    "    classifiers = [pickle.load(open(\"./Training/Classifier_\" + optionNames[ii], 'rb'))\n",
    "                   for ii in range(nOptions)]\n",
    "    offerPrices = pickle.load(open(\"./Training/OfferPrices\", 'rb'))\n",
    "    averagePriceSpread = pickle.load(open(\"./Training/AveragePriceSpread\", 'rb'))\n",
    "\n",
    "    print(\"All training variables were loaded successfully...\\n\")"
   ]
  },
  {
   "cell_type": "code",
   "execution_count": 31,
   "metadata": {},
   "outputs": [
    {
     "name": "stdout",
     "output_type": "stream",
     "text": [
      "Starting the testing module...\n",
      "\n",
      "Test Accuracy Stats: Min = 48.76%, Avg = 59.18%, Max = 71.90%\n"
     ]
    }
   ],
   "source": [
    "# First, load the test data from NYISO for the year 2016. Again, utilize our function\n",
    "# named 'loadNYISOData'.\n",
    "\n",
    "print(\"Starting the testing module...\\n\")\n",
    "testPriceDA, testPriceDART, testLoadDA = loadNYISOData(2016)\n",
    "\n",
    "# Create the data for the classifier using the function 'createClassifierIO'.\n",
    "testX, testY, rangeOfDays = createClassifierIO(testPriceDA, testPriceDART, testLoadDA)\n",
    "\n",
    "# The next step is not useful for implementing the trading strategy, but quickly check how accurate\n",
    "# your trained classifiers are for the test data. Training accuracy is not always indicative of\n",
    "# test accuracy.\n",
    "\n",
    "testingAccuracy = [classifiers[ii].score(testX, testY[:, ii]) for ii in range(nOptions)]\n",
    "print(\"Test Accuracy Stats: Min = %.2f%%, Avg = %.2f%%, Max = %.2f%%\" %\n",
    "      (100 * np.min(testingAccuracy),\n",
    "       100 * np.mean(testingAccuracy),\n",
    "       100 * np.max(testingAccuracy)))\n",
    "\n",
    "# Utilize the classifiers to predict the sign of DA - RT prices for each day in 'rangeOfDays' for\n",
    "# the test data. Store the result in a pandas data frame with columns as the option names and the\n",
    "# day in year as index.\n",
    "predictedY = pd.DataFrame(np.column_stack([classifiers[ii].predict(testX) for ii in range(nOptions)]),\n",
    "                          columns=optionNames, index=rangeOfDays)"
   ]
  },
  {
   "cell_type": "code",
   "execution_count": 38,
   "metadata": {},
   "outputs": [
    {
     "name": "stdout",
     "output_type": "stream",
     "text": [
      "Day 3: Reward (in $) = 8,501\n",
      "Day 4: Reward (in $) = 953,242\n",
      "Day 5: Reward (in $) = -1,605\n",
      "Day 6: Reward (in $) = -29,433\n",
      "Day 7: Reward (in $) = -7,650\n",
      "Day 8: Reward (in $) = -1,954\n",
      "Day 9: Reward (in $) = -27,051\n",
      "Day 10: Reward (in $) = -69,589\n",
      "Day 11: Reward (in $) = -56,854\n",
      "Day 12: Reward (in $) = 20,524\n",
      "Day 13: Reward (in $) = -15,637\n",
      "Day 14: Reward (in $) = -17,241\n",
      "Day 15: Reward (in $) = -1,950\n",
      "Day 16: Reward (in $) = 25,074\n",
      "Day 17: Reward (in $) = -42,708\n",
      "Day 18: Reward (in $) = -16,226\n",
      "Day 19: Reward (in $) = 14,509\n",
      "Day 20: Reward (in $) = 272\n",
      "Day 21: Reward (in $) = 20,779\n",
      "Day 22: Reward (in $) = 57,324\n",
      "Day 23: Reward (in $) = 24,921\n",
      "Day 24: Reward (in $) = -43,387\n",
      "Day 25: Reward (in $) = -53,671\n",
      "Day 26: Reward (in $) = -12,309\n",
      "Day 27: Reward (in $) = -4,477\n",
      "Day 28: Reward (in $) = -6,462\n",
      "Day 29: Reward (in $) = -13,506\n",
      "Day 30: Reward (in $) = -24,756\n",
      "Day 31: Reward (in $) = -21,909\n",
      "Day 32: Reward (in $) = -4,872\n",
      "Day 33: Reward (in $) = -10,509\n",
      "Day 34: Reward (in $) = -7,755\n",
      "Day 35: Reward (in $) = 25,526\n",
      "Day 36: Reward (in $) = -21,517\n",
      "Day 37: Reward (in $) = -25,604\n",
      "Day 38: Reward (in $) = -382\n",
      "Day 39: Reward (in $) = 4,156\n",
      "Day 40: Reward (in $) = -13,261\n",
      "Day 41: Reward (in $) = -21,799\n",
      "Day 42: Reward (in $) = -10,681\n",
      "Day 43: Reward (in $) = -37,044\n",
      "Day 44: Reward (in $) = -20,720\n",
      "Day 45: Reward (in $) = -4,289\n",
      "Day 46: Reward (in $) = 47,432\n",
      "Day 47: Reward (in $) = 16,371\n",
      "Day 48: Reward (in $) = -34,183\n",
      "Day 49: Reward (in $) = -36,058\n",
      "Day 50: Reward (in $) = -20,044\n",
      "Day 51: Reward (in $) = 9,670\n",
      "Day 52: Reward (in $) = -11,483\n",
      "Day 53: Reward (in $) = -4,610\n",
      "Day 54: Reward (in $) = 3,116\n",
      "Day 55: Reward (in $) = 9,044\n",
      "Day 56: Reward (in $) = -26,931\n",
      "Day 57: Reward (in $) = -16,489\n",
      "Day 58: Reward (in $) = -17,231\n",
      "Day 59: Reward (in $) = -7,168\n",
      "Day 60: Reward (in $) = -15,482\n",
      "Day 61: Reward (in $) = -27,529\n",
      "Day 62: Reward (in $) = 5,921\n",
      "Day 63: Reward (in $) = -18,206\n",
      "Day 64: Reward (in $) = 4,404\n",
      "Day 65: Reward (in $) = 26,258\n",
      "Day 66: Reward (in $) = 75,015\n",
      "Day 67: Reward (in $) = -2,136\n",
      "Day 68: Reward (in $) = -22,122\n",
      "Day 69: Reward (in $) = -45,715\n",
      "Day 70: Reward (in $) = 16,134\n",
      "Day 71: Reward (in $) = -6,703\n",
      "Day 72: Reward (in $) = -8,182\n",
      "Day 73: Reward (in $) = -66,594\n",
      "Day 74: Reward (in $) = 400,396\n",
      "Day 75: Reward (in $) = -2,706\n",
      "Day 76: Reward (in $) = -64,442\n",
      "Day 77: Reward (in $) = -40,434\n",
      "Day 78: Reward (in $) = -8,470\n",
      "Day 79: Reward (in $) = -16,452\n",
      "Day 80: Reward (in $) = -16,174\n",
      "Day 81: Reward (in $) = -7,347\n",
      "Day 82: Reward (in $) = 18,282\n",
      "Day 83: Reward (in $) = -3,423\n",
      "Day 84: Reward (in $) = -2,948\n",
      "Day 85: Reward (in $) = 12,097\n",
      "Day 86: Reward (in $) = -19,802\n",
      "Day 87: Reward (in $) = 1,688,534\n",
      "Day 88: Reward (in $) = 412,536\n",
      "Day 89: Reward (in $) = -7,745\n",
      "Day 90: Reward (in $) = -44,854\n",
      "Day 91: Reward (in $) = -10,224\n",
      "Day 92: Reward (in $) = 56,445\n",
      "Day 93: Reward (in $) = -20,267\n",
      "Day 94: Reward (in $) = 15,952\n",
      "Day 95: Reward (in $) = -14,898\n",
      "Day 96: Reward (in $) = 98,478\n",
      "Day 97: Reward (in $) = -11,932\n",
      "Day 98: Reward (in $) = -45,864\n",
      "Day 99: Reward (in $) = -50,797\n",
      "Day 100: Reward (in $) = -3,932\n",
      "Day 101: Reward (in $) = -2,125\n",
      "Day 102: Reward (in $) = -764\n",
      "Day 103: Reward (in $) = 316,980\n",
      "Day 104: Reward (in $) = -39,468\n",
      "Day 105: Reward (in $) = -10,825\n",
      "Day 106: Reward (in $) = -62,002\n",
      "Day 107: Reward (in $) = -15,791\n",
      "Day 108: Reward (in $) = -16,618\n",
      "Day 109: Reward (in $) = -7,218\n",
      "Day 110: Reward (in $) = -93,260\n",
      "Day 111: Reward (in $) = -12,480\n",
      "Day 112: Reward (in $) = 42,311\n",
      "Day 113: Reward (in $) = -29,141\n",
      "Day 114: Reward (in $) = -43,103\n",
      "Day 115: Reward (in $) = -117,583\n",
      "Day 116: Reward (in $) = -104,608\n",
      "Day 117: Reward (in $) = -19,818\n",
      "Day 118: Reward (in $) = 684\n",
      "Day 119: Reward (in $) = -235\n",
      "Day 120: Reward (in $) = 370\n",
      "Day 121: Reward (in $) = 33,008\n",
      "Day 122: Reward (in $) = -59,321\n",
      "Day 123: Reward (in $) = -83,401\n",
      "Day 124: Reward (in $) = 801\n",
      "Day 125: Reward (in $) = -17,195\n",
      "Day 126: Reward (in $) = -55,854\n",
      "Day 127: Reward (in $) = -7,553\n",
      "Day 128: Reward (in $) = -33,914\n",
      "Day 129: Reward (in $) = -45,802\n",
      "Day 130: Reward (in $) = -16,226\n",
      "Day 131: Reward (in $) = 10,512\n",
      "Day 132: Reward (in $) = 33,736\n",
      "Day 133: Reward (in $) = 2,505\n",
      "Day 134: Reward (in $) = -27,998\n",
      "Day 135: Reward (in $) = -12,771\n",
      "Day 136: Reward (in $) = -20,215\n",
      "Day 137: Reward (in $) = -24,929\n",
      "Day 138: Reward (in $) = -54,450\n",
      "Day 139: Reward (in $) = -2,098\n",
      "Day 140: Reward (in $) = -19,957\n",
      "Day 141: Reward (in $) = 11,624\n",
      "Day 142: Reward (in $) = 15,630\n",
      "Day 143: Reward (in $) = 303\n",
      "Day 144: Reward (in $) = -12,686\n",
      "Day 145: Reward (in $) = -20,140\n",
      "Day 146: Reward (in $) = -12,657\n",
      "Day 147: Reward (in $) = -2,189\n",
      "Day 148: Reward (in $) = 193,673\n",
      "Day 149: Reward (in $) = 47,305\n",
      "Day 150: Reward (in $) = 27,298\n",
      "Day 151: Reward (in $) = 286,105\n",
      "Day 152: Reward (in $) = 216,852\n",
      "Day 153: Reward (in $) = 111,413\n",
      "Day 154: Reward (in $) = 6,022\n",
      "Day 155: Reward (in $) = 6,300\n",
      "Day 156: Reward (in $) = -22,822\n",
      "Day 157: Reward (in $) = -102,753\n",
      "Day 158: Reward (in $) = -5,010\n",
      "Day 159: Reward (in $) = -26,725\n",
      "Day 160: Reward (in $) = -87,465\n",
      "Day 161: Reward (in $) = 1,954\n",
      "Day 162: Reward (in $) = 63,057\n",
      "Day 163: Reward (in $) = -11,947\n",
      "Day 164: Reward (in $) = -4,468\n",
      "Day 165: Reward (in $) = 253,030\n",
      "Day 166: Reward (in $) = -74,400\n",
      "Day 167: Reward (in $) = 1,109\n",
      "Day 168: Reward (in $) = -39,698\n",
      "Day 169: Reward (in $) = 2,879\n",
      "Day 170: Reward (in $) = -17,378\n",
      "Day 171: Reward (in $) = -4,165\n",
      "Day 172: Reward (in $) = -13,045\n",
      "Day 173: Reward (in $) = 97,513\n",
      "Day 174: Reward (in $) = -39,557\n",
      "Day 175: Reward (in $) = 11,163\n",
      "Day 176: Reward (in $) = -14,869\n",
      "Day 177: Reward (in $) = -51,944\n",
      "Day 178: Reward (in $) = -62,365\n",
      "Day 179: Reward (in $) = -85,107\n",
      "Day 180: Reward (in $) = -53,274\n",
      "Day 181: Reward (in $) = -93,292\n",
      "Day 182: Reward (in $) = -49,940\n",
      "Day 183: Reward (in $) = -52,698\n",
      "Day 184: Reward (in $) = -70,267\n",
      "Day 185: Reward (in $) = -20,525\n",
      "Day 186: Reward (in $) = 51,271\n",
      "Day 187: Reward (in $) = -3,922\n",
      "Day 188: Reward (in $) = -26,872\n",
      "Day 189: Reward (in $) = -3,597\n",
      "Day 190: Reward (in $) = -68,288\n",
      "Day 191: Reward (in $) = -9,951\n",
      "Day 192: Reward (in $) = -9,231\n",
      "Day 193: Reward (in $) = -48,341\n",
      "Day 194: Reward (in $) = -1,729\n",
      "Day 195: Reward (in $) = 1,628\n",
      "Day 196: Reward (in $) = 853\n",
      "Day 197: Reward (in $) = 20,170\n",
      "Day 198: Reward (in $) = 6,688\n",
      "Day 199: Reward (in $) = -16,311\n",
      "Day 200: Reward (in $) = -24,193\n",
      "Day 201: Reward (in $) = -51,462\n",
      "Day 202: Reward (in $) = -14,320\n",
      "Day 203: Reward (in $) = 32,927\n",
      "Day 204: Reward (in $) = 8,720\n",
      "Day 205: Reward (in $) = -37,226\n",
      "Day 206: Reward (in $) = -2,346\n",
      "Day 207: Reward (in $) = 52,103\n",
      "Day 208: Reward (in $) = 3,103\n",
      "Day 209: Reward (in $) = -9,130\n",
      "Day 210: Reward (in $) = 78,059\n",
      "Day 211: Reward (in $) = 32,480\n",
      "Day 212: Reward (in $) = 25,575\n",
      "Day 213: Reward (in $) = -114,387\n",
      "Day 214: Reward (in $) = -58,435\n",
      "Day 215: Reward (in $) = -27,629\n",
      "Day 216: Reward (in $) = -18,677\n",
      "Day 217: Reward (in $) = 2,448\n",
      "Day 218: Reward (in $) = 18,365\n",
      "Day 219: Reward (in $) = -14,836\n",
      "Day 220: Reward (in $) = -59,528\n",
      "Day 221: Reward (in $) = 21,336\n",
      "Day 222: Reward (in $) = 21,091\n",
      "Day 223: Reward (in $) = 55,754\n",
      "Day 224: Reward (in $) = 48,819\n",
      "Day 225: Reward (in $) = 82,114\n",
      "Day 226: Reward (in $) = -11,620\n",
      "Day 227: Reward (in $) = 60,341\n",
      "Day 228: Reward (in $) = 113,827\n",
      "Day 229: Reward (in $) = 21,169\n",
      "Day 230: Reward (in $) = -28,456\n",
      "Day 231: Reward (in $) = 1,429\n",
      "Day 232: Reward (in $) = -36,432\n",
      "Day 233: Reward (in $) = -63,088\n",
      "Day 234: Reward (in $) = -57,965\n",
      "Day 235: Reward (in $) = -72,104\n",
      "Day 236: Reward (in $) = -4,075\n",
      "Day 237: Reward (in $) = -31,791\n",
      "Day 238: Reward (in $) = 8,949\n",
      "Day 239: Reward (in $) = -26,547\n",
      "Day 240: Reward (in $) = -29,103\n",
      "Day 241: Reward (in $) = -26,670\n",
      "Day 242: Reward (in $) = -112,000\n",
      "Day 243: Reward (in $) = -91,768\n",
      "Day 244: Reward (in $) = -14,092\n",
      "Day 245: Reward (in $) = -52,121\n",
      "Day 246: Reward (in $) = -26,518\n",
      "Day 247: Reward (in $) = -374\n",
      "Day 248: Reward (in $) = -19,600\n",
      "Day 249: Reward (in $) = -24,995\n",
      "Day 250: Reward (in $) = -38,307\n",
      "Day 251: Reward (in $) = 16,292\n",
      "Day 252: Reward (in $) = -12,929\n",
      "Day 253: Reward (in $) = 73,274\n",
      "Day 254: Reward (in $) = -9,356\n",
      "Day 255: Reward (in $) = -104,385\n",
      "Day 256: Reward (in $) = -102,782\n",
      "Day 257: Reward (in $) = 50,891\n",
      "Day 258: Reward (in $) = -18,652\n"
     ]
    },
    {
     "name": "stdout",
     "output_type": "stream",
     "text": [
      "Day 259: Reward (in $) = -51,692\n",
      "Day 260: Reward (in $) = -11,998\n",
      "Day 261: Reward (in $) = 10,033\n",
      "Day 262: Reward (in $) = -6,358\n",
      "Day 263: Reward (in $) = -16,593\n",
      "Day 264: Reward (in $) = -66,075\n",
      "Day 265: Reward (in $) = -28,129\n",
      "Day 266: Reward (in $) = -53,064\n",
      "Day 267: Reward (in $) = -9,943\n",
      "Day 268: Reward (in $) = -13,595\n",
      "Day 269: Reward (in $) = -39,722\n",
      "Day 270: Reward (in $) = -43,424\n",
      "Day 271: Reward (in $) = -6,841\n",
      "Day 272: Reward (in $) = -15,892\n",
      "Day 273: Reward (in $) = -28,858\n",
      "Day 274: Reward (in $) = 5,439\n",
      "Day 275: Reward (in $) = 14,869\n",
      "Day 276: Reward (in $) = -668\n",
      "Day 277: Reward (in $) = 22,776\n",
      "Day 278: Reward (in $) = 43,377\n",
      "Day 279: Reward (in $) = 45,677\n",
      "Day 280: Reward (in $) = 6,930\n",
      "Day 281: Reward (in $) = -4,360\n",
      "Day 282: Reward (in $) = 139\n",
      "Day 283: Reward (in $) = -43,246\n",
      "Day 284: Reward (in $) = 10,121\n",
      "Day 285: Reward (in $) = 7,308\n",
      "Day 286: Reward (in $) = -33,038\n",
      "Day 287: Reward (in $) = -27,322\n",
      "Day 288: Reward (in $) = 4,132\n",
      "Day 289: Reward (in $) = 13,519\n",
      "Day 290: Reward (in $) = -32,980\n",
      "Day 291: Reward (in $) = -73,379\n",
      "Day 292: Reward (in $) = 139,608\n",
      "Day 293: Reward (in $) = -19,445\n",
      "Day 294: Reward (in $) = 9,469\n",
      "Day 295: Reward (in $) = -4,657\n",
      "Day 296: Reward (in $) = -24,936\n",
      "Day 297: Reward (in $) = -20,639\n",
      "Day 298: Reward (in $) = -15,680\n",
      "Day 299: Reward (in $) = -30,529\n",
      "Day 300: Reward (in $) = 7,095\n",
      "Day 301: Reward (in $) = -2,094\n",
      "Day 302: Reward (in $) = -12,759\n",
      "Day 303: Reward (in $) = 5,082\n",
      "Day 304: Reward (in $) = -44,879\n",
      "Day 305: Reward (in $) = -7,930\n",
      "Day 306: Reward (in $) = -10,766\n",
      "Day 307: Reward (in $) = 18,840\n",
      "Day 308: Reward (in $) = -22,722\n",
      "Day 309: Reward (in $) = 30,519\n",
      "Day 310: Reward (in $) = -4,479\n",
      "Day 311: Reward (in $) = 16,614\n",
      "Day 312: Reward (in $) = 38,946\n",
      "Day 313: Reward (in $) = -1,046\n",
      "Day 314: Reward (in $) = -11,915\n",
      "Day 315: Reward (in $) = -30,590\n",
      "Day 316: Reward (in $) = -8,245\n",
      "Day 317: Reward (in $) = -18,790\n",
      "Day 318: Reward (in $) = -7,355\n",
      "Day 319: Reward (in $) = -1,485\n",
      "Day 320: Reward (in $) = 11,185\n",
      "Day 321: Reward (in $) = 6,686\n",
      "Day 322: Reward (in $) = -3,043\n",
      "Day 323: Reward (in $) = 4,890\n",
      "Day 324: Reward (in $) = 9,559\n",
      "Day 325: Reward (in $) = -15,309\n",
      "Day 326: Reward (in $) = 2,311\n",
      "Day 327: Reward (in $) = 7,365\n",
      "Day 328: Reward (in $) = 59,876\n",
      "Day 329: Reward (in $) = 21,816\n",
      "Day 330: Reward (in $) = 3,896\n",
      "Day 331: Reward (in $) = -5,757\n",
      "Day 332: Reward (in $) = -36,194\n",
      "Day 333: Reward (in $) = -52,743\n",
      "Day 334: Reward (in $) = -9,185\n",
      "Day 335: Reward (in $) = -8,694\n",
      "Day 336: Reward (in $) = -16,210\n",
      "Day 337: Reward (in $) = 6,751\n",
      "Day 338: Reward (in $) = -6,367\n",
      "Day 339: Reward (in $) = -21,719\n",
      "Day 340: Reward (in $) = -38,156\n",
      "Day 341: Reward (in $) = -28,407\n",
      "Day 342: Reward (in $) = -32,821\n",
      "Day 343: Reward (in $) = 32,078\n",
      "Day 344: Reward (in $) = 118,816\n",
      "Day 345: Reward (in $) = 58,128\n",
      "Day 346: Reward (in $) = 3,405\n",
      "Day 347: Reward (in $) = 12,767\n",
      "Day 348: Reward (in $) = -33,416\n",
      "Day 349: Reward (in $) = 24,311\n",
      "Day 350: Reward (in $) = 21,904\n",
      "Day 351: Reward (in $) = 94,146\n",
      "Day 352: Reward (in $) = 13,140\n",
      "Day 353: Reward (in $) = -14,249\n",
      "Day 354: Reward (in $) = -31,470\n",
      "Day 355: Reward (in $) = -14,017\n",
      "Day 356: Reward (in $) = -6,384\n",
      "Day 357: Reward (in $) = -51,946\n",
      "Day 358: Reward (in $) = -15,460\n",
      "Day 359: Reward (in $) = -4,139\n",
      "Day 360: Reward (in $) = -8,543\n",
      "Day 361: Reward (in $) = -48,937\n",
      "Day 362: Reward (in $) = 6,018\n",
      "Day 363: Reward (in $) = 180,589\n",
      "Day 364: Reward (in $) = 4,626\n",
      "Day 365: Reward (in $) = -18,771\n",
      "Total money earned over the year (in $) = 1,328,801\n"
     ]
    }
   ],
   "source": [
    "dailyBudget = 250000\n",
    "quantileOffer =0.95\n",
    "\n",
    "# Keep track of your rewards in each day, a cumulative reward over the year, and a total reward over the\n",
    "# year. Also, keep track of the total reward from each option. Store them as dictionaries that are\n",
    "# indexed by day of the year.\n",
    "reward = {}\n",
    "cumulativeReward = {}\n",
    "totalReward = 0\n",
    "optionReturn = dict((option, 0) for option in optionNames)\n",
    "\n",
    "# Implement the trading strategy on each day!\n",
    "\n",
    "for day in rangeOfDays:\n",
    "\n",
    "    reward[day] = 0\n",
    "\n",
    "    # Find the options that your classifier says that should be profitable. Store the profitable option\n",
    "    # names in chosenOptions.\n",
    "    chosenOptionNumbers = np.ravel(list(np.nonzero(predictedY.loc[day].values)))\n",
    "    if np.size(chosenOptionNumbers) == 0:\n",
    "        continue\n",
    "    chosenOptions = [optionNames[i] for i in chosenOptionNumbers]\n",
    "\n",
    "    # Design the portfolio based on average price spreads. Our strategy is that as long as you have not\n",
    "    # exceeded your daily budget, pick an option from the list of 'chosenOptions' probabilistically, where\n",
    "    # the probability of choosing it is proportional to exponential(historical rewards of that option). That\n",
    "    # is, a historically profitable option is chosen more often than one that is not. Keep sampling and\n",
    "    # decreasing your budget with each bid.\n",
    "\n",
    "    # Start with an empty portfolio.\n",
    "\n",
    "    portfolio = dict((option, 0) for option in chosenOptions)\n",
    "\n",
    "    # Calculate the probabilities of choosing each option among the list 'chosenOptions'. Recall that\n",
    "    # 'chosenOptions' contains the options that your classifier indicates as being profitable.\n",
    "    priceSpreads = [1.0 * averagePriceSpread[option] for option in chosenOptions]\n",
    "    probabilityOptions = [np.exp(p) for p in priceSpreads]\n",
    "    probabilityOptions /= np.sum(probabilityOptions)\n",
    "\n",
    "    # Start with your daily budget.\n",
    "    budget = dailyBudget\n",
    "\n",
    "    # Sampling among the profitable options and bid based on them.\n",
    "    while budget > np.median([offerPrices[quantileOffer][option] for option in chosenOptions]):\n",
    "\n",
    "        optionToBuy = choice(chosenOptions, p=probabilityOptions)\n",
    "\n",
    "        if budget >= offerPrices[quantileOffer][optionToBuy]:\n",
    "            portfolio[optionToBuy] += 1\n",
    "            budget -= offerPrices[quantileOffer][optionToBuy]\n",
    "\n",
    "    # Compute the reward from the day. Go through each of the options you have decided to buy.\n",
    "    # If the DA price is lower than the bid price, then your bid is cleared. For each option you\n",
    "    # have bought, you get a reward equal to the DA - RT price.\n",
    "\n",
    "    for option in chosenOptions:\n",
    "        if testPriceDA.at[day, option] < offerPrices[quantileOffer][option]:\n",
    "            rewardOptionDay = testPriceDART.at[day, option] * portfolio[option]\n",
    "            optionReturn[option] += rewardOptionDay\n",
    "            reward[day] += rewardOptionDay\n",
    "\n",
    "    totalReward += reward[day]\n",
    "\n",
    "    # Calculate the cumulative reward in millions of dollars.\n",
    "    cumulativeReward[day] = totalReward/1000000\n",
    "\n",
    "    print(\"Day \" + str(day) + \": Reward (in $) = \" + \"{0:,.0f}\".format(reward[day]))\n",
    "\n",
    "print(\"Total money earned over the year (in $) = \" + \"{0:,.0f}\".format(totalReward))"
   ]
  },
  {
   "cell_type": "markdown",
   "metadata": {},
   "source": [
    "Profit for quantileOffer = 0.7: 5,138,796\n",
    "Profit for quantileOffer = 0.75: 4,948,815\n",
    "Profit for quantileOffer = 0.8: 4,198,124\n",
    "Profit for quantileOffer = 0.85: 3,413,536\n",
    "Profit for quantileOffer = 0.9: 2,006,488\n",
    "Profit for quantileOffer = 0.95: 1,328,801\n",
    "Rank from low to high: 0.95, 0.9, 0.85, 0.8, 0.75, 0.7.\n",
    "With lower quantile, the profit is larger."
   ]
  },
  {
   "cell_type": "markdown",
   "metadata": {},
   "source": [
    "### Task 4: Daily budget (25 points)\n",
    "\n",
    "We used a daily budget of 250,000. Try different budgets, let's say, 100,000, 150,000, 200,000, and 300,000. Rank them in terms of profits (low to high). Fix the quantile to the one that led to maximum profits in the previous task. \n",
    "\n",
    "#### (comments here, add a new code cell below)"
   ]
  },
  {
   "cell_type": "code",
   "execution_count": 42,
   "metadata": {},
   "outputs": [
    {
     "name": "stdout",
     "output_type": "stream",
     "text": [
      "Day 3: Reward (in $) = -78,690\n",
      "Day 4: Reward (in $) = 1,904,805\n",
      "Day 5: Reward (in $) = -3,331\n",
      "Day 6: Reward (in $) = -21,924\n",
      "Day 7: Reward (in $) = -12,800\n",
      "Day 8: Reward (in $) = 1,539\n",
      "Day 9: Reward (in $) = -59,405\n",
      "Day 10: Reward (in $) = -149,439\n",
      "Day 11: Reward (in $) = -113,272\n",
      "Day 12: Reward (in $) = 53,386\n",
      "Day 13: Reward (in $) = 2,578\n",
      "Day 14: Reward (in $) = -45,555\n",
      "Day 15: Reward (in $) = -4,247\n",
      "Day 16: Reward (in $) = 52,874\n",
      "Day 17: Reward (in $) = -94,774\n",
      "Day 18: Reward (in $) = -38,264\n",
      "Day 19: Reward (in $) = 30,989\n",
      "Day 20: Reward (in $) = 4,704\n",
      "Day 21: Reward (in $) = 64,270\n",
      "Day 22: Reward (in $) = 112,800\n",
      "Day 23: Reward (in $) = 46,203\n",
      "Day 24: Reward (in $) = -85,847\n",
      "Day 25: Reward (in $) = -122,803\n",
      "Day 26: Reward (in $) = -33,374\n",
      "Day 27: Reward (in $) = -14,503\n",
      "Day 28: Reward (in $) = -18,521\n",
      "Day 29: Reward (in $) = -37,495\n",
      "Day 30: Reward (in $) = -80,188\n",
      "Day 31: Reward (in $) = -57,925\n",
      "Day 32: Reward (in $) = -10,562\n",
      "Day 33: Reward (in $) = -32,477\n",
      "Day 34: Reward (in $) = -15,901\n",
      "Day 35: Reward (in $) = 54,935\n",
      "Day 36: Reward (in $) = -45,302\n",
      "Day 37: Reward (in $) = -49,897\n",
      "Day 38: Reward (in $) = -264\n",
      "Day 39: Reward (in $) = 4,118\n",
      "Day 40: Reward (in $) = -36,061\n",
      "Day 41: Reward (in $) = -56,352\n",
      "Day 42: Reward (in $) = -20,857\n",
      "Day 43: Reward (in $) = -63,206\n",
      "Day 44: Reward (in $) = -25,505\n",
      "Day 45: Reward (in $) = -19,999\n",
      "Day 46: Reward (in $) = 91,373\n",
      "Day 47: Reward (in $) = 35,063\n",
      "Day 48: Reward (in $) = -73,852\n",
      "Day 49: Reward (in $) = -97,097\n",
      "Day 50: Reward (in $) = -42,995\n",
      "Day 51: Reward (in $) = 30,806\n",
      "Day 52: Reward (in $) = -26,108\n",
      "Day 53: Reward (in $) = -9,067\n",
      "Day 54: Reward (in $) = 7,061\n",
      "Day 55: Reward (in $) = 19,051\n",
      "Day 56: Reward (in $) = -59,209\n",
      "Day 57: Reward (in $) = -36,760\n",
      "Day 58: Reward (in $) = -37,011\n",
      "Day 59: Reward (in $) = -16,731\n",
      "Day 60: Reward (in $) = -49,849\n",
      "Day 61: Reward (in $) = 24,177\n",
      "Day 62: Reward (in $) = -2,907\n",
      "Day 63: Reward (in $) = 6,054\n",
      "Day 64: Reward (in $) = -15,256\n",
      "Day 65: Reward (in $) = 60,923\n",
      "Day 66: Reward (in $) = 196,211\n",
      "Day 67: Reward (in $) = -15,539\n",
      "Day 68: Reward (in $) = -70,030\n",
      "Day 69: Reward (in $) = -131,256\n",
      "Day 70: Reward (in $) = 37,977\n",
      "Day 71: Reward (in $) = -15,253\n",
      "Day 72: Reward (in $) = -16,220\n",
      "Day 73: Reward (in $) = -151,422\n",
      "Day 74: Reward (in $) = 962,850\n",
      "Day 75: Reward (in $) = -5,306\n",
      "Day 76: Reward (in $) = -149,668\n",
      "Day 77: Reward (in $) = -99,086\n",
      "Day 78: Reward (in $) = -24,305\n",
      "Day 79: Reward (in $) = -33,983\n",
      "Day 80: Reward (in $) = -33,045\n",
      "Day 81: Reward (in $) = -18,182\n",
      "Day 82: Reward (in $) = 47,914\n",
      "Day 83: Reward (in $) = -13,881\n",
      "Day 84: Reward (in $) = -10,511\n",
      "Day 85: Reward (in $) = 33,977\n",
      "Day 86: Reward (in $) = -46,914\n",
      "Day 87: Reward (in $) = 3,813,039\n",
      "Day 88: Reward (in $) = 913,463\n",
      "Day 89: Reward (in $) = -43,016\n",
      "Day 90: Reward (in $) = -95,231\n",
      "Day 91: Reward (in $) = -25,412\n",
      "Day 92: Reward (in $) = 122,659\n",
      "Day 93: Reward (in $) = -47,694\n",
      "Day 94: Reward (in $) = 75,340\n",
      "Day 95: Reward (in $) = -26,828\n",
      "Day 96: Reward (in $) = 220,359\n",
      "Day 97: Reward (in $) = 12,993\n",
      "Day 98: Reward (in $) = -101,821\n",
      "Day 99: Reward (in $) = -16,122\n",
      "Day 100: Reward (in $) = 17,005\n",
      "Day 101: Reward (in $) = 11,156\n",
      "Day 102: Reward (in $) = 9,945\n",
      "Day 103: Reward (in $) = 3,370\n",
      "Day 104: Reward (in $) = -81,298\n",
      "Day 105: Reward (in $) = -27,417\n",
      "Day 106: Reward (in $) = -201,870\n",
      "Day 107: Reward (in $) = -32,364\n",
      "Day 108: Reward (in $) = 18,588\n",
      "Day 109: Reward (in $) = -4,367\n",
      "Day 110: Reward (in $) = -14,761\n",
      "Day 111: Reward (in $) = -28,092\n",
      "Day 112: Reward (in $) = 88,471\n",
      "Day 113: Reward (in $) = -65,075\n",
      "Day 114: Reward (in $) = -88,159\n",
      "Day 115: Reward (in $) = -6,088\n",
      "Day 116: Reward (in $) = 2,496\n",
      "Day 117: Reward (in $) = -41,594\n",
      "Day 118: Reward (in $) = 2,253\n",
      "Day 119: Reward (in $) = -685\n",
      "Day 120: Reward (in $) = 208\n",
      "Day 121: Reward (in $) = 71,912\n",
      "Day 122: Reward (in $) = -109\n",
      "Day 123: Reward (in $) = -550\n",
      "Day 124: Reward (in $) = 3,292\n",
      "Day 125: Reward (in $) = -43,629\n",
      "Day 126: Reward (in $) = -123,977\n",
      "Day 127: Reward (in $) = -23,076\n",
      "Day 128: Reward (in $) = -72,754\n",
      "Day 129: Reward (in $) = -117,825\n",
      "Day 130: Reward (in $) = -45,075\n",
      "Day 131: Reward (in $) = 24,393\n",
      "Day 132: Reward (in $) = 80,853\n",
      "Day 133: Reward (in $) = 2,669\n",
      "Day 134: Reward (in $) = -65,438\n",
      "Day 135: Reward (in $) = -28,110\n",
      "Day 136: Reward (in $) = -48,209\n",
      "Day 137: Reward (in $) = -55,814\n",
      "Day 138: Reward (in $) = -113,574\n",
      "Day 139: Reward (in $) = -3,847\n",
      "Day 140: Reward (in $) = -42,805\n",
      "Day 141: Reward (in $) = 26,664\n",
      "Day 142: Reward (in $) = 33,489\n",
      "Day 143: Reward (in $) = 921\n",
      "Day 144: Reward (in $) = -28,785\n",
      "Day 145: Reward (in $) = -69,941\n",
      "Day 146: Reward (in $) = -17,343\n",
      "Day 147: Reward (in $) = 4,518\n",
      "Day 148: Reward (in $) = 461,839\n",
      "Day 149: Reward (in $) = 121,370\n",
      "Day 150: Reward (in $) = 57,565\n",
      "Day 151: Reward (in $) = 764,899\n",
      "Day 152: Reward (in $) = 488,081\n",
      "Day 153: Reward (in $) = 320,772\n",
      "Day 154: Reward (in $) = 21,206\n",
      "Day 155: Reward (in $) = 17,429\n",
      "Day 156: Reward (in $) = -55,599\n",
      "Day 157: Reward (in $) = -73,439\n",
      "Day 158: Reward (in $) = -12,800\n",
      "Day 159: Reward (in $) = -92,854\n",
      "Day 160: Reward (in $) = -179,645\n",
      "Day 161: Reward (in $) = 7,425\n",
      "Day 162: Reward (in $) = 233,296\n",
      "Day 163: Reward (in $) = -29,143\n",
      "Day 164: Reward (in $) = -15,610\n",
      "Day 165: Reward (in $) = 191,343\n",
      "Day 166: Reward (in $) = 12,711\n",
      "Day 167: Reward (in $) = 37,445\n",
      "Day 168: Reward (in $) = 4,432\n",
      "Day 169: Reward (in $) = 38,763\n",
      "Day 170: Reward (in $) = -52,072\n",
      "Day 171: Reward (in $) = -8,029\n",
      "Day 172: Reward (in $) = -2,836\n",
      "Day 173: Reward (in $) = 270,025\n",
      "Day 174: Reward (in $) = -13,584\n",
      "Day 175: Reward (in $) = 35,120\n",
      "Day 176: Reward (in $) = -20,369\n",
      "Day 177: Reward (in $) = -40,465\n",
      "Day 178: Reward (in $) = -6,996\n",
      "Day 179: Reward (in $) = -10,561\n",
      "Day 180: Reward (in $) = -20,332\n",
      "Day 181: Reward (in $) = -21,487\n",
      "Day 182: Reward (in $) = 2,415\n",
      "Day 183: Reward (in $) = -111,501\n",
      "Day 184: Reward (in $) = -136,977\n",
      "Day 185: Reward (in $) = -44,583\n",
      "Day 186: Reward (in $) = 113,790\n",
      "Day 187: Reward (in $) = 1,532\n",
      "Day 188: Reward (in $) = 68\n",
      "Day 189: Reward (in $) = -239\n",
      "Day 190: Reward (in $) = -136,046\n",
      "Day 191: Reward (in $) = -22,158\n",
      "Day 192: Reward (in $) = -38,804\n",
      "Day 193: Reward (in $) = -15,264\n",
      "Day 194: Reward (in $) = 12\n",
      "Day 195: Reward (in $) = 3,187\n",
      "Day 196: Reward (in $) = 11,185\n",
      "Day 197: Reward (in $) = 47,139\n",
      "Day 198: Reward (in $) = 17,519\n",
      "Day 199: Reward (in $) = 1,666\n",
      "Day 200: Reward (in $) = 233\n",
      "Day 201: Reward (in $) = -29,214\n",
      "Day 202: Reward (in $) = 604\n",
      "Day 203: Reward (in $) = 4,480\n",
      "Day 204: Reward (in $) = 733\n",
      "Day 205: Reward (in $) = -74,455\n",
      "Day 206: Reward (in $) = -132\n",
      "Day 207: Reward (in $) = -1,004\n",
      "Day 208: Reward (in $) = -1,145\n",
      "Day 209: Reward (in $) = 6,451\n",
      "Day 210: Reward (in $) = 11,845\n",
      "Day 211: Reward (in $) = 75,186\n",
      "Day 212: Reward (in $) = 60,286\n",
      "Day 213: Reward (in $) = 99\n",
      "Day 214: Reward (in $) = -10,308\n",
      "Day 215: Reward (in $) = -61,941\n",
      "Day 216: Reward (in $) = 7,410\n",
      "Day 217: Reward (in $) = 10,061\n",
      "Day 218: Reward (in $) = 27,127\n",
      "Day 219: Reward (in $) = -11,027\n",
      "Day 220: Reward (in $) = -1,998\n",
      "Day 221: Reward (in $) = -9,468\n",
      "Day 222: Reward (in $) = 8,011\n",
      "Day 223: Reward (in $) = 95\n",
      "Day 224: Reward (in $) = 0\n",
      "Day 225: Reward (in $) = -1,878\n",
      "Day 226: Reward (in $) = -30,933\n",
      "Day 227: Reward (in $) = -112\n",
      "Day 228: Reward (in $) = 646\n",
      "Day 229: Reward (in $) = 260\n",
      "Day 230: Reward (in $) = -1,416\n",
      "Day 231: Reward (in $) = 324\n",
      "Day 232: Reward (in $) = -44,262\n",
      "Day 233: Reward (in $) = -130,710\n",
      "Day 234: Reward (in $) = -129,195\n",
      "Day 235: Reward (in $) = -145,058\n",
      "Day 236: Reward (in $) = -14,092\n",
      "Day 237: Reward (in $) = 16,130\n",
      "Day 238: Reward (in $) = 4,668\n",
      "Day 239: Reward (in $) = -17,956\n",
      "Day 240: Reward (in $) = -13,235\n",
      "Day 241: Reward (in $) = -41\n",
      "Day 242: Reward (in $) = -1,610\n",
      "Day 243: Reward (in $) = 2,815\n",
      "Day 244: Reward (in $) = -32,418\n",
      "Day 245: Reward (in $) = -110,623\n",
      "Day 246: Reward (in $) = -59,008\n",
      "Day 247: Reward (in $) = -1,324\n",
      "Day 248: Reward (in $) = -44,341\n",
      "Day 249: Reward (in $) = -6,450\n",
      "Day 250: Reward (in $) = 1,646\n",
      "Day 251: Reward (in $) = 1,764\n",
      "Day 252: Reward (in $) = 995\n",
      "Day 253: Reward (in $) = 158,748\n",
      "Day 254: Reward (in $) = -18,206\n",
      "Day 255: Reward (in $) = -2,068\n",
      "Day 256: Reward (in $) = -5,003\n",
      "Day 257: Reward (in $) = -7,981\n",
      "Day 258: Reward (in $) = -43,296\n",
      "Day 259: Reward (in $) = -115,482\n"
     ]
    },
    {
     "name": "stdout",
     "output_type": "stream",
     "text": [
      "Day 260: Reward (in $) = -40,889\n",
      "Day 261: Reward (in $) = 28,694\n",
      "Day 262: Reward (in $) = 13,972\n",
      "Day 263: Reward (in $) = 15,562\n",
      "Day 264: Reward (in $) = -4,063\n",
      "Day 265: Reward (in $) = -1,864\n",
      "Day 266: Reward (in $) = -13,865\n",
      "Day 267: Reward (in $) = -22,617\n",
      "Day 268: Reward (in $) = -29,033\n",
      "Day 269: Reward (in $) = -91,049\n",
      "Day 270: Reward (in $) = -98,372\n",
      "Day 271: Reward (in $) = -18,172\n",
      "Day 272: Reward (in $) = -42,995\n",
      "Day 273: Reward (in $) = -65,017\n",
      "Day 274: Reward (in $) = 14,966\n",
      "Day 275: Reward (in $) = 36,370\n",
      "Day 276: Reward (in $) = -1,517\n",
      "Day 277: Reward (in $) = 54,235\n",
      "Day 278: Reward (in $) = 108,061\n",
      "Day 279: Reward (in $) = 34,649\n",
      "Day 280: Reward (in $) = 23,676\n",
      "Day 281: Reward (in $) = -14,440\n",
      "Day 282: Reward (in $) = -83\n",
      "Day 283: Reward (in $) = -105,650\n",
      "Day 284: Reward (in $) = 40,062\n",
      "Day 285: Reward (in $) = 30,653\n",
      "Day 286: Reward (in $) = -74,827\n",
      "Day 287: Reward (in $) = -66,741\n",
      "Day 288: Reward (in $) = 9,444\n",
      "Day 289: Reward (in $) = 30,892\n",
      "Day 290: Reward (in $) = 12,012\n",
      "Day 291: Reward (in $) = -15,300\n",
      "Day 292: Reward (in $) = -3,662\n",
      "Day 293: Reward (in $) = -40,545\n",
      "Day 294: Reward (in $) = 24,732\n",
      "Day 295: Reward (in $) = -13,825\n",
      "Day 296: Reward (in $) = -78,550\n",
      "Day 297: Reward (in $) = -48,480\n",
      "Day 298: Reward (in $) = -34,111\n",
      "Day 299: Reward (in $) = -72,323\n",
      "Day 300: Reward (in $) = 26,981\n",
      "Day 301: Reward (in $) = -4,914\n",
      "Day 302: Reward (in $) = -28,935\n",
      "Day 303: Reward (in $) = 19,545\n",
      "Day 304: Reward (in $) = -47,154\n",
      "Day 305: Reward (in $) = -20,807\n",
      "Day 306: Reward (in $) = -23,809\n",
      "Day 307: Reward (in $) = 65,460\n",
      "Day 308: Reward (in $) = -45,922\n",
      "Day 309: Reward (in $) = 62,172\n",
      "Day 310: Reward (in $) = -9,959\n",
      "Day 311: Reward (in $) = 47,654\n",
      "Day 312: Reward (in $) = 99,063\n",
      "Day 313: Reward (in $) = -2,757\n",
      "Day 314: Reward (in $) = -36,181\n",
      "Day 315: Reward (in $) = -63,392\n",
      "Day 316: Reward (in $) = -24,866\n",
      "Day 317: Reward (in $) = -43,196\n",
      "Day 318: Reward (in $) = -29,338\n",
      "Day 319: Reward (in $) = -4,068\n",
      "Day 320: Reward (in $) = 34,657\n",
      "Day 321: Reward (in $) = 15,056\n",
      "Day 322: Reward (in $) = -6,663\n",
      "Day 323: Reward (in $) = 10,958\n",
      "Day 324: Reward (in $) = 21,999\n",
      "Day 325: Reward (in $) = -37,391\n",
      "Day 326: Reward (in $) = 6,555\n",
      "Day 327: Reward (in $) = 13,713\n",
      "Day 328: Reward (in $) = 122,168\n",
      "Day 329: Reward (in $) = 44,101\n",
      "Day 330: Reward (in $) = 6,150\n",
      "Day 331: Reward (in $) = -16,958\n",
      "Day 332: Reward (in $) = -71,256\n",
      "Day 333: Reward (in $) = -107,645\n",
      "Day 334: Reward (in $) = -20,874\n",
      "Day 335: Reward (in $) = -23,182\n",
      "Day 336: Reward (in $) = -34,698\n",
      "Day 337: Reward (in $) = 14,413\n",
      "Day 338: Reward (in $) = -14,000\n",
      "Day 339: Reward (in $) = -11,880\n",
      "Day 340: Reward (in $) = 2,964\n",
      "Day 341: Reward (in $) = -65,290\n",
      "Day 342: Reward (in $) = -119,833\n",
      "Day 343: Reward (in $) = -20,332\n",
      "Day 344: Reward (in $) = 258,208\n",
      "Day 345: Reward (in $) = 130,601\n",
      "Day 346: Reward (in $) = -7,646\n",
      "Day 347: Reward (in $) = 33,007\n",
      "Day 348: Reward (in $) = -60,648\n",
      "Day 349: Reward (in $) = 56,519\n",
      "Day 350: Reward (in $) = 15,190\n",
      "Day 351: Reward (in $) = 269,812\n",
      "Day 352: Reward (in $) = 17,695\n",
      "Day 353: Reward (in $) = -12,617\n",
      "Day 354: Reward (in $) = -61,855\n",
      "Day 355: Reward (in $) = -48,279\n",
      "Day 356: Reward (in $) = -8,012\n",
      "Day 357: Reward (in $) = -109,817\n",
      "Day 358: Reward (in $) = 496\n",
      "Day 359: Reward (in $) = -10,835\n",
      "Day 360: Reward (in $) = -17,647\n",
      "Day 361: Reward (in $) = -113,029\n",
      "Day 362: Reward (in $) = 22,729\n",
      "Day 363: Reward (in $) = 392,021\n",
      "Day 364: Reward (in $) = 19,108\n",
      "Day 365: Reward (in $) = -39,345\n",
      "Total money earned over the year (in $) = 6,075,775\n"
     ]
    }
   ],
   "source": [
    "dailyBudget = 300000\n",
    "quantileOffer =0.7\n",
    "\n",
    "# Keep track of your rewards in each day, a cumulative reward over the year, and a total reward over the\n",
    "# year. Also, keep track of the total reward from each option. Store them as dictionaries that are\n",
    "# indexed by day of the year.\n",
    "reward = {}\n",
    "cumulativeReward = {}\n",
    "totalReward = 0\n",
    "optionReturn = dict((option, 0) for option in optionNames)\n",
    "\n",
    "# Implement the trading strategy on each day!\n",
    "\n",
    "for day in rangeOfDays:\n",
    "\n",
    "    reward[day] = 0\n",
    "\n",
    "    # Find the options that your classifier says that should be profitable. Store the profitable option\n",
    "    # names in chosenOptions.\n",
    "    chosenOptionNumbers = np.ravel(list(np.nonzero(predictedY.loc[day].values)))\n",
    "    if np.size(chosenOptionNumbers) == 0:\n",
    "        continue\n",
    "    chosenOptions = [optionNames[i] for i in chosenOptionNumbers]\n",
    "\n",
    "    # Design the portfolio based on average price spreads. Our strategy is that as long as you have not\n",
    "    # exceeded your daily budget, pick an option from the list of 'chosenOptions' probabilistically, where\n",
    "    # the probability of choosing it is proportional to exponential(historical rewards of that option). That\n",
    "    # is, a historically profitable option is chosen more often than one that is not. Keep sampling and\n",
    "    # decreasing your budget with each bid.\n",
    "\n",
    "    # Start with an empty portfolio.\n",
    "\n",
    "    portfolio = dict((option, 0) for option in chosenOptions)\n",
    "\n",
    "    # Calculate the probabilities of choosing each option among the list 'chosenOptions'. Recall that\n",
    "    # 'chosenOptions' contains the options that your classifier indicates as being profitable.\n",
    "    priceSpreads = [1.0 * averagePriceSpread[option] for option in chosenOptions]\n",
    "    probabilityOptions = [np.exp(p) for p in priceSpreads]\n",
    "    probabilityOptions /= np.sum(probabilityOptions)\n",
    "\n",
    "    # Start with your daily budget.\n",
    "    budget = dailyBudget\n",
    "\n",
    "    # Sampling among the profitable options and bid based on them.\n",
    "    while budget > np.median([offerPrices[quantileOffer][option] for option in chosenOptions]):\n",
    "\n",
    "        optionToBuy = choice(chosenOptions, p=probabilityOptions)\n",
    "\n",
    "        if budget >= offerPrices[quantileOffer][optionToBuy]:\n",
    "            portfolio[optionToBuy] += 1\n",
    "            budget -= offerPrices[quantileOffer][optionToBuy]\n",
    "\n",
    "    # Compute the reward from the day. Go through each of the options you have decided to buy.\n",
    "    # If the DA price is lower than the bid price, then your bid is cleared. For each option you\n",
    "    # have bought, you get a reward equal to the DA - RT price.\n",
    "\n",
    "    for option in chosenOptions:\n",
    "        if testPriceDA.at[day, option] < offerPrices[quantileOffer][option]:\n",
    "            rewardOptionDay = testPriceDART.at[day, option] * portfolio[option]\n",
    "            optionReturn[option] += rewardOptionDay\n",
    "            reward[day] += rewardOptionDay\n",
    "\n",
    "    totalReward += reward[day]\n",
    "\n",
    "    # Calculate the cumulative reward in millions of dollars.\n",
    "    cumulativeReward[day] = totalReward/1000000\n",
    "\n",
    "    print(\"Day \" + str(day) + \": Reward (in $) = \" + \"{0:,.0f}\".format(reward[day]))\n",
    "\n",
    "print(\"Total money earned over the year (in $) = \" + \"{0:,.0f}\".format(totalReward))"
   ]
  },
  {
   "cell_type": "markdown",
   "metadata": {},
   "source": [
    "Profit for dailyBudget = 100000: 2,055,769\n",
    "Profit for dailyBudget = 150000: 3,140,598\n",
    "Profit for dailyBudget = 200000: 4,060,863\n",
    "Profit for dailyBudget = 300000: 6,075,775\n",
    "Low to high: 100000<150000<200000<300000\n",
    "Profit is larger as dailyBudget gets larger."
   ]
  },
  {
   "cell_type": "markdown",
   "metadata": {},
   "source": [
    "### Task 6: Beat the algorithm! (25 points, bonus) \n",
    "\n",
    "Make changes to increase the profits further! The people with the top 20 total profits will get additional points. Exaplain what did for improvement and how much profits you made. Do not exceed the 250,000 budget!\n",
    "\n",
    "#### (comments here, add a new code cell below)"
   ]
  },
  {
   "cell_type": "code",
   "execution_count": 49,
   "metadata": {},
   "outputs": [
    {
     "name": "stdout",
     "output_type": "stream",
     "text": [
      "Starting training module...\n",
      "\n",
      "Loaded hourly prices from 2015 for 365 days.\n",
      "Classifier trained for option CAPITL_Hour_0\n",
      "Classifier trained for option CAPITL_Hour_1\n",
      "Classifier trained for option CAPITL_Hour_2\n",
      "Classifier trained for option CAPITL_Hour_3\n",
      "Classifier trained for option CAPITL_Hour_4\n",
      "Classifier trained for option CAPITL_Hour_5\n",
      "Classifier trained for option CAPITL_Hour_6\n",
      "Classifier trained for option CAPITL_Hour_7\n",
      "Classifier trained for option CAPITL_Hour_8\n",
      "Classifier trained for option CAPITL_Hour_9\n",
      "Classifier trained for option CAPITL_Hour_10\n",
      "Classifier trained for option CAPITL_Hour_11\n",
      "Classifier trained for option CAPITL_Hour_12\n",
      "Classifier trained for option CAPITL_Hour_13\n",
      "Classifier trained for option CAPITL_Hour_14\n",
      "Classifier trained for option CAPITL_Hour_15\n",
      "Classifier trained for option CAPITL_Hour_16\n",
      "Classifier trained for option CAPITL_Hour_17\n",
      "Classifier trained for option CAPITL_Hour_18\n",
      "Classifier trained for option CAPITL_Hour_19\n",
      "Classifier trained for option CAPITL_Hour_20\n",
      "Classifier trained for option CAPITL_Hour_21\n",
      "Classifier trained for option CAPITL_Hour_22\n",
      "Classifier trained for option CAPITL_Hour_23\n",
      "Classifier trained for option CENTRL_Hour_0\n",
      "Classifier trained for option CENTRL_Hour_1\n",
      "Classifier trained for option CENTRL_Hour_2\n",
      "Classifier trained for option CENTRL_Hour_3\n",
      "Classifier trained for option CENTRL_Hour_4\n",
      "Classifier trained for option CENTRL_Hour_5\n",
      "Classifier trained for option CENTRL_Hour_6\n",
      "Classifier trained for option CENTRL_Hour_7\n",
      "Classifier trained for option CENTRL_Hour_8\n",
      "Classifier trained for option CENTRL_Hour_9\n",
      "Classifier trained for option CENTRL_Hour_10\n",
      "Classifier trained for option CENTRL_Hour_11\n",
      "Classifier trained for option CENTRL_Hour_12\n",
      "Classifier trained for option CENTRL_Hour_13\n",
      "Classifier trained for option CENTRL_Hour_14\n",
      "Classifier trained for option CENTRL_Hour_15\n",
      "Classifier trained for option CENTRL_Hour_16\n",
      "Classifier trained for option CENTRL_Hour_17\n",
      "Classifier trained for option CENTRL_Hour_18\n",
      "Classifier trained for option CENTRL_Hour_19\n",
      "Classifier trained for option CENTRL_Hour_20\n",
      "Classifier trained for option CENTRL_Hour_21\n",
      "Classifier trained for option CENTRL_Hour_22\n",
      "Classifier trained for option CENTRL_Hour_23\n",
      "Classifier trained for option DUNWOD_Hour_0\n",
      "Classifier trained for option DUNWOD_Hour_1\n",
      "Classifier trained for option DUNWOD_Hour_2\n",
      "Classifier trained for option DUNWOD_Hour_3\n",
      "Classifier trained for option DUNWOD_Hour_4\n",
      "Classifier trained for option DUNWOD_Hour_5\n",
      "Classifier trained for option DUNWOD_Hour_6\n",
      "Classifier trained for option DUNWOD_Hour_7\n",
      "Classifier trained for option DUNWOD_Hour_8\n",
      "Classifier trained for option DUNWOD_Hour_9\n",
      "Classifier trained for option DUNWOD_Hour_10\n",
      "Classifier trained for option DUNWOD_Hour_11\n",
      "Classifier trained for option DUNWOD_Hour_12\n",
      "Classifier trained for option DUNWOD_Hour_13\n",
      "Classifier trained for option DUNWOD_Hour_14\n",
      "Classifier trained for option DUNWOD_Hour_15\n",
      "Classifier trained for option DUNWOD_Hour_16\n",
      "Classifier trained for option DUNWOD_Hour_17\n",
      "Classifier trained for option DUNWOD_Hour_18\n",
      "Classifier trained for option DUNWOD_Hour_19\n",
      "Classifier trained for option DUNWOD_Hour_20\n",
      "Classifier trained for option DUNWOD_Hour_21\n",
      "Classifier trained for option DUNWOD_Hour_22\n",
      "Classifier trained for option DUNWOD_Hour_23\n",
      "Classifier trained for option GENESE_Hour_0\n",
      "Classifier trained for option GENESE_Hour_1\n",
      "Classifier trained for option GENESE_Hour_2\n",
      "Classifier trained for option GENESE_Hour_3\n",
      "Classifier trained for option GENESE_Hour_4\n",
      "Classifier trained for option GENESE_Hour_5\n",
      "Classifier trained for option GENESE_Hour_6\n",
      "Classifier trained for option GENESE_Hour_7\n",
      "Classifier trained for option GENESE_Hour_8\n",
      "Classifier trained for option GENESE_Hour_9\n",
      "Classifier trained for option GENESE_Hour_10\n",
      "Classifier trained for option GENESE_Hour_11\n",
      "Classifier trained for option GENESE_Hour_12\n",
      "Classifier trained for option GENESE_Hour_13\n",
      "Classifier trained for option GENESE_Hour_14\n",
      "Classifier trained for option GENESE_Hour_15\n",
      "Classifier trained for option GENESE_Hour_16\n",
      "Classifier trained for option GENESE_Hour_17\n",
      "Classifier trained for option GENESE_Hour_18\n",
      "Classifier trained for option GENESE_Hour_19\n",
      "Classifier trained for option GENESE_Hour_20\n",
      "Classifier trained for option GENESE_Hour_21\n",
      "Classifier trained for option GENESE_Hour_22\n",
      "Classifier trained for option GENESE_Hour_23\n",
      "Classifier trained for option HUD VL_Hour_0\n",
      "Classifier trained for option HUD VL_Hour_1\n",
      "Classifier trained for option HUD VL_Hour_2\n",
      "Classifier trained for option HUD VL_Hour_3\n",
      "Classifier trained for option HUD VL_Hour_4\n",
      "Classifier trained for option HUD VL_Hour_5\n",
      "Classifier trained for option HUD VL_Hour_6\n",
      "Classifier trained for option HUD VL_Hour_7\n",
      "Classifier trained for option HUD VL_Hour_8\n",
      "Classifier trained for option HUD VL_Hour_9\n",
      "Classifier trained for option HUD VL_Hour_10\n",
      "Classifier trained for option HUD VL_Hour_11\n",
      "Classifier trained for option HUD VL_Hour_12\n",
      "Classifier trained for option HUD VL_Hour_13\n",
      "Classifier trained for option HUD VL_Hour_14\n",
      "Classifier trained for option HUD VL_Hour_15\n",
      "Classifier trained for option HUD VL_Hour_16\n",
      "Classifier trained for option HUD VL_Hour_17\n",
      "Classifier trained for option HUD VL_Hour_18\n",
      "Classifier trained for option HUD VL_Hour_19\n",
      "Classifier trained for option HUD VL_Hour_20\n",
      "Classifier trained for option HUD VL_Hour_21\n",
      "Classifier trained for option HUD VL_Hour_22\n",
      "Classifier trained for option HUD VL_Hour_23\n",
      "Classifier trained for option LONGIL_Hour_0\n",
      "Classifier trained for option LONGIL_Hour_1\n",
      "Classifier trained for option LONGIL_Hour_2\n",
      "Classifier trained for option LONGIL_Hour_3\n",
      "Classifier trained for option LONGIL_Hour_4\n",
      "Classifier trained for option LONGIL_Hour_5\n",
      "Classifier trained for option LONGIL_Hour_6\n",
      "Classifier trained for option LONGIL_Hour_7\n",
      "Classifier trained for option LONGIL_Hour_8\n",
      "Classifier trained for option LONGIL_Hour_9\n",
      "Classifier trained for option LONGIL_Hour_10\n",
      "Classifier trained for option LONGIL_Hour_11\n",
      "Classifier trained for option LONGIL_Hour_12\n",
      "Classifier trained for option LONGIL_Hour_13\n",
      "Classifier trained for option LONGIL_Hour_14\n",
      "Classifier trained for option LONGIL_Hour_15\n",
      "Classifier trained for option LONGIL_Hour_16\n",
      "Classifier trained for option LONGIL_Hour_17\n",
      "Classifier trained for option LONGIL_Hour_18\n",
      "Classifier trained for option LONGIL_Hour_19\n",
      "Classifier trained for option LONGIL_Hour_20\n",
      "Classifier trained for option LONGIL_Hour_21\n",
      "Classifier trained for option LONGIL_Hour_22\n",
      "Classifier trained for option LONGIL_Hour_23\n",
      "Classifier trained for option MHK VL_Hour_0\n",
      "Classifier trained for option MHK VL_Hour_1\n",
      "Classifier trained for option MHK VL_Hour_2\n",
      "Classifier trained for option MHK VL_Hour_3\n",
      "Classifier trained for option MHK VL_Hour_4\n",
      "Classifier trained for option MHK VL_Hour_5\n",
      "Classifier trained for option MHK VL_Hour_6\n",
      "Classifier trained for option MHK VL_Hour_7\n",
      "Classifier trained for option MHK VL_Hour_8\n",
      "Classifier trained for option MHK VL_Hour_9\n",
      "Classifier trained for option MHK VL_Hour_10\n",
      "Classifier trained for option MHK VL_Hour_11\n",
      "Classifier trained for option MHK VL_Hour_12\n",
      "Classifier trained for option MHK VL_Hour_13\n",
      "Classifier trained for option MHK VL_Hour_14\n",
      "Classifier trained for option MHK VL_Hour_15\n",
      "Classifier trained for option MHK VL_Hour_16\n",
      "Classifier trained for option MHK VL_Hour_17\n",
      "Classifier trained for option MHK VL_Hour_18\n",
      "Classifier trained for option MHK VL_Hour_19\n",
      "Classifier trained for option MHK VL_Hour_20\n",
      "Classifier trained for option MHK VL_Hour_21\n",
      "Classifier trained for option MHK VL_Hour_22\n",
      "Classifier trained for option MHK VL_Hour_23\n",
      "Classifier trained for option MILLWD_Hour_0\n",
      "Classifier trained for option MILLWD_Hour_1\n",
      "Classifier trained for option MILLWD_Hour_2\n",
      "Classifier trained for option MILLWD_Hour_3\n",
      "Classifier trained for option MILLWD_Hour_4\n",
      "Classifier trained for option MILLWD_Hour_5\n",
      "Classifier trained for option MILLWD_Hour_6\n",
      "Classifier trained for option MILLWD_Hour_7\n",
      "Classifier trained for option MILLWD_Hour_8\n",
      "Classifier trained for option MILLWD_Hour_9\n",
      "Classifier trained for option MILLWD_Hour_10\n",
      "Classifier trained for option MILLWD_Hour_11\n",
      "Classifier trained for option MILLWD_Hour_12\n",
      "Classifier trained for option MILLWD_Hour_13\n",
      "Classifier trained for option MILLWD_Hour_14\n"
     ]
    },
    {
     "name": "stdout",
     "output_type": "stream",
     "text": [
      "Classifier trained for option MILLWD_Hour_15\n",
      "Classifier trained for option MILLWD_Hour_16\n",
      "Classifier trained for option MILLWD_Hour_17\n",
      "Classifier trained for option MILLWD_Hour_18\n",
      "Classifier trained for option MILLWD_Hour_19\n",
      "Classifier trained for option MILLWD_Hour_20\n",
      "Classifier trained for option MILLWD_Hour_21\n",
      "Classifier trained for option MILLWD_Hour_22\n",
      "Classifier trained for option MILLWD_Hour_23\n",
      "Classifier trained for option N.Y.C._Hour_0\n",
      "Classifier trained for option N.Y.C._Hour_1\n",
      "Classifier trained for option N.Y.C._Hour_2\n",
      "Classifier trained for option N.Y.C._Hour_3\n",
      "Classifier trained for option N.Y.C._Hour_4\n",
      "Classifier trained for option N.Y.C._Hour_5\n",
      "Classifier trained for option N.Y.C._Hour_6\n",
      "Classifier trained for option N.Y.C._Hour_7\n",
      "Classifier trained for option N.Y.C._Hour_8\n",
      "Classifier trained for option N.Y.C._Hour_9\n",
      "Classifier trained for option N.Y.C._Hour_10\n",
      "Classifier trained for option N.Y.C._Hour_11\n",
      "Classifier trained for option N.Y.C._Hour_12\n",
      "Classifier trained for option N.Y.C._Hour_13\n",
      "Classifier trained for option N.Y.C._Hour_14\n",
      "Classifier trained for option N.Y.C._Hour_15\n",
      "Classifier trained for option N.Y.C._Hour_16\n",
      "Classifier trained for option N.Y.C._Hour_17\n",
      "Classifier trained for option N.Y.C._Hour_18\n",
      "Classifier trained for option N.Y.C._Hour_19\n",
      "Classifier trained for option N.Y.C._Hour_20\n",
      "Classifier trained for option N.Y.C._Hour_21\n",
      "Classifier trained for option N.Y.C._Hour_22\n",
      "Classifier trained for option N.Y.C._Hour_23\n",
      "Classifier trained for option NORTH_Hour_0\n",
      "Classifier trained for option NORTH_Hour_1\n",
      "Classifier trained for option NORTH_Hour_2\n",
      "Classifier trained for option NORTH_Hour_3\n",
      "Classifier trained for option NORTH_Hour_4\n",
      "Classifier trained for option NORTH_Hour_5\n",
      "Classifier trained for option NORTH_Hour_6\n",
      "Classifier trained for option NORTH_Hour_7\n",
      "Classifier trained for option NORTH_Hour_8\n",
      "Classifier trained for option NORTH_Hour_9\n",
      "Classifier trained for option NORTH_Hour_10\n",
      "Classifier trained for option NORTH_Hour_11\n",
      "Classifier trained for option NORTH_Hour_12\n",
      "Classifier trained for option NORTH_Hour_13\n",
      "Classifier trained for option NORTH_Hour_14\n",
      "Classifier trained for option NORTH_Hour_15\n",
      "Classifier trained for option NORTH_Hour_16\n",
      "Classifier trained for option NORTH_Hour_17\n",
      "Classifier trained for option NORTH_Hour_18\n",
      "Classifier trained for option NORTH_Hour_19\n",
      "Classifier trained for option NORTH_Hour_20\n",
      "Classifier trained for option NORTH_Hour_21\n",
      "Classifier trained for option NORTH_Hour_22\n",
      "Classifier trained for option NORTH_Hour_23\n",
      "Classifier trained for option WEST_Hour_0\n",
      "Classifier trained for option WEST_Hour_1\n",
      "Classifier trained for option WEST_Hour_2\n",
      "Classifier trained for option WEST_Hour_3\n",
      "Classifier trained for option WEST_Hour_4\n",
      "Classifier trained for option WEST_Hour_5\n",
      "Classifier trained for option WEST_Hour_6\n",
      "Classifier trained for option WEST_Hour_7\n",
      "Classifier trained for option WEST_Hour_8\n",
      "Classifier trained for option WEST_Hour_9\n",
      "Classifier trained for option WEST_Hour_10\n",
      "Classifier trained for option WEST_Hour_11\n",
      "Classifier trained for option WEST_Hour_12\n",
      "Classifier trained for option WEST_Hour_13\n",
      "Classifier trained for option WEST_Hour_14\n",
      "Classifier trained for option WEST_Hour_15\n",
      "Classifier trained for option WEST_Hour_16\n",
      "Classifier trained for option WEST_Hour_17\n",
      "Classifier trained for option WEST_Hour_18\n",
      "Classifier trained for option WEST_Hour_19\n",
      "Classifier trained for option WEST_Hour_20\n",
      "Classifier trained for option WEST_Hour_21\n",
      "Classifier trained for option WEST_Hour_22\n",
      "Classifier trained for option WEST_Hour_23\n",
      "\n",
      "Overall training accuracy = 100.00 percent.\n"
     ]
    }
   ],
   "source": [
    "classifiers = []\n",
    "\n",
    "# We have two options here. Use previous training experience, or learn anew.\n",
    "useSavedClassifiers = False\n",
    "\n",
    "if not useSavedClassifiers:\n",
    "\n",
    "    print(\"Starting training module...\\n\")\n",
    "    trainPriceDA, trainPriceDART, trainLoadDA = loadNYISOData(2015)\n",
    "\n",
    "    numberOfDays =  int(len(trainPriceDA.index))\n",
    "    print(\"Loaded hourly prices from 2015 for %d days.\" % numberOfDays)\n",
    "\n",
    "    # We will implement a trading strategy, where we bid a particular quantile of the past\n",
    "    # DA prices for an option. If you do not know what a quantile means, refer to the Wikipedia\n",
    "    # article on it. Essentially, a 95% quantile of the DA prices equals that value for which\n",
    "    # 95% of the DA prices are below it. Store all quantiles starting from 50% in steps of\n",
    "    # 5% in a dictionary. Store them in a pickle file.\n",
    "\n",
    "    quantilesToStore = [0.70, 0.75, 0.80, 0.85, 0.90, 0.95]\n",
    "    offerPrices = trainPriceDA.quantile(q=quantilesToStore).transpose().to_dict()\n",
    "    pickle.dump(offerPrices, open(\"./Training/OfferPrices\", 'wb'))\n",
    "\n",
    "    # Calculate the average price spread for each option over the entire year. This will guide\n",
    "    # us in choosing our portfolio. Store it as a dictionary. Our bid will choose those\n",
    "    # options that our classifier indicates that they will be profitable and historically they\n",
    "    # have higher average price differences, indicating that they have higher rate of return.\n",
    "    # Store them using pickle.\n",
    "\n",
    "    averagePriceSpread = trainPriceDART.mean(axis=0).transpose().to_dict()\n",
    "    pickle.dump(averagePriceSpread, open(\"./Training/AveragePriceSpread\", 'wb'))\n",
    "\n",
    "    # Create the training dataset using the function 'createClassifierIO' on the prices and\n",
    "    # loads, and store them in 'trainX', and 'trainY'.\n",
    "\n",
    "    trainX, trainY, _ = createClassifierIO(trainPriceDA, trainPriceDART, trainLoadDA)\n",
    "\n",
    "    # Define a collection of classifiers, one for each option. You can try different options, such\n",
    "    # as that based on an SVM, logistic regression, multilayer perceptron based, etc. We will\n",
    "    # measure training accuracy to indicate how well the classifier works on the training dataset.\n",
    "    # However, good training accuracy does not always indicate good test performance.\n",
    "    # Avoid over-fitting.\n",
    "\n",
    "\n",
    "    classifiers = [MLPClassifier(hidden_layer_sizes=(40, 20), max_iter=300)\n",
    "                   for _ in range(nOptions)]\n",
    "\n",
    "    trainingAccuracy = 0\n",
    "\n",
    "    for ii in range(nOptions):\n",
    "        classifiers[ii].fit(trainX, trainY[:, ii])\n",
    "        print(\"Classifier trained for option \" + optionNames[ii])\n",
    "        trainingAccuracy += classifiers[ii].score(trainX, trainY[:, ii])\n",
    "\n",
    "        # Store the classifier.\n",
    "        pickle.dump(classifiers[ii], open(\"./Training/Classifier_\" + optionNames[ii], 'wb'))\n",
    "\n",
    "    print(\"\\nOverall training accuracy = %1.2f percent.\" % (100 * trainingAccuracy/nOptions))\n",
    "\n",
    "    del numberOfDays, trainPriceDA, trainLoadDA, trainPriceDART, trainX, trainY\n",
    "else:\n",
    "\n",
    "    # Load the classifiers, the offer prices at various quantiles, and the average price spreads.\n",
    "\n",
    "    print(\"Loading previously trained variables...\\n\")\n",
    "    classifiers = [pickle.load(open(\"./Training/Classifier_\" + optionNames[ii], 'rb'))\n",
    "                   for ii in range(nOptions)]\n",
    "    offerPrices = pickle.load(open(\"./Training/OfferPrices\", 'rb'))\n",
    "    averagePriceSpread = pickle.load(open(\"./Training/AveragePriceSpread\", 'rb'))\n",
    "\n",
    "    print(\"All training variables were loaded successfully...\\n\")"
   ]
  },
  {
   "cell_type": "code",
   "execution_count": 50,
   "metadata": {},
   "outputs": [
    {
     "name": "stdout",
     "output_type": "stream",
     "text": [
      "Starting the testing module...\n",
      "\n",
      "Test Accuracy Stats: Min = 51.24%, Avg = 59.49%, Max = 69.97%\n"
     ]
    }
   ],
   "source": [
    "# First, load the test data from NYISO for the year 2016. Again, utilize our function\n",
    "# named 'loadNYISOData'.\n",
    "\n",
    "print(\"Starting the testing module...\\n\")\n",
    "testPriceDA, testPriceDART, testLoadDA = loadNYISOData(2016)\n",
    "\n",
    "# Create the data for the classifier using the function 'createClassifierIO'.\n",
    "testX, testY, rangeOfDays = createClassifierIO(testPriceDA, testPriceDART, testLoadDA)\n",
    "\n",
    "# The next step is not useful for implementing the trading strategy, but quickly check how accurate\n",
    "# your trained classifiers are for the test data. Training accuracy is not always indicative of\n",
    "# test accuracy.\n",
    "\n",
    "testingAccuracy = [classifiers[ii].score(testX, testY[:, ii]) for ii in range(nOptions)]\n",
    "print(\"Test Accuracy Stats: Min = %.2f%%, Avg = %.2f%%, Max = %.2f%%\" %\n",
    "      (100 * np.min(testingAccuracy),\n",
    "       100 * np.mean(testingAccuracy),\n",
    "       100 * np.max(testingAccuracy)))\n",
    "\n",
    "# Utilize the classifiers to predict the sign of DA - RT prices for each day in 'rangeOfDays' for\n",
    "# the test data. Store the result in a pandas data frame with columns as the option names and the\n",
    "# day in year as index.\n",
    "predictedY = pd.DataFrame(np.column_stack([classifiers[ii].predict(testX) for ii in range(nOptions)]),\n",
    "                          columns=optionNames, index=rangeOfDays)"
   ]
  },
  {
   "cell_type": "code",
   "execution_count": 51,
   "metadata": {},
   "outputs": [
    {
     "name": "stdout",
     "output_type": "stream",
     "text": [
      "Day 3: Reward (in $) = -71,363\n",
      "Day 4: Reward (in $) = 1,311,639\n",
      "Day 5: Reward (in $) = 31,273\n",
      "Day 6: Reward (in $) = -21,235\n",
      "Day 7: Reward (in $) = -24,386\n",
      "Day 8: Reward (in $) = 28,263\n",
      "Day 9: Reward (in $) = -44,900\n",
      "Day 10: Reward (in $) = -119,928\n",
      "Day 11: Reward (in $) = -70,124\n",
      "Day 12: Reward (in $) = -65,913\n",
      "Day 13: Reward (in $) = -48,858\n",
      "Day 14: Reward (in $) = -66,235\n",
      "Day 15: Reward (in $) = 11,147\n",
      "Day 16: Reward (in $) = 44,735\n",
      "Day 17: Reward (in $) = -76,426\n",
      "Day 18: Reward (in $) = -30,724\n",
      "Day 19: Reward (in $) = 39,917\n",
      "Day 20: Reward (in $) = -11,195\n",
      "Day 21: Reward (in $) = 48,586\n",
      "Day 22: Reward (in $) = 93,694\n",
      "Day 23: Reward (in $) = 26,875\n",
      "Day 24: Reward (in $) = -72,083\n",
      "Day 25: Reward (in $) = -92,203\n",
      "Day 26: Reward (in $) = -21,210\n",
      "Day 27: Reward (in $) = -6,728\n",
      "Day 28: Reward (in $) = -9,862\n",
      "Day 29: Reward (in $) = -31,589\n",
      "Day 30: Reward (in $) = -32,017\n",
      "Day 31: Reward (in $) = -52,534\n",
      "Day 32: Reward (in $) = -8,018\n",
      "Day 33: Reward (in $) = -509,033\n",
      "Day 34: Reward (in $) = 2,362\n",
      "Day 35: Reward (in $) = 57,509\n",
      "Day 36: Reward (in $) = -37,830\n",
      "Day 37: Reward (in $) = -41,491\n",
      "Day 38: Reward (in $) = 36,173\n",
      "Day 39: Reward (in $) = 14,208\n",
      "Day 40: Reward (in $) = -48,778\n",
      "Day 41: Reward (in $) = -51,734\n",
      "Day 42: Reward (in $) = -17,553\n",
      "Day 43: Reward (in $) = -52,203\n",
      "Day 44: Reward (in $) = -28,374\n",
      "Day 45: Reward (in $) = -15,453\n",
      "Day 46: Reward (in $) = 67,452\n",
      "Day 47: Reward (in $) = 56,313\n",
      "Day 48: Reward (in $) = -65,955\n",
      "Day 49: Reward (in $) = -63,708\n",
      "Day 50: Reward (in $) = -60,623\n",
      "Day 51: Reward (in $) = 12,573\n",
      "Day 52: Reward (in $) = -24,370\n",
      "Day 53: Reward (in $) = -15,542\n",
      "Day 54: Reward (in $) = 2,816\n",
      "Day 55: Reward (in $) = 2,295\n",
      "Day 56: Reward (in $) = -48,281\n",
      "Day 57: Reward (in $) = -31,596\n",
      "Day 58: Reward (in $) = -21,204\n",
      "Day 59: Reward (in $) = -13,163\n",
      "Day 60: Reward (in $) = -71,375\n",
      "Day 61: Reward (in $) = 8,771\n",
      "Day 62: Reward (in $) = -3,934\n",
      "Day 63: Reward (in $) = 29,747\n",
      "Day 64: Reward (in $) = -8,921\n",
      "Day 65: Reward (in $) = 50,791\n",
      "Day 66: Reward (in $) = 148,303\n",
      "Day 67: Reward (in $) = -707\n",
      "Day 68: Reward (in $) = -42,255\n",
      "Day 69: Reward (in $) = -109,951\n",
      "Day 70: Reward (in $) = 64,630\n",
      "Day 71: Reward (in $) = -11,355\n",
      "Day 72: Reward (in $) = -16,172\n",
      "Day 73: Reward (in $) = -85,927\n",
      "Day 74: Reward (in $) = 542,710\n",
      "Day 75: Reward (in $) = -14,700\n",
      "Day 76: Reward (in $) = -130,752\n",
      "Day 77: Reward (in $) = -84,346\n",
      "Day 78: Reward (in $) = -19,875\n",
      "Day 79: Reward (in $) = -29,467\n",
      "Day 80: Reward (in $) = -47,569\n",
      "Day 81: Reward (in $) = -49,404\n",
      "Day 82: Reward (in $) = 103,291\n",
      "Day 83: Reward (in $) = -18,509\n",
      "Day 84: Reward (in $) = -9,400\n",
      "Day 85: Reward (in $) = 78,026\n",
      "Day 86: Reward (in $) = -30,617\n",
      "Day 87: Reward (in $) = 3,362,286\n",
      "Day 88: Reward (in $) = 82,328\n",
      "Day 89: Reward (in $) = -38,712\n",
      "Day 90: Reward (in $) = -16,248\n",
      "Day 91: Reward (in $) = -22,510\n",
      "Day 92: Reward (in $) = -34,997\n",
      "Day 93: Reward (in $) = -56,948\n",
      "Day 94: Reward (in $) = 18,875\n",
      "Day 95: Reward (in $) = -12,052\n",
      "Day 96: Reward (in $) = 111,969\n",
      "Day 97: Reward (in $) = -16,166\n",
      "Day 98: Reward (in $) = -12,784\n",
      "Day 99: Reward (in $) = -28,295\n",
      "Day 100: Reward (in $) = 23,649\n",
      "Day 101: Reward (in $) = -3,793\n",
      "Day 102: Reward (in $) = 1,560\n",
      "Day 103: Reward (in $) = 136,661\n",
      "Day 104: Reward (in $) = 30,714\n",
      "Day 105: Reward (in $) = -8,660\n",
      "Day 106: Reward (in $) = -15,128\n",
      "Day 107: Reward (in $) = -39,518\n",
      "Day 108: Reward (in $) = 40,139\n",
      "Day 109: Reward (in $) = 2,922\n",
      "Day 110: Reward (in $) = -15,752\n",
      "Day 111: Reward (in $) = -37,462\n",
      "Day 112: Reward (in $) = 219,080\n",
      "Day 113: Reward (in $) = -13,076\n",
      "Day 114: Reward (in $) = -35,824\n",
      "Day 115: Reward (in $) = -18,831\n",
      "Day 116: Reward (in $) = 83,878\n",
      "Day 117: Reward (in $) = -27,602\n",
      "Day 118: Reward (in $) = -19,616\n",
      "Day 119: Reward (in $) = -37,873\n",
      "Day 120: Reward (in $) = 674\n",
      "Day 121: Reward (in $) = 65,089\n",
      "Day 122: Reward (in $) = 1,605\n",
      "Day 123: Reward (in $) = -5,960\n",
      "Day 124: Reward (in $) = 8,484\n",
      "Day 125: Reward (in $) = -10,354\n",
      "Day 126: Reward (in $) = -92,713\n",
      "Day 127: Reward (in $) = -14,128\n",
      "Day 128: Reward (in $) = -62,550\n",
      "Day 129: Reward (in $) = -82,631\n",
      "Day 130: Reward (in $) = -43,331\n",
      "Day 131: Reward (in $) = 23,824\n",
      "Day 132: Reward (in $) = 36,981\n",
      "Day 133: Reward (in $) = 1,016\n",
      "Day 134: Reward (in $) = -53,539\n",
      "Day 135: Reward (in $) = -23,038\n",
      "Day 136: Reward (in $) = -55,563\n",
      "Day 137: Reward (in $) = -58,568\n",
      "Day 138: Reward (in $) = -87,331\n",
      "Day 139: Reward (in $) = 4,721\n",
      "Day 140: Reward (in $) = -48,949\n",
      "Day 141: Reward (in $) = -3,268\n",
      "Day 142: Reward (in $) = 29,596\n",
      "Day 143: Reward (in $) = 4,133\n",
      "Day 144: Reward (in $) = -24,644\n",
      "Day 145: Reward (in $) = -54,862\n",
      "Day 146: Reward (in $) = -14,302\n",
      "Day 147: Reward (in $) = -81,146\n",
      "Day 148: Reward (in $) = 432,872\n",
      "Day 149: Reward (in $) = -8,259\n",
      "Day 150: Reward (in $) = 61,631\n",
      "Day 151: Reward (in $) = 1,011,269\n",
      "Day 152: Reward (in $) = 397,328\n",
      "Day 153: Reward (in $) = 51,234\n",
      "Day 154: Reward (in $) = 42,015\n",
      "Day 155: Reward (in $) = 247,999\n",
      "Day 156: Reward (in $) = -33,167\n",
      "Day 157: Reward (in $) = -59,456\n",
      "Day 158: Reward (in $) = -92,326\n",
      "Day 159: Reward (in $) = -66,284\n",
      "Day 160: Reward (in $) = -32,349\n",
      "Day 161: Reward (in $) = -56,643\n",
      "Day 162: Reward (in $) = 184,734\n",
      "Day 163: Reward (in $) = -12,653\n",
      "Day 164: Reward (in $) = -95,786\n",
      "Day 165: Reward (in $) = 64,716\n",
      "Day 166: Reward (in $) = 9,470\n",
      "Day 167: Reward (in $) = 14,471\n",
      "Day 168: Reward (in $) = 1,069\n",
      "Day 169: Reward (in $) = 9,247\n",
      "Day 170: Reward (in $) = -42,267\n",
      "Day 171: Reward (in $) = -10,801\n",
      "Day 172: Reward (in $) = -2,529\n",
      "Day 173: Reward (in $) = -10,665\n",
      "Day 174: Reward (in $) = -13,554\n",
      "Day 175: Reward (in $) = 42,152\n",
      "Day 176: Reward (in $) = -17,282\n",
      "Day 177: Reward (in $) = -41,039\n",
      "Day 178: Reward (in $) = -1,534\n",
      "Day 179: Reward (in $) = -7,663\n",
      "Day 180: Reward (in $) = -17,236\n",
      "Day 181: Reward (in $) = -16,934\n",
      "Day 182: Reward (in $) = 971\n",
      "Day 183: Reward (in $) = -92,403\n",
      "Day 184: Reward (in $) = -67,614\n",
      "Day 185: Reward (in $) = -49,292\n",
      "Day 186: Reward (in $) = 92,329\n",
      "Day 187: Reward (in $) = 1,818\n",
      "Day 188: Reward (in $) = 20\n",
      "Day 189: Reward (in $) = 0\n",
      "Day 190: Reward (in $) = -113,460\n",
      "Day 191: Reward (in $) = -25,521\n",
      "Day 192: Reward (in $) = -15,904\n",
      "Day 193: Reward (in $) = -8,753\n",
      "Day 194: Reward (in $) = 1,407\n",
      "Day 195: Reward (in $) = 5,555\n",
      "Day 196: Reward (in $) = 9,860\n",
      "Day 197: Reward (in $) = 11,841\n",
      "Day 198: Reward (in $) = 129,375\n",
      "Day 199: Reward (in $) = 1,401\n",
      "Day 200: Reward (in $) = -70,509\n",
      "Day 201: Reward (in $) = -27,000\n",
      "Day 202: Reward (in $) = 526\n",
      "Day 203: Reward (in $) = 110\n",
      "Day 204: Reward (in $) = 281\n",
      "Day 205: Reward (in $) = -79,710\n",
      "Day 206: Reward (in $) = -117\n",
      "Day 207: Reward (in $) = -695\n",
      "Day 208: Reward (in $) = -298\n",
      "Day 209: Reward (in $) = 5,599\n",
      "Day 210: Reward (in $) = 5,592\n",
      "Day 211: Reward (in $) = 62,256\n",
      "Day 212: Reward (in $) = 3,800\n",
      "Day 213: Reward (in $) = 627\n",
      "Day 214: Reward (in $) = -6,654\n",
      "Day 215: Reward (in $) = -27,148\n",
      "Day 216: Reward (in $) = 569\n",
      "Day 217: Reward (in $) = 3,797\n",
      "Day 218: Reward (in $) = 23,267\n",
      "Day 219: Reward (in $) = -28,640\n",
      "Day 220: Reward (in $) = -1,150\n",
      "Day 221: Reward (in $) = -23,034\n",
      "Day 222: Reward (in $) = 6,920\n",
      "Day 223: Reward (in $) = 93\n",
      "Day 224: Reward (in $) = 0\n",
      "Day 225: Reward (in $) = -507\n",
      "Day 226: Reward (in $) = -16,007\n",
      "Day 227: Reward (in $) = -33\n",
      "Day 228: Reward (in $) = 924\n",
      "Day 229: Reward (in $) = 307\n",
      "Day 230: Reward (in $) = -1,080\n",
      "Day 231: Reward (in $) = 526\n",
      "Day 232: Reward (in $) = -51,838\n",
      "Day 233: Reward (in $) = -111,142\n",
      "Day 234: Reward (in $) = -80,514\n",
      "Day 235: Reward (in $) = -82,348\n",
      "Day 236: Reward (in $) = -28,777\n",
      "Day 237: Reward (in $) = 59,588\n",
      "Day 238: Reward (in $) = 626\n",
      "Day 239: Reward (in $) = -16,464\n",
      "Day 240: Reward (in $) = -11,985\n",
      "Day 241: Reward (in $) = -456\n",
      "Day 242: Reward (in $) = -101,115\n",
      "Day 243: Reward (in $) = 3,193\n",
      "Day 244: Reward (in $) = -59,465\n",
      "Day 245: Reward (in $) = -110,917\n",
      "Day 246: Reward (in $) = -40,144\n",
      "Day 247: Reward (in $) = -18,250\n",
      "Day 248: Reward (in $) = -38,238\n",
      "Day 249: Reward (in $) = -5,514\n",
      "Day 250: Reward (in $) = 358\n",
      "Day 251: Reward (in $) = -3,241\n",
      "Day 252: Reward (in $) = -127\n",
      "Day 253: Reward (in $) = 137,082\n",
      "Day 254: Reward (in $) = -13,441\n",
      "Day 255: Reward (in $) = -2,650\n",
      "Day 256: Reward (in $) = -11,321\n",
      "Day 257: Reward (in $) = -1,857\n",
      "Day 258: Reward (in $) = -986\n",
      "Day 259: Reward (in $) = -50,331\n",
      "Day 260: Reward (in $) = -38,405\n"
     ]
    },
    {
     "name": "stdout",
     "output_type": "stream",
     "text": [
      "Day 261: Reward (in $) = 27,070\n",
      "Day 262: Reward (in $) = 11,365\n",
      "Day 263: Reward (in $) = -32,886\n",
      "Day 264: Reward (in $) = -2,504\n",
      "Day 265: Reward (in $) = -2,330\n",
      "Day 266: Reward (in $) = -7,687\n",
      "Day 267: Reward (in $) = -11,452\n",
      "Day 268: Reward (in $) = -25,936\n",
      "Day 269: Reward (in $) = -92,849\n",
      "Day 270: Reward (in $) = -81,846\n",
      "Day 271: Reward (in $) = -10,402\n",
      "Day 272: Reward (in $) = -32,380\n",
      "Day 273: Reward (in $) = -39,972\n",
      "Day 274: Reward (in $) = 11,827\n",
      "Day 275: Reward (in $) = 28,870\n",
      "Day 276: Reward (in $) = 62,809\n",
      "Day 277: Reward (in $) = 88,589\n",
      "Day 278: Reward (in $) = 120,107\n",
      "Day 279: Reward (in $) = 28,603\n",
      "Day 280: Reward (in $) = 17,916\n",
      "Day 281: Reward (in $) = -7,192\n",
      "Day 282: Reward (in $) = 1,279\n",
      "Day 283: Reward (in $) = -6,336\n",
      "Day 284: Reward (in $) = 27,904\n",
      "Day 285: Reward (in $) = -66,628\n",
      "Day 286: Reward (in $) = -63,821\n",
      "Day 287: Reward (in $) = -73,144\n",
      "Day 288: Reward (in $) = 13,265\n",
      "Day 289: Reward (in $) = 20,362\n",
      "Day 290: Reward (in $) = 6,700\n",
      "Day 291: Reward (in $) = -22,185\n",
      "Day 292: Reward (in $) = -4,460\n",
      "Day 293: Reward (in $) = -20,482\n",
      "Day 294: Reward (in $) = -30,819\n",
      "Day 295: Reward (in $) = -16,152\n",
      "Day 296: Reward (in $) = -63,535\n",
      "Day 297: Reward (in $) = -51,956\n",
      "Day 298: Reward (in $) = -29,956\n",
      "Day 299: Reward (in $) = -60,832\n",
      "Day 300: Reward (in $) = -34,822\n",
      "Day 301: Reward (in $) = -6,710\n",
      "Day 302: Reward (in $) = -22,261\n",
      "Day 303: Reward (in $) = 1,306\n",
      "Day 304: Reward (in $) = -31,395\n",
      "Day 305: Reward (in $) = -9,755\n",
      "Day 306: Reward (in $) = -14,218\n",
      "Day 307: Reward (in $) = 3,370\n",
      "Day 308: Reward (in $) = -36,806\n",
      "Day 309: Reward (in $) = 34,934\n",
      "Day 310: Reward (in $) = -6,608\n",
      "Day 311: Reward (in $) = -32,921\n",
      "Day 312: Reward (in $) = 79,085\n",
      "Day 313: Reward (in $) = 3,543\n",
      "Day 314: Reward (in $) = -60,469\n",
      "Day 315: Reward (in $) = -51,361\n",
      "Day 316: Reward (in $) = -7,620\n",
      "Day 317: Reward (in $) = -34,121\n",
      "Day 318: Reward (in $) = 18,590\n",
      "Day 319: Reward (in $) = 3,160\n",
      "Day 320: Reward (in $) = 38,717\n",
      "Day 321: Reward (in $) = 16,012\n",
      "Day 322: Reward (in $) = 2,729\n",
      "Day 323: Reward (in $) = 9,004\n",
      "Day 324: Reward (in $) = 18,234\n",
      "Day 325: Reward (in $) = -38,538\n",
      "Day 326: Reward (in $) = -8,501\n",
      "Day 327: Reward (in $) = 32,870\n",
      "Day 328: Reward (in $) = 66,924\n",
      "Day 329: Reward (in $) = 37,455\n",
      "Day 330: Reward (in $) = 8,308\n",
      "Day 331: Reward (in $) = -14,177\n",
      "Day 332: Reward (in $) = -60,836\n",
      "Day 333: Reward (in $) = -79,883\n",
      "Day 334: Reward (in $) = -14,363\n",
      "Day 335: Reward (in $) = -26,729\n",
      "Day 336: Reward (in $) = -26,050\n",
      "Day 337: Reward (in $) = 7,548\n",
      "Day 338: Reward (in $) = -10,576\n",
      "Day 339: Reward (in $) = -10,334\n",
      "Day 340: Reward (in $) = 0\n",
      "Day 341: Reward (in $) = -39,909\n",
      "Day 342: Reward (in $) = -119,774\n",
      "Day 343: Reward (in $) = -17,379\n",
      "Day 344: Reward (in $) = 144,882\n",
      "Day 345: Reward (in $) = 100,465\n",
      "Day 346: Reward (in $) = -44,424\n",
      "Day 347: Reward (in $) = 16,372\n",
      "Day 348: Reward (in $) = -29,863\n",
      "Day 349: Reward (in $) = 77,736\n",
      "Day 350: Reward (in $) = 3\n",
      "Day 351: Reward (in $) = 162,630\n",
      "Day 352: Reward (in $) = 12,167\n",
      "Day 353: Reward (in $) = -10,351\n",
      "Day 354: Reward (in $) = -47,435\n",
      "Day 355: Reward (in $) = -15,806\n",
      "Day 356: Reward (in $) = -1,213\n",
      "Day 357: Reward (in $) = -97,259\n",
      "Day 358: Reward (in $) = -60,289\n",
      "Day 359: Reward (in $) = -8,904\n",
      "Day 360: Reward (in $) = -32,557\n",
      "Day 361: Reward (in $) = -92,946\n",
      "Day 362: Reward (in $) = 23,926\n",
      "Day 363: Reward (in $) = -64,330\n",
      "Day 364: Reward (in $) = 4,722\n",
      "Day 365: Reward (in $) = -29,917\n",
      "Total money earned over the year (in $) = 3,115,457\n"
     ]
    }
   ],
   "source": [
    "dailyBudget = 250000\n",
    "quantileOffer =0.7\n",
    "\n",
    "# Keep track of your rewards in each day, a cumulative reward over the year, and a total reward over the\n",
    "# year. Also, keep track of the total reward from each option. Store them as dictionaries that are\n",
    "# indexed by day of the year.\n",
    "reward = {}\n",
    "cumulativeReward = {}\n",
    "totalReward = 0\n",
    "optionReturn = dict((option, 0) for option in optionNames)\n",
    "\n",
    "# Implement the trading strategy on each day!\n",
    "\n",
    "for day in rangeOfDays:\n",
    "\n",
    "    reward[day] = 0\n",
    "\n",
    "    # Find the options that your classifier says that should be profitable. Store the profitable option\n",
    "    # names in chosenOptions.\n",
    "    chosenOptionNumbers = np.ravel(list(np.nonzero(predictedY.loc[day].values)))\n",
    "    if np.size(chosenOptionNumbers) == 0:\n",
    "        continue\n",
    "    chosenOptions = [optionNames[i] for i in chosenOptionNumbers]\n",
    "\n",
    "    # Design the portfolio based on average price spreads. Our strategy is that as long as you have not\n",
    "    # exceeded your daily budget, pick an option from the list of 'chosenOptions' probabilistically, where\n",
    "    # the probability of choosing it is proportional to exponential(historical rewards of that option). That\n",
    "    # is, a historically profitable option is chosen more often than one that is not. Keep sampling and\n",
    "    # decreasing your budget with each bid.\n",
    "\n",
    "    # Start with an empty portfolio.\n",
    "\n",
    "    portfolio = dict((option, 0) for option in chosenOptions)\n",
    "\n",
    "    # Calculate the probabilities of choosing each option among the list 'chosenOptions'. Recall that\n",
    "    # 'chosenOptions' contains the options that your classifier indicates as being profitable.\n",
    "    priceSpreads = [1.0 * averagePriceSpread[option] for option in chosenOptions]\n",
    "    probabilityOptions = [np.exp(p) for p in priceSpreads]\n",
    "    probabilityOptions /= np.sum(probabilityOptions)\n",
    "\n",
    "    # Start with your daily budget.\n",
    "    budget = dailyBudget\n",
    "\n",
    "    # Sampling among the profitable options and bid based on them.\n",
    "    while budget > np.median([offerPrices[quantileOffer][option] for option in chosenOptions]):\n",
    "\n",
    "        optionToBuy = choice(chosenOptions, p=probabilityOptions)\n",
    "\n",
    "        if budget >= offerPrices[quantileOffer][optionToBuy]:\n",
    "            portfolio[optionToBuy] += 1\n",
    "            budget -= offerPrices[quantileOffer][optionToBuy]\n",
    "\n",
    "    # Compute the reward from the day. Go through each of the options you have decided to buy.\n",
    "    # If the DA price is lower than the bid price, then your bid is cleared. For each option you\n",
    "    # have bought, you get a reward equal to the DA - RT price.\n",
    "\n",
    "    for option in chosenOptions:\n",
    "        if testPriceDA.at[day, option] < offerPrices[quantileOffer][option]:\n",
    "            rewardOptionDay = testPriceDART.at[day, option] * portfolio[option]\n",
    "            optionReturn[option] += rewardOptionDay\n",
    "            reward[day] += rewardOptionDay\n",
    "\n",
    "    totalReward += reward[day]\n",
    "\n",
    "    # Calculate the cumulative reward in millions of dollars.\n",
    "    cumulativeReward[day] = totalReward/1000000\n",
    "\n",
    "    print(\"Day \" + str(day) + \": Reward (in $) = \" + \"{0:,.0f}\".format(reward[day]))\n",
    "\n",
    "print(\"Total money earned over the year (in $) = \" + \"{0:,.0f}\".format(totalReward))"
   ]
  },
  {
   "cell_type": "markdown",
   "metadata": {},
   "source": [
    "I altered the number of layers in this case."
   ]
  },
  {
   "cell_type": "markdown",
   "metadata": {},
   "source": [
    "### Task 7: Implement a different trading strategy (25 points, bonus) \n",
    "\n",
    "Implement a different trading strategy, explain it and report its outcomes. If the rewards are comparable to the one discussed in class, and you can clearly explain the logic behind you strategy, you get additional 25 points. If your strategy leads to having profits among the top 20, then you automatically completed Task 6 too! \n",
    "\n",
    "#### (comments here, add a new code cell below)"
   ]
  },
  {
   "cell_type": "code",
   "execution_count": null,
   "metadata": {},
   "outputs": [],
   "source": []
  }
 ],
 "metadata": {
  "kernelspec": {
   "display_name": "Python 3",
   "language": "python",
   "name": "python3"
  },
  "language_info": {
   "codemirror_mode": {
    "name": "ipython",
    "version": 3
   },
   "file_extension": ".py",
   "mimetype": "text/x-python",
   "name": "python",
   "nbconvert_exporter": "python",
   "pygments_lexer": "ipython3",
   "version": "3.6.5"
  }
 },
 "nbformat": 4,
 "nbformat_minor": 2
}
